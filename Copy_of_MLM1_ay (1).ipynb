{
  "cells": [
    {
      "cell_type": "code",
      "execution_count": null,
      "metadata": {
        "colab": {
          "base_uri": "https://localhost:8080/",
          "height": 206
        },
        "id": "Q1hIzKm7uNwn",
        "outputId": "d6e9a550-1076-4cfd-8d43-cd28b7d1695e"
      },
      "outputs": [
        {
          "data": {
            "text/html": [
              "\n",
              "  <div id=\"df-9cd46538-3326-4f62-96ca-42238b122227\">\n",
              "    <div class=\"colab-df-container\">\n",
              "      <div>\n",
              "<style scoped>\n",
              "    .dataframe tbody tr th:only-of-type {\n",
              "        vertical-align: middle;\n",
              "    }\n",
              "\n",
              "    .dataframe tbody tr th {\n",
              "        vertical-align: top;\n",
              "    }\n",
              "\n",
              "    .dataframe thead th {\n",
              "        text-align: right;\n",
              "    }\n",
              "</style>\n",
              "<table border=\"1\" class=\"dataframe\">\n",
              "  <thead>\n",
              "    <tr style=\"text-align: right;\">\n",
              "      <th></th>\n",
              "      <th>Category</th>\n",
              "      <th>Resume</th>\n",
              "    </tr>\n",
              "  </thead>\n",
              "  <tbody>\n",
              "    <tr>\n",
              "      <th>0</th>\n",
              "      <td>Data Science</td>\n",
              "      <td>Skills * Programming Languages: Python (pandas...</td>\n",
              "    </tr>\n",
              "    <tr>\n",
              "      <th>1</th>\n",
              "      <td>Data Science</td>\n",
              "      <td>Education Details \\r\\nMay 2013 to May 2017 B.E...</td>\n",
              "    </tr>\n",
              "    <tr>\n",
              "      <th>2</th>\n",
              "      <td>Data Science</td>\n",
              "      <td>Areas of Interest Deep Learning, Control Syste...</td>\n",
              "    </tr>\n",
              "    <tr>\n",
              "      <th>3</th>\n",
              "      <td>Data Science</td>\n",
              "      <td>Skills â¢ R â¢ Python â¢ SAP HANA â¢ Table...</td>\n",
              "    </tr>\n",
              "    <tr>\n",
              "      <th>4</th>\n",
              "      <td>Data Science</td>\n",
              "      <td>Education Details \\r\\n MCA   YMCAUST,  Faridab...</td>\n",
              "    </tr>\n",
              "  </tbody>\n",
              "</table>\n",
              "</div>\n",
              "      <button class=\"colab-df-convert\" onclick=\"convertToInteractive('df-9cd46538-3326-4f62-96ca-42238b122227')\"\n",
              "              title=\"Convert this dataframe to an interactive table.\"\n",
              "              style=\"display:none;\">\n",
              "        \n",
              "  <svg xmlns=\"http://www.w3.org/2000/svg\" height=\"24px\"viewBox=\"0 0 24 24\"\n",
              "       width=\"24px\">\n",
              "    <path d=\"M0 0h24v24H0V0z\" fill=\"none\"/>\n",
              "    <path d=\"M18.56 5.44l.94 2.06.94-2.06 2.06-.94-2.06-.94-.94-2.06-.94 2.06-2.06.94zm-11 1L8.5 8.5l.94-2.06 2.06-.94-2.06-.94L8.5 2.5l-.94 2.06-2.06.94zm10 10l.94 2.06.94-2.06 2.06-.94-2.06-.94-.94-2.06-.94 2.06-2.06.94z\"/><path d=\"M17.41 7.96l-1.37-1.37c-.4-.4-.92-.59-1.43-.59-.52 0-1.04.2-1.43.59L10.3 9.45l-7.72 7.72c-.78.78-.78 2.05 0 2.83L4 21.41c.39.39.9.59 1.41.59.51 0 1.02-.2 1.41-.59l7.78-7.78 2.81-2.81c.8-.78.8-2.07 0-2.86zM5.41 20L4 18.59l7.72-7.72 1.47 1.35L5.41 20z\"/>\n",
              "  </svg>\n",
              "      </button>\n",
              "      \n",
              "  <style>\n",
              "    .colab-df-container {\n",
              "      display:flex;\n",
              "      flex-wrap:wrap;\n",
              "      gap: 12px;\n",
              "    }\n",
              "\n",
              "    .colab-df-convert {\n",
              "      background-color: #E8F0FE;\n",
              "      border: none;\n",
              "      border-radius: 50%;\n",
              "      cursor: pointer;\n",
              "      display: none;\n",
              "      fill: #1967D2;\n",
              "      height: 32px;\n",
              "      padding: 0 0 0 0;\n",
              "      width: 32px;\n",
              "    }\n",
              "\n",
              "    .colab-df-convert:hover {\n",
              "      background-color: #E2EBFA;\n",
              "      box-shadow: 0px 1px 2px rgba(60, 64, 67, 0.3), 0px 1px 3px 1px rgba(60, 64, 67, 0.15);\n",
              "      fill: #174EA6;\n",
              "    }\n",
              "\n",
              "    [theme=dark] .colab-df-convert {\n",
              "      background-color: #3B4455;\n",
              "      fill: #D2E3FC;\n",
              "    }\n",
              "\n",
              "    [theme=dark] .colab-df-convert:hover {\n",
              "      background-color: #434B5C;\n",
              "      box-shadow: 0px 1px 3px 1px rgba(0, 0, 0, 0.15);\n",
              "      filter: drop-shadow(0px 1px 2px rgba(0, 0, 0, 0.3));\n",
              "      fill: #FFFFFF;\n",
              "    }\n",
              "  </style>\n",
              "\n",
              "      <script>\n",
              "        const buttonEl =\n",
              "          document.querySelector('#df-9cd46538-3326-4f62-96ca-42238b122227 button.colab-df-convert');\n",
              "        buttonEl.style.display =\n",
              "          google.colab.kernel.accessAllowed ? 'block' : 'none';\n",
              "\n",
              "        async function convertToInteractive(key) {\n",
              "          const element = document.querySelector('#df-9cd46538-3326-4f62-96ca-42238b122227');\n",
              "          const dataTable =\n",
              "            await google.colab.kernel.invokeFunction('convertToInteractive',\n",
              "                                                     [key], {});\n",
              "          if (!dataTable) return;\n",
              "\n",
              "          const docLinkHtml = 'Like what you see? Visit the ' +\n",
              "            '<a target=\"_blank\" href=https://colab.research.google.com/notebooks/data_table.ipynb>data table notebook</a>'\n",
              "            + ' to learn more about interactive tables.';\n",
              "          element.innerHTML = '';\n",
              "          dataTable['output_type'] = 'display_data';\n",
              "          await google.colab.output.renderOutput(dataTable, element);\n",
              "          const docLink = document.createElement('div');\n",
              "          docLink.innerHTML = docLinkHtml;\n",
              "          element.appendChild(docLink);\n",
              "        }\n",
              "      </script>\n",
              "    </div>\n",
              "  </div>\n",
              "  "
            ],
            "text/plain": [
              "       Category                                             Resume\n",
              "0  Data Science  Skills * Programming Languages: Python (pandas...\n",
              "1  Data Science  Education Details \\r\\nMay 2013 to May 2017 B.E...\n",
              "2  Data Science  Areas of Interest Deep Learning, Control Syste...\n",
              "3  Data Science  Skills â¢ R â¢ Python â¢ SAP HANA â¢ Table...\n",
              "4  Data Science  Education Details \\r\\n MCA   YMCAUST,  Faridab..."
            ]
          },
          "execution_count": 1,
          "metadata": {},
          "output_type": "execute_result"
        }
      ],
      "source": [
        "import pandas as pd\n",
        "df1 = pd.read_csv(\"resume.csv\")\n",
        "df1.head()"
      ]
    },
    {
      "cell_type": "code",
      "execution_count": null,
      "metadata": {
        "colab": {
          "base_uri": "https://localhost:8080/"
        },
        "id": "jtztTtS9wT6W",
        "outputId": "5545bf9e-35b8-43cd-d334-25e0bb39621f"
      },
      "outputs": [
        {
          "output_type": "stream",
          "name": "stdout",
          "text": [
            "Looking in indexes: https://pypi.org/simple, https://us-python.pkg.dev/colab-wheels/public/simple/\n",
            "Collecting transformers\n",
            "  Downloading transformers-4.28.1-py3-none-any.whl (7.0 MB)\n",
            "\u001b[2K     \u001b[90m━━━━━━━━━━━━━━━━━━━━━━━━━━━━━━━━━━━━━━━━\u001b[0m \u001b[32m7.0/7.0 MB\u001b[0m \u001b[31m61.8 MB/s\u001b[0m eta \u001b[36m0:00:00\u001b[0m\n",
            "\u001b[?25hRequirement already satisfied: filelock in /usr/local/lib/python3.10/dist-packages (from transformers) (3.12.0)\n",
            "Collecting huggingface-hub<1.0,>=0.11.0 (from transformers)\n",
            "  Downloading huggingface_hub-0.14.1-py3-none-any.whl (224 kB)\n",
            "\u001b[2K     \u001b[90m━━━━━━━━━━━━━━━━━━━━━━━━━━━━━━━━━━━━━━\u001b[0m \u001b[32m224.5/224.5 kB\u001b[0m \u001b[31m20.5 MB/s\u001b[0m eta \u001b[36m0:00:00\u001b[0m\n",
            "\u001b[?25hRequirement already satisfied: numpy>=1.17 in /usr/local/lib/python3.10/dist-packages (from transformers) (1.22.4)\n",
            "Requirement already satisfied: packaging>=20.0 in /usr/local/lib/python3.10/dist-packages (from transformers) (23.1)\n",
            "Requirement already satisfied: pyyaml>=5.1 in /usr/local/lib/python3.10/dist-packages (from transformers) (6.0)\n",
            "Requirement already satisfied: regex!=2019.12.17 in /usr/local/lib/python3.10/dist-packages (from transformers) (2022.10.31)\n",
            "Requirement already satisfied: requests in /usr/local/lib/python3.10/dist-packages (from transformers) (2.27.1)\n",
            "Collecting tokenizers!=0.11.3,<0.14,>=0.11.1 (from transformers)\n",
            "  Downloading tokenizers-0.13.3-cp310-cp310-manylinux_2_17_x86_64.manylinux2014_x86_64.whl (7.8 MB)\n",
            "\u001b[2K     \u001b[90m━━━━━━━━━━━━━━━━━━━━━━━━━━━━━━━━━━━━━━━━\u001b[0m \u001b[32m7.8/7.8 MB\u001b[0m \u001b[31m93.7 MB/s\u001b[0m eta \u001b[36m0:00:00\u001b[0m\n",
            "\u001b[?25hRequirement already satisfied: tqdm>=4.27 in /usr/local/lib/python3.10/dist-packages (from transformers) (4.65.0)\n",
            "Requirement already satisfied: fsspec in /usr/local/lib/python3.10/dist-packages (from huggingface-hub<1.0,>=0.11.0->transformers) (2023.4.0)\n",
            "Requirement already satisfied: typing-extensions>=3.7.4.3 in /usr/local/lib/python3.10/dist-packages (from huggingface-hub<1.0,>=0.11.0->transformers) (4.5.0)\n",
            "Requirement already satisfied: urllib3<1.27,>=1.21.1 in /usr/local/lib/python3.10/dist-packages (from requests->transformers) (1.26.15)\n",
            "Requirement already satisfied: certifi>=2017.4.17 in /usr/local/lib/python3.10/dist-packages (from requests->transformers) (2022.12.7)\n",
            "Requirement already satisfied: charset-normalizer~=2.0.0 in /usr/local/lib/python3.10/dist-packages (from requests->transformers) (2.0.12)\n",
            "Requirement already satisfied: idna<4,>=2.5 in /usr/local/lib/python3.10/dist-packages (from requests->transformers) (3.4)\n",
            "Installing collected packages: tokenizers, huggingface-hub, transformers\n",
            "Successfully installed huggingface-hub-0.14.1 tokenizers-0.13.3 transformers-4.28.1\n"
          ]
        }
      ],
      "source": [
        "!pip install transformers"
      ]
    },
    {
      "cell_type": "code",
      "execution_count": null,
      "metadata": {
        "id": "xnziDSIfPwgi"
      },
      "outputs": [],
      "source": [
        "df1['Resume'] = df1.Resume.str.lower()"
      ]
    },
    {
      "cell_type": "code",
      "execution_count": null,
      "metadata": {
        "colab": {
          "base_uri": "https://localhost:8080/",
          "height": 122
        },
        "id": "wvNen2O_P3UZ",
        "outputId": "07151c31-2483-4865-912d-e291991576fb"
      },
      "outputs": [
        {
          "data": {
            "application/vnd.google.colaboratory.intrinsic+json": {
              "type": "string"
            },
            "text/plain": [
              "\"skills c basics, iot, python, matlab, data science, machine learning, html, microsoft word, microsoft excel, microsoft powerpoint. recognition academic secured first place in b.tech.education details \\r\\naugust 2014 to may 2018 b.tech.  ghatkesar, andhra pradesh aurora's scientific and technological institute\\r\\njune 2012 to may 2014  secondary education warangal, telangana sr junior college\\r\\ndata science \\r\\n\\r\\n\\r\\nskill details \\r\\nms office- exprience - less than 1 year months\\r\\nc- exprience - less than 1 year months\\r\\nmachine learning- exprience - less than 1 year months\\r\\ndata science- exprience - less than 1 year months\\r\\nmatlab- exprience - less than 1 year monthscompany details \\r\\ncompany - \\r\\ndescription - \""
            ]
          },
          "execution_count": 4,
          "metadata": {},
          "output_type": "execute_result"
        }
      ],
      "source": [
        "text = df1.Resume[5]\n",
        "text"
      ]
    },
    {
      "cell_type": "code",
      "execution_count": null,
      "metadata": {
        "id": "RLJNcCAXKWcD"
      },
      "outputs": [],
      "source": [
        "import spacy"
      ]
    },
    {
      "cell_type": "code",
      "execution_count": null,
      "metadata": {
        "id": "hHXNSc8oKpOs"
      },
      "outputs": [],
      "source": [
        "import os"
      ]
    },
    {
      "cell_type": "code",
      "execution_count": null,
      "metadata": {
        "id": "9QjcqKgvI-nX"
      },
      "outputs": [],
      "source": [
        "nlp = spacy.load('en_core_web_sm')\n",
        "base_path = ''\n",
        "def extract_skills_new(resume_text, skills_file=None):\n",
        "\n",
        "        # Helper function to extract skills from spacy nlp text\n",
        "\n",
        "        # :param nlp_text: object of `spacy.tokens.doc.Doc`\n",
        "        # :param noun_chunks: noun chunks extracted from nlp text\n",
        "        # :return: list of skills extracted\n",
        "\n",
        "        nlp_text = nlp(resume_text)\n",
        "        noun_chunks = nlp_text.noun_chunks\n",
        "\n",
        "        tokens = [token.text for token in nlp_text if not token.is_stop]\n",
        "        if not skills_file:\n",
        "            file = os.path.join(base_path, \"skills15.csv\")\n",
        "            with open(file) as f:\n",
        "                data = f.read().split(',')\n",
        "            # data = pd.read_csv(os.path.join(os.path.dirname(__file__), 'skills15.csv')\n",
        "            #data= data.T\n",
        "\n",
        "        else:\n",
        "            file = os.path.join(base_path, skills_file)\n",
        "            with open(file) as f:\n",
        "                data = f.read().split(',')\n",
        "        skills = data  # list(data.columns.values)\n",
        "        # print(skills)\n",
        "        #skills = joblib.load( os.path.join(os.path.dirname(__file__), 'SkillKeywords_26.joblib'))\n",
        "        skillset = []\n",
        "        # check for one-grams\n",
        "        for token in tokens:\n",
        "            if token.lower() in skills:\n",
        "                skillset.append(token)\n",
        "\n",
        "        # check for bi-grams and tri-grams\n",
        "        for token in noun_chunks:\n",
        "            token = token.text.lower().strip()\n",
        "            if token in skills:\n",
        "                skillset.append(token)\n",
        "        return [i.capitalize() for i in set([i.lower() for i in skillset])]\n"
      ]
    },
    {
      "cell_type": "code",
      "execution_count": null,
      "metadata": {
        "id": "0Uc4XZhHQnD6"
      },
      "outputs": [],
      "source": [
        "df1['skills'] = df1.Resume.apply(extract_skills_new)"
      ]
    },
    {
      "cell_type": "code",
      "execution_count": null,
      "metadata": {
        "colab": {
          "base_uri": "https://localhost:8080/",
          "height": 206
        },
        "id": "EDcvnoPgRRO4",
        "outputId": "d762e79e-8ffa-48f7-bf37-7246547db4d3"
      },
      "outputs": [
        {
          "data": {
            "text/html": [
              "\n",
              "  <div id=\"df-51cd782f-e0b6-48d9-a733-cd2e7518dac8\">\n",
              "    <div class=\"colab-df-container\">\n",
              "      <div>\n",
              "<style scoped>\n",
              "    .dataframe tbody tr th:only-of-type {\n",
              "        vertical-align: middle;\n",
              "    }\n",
              "\n",
              "    .dataframe tbody tr th {\n",
              "        vertical-align: top;\n",
              "    }\n",
              "\n",
              "    .dataframe thead th {\n",
              "        text-align: right;\n",
              "    }\n",
              "</style>\n",
              "<table border=\"1\" class=\"dataframe\">\n",
              "  <thead>\n",
              "    <tr style=\"text-align: right;\">\n",
              "      <th></th>\n",
              "      <th>Category</th>\n",
              "      <th>Resume</th>\n",
              "      <th>skills</th>\n",
              "    </tr>\n",
              "  </thead>\n",
              "  <tbody>\n",
              "    <tr>\n",
              "      <th>0</th>\n",
              "      <td>Data Science</td>\n",
              "      <td>skills * programming languages: python (pandas...</td>\n",
              "      <td>[Boosting, Investigative, Dimensionality reduc...</td>\n",
              "    </tr>\n",
              "    <tr>\n",
              "      <th>1</th>\n",
              "      <td>Data Science</td>\n",
              "      <td>education details \\r\\nmay 2013 to may 2017 b.e...</td>\n",
              "      <td>[Forecasting, Classification, Encoding, Featur...</td>\n",
              "    </tr>\n",
              "    <tr>\n",
              "      <th>2</th>\n",
              "      <td>Data Science</td>\n",
              "      <td>areas of interest deep learning, control syste...</td>\n",
              "      <td>[Xampp, Marketing, Engineering, Python, Pychar...</td>\n",
              "    </tr>\n",
              "    <tr>\n",
              "      <th>3</th>\n",
              "      <td>Data Science</td>\n",
              "      <td>skills â¢ r â¢ python â¢ sap hana â¢ table...</td>\n",
              "      <td>[Retail, Engineering, Python, Financial report...</td>\n",
              "    </tr>\n",
              "    <tr>\n",
              "      <th>4</th>\n",
              "      <td>Data Science</td>\n",
              "      <td>education details \\r\\n mca   ymcaust,  faridab...</td>\n",
              "      <td>[Database, Science]</td>\n",
              "    </tr>\n",
              "  </tbody>\n",
              "</table>\n",
              "</div>\n",
              "      <button class=\"colab-df-convert\" onclick=\"convertToInteractive('df-51cd782f-e0b6-48d9-a733-cd2e7518dac8')\"\n",
              "              title=\"Convert this dataframe to an interactive table.\"\n",
              "              style=\"display:none;\">\n",
              "        \n",
              "  <svg xmlns=\"http://www.w3.org/2000/svg\" height=\"24px\"viewBox=\"0 0 24 24\"\n",
              "       width=\"24px\">\n",
              "    <path d=\"M0 0h24v24H0V0z\" fill=\"none\"/>\n",
              "    <path d=\"M18.56 5.44l.94 2.06.94-2.06 2.06-.94-2.06-.94-.94-2.06-.94 2.06-2.06.94zm-11 1L8.5 8.5l.94-2.06 2.06-.94-2.06-.94L8.5 2.5l-.94 2.06-2.06.94zm10 10l.94 2.06.94-2.06 2.06-.94-2.06-.94-.94-2.06-.94 2.06-2.06.94z\"/><path d=\"M17.41 7.96l-1.37-1.37c-.4-.4-.92-.59-1.43-.59-.52 0-1.04.2-1.43.59L10.3 9.45l-7.72 7.72c-.78.78-.78 2.05 0 2.83L4 21.41c.39.39.9.59 1.41.59.51 0 1.02-.2 1.41-.59l7.78-7.78 2.81-2.81c.8-.78.8-2.07 0-2.86zM5.41 20L4 18.59l7.72-7.72 1.47 1.35L5.41 20z\"/>\n",
              "  </svg>\n",
              "      </button>\n",
              "      \n",
              "  <style>\n",
              "    .colab-df-container {\n",
              "      display:flex;\n",
              "      flex-wrap:wrap;\n",
              "      gap: 12px;\n",
              "    }\n",
              "\n",
              "    .colab-df-convert {\n",
              "      background-color: #E8F0FE;\n",
              "      border: none;\n",
              "      border-radius: 50%;\n",
              "      cursor: pointer;\n",
              "      display: none;\n",
              "      fill: #1967D2;\n",
              "      height: 32px;\n",
              "      padding: 0 0 0 0;\n",
              "      width: 32px;\n",
              "    }\n",
              "\n",
              "    .colab-df-convert:hover {\n",
              "      background-color: #E2EBFA;\n",
              "      box-shadow: 0px 1px 2px rgba(60, 64, 67, 0.3), 0px 1px 3px 1px rgba(60, 64, 67, 0.15);\n",
              "      fill: #174EA6;\n",
              "    }\n",
              "\n",
              "    [theme=dark] .colab-df-convert {\n",
              "      background-color: #3B4455;\n",
              "      fill: #D2E3FC;\n",
              "    }\n",
              "\n",
              "    [theme=dark] .colab-df-convert:hover {\n",
              "      background-color: #434B5C;\n",
              "      box-shadow: 0px 1px 3px 1px rgba(0, 0, 0, 0.15);\n",
              "      filter: drop-shadow(0px 1px 2px rgba(0, 0, 0, 0.3));\n",
              "      fill: #FFFFFF;\n",
              "    }\n",
              "  </style>\n",
              "\n",
              "      <script>\n",
              "        const buttonEl =\n",
              "          document.querySelector('#df-51cd782f-e0b6-48d9-a733-cd2e7518dac8 button.colab-df-convert');\n",
              "        buttonEl.style.display =\n",
              "          google.colab.kernel.accessAllowed ? 'block' : 'none';\n",
              "\n",
              "        async function convertToInteractive(key) {\n",
              "          const element = document.querySelector('#df-51cd782f-e0b6-48d9-a733-cd2e7518dac8');\n",
              "          const dataTable =\n",
              "            await google.colab.kernel.invokeFunction('convertToInteractive',\n",
              "                                                     [key], {});\n",
              "          if (!dataTable) return;\n",
              "\n",
              "          const docLinkHtml = 'Like what you see? Visit the ' +\n",
              "            '<a target=\"_blank\" href=https://colab.research.google.com/notebooks/data_table.ipynb>data table notebook</a>'\n",
              "            + ' to learn more about interactive tables.';\n",
              "          element.innerHTML = '';\n",
              "          dataTable['output_type'] = 'display_data';\n",
              "          await google.colab.output.renderOutput(dataTable, element);\n",
              "          const docLink = document.createElement('div');\n",
              "          docLink.innerHTML = docLinkHtml;\n",
              "          element.appendChild(docLink);\n",
              "        }\n",
              "      </script>\n",
              "    </div>\n",
              "  </div>\n",
              "  "
            ],
            "text/plain": [
              "       Category                                             Resume  \\\n",
              "0  Data Science  skills * programming languages: python (pandas...   \n",
              "1  Data Science  education details \\r\\nmay 2013 to may 2017 b.e...   \n",
              "2  Data Science  areas of interest deep learning, control syste...   \n",
              "3  Data Science  skills â¢ r â¢ python â¢ sap hana â¢ table...   \n",
              "4  Data Science  education details \\r\\n mca   ymcaust,  faridab...   \n",
              "\n",
              "                                              skills  \n",
              "0  [Boosting, Investigative, Dimensionality reduc...  \n",
              "1  [Forecasting, Classification, Encoding, Featur...  \n",
              "2  [Xampp, Marketing, Engineering, Python, Pychar...  \n",
              "3  [Retail, Engineering, Python, Financial report...  \n",
              "4                                [Database, Science]  "
            ]
          },
          "execution_count": 9,
          "metadata": {},
          "output_type": "execute_result"
        }
      ],
      "source": [
        "df1.head()\n"
      ]
    },
    {
      "cell_type": "code",
      "execution_count": null,
      "metadata": {
        "colab": {
          "base_uri": "https://localhost:8080/"
        },
        "id": "Wd6mAnYkUJO4",
        "outputId": "d0fe5851-5990-455b-8a3e-6548d9fe6f99"
      },
      "outputs": [
        {
          "data": {
            "text/plain": [
              "0      [Programming languages, Kibana, Ggplot, Classi...\n",
              "1      [Encoding, Classification, Ml, Feature selecti...\n",
              "2      [Pycharm, Debian, Eclipse, Django, Windows, Ub...\n",
              "3      [Telecom, Analysing, Uat, Dashboard, Maintenan...\n",
              "4                                    [Database, Science]\n",
              "                             ...                        \n",
              "957    [Crm, Positive attitude, Ms office, Word, Exce...\n",
              "958    [Quality management system, Customer satisfact...\n",
              "959    [Validation, Maintenance, Documentation, Compe...\n",
              "960    [Multisim, Latex, Electronics, Gardening, Comp...\n",
              "961    [Server, Sql server, Android, Maintenance, Win...\n",
              "Name: skills, Length: 962, dtype: object"
            ]
          },
          "execution_count": 11,
          "metadata": {},
          "output_type": "execute_result"
        }
      ],
      "source": [
        "df1['skills']"
      ]
    },
    {
      "cell_type": "code",
      "execution_count": null,
      "metadata": {
        "id": "oswR30xYZq8b"
      },
      "outputs": [],
      "source": [
        "df1['skills'] = df1['skills'].apply(lambda x: ', '.join(map(str, x)))\n",
        "\n",
        "# print the updated dataframe\n"
      ]
    },
    {
      "cell_type": "code",
      "execution_count": null,
      "metadata": {
        "colab": {
          "base_uri": "https://localhost:8080/",
          "height": 423
        },
        "id": "I1Eo4LgYZWtA",
        "outputId": "40ccaa2b-ded1-4d79-82fc-6de84c604f7b"
      },
      "outputs": [
        {
          "data": {
            "text/html": [
              "\n",
              "  <div id=\"df-069d4c9e-6d52-421c-be1b-5ead1668be1a\">\n",
              "    <div class=\"colab-df-container\">\n",
              "      <div>\n",
              "<style scoped>\n",
              "    .dataframe tbody tr th:only-of-type {\n",
              "        vertical-align: middle;\n",
              "    }\n",
              "\n",
              "    .dataframe tbody tr th {\n",
              "        vertical-align: top;\n",
              "    }\n",
              "\n",
              "    .dataframe thead th {\n",
              "        text-align: right;\n",
              "    }\n",
              "</style>\n",
              "<table border=\"1\" class=\"dataframe\">\n",
              "  <thead>\n",
              "    <tr style=\"text-align: right;\">\n",
              "      <th></th>\n",
              "      <th>Category</th>\n",
              "      <th>Resume</th>\n",
              "      <th>skills</th>\n",
              "    </tr>\n",
              "  </thead>\n",
              "  <tbody>\n",
              "    <tr>\n",
              "      <th>0</th>\n",
              "      <td>Data Science</td>\n",
              "      <td>skills * programming languages: python (pandas...</td>\n",
              "      <td>Boosting, Investigative, Dimensionality reduct...</td>\n",
              "    </tr>\n",
              "    <tr>\n",
              "      <th>1</th>\n",
              "      <td>Data Science</td>\n",
              "      <td>education details \\r\\nmay 2013 to may 2017 b.e...</td>\n",
              "      <td>Forecasting, Classification, Encoding, Feature...</td>\n",
              "    </tr>\n",
              "    <tr>\n",
              "      <th>2</th>\n",
              "      <td>Data Science</td>\n",
              "      <td>areas of interest deep learning, control syste...</td>\n",
              "      <td>Xampp, Marketing, Engineering, Python, Pycharm...</td>\n",
              "    </tr>\n",
              "    <tr>\n",
              "      <th>3</th>\n",
              "      <td>Data Science</td>\n",
              "      <td>skills â¢ r â¢ python â¢ sap hana â¢ table...</td>\n",
              "      <td>Retail, Engineering, Python, Financial reports...</td>\n",
              "    </tr>\n",
              "    <tr>\n",
              "      <th>4</th>\n",
              "      <td>Data Science</td>\n",
              "      <td>education details \\r\\n mca   ymcaust,  faridab...</td>\n",
              "      <td>Database, Science</td>\n",
              "    </tr>\n",
              "    <tr>\n",
              "      <th>...</th>\n",
              "      <td>...</td>\n",
              "      <td>...</td>\n",
              "      <td>...</td>\n",
              "    </tr>\n",
              "    <tr>\n",
              "      <th>957</th>\n",
              "      <td>Testing</td>\n",
              "      <td>computer skills: â¢ proficient in ms office (...</td>\n",
              "      <td>Computer skills, Excel, Engineering, Loyalty, ...</td>\n",
              "    </tr>\n",
              "    <tr>\n",
              "      <th>958</th>\n",
              "      <td>Testing</td>\n",
              "      <td>â willingness to accept the challenges. â ...</td>\n",
              "      <td>Engineering, Drawings, Company policies, Hardw...</td>\n",
              "    </tr>\n",
              "    <tr>\n",
              "      <th>959</th>\n",
              "      <td>Testing</td>\n",
              "      <td>personal skills â¢ quick learner, â¢ eagerne...</td>\n",
              "      <td>Engineering, Eagerness, Personal skills, Leade...</td>\n",
              "    </tr>\n",
              "    <tr>\n",
              "      <th>960</th>\n",
              "      <td>Testing</td>\n",
              "      <td>computer skills &amp; software knowledge ms-power ...</td>\n",
              "      <td>Computer skills, Latex, Matlab, Multisim, Gard...</td>\n",
              "    </tr>\n",
              "    <tr>\n",
              "      <th>961</th>\n",
              "      <td>Testing</td>\n",
              "      <td>skill set os windows xp/7/8/8.1/10 database my...</td>\n",
              "      <td>Windows xp, Java, Mysql, Maintenance, Reportin...</td>\n",
              "    </tr>\n",
              "  </tbody>\n",
              "</table>\n",
              "<p>962 rows × 3 columns</p>\n",
              "</div>\n",
              "      <button class=\"colab-df-convert\" onclick=\"convertToInteractive('df-069d4c9e-6d52-421c-be1b-5ead1668be1a')\"\n",
              "              title=\"Convert this dataframe to an interactive table.\"\n",
              "              style=\"display:none;\">\n",
              "        \n",
              "  <svg xmlns=\"http://www.w3.org/2000/svg\" height=\"24px\"viewBox=\"0 0 24 24\"\n",
              "       width=\"24px\">\n",
              "    <path d=\"M0 0h24v24H0V0z\" fill=\"none\"/>\n",
              "    <path d=\"M18.56 5.44l.94 2.06.94-2.06 2.06-.94-2.06-.94-.94-2.06-.94 2.06-2.06.94zm-11 1L8.5 8.5l.94-2.06 2.06-.94-2.06-.94L8.5 2.5l-.94 2.06-2.06.94zm10 10l.94 2.06.94-2.06 2.06-.94-2.06-.94-.94-2.06-.94 2.06-2.06.94z\"/><path d=\"M17.41 7.96l-1.37-1.37c-.4-.4-.92-.59-1.43-.59-.52 0-1.04.2-1.43.59L10.3 9.45l-7.72 7.72c-.78.78-.78 2.05 0 2.83L4 21.41c.39.39.9.59 1.41.59.51 0 1.02-.2 1.41-.59l7.78-7.78 2.81-2.81c.8-.78.8-2.07 0-2.86zM5.41 20L4 18.59l7.72-7.72 1.47 1.35L5.41 20z\"/>\n",
              "  </svg>\n",
              "      </button>\n",
              "      \n",
              "  <style>\n",
              "    .colab-df-container {\n",
              "      display:flex;\n",
              "      flex-wrap:wrap;\n",
              "      gap: 12px;\n",
              "    }\n",
              "\n",
              "    .colab-df-convert {\n",
              "      background-color: #E8F0FE;\n",
              "      border: none;\n",
              "      border-radius: 50%;\n",
              "      cursor: pointer;\n",
              "      display: none;\n",
              "      fill: #1967D2;\n",
              "      height: 32px;\n",
              "      padding: 0 0 0 0;\n",
              "      width: 32px;\n",
              "    }\n",
              "\n",
              "    .colab-df-convert:hover {\n",
              "      background-color: #E2EBFA;\n",
              "      box-shadow: 0px 1px 2px rgba(60, 64, 67, 0.3), 0px 1px 3px 1px rgba(60, 64, 67, 0.15);\n",
              "      fill: #174EA6;\n",
              "    }\n",
              "\n",
              "    [theme=dark] .colab-df-convert {\n",
              "      background-color: #3B4455;\n",
              "      fill: #D2E3FC;\n",
              "    }\n",
              "\n",
              "    [theme=dark] .colab-df-convert:hover {\n",
              "      background-color: #434B5C;\n",
              "      box-shadow: 0px 1px 3px 1px rgba(0, 0, 0, 0.15);\n",
              "      filter: drop-shadow(0px 1px 2px rgba(0, 0, 0, 0.3));\n",
              "      fill: #FFFFFF;\n",
              "    }\n",
              "  </style>\n",
              "\n",
              "      <script>\n",
              "        const buttonEl =\n",
              "          document.querySelector('#df-069d4c9e-6d52-421c-be1b-5ead1668be1a button.colab-df-convert');\n",
              "        buttonEl.style.display =\n",
              "          google.colab.kernel.accessAllowed ? 'block' : 'none';\n",
              "\n",
              "        async function convertToInteractive(key) {\n",
              "          const element = document.querySelector('#df-069d4c9e-6d52-421c-be1b-5ead1668be1a');\n",
              "          const dataTable =\n",
              "            await google.colab.kernel.invokeFunction('convertToInteractive',\n",
              "                                                     [key], {});\n",
              "          if (!dataTable) return;\n",
              "\n",
              "          const docLinkHtml = 'Like what you see? Visit the ' +\n",
              "            '<a target=\"_blank\" href=https://colab.research.google.com/notebooks/data_table.ipynb>data table notebook</a>'\n",
              "            + ' to learn more about interactive tables.';\n",
              "          element.innerHTML = '';\n",
              "          dataTable['output_type'] = 'display_data';\n",
              "          await google.colab.output.renderOutput(dataTable, element);\n",
              "          const docLink = document.createElement('div');\n",
              "          docLink.innerHTML = docLinkHtml;\n",
              "          element.appendChild(docLink);\n",
              "        }\n",
              "      </script>\n",
              "    </div>\n",
              "  </div>\n",
              "  "
            ],
            "text/plain": [
              "         Category                                             Resume  \\\n",
              "0    Data Science  skills * programming languages: python (pandas...   \n",
              "1    Data Science  education details \\r\\nmay 2013 to may 2017 b.e...   \n",
              "2    Data Science  areas of interest deep learning, control syste...   \n",
              "3    Data Science  skills â¢ r â¢ python â¢ sap hana â¢ table...   \n",
              "4    Data Science  education details \\r\\n mca   ymcaust,  faridab...   \n",
              "..            ...                                                ...   \n",
              "957       Testing  computer skills: â¢ proficient in ms office (...   \n",
              "958       Testing  â willingness to accept the challenges. â ...   \n",
              "959       Testing  personal skills â¢ quick learner, â¢ eagerne...   \n",
              "960       Testing  computer skills & software knowledge ms-power ...   \n",
              "961       Testing  skill set os windows xp/7/8/8.1/10 database my...   \n",
              "\n",
              "                                                skills  \n",
              "0    Boosting, Investigative, Dimensionality reduct...  \n",
              "1    Forecasting, Classification, Encoding, Feature...  \n",
              "2    Xampp, Marketing, Engineering, Python, Pycharm...  \n",
              "3    Retail, Engineering, Python, Financial reports...  \n",
              "4                                    Database, Science  \n",
              "..                                                 ...  \n",
              "957  Computer skills, Excel, Engineering, Loyalty, ...  \n",
              "958  Engineering, Drawings, Company policies, Hardw...  \n",
              "959  Engineering, Eagerness, Personal skills, Leade...  \n",
              "960  Computer skills, Latex, Matlab, Multisim, Gard...  \n",
              "961  Windows xp, Java, Mysql, Maintenance, Reportin...  \n",
              "\n",
              "[962 rows x 3 columns]"
            ]
          },
          "execution_count": 11,
          "metadata": {},
          "output_type": "execute_result"
        }
      ],
      "source": [
        "\n",
        "df1"
      ]
    },
    {
      "cell_type": "code",
      "execution_count": null,
      "metadata": {
        "id": "bgsU6dxtbizf",
        "colab": {
          "base_uri": "https://localhost:8080/",
          "height": 165
        },
        "outputId": "fd05dcef-81f9-4aaa-d9ac-2f287b31571d"
      },
      "outputs": [
        {
          "output_type": "error",
          "ename": "NameError",
          "evalue": "ignored",
          "traceback": [
            "\u001b[0;31m---------------------------------------------------------------------------\u001b[0m",
            "\u001b[0;31mNameError\u001b[0m                                 Traceback (most recent call last)",
            "\u001b[0;32m<ipython-input-73-efb3c70918d6>\u001b[0m in \u001b[0;36m<cell line: 1>\u001b[0;34m()\u001b[0m\n\u001b[0;32m----> 1\u001b[0;31m \u001b[0mdf2\u001b[0m \u001b[0;34m=\u001b[0m \u001b[0mdf1\u001b[0m\u001b[0;34m.\u001b[0m\u001b[0mto_csv\u001b[0m\u001b[0;34m(\u001b[0m\u001b[0;34m\"skill_data.csv\"\u001b[0m\u001b[0;34m)\u001b[0m\u001b[0;34m\u001b[0m\u001b[0;34m\u001b[0m\u001b[0m\n\u001b[0m",
            "\u001b[0;31mNameError\u001b[0m: name 'df1' is not defined"
          ]
        }
      ],
      "source": [
        "df2 = df1.to_csv(\"skill_data.csv\")"
      ]
    },
    {
      "cell_type": "code",
      "execution_count": null,
      "metadata": {
        "id": "8xXXoKWSRB4S"
      },
      "outputs": [],
      "source": [
        "import pandas as pd"
      ]
    },
    {
      "cell_type": "code",
      "execution_count": null,
      "metadata": {
        "id": "lOUn0N61byIl"
      },
      "outputs": [],
      "source": [
        "df2 = pd.read_csv(\"/content/drive/MyDrive/skill_data.csv\")"
      ]
    },
    {
      "cell_type": "code",
      "execution_count": null,
      "metadata": {
        "colab": {
          "base_uri": "https://localhost:8080/",
          "height": 206
        },
        "id": "K24FtM9-RcSs",
        "outputId": "29f9a495-5602-4b8c-b5c9-2a83f8dd2a22"
      },
      "outputs": [
        {
          "output_type": "execute_result",
          "data": {
            "text/plain": [
              "   Unnamed: 0      Category  \\\n",
              "0           0  Data Science   \n",
              "1           1  Data Science   \n",
              "2           2  Data Science   \n",
              "3           3  Data Science   \n",
              "4           4  Data Science   \n",
              "\n",
              "                                              Resume  \\\n",
              "0  skills * programming languages: python (pandas...   \n",
              "1  education details \\r\\nmay 2013 to may 2017 b.e...   \n",
              "2  areas of interest deep learning, control syste...   \n",
              "3  skills â¢ r â¢ python â¢ sap hana â¢ table...   \n",
              "4  education details \\r\\n mca   ymcaust,  faridab...   \n",
              "\n",
              "                                              skills  \n",
              "0  Boosting, Investigative, Dimensionality reduct...  \n",
              "1  Forecasting, Classification, Encoding, Feature...  \n",
              "2  Xampp, Marketing, Engineering, Python, Pycharm...  \n",
              "3  Retail, Engineering, Python, Financial reports...  \n",
              "4                                  Database, Science  "
            ],
            "text/html": [
              "\n",
              "  <div id=\"df-43e1446b-db70-4f4f-9d39-4d01693ca6e0\">\n",
              "    <div class=\"colab-df-container\">\n",
              "      <div>\n",
              "<style scoped>\n",
              "    .dataframe tbody tr th:only-of-type {\n",
              "        vertical-align: middle;\n",
              "    }\n",
              "\n",
              "    .dataframe tbody tr th {\n",
              "        vertical-align: top;\n",
              "    }\n",
              "\n",
              "    .dataframe thead th {\n",
              "        text-align: right;\n",
              "    }\n",
              "</style>\n",
              "<table border=\"1\" class=\"dataframe\">\n",
              "  <thead>\n",
              "    <tr style=\"text-align: right;\">\n",
              "      <th></th>\n",
              "      <th>Unnamed: 0</th>\n",
              "      <th>Category</th>\n",
              "      <th>Resume</th>\n",
              "      <th>skills</th>\n",
              "    </tr>\n",
              "  </thead>\n",
              "  <tbody>\n",
              "    <tr>\n",
              "      <th>0</th>\n",
              "      <td>0</td>\n",
              "      <td>Data Science</td>\n",
              "      <td>skills * programming languages: python (pandas...</td>\n",
              "      <td>Boosting, Investigative, Dimensionality reduct...</td>\n",
              "    </tr>\n",
              "    <tr>\n",
              "      <th>1</th>\n",
              "      <td>1</td>\n",
              "      <td>Data Science</td>\n",
              "      <td>education details \\r\\nmay 2013 to may 2017 b.e...</td>\n",
              "      <td>Forecasting, Classification, Encoding, Feature...</td>\n",
              "    </tr>\n",
              "    <tr>\n",
              "      <th>2</th>\n",
              "      <td>2</td>\n",
              "      <td>Data Science</td>\n",
              "      <td>areas of interest deep learning, control syste...</td>\n",
              "      <td>Xampp, Marketing, Engineering, Python, Pycharm...</td>\n",
              "    </tr>\n",
              "    <tr>\n",
              "      <th>3</th>\n",
              "      <td>3</td>\n",
              "      <td>Data Science</td>\n",
              "      <td>skills â¢ r â¢ python â¢ sap hana â¢ table...</td>\n",
              "      <td>Retail, Engineering, Python, Financial reports...</td>\n",
              "    </tr>\n",
              "    <tr>\n",
              "      <th>4</th>\n",
              "      <td>4</td>\n",
              "      <td>Data Science</td>\n",
              "      <td>education details \\r\\n mca   ymcaust,  faridab...</td>\n",
              "      <td>Database, Science</td>\n",
              "    </tr>\n",
              "  </tbody>\n",
              "</table>\n",
              "</div>\n",
              "      <button class=\"colab-df-convert\" onclick=\"convertToInteractive('df-43e1446b-db70-4f4f-9d39-4d01693ca6e0')\"\n",
              "              title=\"Convert this dataframe to an interactive table.\"\n",
              "              style=\"display:none;\">\n",
              "        \n",
              "  <svg xmlns=\"http://www.w3.org/2000/svg\" height=\"24px\"viewBox=\"0 0 24 24\"\n",
              "       width=\"24px\">\n",
              "    <path d=\"M0 0h24v24H0V0z\" fill=\"none\"/>\n",
              "    <path d=\"M18.56 5.44l.94 2.06.94-2.06 2.06-.94-2.06-.94-.94-2.06-.94 2.06-2.06.94zm-11 1L8.5 8.5l.94-2.06 2.06-.94-2.06-.94L8.5 2.5l-.94 2.06-2.06.94zm10 10l.94 2.06.94-2.06 2.06-.94-2.06-.94-.94-2.06-.94 2.06-2.06.94z\"/><path d=\"M17.41 7.96l-1.37-1.37c-.4-.4-.92-.59-1.43-.59-.52 0-1.04.2-1.43.59L10.3 9.45l-7.72 7.72c-.78.78-.78 2.05 0 2.83L4 21.41c.39.39.9.59 1.41.59.51 0 1.02-.2 1.41-.59l7.78-7.78 2.81-2.81c.8-.78.8-2.07 0-2.86zM5.41 20L4 18.59l7.72-7.72 1.47 1.35L5.41 20z\"/>\n",
              "  </svg>\n",
              "      </button>\n",
              "      \n",
              "  <style>\n",
              "    .colab-df-container {\n",
              "      display:flex;\n",
              "      flex-wrap:wrap;\n",
              "      gap: 12px;\n",
              "    }\n",
              "\n",
              "    .colab-df-convert {\n",
              "      background-color: #E8F0FE;\n",
              "      border: none;\n",
              "      border-radius: 50%;\n",
              "      cursor: pointer;\n",
              "      display: none;\n",
              "      fill: #1967D2;\n",
              "      height: 32px;\n",
              "      padding: 0 0 0 0;\n",
              "      width: 32px;\n",
              "    }\n",
              "\n",
              "    .colab-df-convert:hover {\n",
              "      background-color: #E2EBFA;\n",
              "      box-shadow: 0px 1px 2px rgba(60, 64, 67, 0.3), 0px 1px 3px 1px rgba(60, 64, 67, 0.15);\n",
              "      fill: #174EA6;\n",
              "    }\n",
              "\n",
              "    [theme=dark] .colab-df-convert {\n",
              "      background-color: #3B4455;\n",
              "      fill: #D2E3FC;\n",
              "    }\n",
              "\n",
              "    [theme=dark] .colab-df-convert:hover {\n",
              "      background-color: #434B5C;\n",
              "      box-shadow: 0px 1px 3px 1px rgba(0, 0, 0, 0.15);\n",
              "      filter: drop-shadow(0px 1px 2px rgba(0, 0, 0, 0.3));\n",
              "      fill: #FFFFFF;\n",
              "    }\n",
              "  </style>\n",
              "\n",
              "      <script>\n",
              "        const buttonEl =\n",
              "          document.querySelector('#df-43e1446b-db70-4f4f-9d39-4d01693ca6e0 button.colab-df-convert');\n",
              "        buttonEl.style.display =\n",
              "          google.colab.kernel.accessAllowed ? 'block' : 'none';\n",
              "\n",
              "        async function convertToInteractive(key) {\n",
              "          const element = document.querySelector('#df-43e1446b-db70-4f4f-9d39-4d01693ca6e0');\n",
              "          const dataTable =\n",
              "            await google.colab.kernel.invokeFunction('convertToInteractive',\n",
              "                                                     [key], {});\n",
              "          if (!dataTable) return;\n",
              "\n",
              "          const docLinkHtml = 'Like what you see? Visit the ' +\n",
              "            '<a target=\"_blank\" href=https://colab.research.google.com/notebooks/data_table.ipynb>data table notebook</a>'\n",
              "            + ' to learn more about interactive tables.';\n",
              "          element.innerHTML = '';\n",
              "          dataTable['output_type'] = 'display_data';\n",
              "          await google.colab.output.renderOutput(dataTable, element);\n",
              "          const docLink = document.createElement('div');\n",
              "          docLink.innerHTML = docLinkHtml;\n",
              "          element.appendChild(docLink);\n",
              "        }\n",
              "      </script>\n",
              "    </div>\n",
              "  </div>\n",
              "  "
            ]
          },
          "metadata": {},
          "execution_count": 6
        }
      ],
      "source": [
        "df2.head()"
      ]
    },
    {
      "cell_type": "code",
      "source": [
        "df = df2.skills.astype(str)"
      ],
      "metadata": {
        "id": "JtlI9I8-OvCq"
      },
      "execution_count": null,
      "outputs": []
    },
    {
      "cell_type": "code",
      "source": [
        "df = df2.skills.to_list()"
      ],
      "metadata": {
        "id": "AjkIwaehH7KK"
      },
      "execution_count": null,
      "outputs": []
    },
    {
      "cell_type": "code",
      "source": [
        "df = pd.DataFrame(df)"
      ],
      "metadata": {
        "id": "9Yj7lbS0IR7W"
      },
      "execution_count": null,
      "outputs": []
    },
    {
      "cell_type": "code",
      "source": [
        "df.rename( columns= {0 : 'skills'},inplace = True)"
      ],
      "metadata": {
        "id": "D7tMLOELI9-B"
      },
      "execution_count": null,
      "outputs": []
    },
    {
      "cell_type": "code",
      "source": [
        "df.head()"
      ],
      "metadata": {
        "colab": {
          "base_uri": "https://localhost:8080/",
          "height": 206
        },
        "id": "kQndVdH5JgZz",
        "outputId": "1d69048f-4c84-4303-da47-d3a1a2ac7c16"
      },
      "execution_count": null,
      "outputs": [
        {
          "output_type": "execute_result",
          "data": {
            "text/plain": [
              "                                              skills\n",
              "0  Boosting, Investigative, Dimensionality reduct...\n",
              "1  Forecasting, Classification, Encoding, Feature...\n",
              "2  Xampp, Marketing, Engineering, Python, Pycharm...\n",
              "3  Retail, Engineering, Python, Financial reports...\n",
              "4                                  Database, Science"
            ],
            "text/html": [
              "\n",
              "  <div id=\"df-d9d3013e-5b6b-4e05-b642-fad831ea091c\">\n",
              "    <div class=\"colab-df-container\">\n",
              "      <div>\n",
              "<style scoped>\n",
              "    .dataframe tbody tr th:only-of-type {\n",
              "        vertical-align: middle;\n",
              "    }\n",
              "\n",
              "    .dataframe tbody tr th {\n",
              "        vertical-align: top;\n",
              "    }\n",
              "\n",
              "    .dataframe thead th {\n",
              "        text-align: right;\n",
              "    }\n",
              "</style>\n",
              "<table border=\"1\" class=\"dataframe\">\n",
              "  <thead>\n",
              "    <tr style=\"text-align: right;\">\n",
              "      <th></th>\n",
              "      <th>skills</th>\n",
              "    </tr>\n",
              "  </thead>\n",
              "  <tbody>\n",
              "    <tr>\n",
              "      <th>0</th>\n",
              "      <td>Boosting, Investigative, Dimensionality reduct...</td>\n",
              "    </tr>\n",
              "    <tr>\n",
              "      <th>1</th>\n",
              "      <td>Forecasting, Classification, Encoding, Feature...</td>\n",
              "    </tr>\n",
              "    <tr>\n",
              "      <th>2</th>\n",
              "      <td>Xampp, Marketing, Engineering, Python, Pycharm...</td>\n",
              "    </tr>\n",
              "    <tr>\n",
              "      <th>3</th>\n",
              "      <td>Retail, Engineering, Python, Financial reports...</td>\n",
              "    </tr>\n",
              "    <tr>\n",
              "      <th>4</th>\n",
              "      <td>Database, Science</td>\n",
              "    </tr>\n",
              "  </tbody>\n",
              "</table>\n",
              "</div>\n",
              "      <button class=\"colab-df-convert\" onclick=\"convertToInteractive('df-d9d3013e-5b6b-4e05-b642-fad831ea091c')\"\n",
              "              title=\"Convert this dataframe to an interactive table.\"\n",
              "              style=\"display:none;\">\n",
              "        \n",
              "  <svg xmlns=\"http://www.w3.org/2000/svg\" height=\"24px\"viewBox=\"0 0 24 24\"\n",
              "       width=\"24px\">\n",
              "    <path d=\"M0 0h24v24H0V0z\" fill=\"none\"/>\n",
              "    <path d=\"M18.56 5.44l.94 2.06.94-2.06 2.06-.94-2.06-.94-.94-2.06-.94 2.06-2.06.94zm-11 1L8.5 8.5l.94-2.06 2.06-.94-2.06-.94L8.5 2.5l-.94 2.06-2.06.94zm10 10l.94 2.06.94-2.06 2.06-.94-2.06-.94-.94-2.06-.94 2.06-2.06.94z\"/><path d=\"M17.41 7.96l-1.37-1.37c-.4-.4-.92-.59-1.43-.59-.52 0-1.04.2-1.43.59L10.3 9.45l-7.72 7.72c-.78.78-.78 2.05 0 2.83L4 21.41c.39.39.9.59 1.41.59.51 0 1.02-.2 1.41-.59l7.78-7.78 2.81-2.81c.8-.78.8-2.07 0-2.86zM5.41 20L4 18.59l7.72-7.72 1.47 1.35L5.41 20z\"/>\n",
              "  </svg>\n",
              "      </button>\n",
              "      \n",
              "  <style>\n",
              "    .colab-df-container {\n",
              "      display:flex;\n",
              "      flex-wrap:wrap;\n",
              "      gap: 12px;\n",
              "    }\n",
              "\n",
              "    .colab-df-convert {\n",
              "      background-color: #E8F0FE;\n",
              "      border: none;\n",
              "      border-radius: 50%;\n",
              "      cursor: pointer;\n",
              "      display: none;\n",
              "      fill: #1967D2;\n",
              "      height: 32px;\n",
              "      padding: 0 0 0 0;\n",
              "      width: 32px;\n",
              "    }\n",
              "\n",
              "    .colab-df-convert:hover {\n",
              "      background-color: #E2EBFA;\n",
              "      box-shadow: 0px 1px 2px rgba(60, 64, 67, 0.3), 0px 1px 3px 1px rgba(60, 64, 67, 0.15);\n",
              "      fill: #174EA6;\n",
              "    }\n",
              "\n",
              "    [theme=dark] .colab-df-convert {\n",
              "      background-color: #3B4455;\n",
              "      fill: #D2E3FC;\n",
              "    }\n",
              "\n",
              "    [theme=dark] .colab-df-convert:hover {\n",
              "      background-color: #434B5C;\n",
              "      box-shadow: 0px 1px 3px 1px rgba(0, 0, 0, 0.15);\n",
              "      filter: drop-shadow(0px 1px 2px rgba(0, 0, 0, 0.3));\n",
              "      fill: #FFFFFF;\n",
              "    }\n",
              "  </style>\n",
              "\n",
              "      <script>\n",
              "        const buttonEl =\n",
              "          document.querySelector('#df-d9d3013e-5b6b-4e05-b642-fad831ea091c button.colab-df-convert');\n",
              "        buttonEl.style.display =\n",
              "          google.colab.kernel.accessAllowed ? 'block' : 'none';\n",
              "\n",
              "        async function convertToInteractive(key) {\n",
              "          const element = document.querySelector('#df-d9d3013e-5b6b-4e05-b642-fad831ea091c');\n",
              "          const dataTable =\n",
              "            await google.colab.kernel.invokeFunction('convertToInteractive',\n",
              "                                                     [key], {});\n",
              "          if (!dataTable) return;\n",
              "\n",
              "          const docLinkHtml = 'Like what you see? Visit the ' +\n",
              "            '<a target=\"_blank\" href=https://colab.research.google.com/notebooks/data_table.ipynb>data table notebook</a>'\n",
              "            + ' to learn more about interactive tables.';\n",
              "          element.innerHTML = '';\n",
              "          dataTable['output_type'] = 'display_data';\n",
              "          await google.colab.output.renderOutput(dataTable, element);\n",
              "          const docLink = document.createElement('div');\n",
              "          docLink.innerHTML = docLinkHtml;\n",
              "          element.appendChild(docLink);\n",
              "        }\n",
              "      </script>\n",
              "    </div>\n",
              "  </div>\n",
              "  "
            ]
          },
          "metadata": {},
          "execution_count": 11
        }
      ]
    },
    {
      "cell_type": "code",
      "source": [
        "print(df['skills'].apply(type))"
      ],
      "metadata": {
        "colab": {
          "base_uri": "https://localhost:8080/"
        },
        "id": "4ofVTow4PIv6",
        "outputId": "1a0cf159-3681-4769-f9d1-fed4c5bbe90c"
      },
      "execution_count": null,
      "outputs": [
        {
          "output_type": "stream",
          "name": "stdout",
          "text": [
            "0      <class 'str'>\n",
            "1      <class 'str'>\n",
            "2      <class 'str'>\n",
            "3      <class 'str'>\n",
            "4      <class 'str'>\n",
            "           ...      \n",
            "957    <class 'str'>\n",
            "958    <class 'str'>\n",
            "959    <class 'str'>\n",
            "960    <class 'str'>\n",
            "961    <class 'str'>\n",
            "Name: skills, Length: 962, dtype: object\n"
          ]
        }
      ]
    },
    {
      "cell_type": "code",
      "source": [
        "def split_skills(skills_str):\n",
        "    \"\"\"Split a string of skills into a comma-separated string of skill names.\"\"\"\n",
        "    if isinstance(skills_str, str):\n",
        "        return ', '.join([skill.strip() for skill in skills_str.split(',')])\n",
        "    else:\n",
        "        return skills_str\n"
      ],
      "metadata": {
        "id": "dpwxBEFUQGy7"
      },
      "execution_count": null,
      "outputs": []
    },
    {
      "cell_type": "code",
      "source": [
        "df['skills'] = df['skills'].apply(split_skills)"
      ],
      "metadata": {
        "id": "CAi-perpP6VO"
      },
      "execution_count": null,
      "outputs": []
    },
    {
      "cell_type": "code",
      "source": [
        "df"
      ],
      "metadata": {
        "colab": {
          "base_uri": "https://localhost:8080/",
          "height": 423
        },
        "id": "henhlgJ5QJgN",
        "outputId": "281d1a7c-f031-43d3-84f2-7bf5a58f85ad"
      },
      "execution_count": null,
      "outputs": [
        {
          "output_type": "execute_result",
          "data": {
            "text/plain": [
              "                                                skills\n",
              "0    Boosting, Investigative, Dimensionality reduct...\n",
              "1    Forecasting, Classification, Encoding, Feature...\n",
              "2    Xampp, Marketing, Engineering, Python, Pycharm...\n",
              "3    Retail, Engineering, Python, Financial reports...\n",
              "4                                    Database, Science\n",
              "..                                                 ...\n",
              "957  Computer skills, Excel, Engineering, Loyalty, ...\n",
              "958  Engineering, Drawings, Company policies, Hardw...\n",
              "959  Engineering, Eagerness, Personal skills, Leade...\n",
              "960  Computer skills, Latex, Matlab, Multisim, Gard...\n",
              "961  Windows xp, Java, Mysql, Maintenance, Reportin...\n",
              "\n",
              "[962 rows x 1 columns]"
            ],
            "text/html": [
              "\n",
              "  <div id=\"df-c4600766-df6f-42e3-9349-13f2edc1680d\">\n",
              "    <div class=\"colab-df-container\">\n",
              "      <div>\n",
              "<style scoped>\n",
              "    .dataframe tbody tr th:only-of-type {\n",
              "        vertical-align: middle;\n",
              "    }\n",
              "\n",
              "    .dataframe tbody tr th {\n",
              "        vertical-align: top;\n",
              "    }\n",
              "\n",
              "    .dataframe thead th {\n",
              "        text-align: right;\n",
              "    }\n",
              "</style>\n",
              "<table border=\"1\" class=\"dataframe\">\n",
              "  <thead>\n",
              "    <tr style=\"text-align: right;\">\n",
              "      <th></th>\n",
              "      <th>skills</th>\n",
              "    </tr>\n",
              "  </thead>\n",
              "  <tbody>\n",
              "    <tr>\n",
              "      <th>0</th>\n",
              "      <td>Boosting, Investigative, Dimensionality reduct...</td>\n",
              "    </tr>\n",
              "    <tr>\n",
              "      <th>1</th>\n",
              "      <td>Forecasting, Classification, Encoding, Feature...</td>\n",
              "    </tr>\n",
              "    <tr>\n",
              "      <th>2</th>\n",
              "      <td>Xampp, Marketing, Engineering, Python, Pycharm...</td>\n",
              "    </tr>\n",
              "    <tr>\n",
              "      <th>3</th>\n",
              "      <td>Retail, Engineering, Python, Financial reports...</td>\n",
              "    </tr>\n",
              "    <tr>\n",
              "      <th>4</th>\n",
              "      <td>Database, Science</td>\n",
              "    </tr>\n",
              "    <tr>\n",
              "      <th>...</th>\n",
              "      <td>...</td>\n",
              "    </tr>\n",
              "    <tr>\n",
              "      <th>957</th>\n",
              "      <td>Computer skills, Excel, Engineering, Loyalty, ...</td>\n",
              "    </tr>\n",
              "    <tr>\n",
              "      <th>958</th>\n",
              "      <td>Engineering, Drawings, Company policies, Hardw...</td>\n",
              "    </tr>\n",
              "    <tr>\n",
              "      <th>959</th>\n",
              "      <td>Engineering, Eagerness, Personal skills, Leade...</td>\n",
              "    </tr>\n",
              "    <tr>\n",
              "      <th>960</th>\n",
              "      <td>Computer skills, Latex, Matlab, Multisim, Gard...</td>\n",
              "    </tr>\n",
              "    <tr>\n",
              "      <th>961</th>\n",
              "      <td>Windows xp, Java, Mysql, Maintenance, Reportin...</td>\n",
              "    </tr>\n",
              "  </tbody>\n",
              "</table>\n",
              "<p>962 rows × 1 columns</p>\n",
              "</div>\n",
              "      <button class=\"colab-df-convert\" onclick=\"convertToInteractive('df-c4600766-df6f-42e3-9349-13f2edc1680d')\"\n",
              "              title=\"Convert this dataframe to an interactive table.\"\n",
              "              style=\"display:none;\">\n",
              "        \n",
              "  <svg xmlns=\"http://www.w3.org/2000/svg\" height=\"24px\"viewBox=\"0 0 24 24\"\n",
              "       width=\"24px\">\n",
              "    <path d=\"M0 0h24v24H0V0z\" fill=\"none\"/>\n",
              "    <path d=\"M18.56 5.44l.94 2.06.94-2.06 2.06-.94-2.06-.94-.94-2.06-.94 2.06-2.06.94zm-11 1L8.5 8.5l.94-2.06 2.06-.94-2.06-.94L8.5 2.5l-.94 2.06-2.06.94zm10 10l.94 2.06.94-2.06 2.06-.94-2.06-.94-.94-2.06-.94 2.06-2.06.94z\"/><path d=\"M17.41 7.96l-1.37-1.37c-.4-.4-.92-.59-1.43-.59-.52 0-1.04.2-1.43.59L10.3 9.45l-7.72 7.72c-.78.78-.78 2.05 0 2.83L4 21.41c.39.39.9.59 1.41.59.51 0 1.02-.2 1.41-.59l7.78-7.78 2.81-2.81c.8-.78.8-2.07 0-2.86zM5.41 20L4 18.59l7.72-7.72 1.47 1.35L5.41 20z\"/>\n",
              "  </svg>\n",
              "      </button>\n",
              "      \n",
              "  <style>\n",
              "    .colab-df-container {\n",
              "      display:flex;\n",
              "      flex-wrap:wrap;\n",
              "      gap: 12px;\n",
              "    }\n",
              "\n",
              "    .colab-df-convert {\n",
              "      background-color: #E8F0FE;\n",
              "      border: none;\n",
              "      border-radius: 50%;\n",
              "      cursor: pointer;\n",
              "      display: none;\n",
              "      fill: #1967D2;\n",
              "      height: 32px;\n",
              "      padding: 0 0 0 0;\n",
              "      width: 32px;\n",
              "    }\n",
              "\n",
              "    .colab-df-convert:hover {\n",
              "      background-color: #E2EBFA;\n",
              "      box-shadow: 0px 1px 2px rgba(60, 64, 67, 0.3), 0px 1px 3px 1px rgba(60, 64, 67, 0.15);\n",
              "      fill: #174EA6;\n",
              "    }\n",
              "\n",
              "    [theme=dark] .colab-df-convert {\n",
              "      background-color: #3B4455;\n",
              "      fill: #D2E3FC;\n",
              "    }\n",
              "\n",
              "    [theme=dark] .colab-df-convert:hover {\n",
              "      background-color: #434B5C;\n",
              "      box-shadow: 0px 1px 3px 1px rgba(0, 0, 0, 0.15);\n",
              "      filter: drop-shadow(0px 1px 2px rgba(0, 0, 0, 0.3));\n",
              "      fill: #FFFFFF;\n",
              "    }\n",
              "  </style>\n",
              "\n",
              "      <script>\n",
              "        const buttonEl =\n",
              "          document.querySelector('#df-c4600766-df6f-42e3-9349-13f2edc1680d button.colab-df-convert');\n",
              "        buttonEl.style.display =\n",
              "          google.colab.kernel.accessAllowed ? 'block' : 'none';\n",
              "\n",
              "        async function convertToInteractive(key) {\n",
              "          const element = document.querySelector('#df-c4600766-df6f-42e3-9349-13f2edc1680d');\n",
              "          const dataTable =\n",
              "            await google.colab.kernel.invokeFunction('convertToInteractive',\n",
              "                                                     [key], {});\n",
              "          if (!dataTable) return;\n",
              "\n",
              "          const docLinkHtml = 'Like what you see? Visit the ' +\n",
              "            '<a target=\"_blank\" href=https://colab.research.google.com/notebooks/data_table.ipynb>data table notebook</a>'\n",
              "            + ' to learn more about interactive tables.';\n",
              "          element.innerHTML = '';\n",
              "          dataTable['output_type'] = 'display_data';\n",
              "          await google.colab.output.renderOutput(dataTable, element);\n",
              "          const docLink = document.createElement('div');\n",
              "          docLink.innerHTML = docLinkHtml;\n",
              "          element.appendChild(docLink);\n",
              "        }\n",
              "      </script>\n",
              "    </div>\n",
              "  </div>\n",
              "  "
            ]
          },
          "metadata": {},
          "execution_count": 14
        }
      ]
    },
    {
      "cell_type": "code",
      "source": [
        "import random\n",
        "import numpy as np\n",
        "\n",
        "def shuffle_skills(skills_str):\n",
        "    \"\"\"Shuffle the words in a comma-separated string of skills.\"\"\"\n",
        "    if isinstance(skills_str, str):\n",
        "        skills_list = [skill.strip() for skill in skills_str.split(',')]\n",
        "        random.shuffle(skills_list)\n",
        "        return ', '.join(skills_list)\n",
        "    else:\n",
        "        return np.nan"
      ],
      "metadata": {
        "id": "SR9uJ26tRASt"
      },
      "execution_count": null,
      "outputs": []
    },
    {
      "cell_type": "code",
      "source": [
        "df['shuffled_skills6'] = df['skills'].apply(shuffle_skills)"
      ],
      "metadata": {
        "id": "Bcq08c3URBqM"
      },
      "execution_count": null,
      "outputs": []
    },
    {
      "cell_type": "code",
      "source": [
        "df"
      ],
      "metadata": {
        "colab": {
          "base_uri": "https://localhost:8080/",
          "height": 1000
        },
        "id": "GGVABWGCRFb5",
        "outputId": "0c9cb2de-0182-4140-dcf5-03daf103633e"
      },
      "execution_count": null,
      "outputs": [
        {
          "output_type": "execute_result",
          "data": {
            "text/plain": [
              "                                                skills  \\\n",
              "0    Boosting, Investigative, Dimensionality reduct...   \n",
              "1    Forecasting, Classification, Encoding, Feature...   \n",
              "2    Xampp, Marketing, Engineering, Python, Pycharm...   \n",
              "3    Retail, Engineering, Python, Financial reports...   \n",
              "4                                    Database, Science   \n",
              "..                                                 ...   \n",
              "957  Computer skills, Excel, Engineering, Loyalty, ...   \n",
              "958  Engineering, Drawings, Company policies, Hardw...   \n",
              "959  Engineering, Eagerness, Personal skills, Leade...   \n",
              "960  Computer skills, Latex, Matlab, Multisim, Gard...   \n",
              "961  Windows xp, Java, Mysql, Maintenance, Reportin...   \n",
              "\n",
              "                                       shuffled_skills  \\\n",
              "0    Pca, Node.js, Assurance, Intelligence, Tableau...   \n",
              "1    Ml, Scaling, Forecasting, Feature selection, E...   \n",
              "2    Linux, Windows, Gitbash, Deep learning, Eclips...   \n",
              "3    Tableau, Analyzing, Development, Designing, Pl...   \n",
              "4                                    Database, Science   \n",
              "..                                                 ...   \n",
              "957  Positive attitude, Creativity, Hard working, T...   \n",
              "958  Abacus, Company policies, Test plan, Hardware ...   \n",
              "959  Distribution, Capa, Leadership, Analysis, Engi...   \n",
              "960  Electronics, Computer skills, Latex, Matlab, P...   \n",
              "961  Java, Test plans, Android, Windows, Css, Track...   \n",
              "\n",
              "                                      shuffled_skills1  \\\n",
              "0    Accounting, Java, Regular expression, Word, Ja...   \n",
              "1    Encoding, Feature selection, Learning, Classif...   \n",
              "2    Pycharm, Analytics, Windows, Ltspice, Linux, U...   \n",
              "3    Analyzing, Data models, Rfm analysis, Analysin...   \n",
              "4                                    Database, Science   \n",
              "..                                                 ...   \n",
              "957  Positive attitude, Crm, Hard working, Loyalty,...   \n",
              "958  System testing, Engineering, Electronics, Hard...   \n",
              "959  Documentation, Inspection, Quick learner, Pers...   \n",
              "960  Multisim, Gardening, Electronics, Matlab, Desi...   \n",
              "961  Server, Sql, Android, Manual testing, Sql serv...   \n",
              "\n",
              "                                      shuffled_skills2  \\\n",
              "0    Governance, Plotly, Assisted, Elasticsearch, T...   \n",
              "1    Learning, Classification, Scaling, Ml, Feature...   \n",
              "2    Pycharm, Engineering, Xampp, Gitbash, Java, An...   \n",
              "3    Healthcare, Testing, Sap, C#, Swift, Financial...   \n",
              "4                                    Science, Database   \n",
              "..                                                 ...   \n",
              "957  Ms office, Computer skills, Hard working, Crea...   \n",
              "958  Compliance, Testing, Windows, Debugging, Drawi...   \n",
              "959  Leadership, Dispatch, Calibration, Quick learn...   \n",
              "960  Computer skills, Gardening, Multisim, Electron...   \n",
              "961  Tracking bugs, Java, Html, Testing, Sql, Test ...   \n",
              "\n",
              "                                      shuffled_skills3  \\\n",
              "0    Classification, Erp, Elastic search, Tableau d...   \n",
              "1    Encoding, Feature selection, Forecasting, Lear...   \n",
              "2    Engineering, Matlab, Python, Mysql, Linux, Sci...   \n",
              "3    Object detection, Server, Etl, Reporting, Tele...   \n",
              "4                                    Database, Science   \n",
              "..                                                 ...   \n",
              "957  Crm, Motivated, Initiative, Loyalty, Transform...   \n",
              "958  Company policies, Hardware testing, System per...   \n",
              "959  Organizational, Maintenance, Eagerness, Testin...   \n",
              "960  Multisim, Pcb, Design, Latex, Computer skills,...   \n",
              "961  Maintenance, Database, Test scenarios, Test ca...   \n",
              "\n",
              "                                      shuffled_skills4  \\\n",
              "0    Bootstrap, Analyzing, Pca, Science, Assisted, ...   \n",
              "1    Classification, Forecasting, Feature selection...   \n",
              "2    Ltspice, Ubuntu, Django, Eclipse, Matlab, Elec...   \n",
              "3    Python, Etl, Rfm analysis, Data modelling, Ana...   \n",
              "4                                    Science, Database   \n",
              "..                                                 ...   \n",
              "957  Windows, Computer skills, Testing, Transformer...   \n",
              "958  Testing, Customer satisfaction, Drawings, Sche...   \n",
              "959  Functional testing, Transformers, Iso, Persona...   \n",
              "960  Gardening, Latex, Matlab, Design, Pcb, Multisi...   \n",
              "961  Tracking bugs, Java, Android, Windows, Test pl...   \n",
              "\n",
              "                                      shuffled_skills5  \\\n",
              "0    Investigative, Elasticsearch, Dimensionality r...   \n",
              "1    Forecasting, Scaling, Classification, Ml, Enco...   \n",
              "2    Ubuntu, Flask, Strategy, Jupyter, Pycharm, Ana...   \n",
              "3    Data models, Analysing, Nlp, Etl, Analytics, C...   \n",
              "4                                    Science, Database   \n",
              "..                                                 ...   \n",
              "957  Testing, Excel, Tapping, Windows, Transformer,...   \n",
              "958  Quality management system, Technical manuals, ...   \n",
              "959  Transformers, Maintenance, Competitive, Quick ...   \n",
              "960  Matlab, Multisim, Computer skills, Electronics...   \n",
              "961  Android, Css, Sql, Windows xp, Database, Test ...   \n",
              "\n",
              "                                      shuffled_skills6  \n",
              "0    Scikit-learn, Natural language processing, Htm...  \n",
              "1    Encoding, Ml, Scaling, Feature selection, Clas...  \n",
              "2    Windows, Ltspice, Engineering, Eclipse, Django...  \n",
              "3    Electronics, Programming, Uml, Media analytics...  \n",
              "4                                    Science, Database  \n",
              "..                                                 ...  \n",
              "957  Transformer, Loyalty, Electrical, Creativity, ...  \n",
              "958  System testing, System performance, Electronic...  \n",
              "959  Inspection, Maintenance, Functional testing, T...  \n",
              "960  Electronics, Matlab, Latex, Computer skills, G...  \n",
              "961  Server, Maintenance, Tracking bugs, Testing, S...  \n",
              "\n",
              "[962 rows x 8 columns]"
            ],
            "text/html": [
              "\n",
              "  <div id=\"df-2f0fadc1-7168-4895-b9a0-c936ce8ff232\">\n",
              "    <div class=\"colab-df-container\">\n",
              "      <div>\n",
              "<style scoped>\n",
              "    .dataframe tbody tr th:only-of-type {\n",
              "        vertical-align: middle;\n",
              "    }\n",
              "\n",
              "    .dataframe tbody tr th {\n",
              "        vertical-align: top;\n",
              "    }\n",
              "\n",
              "    .dataframe thead th {\n",
              "        text-align: right;\n",
              "    }\n",
              "</style>\n",
              "<table border=\"1\" class=\"dataframe\">\n",
              "  <thead>\n",
              "    <tr style=\"text-align: right;\">\n",
              "      <th></th>\n",
              "      <th>skills</th>\n",
              "      <th>shuffled_skills</th>\n",
              "      <th>shuffled_skills1</th>\n",
              "      <th>shuffled_skills2</th>\n",
              "      <th>shuffled_skills3</th>\n",
              "      <th>shuffled_skills4</th>\n",
              "      <th>shuffled_skills5</th>\n",
              "      <th>shuffled_skills6</th>\n",
              "    </tr>\n",
              "  </thead>\n",
              "  <tbody>\n",
              "    <tr>\n",
              "      <th>0</th>\n",
              "      <td>Boosting, Investigative, Dimensionality reduct...</td>\n",
              "      <td>Pca, Node.js, Assurance, Intelligence, Tableau...</td>\n",
              "      <td>Accounting, Java, Regular expression, Word, Ja...</td>\n",
              "      <td>Governance, Plotly, Assisted, Elasticsearch, T...</td>\n",
              "      <td>Classification, Erp, Elastic search, Tableau d...</td>\n",
              "      <td>Bootstrap, Analyzing, Pca, Science, Assisted, ...</td>\n",
              "      <td>Investigative, Elasticsearch, Dimensionality r...</td>\n",
              "      <td>Scikit-learn, Natural language processing, Htm...</td>\n",
              "    </tr>\n",
              "    <tr>\n",
              "      <th>1</th>\n",
              "      <td>Forecasting, Classification, Encoding, Feature...</td>\n",
              "      <td>Ml, Scaling, Forecasting, Feature selection, E...</td>\n",
              "      <td>Encoding, Feature selection, Learning, Classif...</td>\n",
              "      <td>Learning, Classification, Scaling, Ml, Feature...</td>\n",
              "      <td>Encoding, Feature selection, Forecasting, Lear...</td>\n",
              "      <td>Classification, Forecasting, Feature selection...</td>\n",
              "      <td>Forecasting, Scaling, Classification, Ml, Enco...</td>\n",
              "      <td>Encoding, Ml, Scaling, Feature selection, Clas...</td>\n",
              "    </tr>\n",
              "    <tr>\n",
              "      <th>2</th>\n",
              "      <td>Xampp, Marketing, Engineering, Python, Pycharm...</td>\n",
              "      <td>Linux, Windows, Gitbash, Deep learning, Eclips...</td>\n",
              "      <td>Pycharm, Analytics, Windows, Ltspice, Linux, U...</td>\n",
              "      <td>Pycharm, Engineering, Xampp, Gitbash, Java, An...</td>\n",
              "      <td>Engineering, Matlab, Python, Mysql, Linux, Sci...</td>\n",
              "      <td>Ltspice, Ubuntu, Django, Eclipse, Matlab, Elec...</td>\n",
              "      <td>Ubuntu, Flask, Strategy, Jupyter, Pycharm, Ana...</td>\n",
              "      <td>Windows, Ltspice, Engineering, Eclipse, Django...</td>\n",
              "    </tr>\n",
              "    <tr>\n",
              "      <th>3</th>\n",
              "      <td>Retail, Engineering, Python, Financial reports...</td>\n",
              "      <td>Tableau, Analyzing, Development, Designing, Pl...</td>\n",
              "      <td>Analyzing, Data models, Rfm analysis, Analysin...</td>\n",
              "      <td>Healthcare, Testing, Sap, C#, Swift, Financial...</td>\n",
              "      <td>Object detection, Server, Etl, Reporting, Tele...</td>\n",
              "      <td>Python, Etl, Rfm analysis, Data modelling, Ana...</td>\n",
              "      <td>Data models, Analysing, Nlp, Etl, Analytics, C...</td>\n",
              "      <td>Electronics, Programming, Uml, Media analytics...</td>\n",
              "    </tr>\n",
              "    <tr>\n",
              "      <th>4</th>\n",
              "      <td>Database, Science</td>\n",
              "      <td>Database, Science</td>\n",
              "      <td>Database, Science</td>\n",
              "      <td>Science, Database</td>\n",
              "      <td>Database, Science</td>\n",
              "      <td>Science, Database</td>\n",
              "      <td>Science, Database</td>\n",
              "      <td>Science, Database</td>\n",
              "    </tr>\n",
              "    <tr>\n",
              "      <th>...</th>\n",
              "      <td>...</td>\n",
              "      <td>...</td>\n",
              "      <td>...</td>\n",
              "      <td>...</td>\n",
              "      <td>...</td>\n",
              "      <td>...</td>\n",
              "      <td>...</td>\n",
              "      <td>...</td>\n",
              "    </tr>\n",
              "    <tr>\n",
              "      <th>957</th>\n",
              "      <td>Computer skills, Excel, Engineering, Loyalty, ...</td>\n",
              "      <td>Positive attitude, Creativity, Hard working, T...</td>\n",
              "      <td>Positive attitude, Crm, Hard working, Loyalty,...</td>\n",
              "      <td>Ms office, Computer skills, Hard working, Crea...</td>\n",
              "      <td>Crm, Motivated, Initiative, Loyalty, Transform...</td>\n",
              "      <td>Windows, Computer skills, Testing, Transformer...</td>\n",
              "      <td>Testing, Excel, Tapping, Windows, Transformer,...</td>\n",
              "      <td>Transformer, Loyalty, Electrical, Creativity, ...</td>\n",
              "    </tr>\n",
              "    <tr>\n",
              "      <th>958</th>\n",
              "      <td>Engineering, Drawings, Company policies, Hardw...</td>\n",
              "      <td>Abacus, Company policies, Test plan, Hardware ...</td>\n",
              "      <td>System testing, Engineering, Electronics, Hard...</td>\n",
              "      <td>Compliance, Testing, Windows, Debugging, Drawi...</td>\n",
              "      <td>Company policies, Hardware testing, System per...</td>\n",
              "      <td>Testing, Customer satisfaction, Drawings, Sche...</td>\n",
              "      <td>Quality management system, Technical manuals, ...</td>\n",
              "      <td>System testing, System performance, Electronic...</td>\n",
              "    </tr>\n",
              "    <tr>\n",
              "      <th>959</th>\n",
              "      <td>Engineering, Eagerness, Personal skills, Leade...</td>\n",
              "      <td>Distribution, Capa, Leadership, Analysis, Engi...</td>\n",
              "      <td>Documentation, Inspection, Quick learner, Pers...</td>\n",
              "      <td>Leadership, Dispatch, Calibration, Quick learn...</td>\n",
              "      <td>Organizational, Maintenance, Eagerness, Testin...</td>\n",
              "      <td>Functional testing, Transformers, Iso, Persona...</td>\n",
              "      <td>Transformers, Maintenance, Competitive, Quick ...</td>\n",
              "      <td>Inspection, Maintenance, Functional testing, T...</td>\n",
              "    </tr>\n",
              "    <tr>\n",
              "      <th>960</th>\n",
              "      <td>Computer skills, Latex, Matlab, Multisim, Gard...</td>\n",
              "      <td>Electronics, Computer skills, Latex, Matlab, P...</td>\n",
              "      <td>Multisim, Gardening, Electronics, Matlab, Desi...</td>\n",
              "      <td>Computer skills, Gardening, Multisim, Electron...</td>\n",
              "      <td>Multisim, Pcb, Design, Latex, Computer skills,...</td>\n",
              "      <td>Gardening, Latex, Matlab, Design, Pcb, Multisi...</td>\n",
              "      <td>Matlab, Multisim, Computer skills, Electronics...</td>\n",
              "      <td>Electronics, Matlab, Latex, Computer skills, G...</td>\n",
              "    </tr>\n",
              "    <tr>\n",
              "      <th>961</th>\n",
              "      <td>Windows xp, Java, Mysql, Maintenance, Reportin...</td>\n",
              "      <td>Java, Test plans, Android, Windows, Css, Track...</td>\n",
              "      <td>Server, Sql, Android, Manual testing, Sql serv...</td>\n",
              "      <td>Tracking bugs, Java, Html, Testing, Sql, Test ...</td>\n",
              "      <td>Maintenance, Database, Test scenarios, Test ca...</td>\n",
              "      <td>Tracking bugs, Java, Android, Windows, Test pl...</td>\n",
              "      <td>Android, Css, Sql, Windows xp, Database, Test ...</td>\n",
              "      <td>Server, Maintenance, Tracking bugs, Testing, S...</td>\n",
              "    </tr>\n",
              "  </tbody>\n",
              "</table>\n",
              "<p>962 rows × 8 columns</p>\n",
              "</div>\n",
              "      <button class=\"colab-df-convert\" onclick=\"convertToInteractive('df-2f0fadc1-7168-4895-b9a0-c936ce8ff232')\"\n",
              "              title=\"Convert this dataframe to an interactive table.\"\n",
              "              style=\"display:none;\">\n",
              "        \n",
              "  <svg xmlns=\"http://www.w3.org/2000/svg\" height=\"24px\"viewBox=\"0 0 24 24\"\n",
              "       width=\"24px\">\n",
              "    <path d=\"M0 0h24v24H0V0z\" fill=\"none\"/>\n",
              "    <path d=\"M18.56 5.44l.94 2.06.94-2.06 2.06-.94-2.06-.94-.94-2.06-.94 2.06-2.06.94zm-11 1L8.5 8.5l.94-2.06 2.06-.94-2.06-.94L8.5 2.5l-.94 2.06-2.06.94zm10 10l.94 2.06.94-2.06 2.06-.94-2.06-.94-.94-2.06-.94 2.06-2.06.94z\"/><path d=\"M17.41 7.96l-1.37-1.37c-.4-.4-.92-.59-1.43-.59-.52 0-1.04.2-1.43.59L10.3 9.45l-7.72 7.72c-.78.78-.78 2.05 0 2.83L4 21.41c.39.39.9.59 1.41.59.51 0 1.02-.2 1.41-.59l7.78-7.78 2.81-2.81c.8-.78.8-2.07 0-2.86zM5.41 20L4 18.59l7.72-7.72 1.47 1.35L5.41 20z\"/>\n",
              "  </svg>\n",
              "      </button>\n",
              "      \n",
              "  <style>\n",
              "    .colab-df-container {\n",
              "      display:flex;\n",
              "      flex-wrap:wrap;\n",
              "      gap: 12px;\n",
              "    }\n",
              "\n",
              "    .colab-df-convert {\n",
              "      background-color: #E8F0FE;\n",
              "      border: none;\n",
              "      border-radius: 50%;\n",
              "      cursor: pointer;\n",
              "      display: none;\n",
              "      fill: #1967D2;\n",
              "      height: 32px;\n",
              "      padding: 0 0 0 0;\n",
              "      width: 32px;\n",
              "    }\n",
              "\n",
              "    .colab-df-convert:hover {\n",
              "      background-color: #E2EBFA;\n",
              "      box-shadow: 0px 1px 2px rgba(60, 64, 67, 0.3), 0px 1px 3px 1px rgba(60, 64, 67, 0.15);\n",
              "      fill: #174EA6;\n",
              "    }\n",
              "\n",
              "    [theme=dark] .colab-df-convert {\n",
              "      background-color: #3B4455;\n",
              "      fill: #D2E3FC;\n",
              "    }\n",
              "\n",
              "    [theme=dark] .colab-df-convert:hover {\n",
              "      background-color: #434B5C;\n",
              "      box-shadow: 0px 1px 3px 1px rgba(0, 0, 0, 0.15);\n",
              "      filter: drop-shadow(0px 1px 2px rgba(0, 0, 0, 0.3));\n",
              "      fill: #FFFFFF;\n",
              "    }\n",
              "  </style>\n",
              "\n",
              "      <script>\n",
              "        const buttonEl =\n",
              "          document.querySelector('#df-2f0fadc1-7168-4895-b9a0-c936ce8ff232 button.colab-df-convert');\n",
              "        buttonEl.style.display =\n",
              "          google.colab.kernel.accessAllowed ? 'block' : 'none';\n",
              "\n",
              "        async function convertToInteractive(key) {\n",
              "          const element = document.querySelector('#df-2f0fadc1-7168-4895-b9a0-c936ce8ff232');\n",
              "          const dataTable =\n",
              "            await google.colab.kernel.invokeFunction('convertToInteractive',\n",
              "                                                     [key], {});\n",
              "          if (!dataTable) return;\n",
              "\n",
              "          const docLinkHtml = 'Like what you see? Visit the ' +\n",
              "            '<a target=\"_blank\" href=https://colab.research.google.com/notebooks/data_table.ipynb>data table notebook</a>'\n",
              "            + ' to learn more about interactive tables.';\n",
              "          element.innerHTML = '';\n",
              "          dataTable['output_type'] = 'display_data';\n",
              "          await google.colab.output.renderOutput(dataTable, element);\n",
              "          const docLink = document.createElement('div');\n",
              "          docLink.innerHTML = docLinkHtml;\n",
              "          element.appendChild(docLink);\n",
              "        }\n",
              "      </script>\n",
              "    </div>\n",
              "  </div>\n",
              "  "
            ]
          },
          "metadata": {},
          "execution_count": 31
        }
      ]
    },
    {
      "cell_type": "code",
      "source": [
        "df.to_csv(\"shufflled_skills.csv\") "
      ],
      "metadata": {
        "id": "AsgusXuaSKbK"
      },
      "execution_count": null,
      "outputs": []
    },
    {
      "cell_type": "code",
      "source": [],
      "metadata": {
        "id": "9txn5_3WVLW3"
      },
      "execution_count": null,
      "outputs": []
    },
    {
      "cell_type": "code",
      "execution_count": null,
      "metadata": {
        "colab": {
          "base_uri": "https://localhost:8080/"
        },
        "id": "GXaorKm1aCma",
        "outputId": "8e23685f-da91-49d6-bf46-4689ca5650d4"
      },
      "outputs": [
        {
          "output_type": "execute_result",
          "data": {
            "text/plain": [
              "0      Boosting, Investigative, Dimensionality reduct...\n",
              "1      Forecasting, Classification, Encoding, Feature...\n",
              "2      Xampp, Marketing, Engineering, Python, Pycharm...\n",
              "3      Retail, Engineering, Python, Financial reports...\n",
              "4                                      Database, Science\n",
              "                             ...                        \n",
              "957    Computer skills, Excel, Engineering, Loyalty, ...\n",
              "958    Engineering, Drawings, Company policies, Hardw...\n",
              "959    Engineering, Eagerness, Personal skills, Leade...\n",
              "960    Computer skills, Latex, Matlab, Multisim, Gard...\n",
              "961    Windows xp, Java, Mysql, Maintenance, Reportin...\n",
              "Name: skills, Length: 962, dtype: object"
            ]
          },
          "metadata": {},
          "execution_count": 77
        }
      ],
      "source": [
        "df2.skills"
      ]
    },
    {
      "cell_type": "code",
      "execution_count": null,
      "metadata": {
        "colab": {
          "base_uri": "https://localhost:8080/",
          "height": 165
        },
        "id": "tnuRcHazaex1",
        "outputId": "16863e07-e9fa-4781-d42d-f9fb0ede912f"
      },
      "outputs": [
        {
          "ename": "NameError",
          "evalue": "ignored",
          "output_type": "error",
          "traceback": [
            "\u001b[0;31m---------------------------------------------------------------------------\u001b[0m",
            "\u001b[0;31mNameError\u001b[0m                                 Traceback (most recent call last)",
            "\u001b[0;32m<ipython-input-5-3a41fa1fe218>\u001b[0m in \u001b[0;36m<cell line: 1>\u001b[0;34m()\u001b[0m\n\u001b[0;32m----> 1\u001b[0;31m \u001b[0mtype\u001b[0m\u001b[0;34m(\u001b[0m\u001b[0mdf1\u001b[0m\u001b[0;34m.\u001b[0m\u001b[0mskills\u001b[0m\u001b[0;34m)\u001b[0m\u001b[0;34m\u001b[0m\u001b[0;34m\u001b[0m\u001b[0m\n\u001b[0m",
            "\u001b[0;31mNameError\u001b[0m: name 'df1' is not defined"
          ]
        }
      ],
      "source": [
        "type(df1.skills)"
      ]
    },
    {
      "cell_type": "code",
      "execution_count": null,
      "metadata": {
        "id": "q5d5sDmjvUIg"
      },
      "outputs": [],
      "source": []
    },
    {
      "cell_type": "code",
      "execution_count": null,
      "metadata": {
        "id": "oyq8DhmXvKHs"
      },
      "outputs": [],
      "source": [
        "df2 = pd.DataFrame(df2.skills)"
      ]
    },
    {
      "cell_type": "code",
      "execution_count": null,
      "metadata": {
        "colab": {
          "base_uri": "https://localhost:8080/",
          "height": 206
        },
        "id": "nB3-_2WQx9J5",
        "outputId": "d690e61f-5fc2-42b0-9c4c-ec02327aae93"
      },
      "outputs": [
        {
          "output_type": "execute_result",
          "data": {
            "text/plain": [
              "                                              skills\n",
              "0  Boosting, Investigative, Dimensionality reduct...\n",
              "1  Forecasting, Classification, Encoding, Feature...\n",
              "2  Xampp, Marketing, Engineering, Python, Pycharm...\n",
              "3  Retail, Engineering, Python, Financial reports...\n",
              "4                                  Database, Science"
            ],
            "text/html": [
              "\n",
              "  <div id=\"df-6abf1ce9-92ce-4a6b-abb6-e69d4a899294\">\n",
              "    <div class=\"colab-df-container\">\n",
              "      <div>\n",
              "<style scoped>\n",
              "    .dataframe tbody tr th:only-of-type {\n",
              "        vertical-align: middle;\n",
              "    }\n",
              "\n",
              "    .dataframe tbody tr th {\n",
              "        vertical-align: top;\n",
              "    }\n",
              "\n",
              "    .dataframe thead th {\n",
              "        text-align: right;\n",
              "    }\n",
              "</style>\n",
              "<table border=\"1\" class=\"dataframe\">\n",
              "  <thead>\n",
              "    <tr style=\"text-align: right;\">\n",
              "      <th></th>\n",
              "      <th>skills</th>\n",
              "    </tr>\n",
              "  </thead>\n",
              "  <tbody>\n",
              "    <tr>\n",
              "      <th>0</th>\n",
              "      <td>Boosting, Investigative, Dimensionality reduct...</td>\n",
              "    </tr>\n",
              "    <tr>\n",
              "      <th>1</th>\n",
              "      <td>Forecasting, Classification, Encoding, Feature...</td>\n",
              "    </tr>\n",
              "    <tr>\n",
              "      <th>2</th>\n",
              "      <td>Xampp, Marketing, Engineering, Python, Pycharm...</td>\n",
              "    </tr>\n",
              "    <tr>\n",
              "      <th>3</th>\n",
              "      <td>Retail, Engineering, Python, Financial reports...</td>\n",
              "    </tr>\n",
              "    <tr>\n",
              "      <th>4</th>\n",
              "      <td>Database, Science</td>\n",
              "    </tr>\n",
              "  </tbody>\n",
              "</table>\n",
              "</div>\n",
              "      <button class=\"colab-df-convert\" onclick=\"convertToInteractive('df-6abf1ce9-92ce-4a6b-abb6-e69d4a899294')\"\n",
              "              title=\"Convert this dataframe to an interactive table.\"\n",
              "              style=\"display:none;\">\n",
              "        \n",
              "  <svg xmlns=\"http://www.w3.org/2000/svg\" height=\"24px\"viewBox=\"0 0 24 24\"\n",
              "       width=\"24px\">\n",
              "    <path d=\"M0 0h24v24H0V0z\" fill=\"none\"/>\n",
              "    <path d=\"M18.56 5.44l.94 2.06.94-2.06 2.06-.94-2.06-.94-.94-2.06-.94 2.06-2.06.94zm-11 1L8.5 8.5l.94-2.06 2.06-.94-2.06-.94L8.5 2.5l-.94 2.06-2.06.94zm10 10l.94 2.06.94-2.06 2.06-.94-2.06-.94-.94-2.06-.94 2.06-2.06.94z\"/><path d=\"M17.41 7.96l-1.37-1.37c-.4-.4-.92-.59-1.43-.59-.52 0-1.04.2-1.43.59L10.3 9.45l-7.72 7.72c-.78.78-.78 2.05 0 2.83L4 21.41c.39.39.9.59 1.41.59.51 0 1.02-.2 1.41-.59l7.78-7.78 2.81-2.81c.8-.78.8-2.07 0-2.86zM5.41 20L4 18.59l7.72-7.72 1.47 1.35L5.41 20z\"/>\n",
              "  </svg>\n",
              "      </button>\n",
              "      \n",
              "  <style>\n",
              "    .colab-df-container {\n",
              "      display:flex;\n",
              "      flex-wrap:wrap;\n",
              "      gap: 12px;\n",
              "    }\n",
              "\n",
              "    .colab-df-convert {\n",
              "      background-color: #E8F0FE;\n",
              "      border: none;\n",
              "      border-radius: 50%;\n",
              "      cursor: pointer;\n",
              "      display: none;\n",
              "      fill: #1967D2;\n",
              "      height: 32px;\n",
              "      padding: 0 0 0 0;\n",
              "      width: 32px;\n",
              "    }\n",
              "\n",
              "    .colab-df-convert:hover {\n",
              "      background-color: #E2EBFA;\n",
              "      box-shadow: 0px 1px 2px rgba(60, 64, 67, 0.3), 0px 1px 3px 1px rgba(60, 64, 67, 0.15);\n",
              "      fill: #174EA6;\n",
              "    }\n",
              "\n",
              "    [theme=dark] .colab-df-convert {\n",
              "      background-color: #3B4455;\n",
              "      fill: #D2E3FC;\n",
              "    }\n",
              "\n",
              "    [theme=dark] .colab-df-convert:hover {\n",
              "      background-color: #434B5C;\n",
              "      box-shadow: 0px 1px 3px 1px rgba(0, 0, 0, 0.15);\n",
              "      filter: drop-shadow(0px 1px 2px rgba(0, 0, 0, 0.3));\n",
              "      fill: #FFFFFF;\n",
              "    }\n",
              "  </style>\n",
              "\n",
              "      <script>\n",
              "        const buttonEl =\n",
              "          document.querySelector('#df-6abf1ce9-92ce-4a6b-abb6-e69d4a899294 button.colab-df-convert');\n",
              "        buttonEl.style.display =\n",
              "          google.colab.kernel.accessAllowed ? 'block' : 'none';\n",
              "\n",
              "        async function convertToInteractive(key) {\n",
              "          const element = document.querySelector('#df-6abf1ce9-92ce-4a6b-abb6-e69d4a899294');\n",
              "          const dataTable =\n",
              "            await google.colab.kernel.invokeFunction('convertToInteractive',\n",
              "                                                     [key], {});\n",
              "          if (!dataTable) return;\n",
              "\n",
              "          const docLinkHtml = 'Like what you see? Visit the ' +\n",
              "            '<a target=\"_blank\" href=https://colab.research.google.com/notebooks/data_table.ipynb>data table notebook</a>'\n",
              "            + ' to learn more about interactive tables.';\n",
              "          element.innerHTML = '';\n",
              "          dataTable['output_type'] = 'display_data';\n",
              "          await google.colab.output.renderOutput(dataTable, element);\n",
              "          const docLink = document.createElement('div');\n",
              "          docLink.innerHTML = docLinkHtml;\n",
              "          element.appendChild(docLink);\n",
              "        }\n",
              "      </script>\n",
              "    </div>\n",
              "  </div>\n",
              "  "
            ]
          },
          "metadata": {},
          "execution_count": 79
        }
      ],
      "source": [
        "df2.head()"
      ]
    },
    {
      "cell_type": "code",
      "execution_count": null,
      "metadata": {
        "colab": {
          "base_uri": "https://localhost:8080/"
        },
        "id": "P-px1VzqTXXS",
        "outputId": "bf30865d-9b01-403a-a6e2-93d302502c65"
      },
      "outputs": [
        {
          "data": {
            "text/plain": [
              "pandas.core.series.Series"
            ]
          },
          "execution_count": 9,
          "metadata": {},
          "output_type": "execute_result"
        }
      ],
      "source": [
        "type(df2.skills)"
      ]
    },
    {
      "cell_type": "code",
      "execution_count": null,
      "metadata": {
        "id": "Msdy0CTETa8A"
      },
      "outputs": [],
      "source": [
        "df2.skills = df2.skills.astype(str)"
      ]
    },
    {
      "cell_type": "code",
      "source": [
        "import pandas as pd"
      ],
      "metadata": {
        "id": "EHshwtzf1Rzr"
      },
      "execution_count": null,
      "outputs": []
    },
    {
      "cell_type": "code",
      "source": [
        "df2 = pd.read_csv(\"skills_new1.csv\")"
      ],
      "metadata": {
        "id": "ubh0W6r_0hvK"
      },
      "execution_count": null,
      "outputs": []
    },
    {
      "cell_type": "code",
      "source": [
        "df2.head()"
      ],
      "metadata": {
        "colab": {
          "base_uri": "https://localhost:8080/",
          "height": 206
        },
        "id": "oZaBQR42Y056",
        "outputId": "dd1d0286-a0e1-498c-d2bb-5d4c13323c90"
      },
      "execution_count": null,
      "outputs": [
        {
          "output_type": "execute_result",
          "data": {
            "text/plain": [
              "                                                   0\n",
              "0  Boosting,  Investigative,  Dimensionality redu...\n",
              "1  Forecasting,  Classification,  Encoding,  Feat...\n",
              "2  Xampp,  Marketing,  Engineering,  Python,  Pyc...\n",
              "3  Retail,  Engineering,  Python,  Financial repo...\n",
              "4                                 Database,  Science"
            ],
            "text/html": [
              "\n",
              "  <div id=\"df-f71f4e16-ce1f-45ee-a7c5-574b6e3ea165\">\n",
              "    <div class=\"colab-df-container\">\n",
              "      <div>\n",
              "<style scoped>\n",
              "    .dataframe tbody tr th:only-of-type {\n",
              "        vertical-align: middle;\n",
              "    }\n",
              "\n",
              "    .dataframe tbody tr th {\n",
              "        vertical-align: top;\n",
              "    }\n",
              "\n",
              "    .dataframe thead th {\n",
              "        text-align: right;\n",
              "    }\n",
              "</style>\n",
              "<table border=\"1\" class=\"dataframe\">\n",
              "  <thead>\n",
              "    <tr style=\"text-align: right;\">\n",
              "      <th></th>\n",
              "      <th>0</th>\n",
              "    </tr>\n",
              "  </thead>\n",
              "  <tbody>\n",
              "    <tr>\n",
              "      <th>0</th>\n",
              "      <td>Boosting,  Investigative,  Dimensionality redu...</td>\n",
              "    </tr>\n",
              "    <tr>\n",
              "      <th>1</th>\n",
              "      <td>Forecasting,  Classification,  Encoding,  Feat...</td>\n",
              "    </tr>\n",
              "    <tr>\n",
              "      <th>2</th>\n",
              "      <td>Xampp,  Marketing,  Engineering,  Python,  Pyc...</td>\n",
              "    </tr>\n",
              "    <tr>\n",
              "      <th>3</th>\n",
              "      <td>Retail,  Engineering,  Python,  Financial repo...</td>\n",
              "    </tr>\n",
              "    <tr>\n",
              "      <th>4</th>\n",
              "      <td>Database,  Science</td>\n",
              "    </tr>\n",
              "  </tbody>\n",
              "</table>\n",
              "</div>\n",
              "      <button class=\"colab-df-convert\" onclick=\"convertToInteractive('df-f71f4e16-ce1f-45ee-a7c5-574b6e3ea165')\"\n",
              "              title=\"Convert this dataframe to an interactive table.\"\n",
              "              style=\"display:none;\">\n",
              "        \n",
              "  <svg xmlns=\"http://www.w3.org/2000/svg\" height=\"24px\"viewBox=\"0 0 24 24\"\n",
              "       width=\"24px\">\n",
              "    <path d=\"M0 0h24v24H0V0z\" fill=\"none\"/>\n",
              "    <path d=\"M18.56 5.44l.94 2.06.94-2.06 2.06-.94-2.06-.94-.94-2.06-.94 2.06-2.06.94zm-11 1L8.5 8.5l.94-2.06 2.06-.94-2.06-.94L8.5 2.5l-.94 2.06-2.06.94zm10 10l.94 2.06.94-2.06 2.06-.94-2.06-.94-.94-2.06-.94 2.06-2.06.94z\"/><path d=\"M17.41 7.96l-1.37-1.37c-.4-.4-.92-.59-1.43-.59-.52 0-1.04.2-1.43.59L10.3 9.45l-7.72 7.72c-.78.78-.78 2.05 0 2.83L4 21.41c.39.39.9.59 1.41.59.51 0 1.02-.2 1.41-.59l7.78-7.78 2.81-2.81c.8-.78.8-2.07 0-2.86zM5.41 20L4 18.59l7.72-7.72 1.47 1.35L5.41 20z\"/>\n",
              "  </svg>\n",
              "      </button>\n",
              "      \n",
              "  <style>\n",
              "    .colab-df-container {\n",
              "      display:flex;\n",
              "      flex-wrap:wrap;\n",
              "      gap: 12px;\n",
              "    }\n",
              "\n",
              "    .colab-df-convert {\n",
              "      background-color: #E8F0FE;\n",
              "      border: none;\n",
              "      border-radius: 50%;\n",
              "      cursor: pointer;\n",
              "      display: none;\n",
              "      fill: #1967D2;\n",
              "      height: 32px;\n",
              "      padding: 0 0 0 0;\n",
              "      width: 32px;\n",
              "    }\n",
              "\n",
              "    .colab-df-convert:hover {\n",
              "      background-color: #E2EBFA;\n",
              "      box-shadow: 0px 1px 2px rgba(60, 64, 67, 0.3), 0px 1px 3px 1px rgba(60, 64, 67, 0.15);\n",
              "      fill: #174EA6;\n",
              "    }\n",
              "\n",
              "    [theme=dark] .colab-df-convert {\n",
              "      background-color: #3B4455;\n",
              "      fill: #D2E3FC;\n",
              "    }\n",
              "\n",
              "    [theme=dark] .colab-df-convert:hover {\n",
              "      background-color: #434B5C;\n",
              "      box-shadow: 0px 1px 3px 1px rgba(0, 0, 0, 0.15);\n",
              "      filter: drop-shadow(0px 1px 2px rgba(0, 0, 0, 0.3));\n",
              "      fill: #FFFFFF;\n",
              "    }\n",
              "  </style>\n",
              "\n",
              "      <script>\n",
              "        const buttonEl =\n",
              "          document.querySelector('#df-f71f4e16-ce1f-45ee-a7c5-574b6e3ea165 button.colab-df-convert');\n",
              "        buttonEl.style.display =\n",
              "          google.colab.kernel.accessAllowed ? 'block' : 'none';\n",
              "\n",
              "        async function convertToInteractive(key) {\n",
              "          const element = document.querySelector('#df-f71f4e16-ce1f-45ee-a7c5-574b6e3ea165');\n",
              "          const dataTable =\n",
              "            await google.colab.kernel.invokeFunction('convertToInteractive',\n",
              "                                                     [key], {});\n",
              "          if (!dataTable) return;\n",
              "\n",
              "          const docLinkHtml = 'Like what you see? Visit the ' +\n",
              "            '<a target=\"_blank\" href=https://colab.research.google.com/notebooks/data_table.ipynb>data table notebook</a>'\n",
              "            + ' to learn more about interactive tables.';\n",
              "          element.innerHTML = '';\n",
              "          dataTable['output_type'] = 'display_data';\n",
              "          await google.colab.output.renderOutput(dataTable, element);\n",
              "          const docLink = document.createElement('div');\n",
              "          docLink.innerHTML = docLinkHtml;\n",
              "          element.appendChild(docLink);\n",
              "        }\n",
              "      </script>\n",
              "    </div>\n",
              "  </div>\n",
              "  "
            ]
          },
          "metadata": {},
          "execution_count": 4
        }
      ]
    },
    {
      "cell_type": "code",
      "source": [
        "df2.skills = df2.skills.str.lower()"
      ],
      "metadata": {
        "id": "QL4y1Jbc2MUb"
      },
      "execution_count": null,
      "outputs": []
    },
    {
      "cell_type": "code",
      "source": [
        "df2.skills = df2.skills.astype(str)"
      ],
      "metadata": {
        "id": "q-kVixCs2Snn"
      },
      "execution_count": null,
      "outputs": []
    },
    {
      "cell_type": "code",
      "source": [
        "df2.rename(columns= { '0' : 'skills'}, inplace = True)"
      ],
      "metadata": {
        "id": "B1aXtDHn1hKT"
      },
      "execution_count": null,
      "outputs": []
    },
    {
      "cell_type": "code",
      "source": [
        "df2.head()"
      ],
      "metadata": {
        "colab": {
          "base_uri": "https://localhost:8080/",
          "height": 206
        },
        "id": "AucBUG961aJd",
        "outputId": "4deb1aa5-1f01-4012-ec17-2da363618187"
      },
      "execution_count": null,
      "outputs": [
        {
          "output_type": "execute_result",
          "data": {
            "text/plain": [
              "                                              skills\n",
              "0  Boosting,  Investigative,  Dimensionality redu...\n",
              "1  Forecasting,  Classification,  Encoding,  Feat...\n",
              "2  Xampp,  Marketing,  Engineering,  Python,  Pyc...\n",
              "3  Retail,  Engineering,  Python,  Financial repo...\n",
              "4                                 Database,  Science"
            ],
            "text/html": [
              "\n",
              "  <div id=\"df-41358346-ad59-4495-a82b-7df8e5e73416\">\n",
              "    <div class=\"colab-df-container\">\n",
              "      <div>\n",
              "<style scoped>\n",
              "    .dataframe tbody tr th:only-of-type {\n",
              "        vertical-align: middle;\n",
              "    }\n",
              "\n",
              "    .dataframe tbody tr th {\n",
              "        vertical-align: top;\n",
              "    }\n",
              "\n",
              "    .dataframe thead th {\n",
              "        text-align: right;\n",
              "    }\n",
              "</style>\n",
              "<table border=\"1\" class=\"dataframe\">\n",
              "  <thead>\n",
              "    <tr style=\"text-align: right;\">\n",
              "      <th></th>\n",
              "      <th>skills</th>\n",
              "    </tr>\n",
              "  </thead>\n",
              "  <tbody>\n",
              "    <tr>\n",
              "      <th>0</th>\n",
              "      <td>Boosting,  Investigative,  Dimensionality redu...</td>\n",
              "    </tr>\n",
              "    <tr>\n",
              "      <th>1</th>\n",
              "      <td>Forecasting,  Classification,  Encoding,  Feat...</td>\n",
              "    </tr>\n",
              "    <tr>\n",
              "      <th>2</th>\n",
              "      <td>Xampp,  Marketing,  Engineering,  Python,  Pyc...</td>\n",
              "    </tr>\n",
              "    <tr>\n",
              "      <th>3</th>\n",
              "      <td>Retail,  Engineering,  Python,  Financial repo...</td>\n",
              "    </tr>\n",
              "    <tr>\n",
              "      <th>4</th>\n",
              "      <td>Database,  Science</td>\n",
              "    </tr>\n",
              "  </tbody>\n",
              "</table>\n",
              "</div>\n",
              "      <button class=\"colab-df-convert\" onclick=\"convertToInteractive('df-41358346-ad59-4495-a82b-7df8e5e73416')\"\n",
              "              title=\"Convert this dataframe to an interactive table.\"\n",
              "              style=\"display:none;\">\n",
              "        \n",
              "  <svg xmlns=\"http://www.w3.org/2000/svg\" height=\"24px\"viewBox=\"0 0 24 24\"\n",
              "       width=\"24px\">\n",
              "    <path d=\"M0 0h24v24H0V0z\" fill=\"none\"/>\n",
              "    <path d=\"M18.56 5.44l.94 2.06.94-2.06 2.06-.94-2.06-.94-.94-2.06-.94 2.06-2.06.94zm-11 1L8.5 8.5l.94-2.06 2.06-.94-2.06-.94L8.5 2.5l-.94 2.06-2.06.94zm10 10l.94 2.06.94-2.06 2.06-.94-2.06-.94-.94-2.06-.94 2.06-2.06.94z\"/><path d=\"M17.41 7.96l-1.37-1.37c-.4-.4-.92-.59-1.43-.59-.52 0-1.04.2-1.43.59L10.3 9.45l-7.72 7.72c-.78.78-.78 2.05 0 2.83L4 21.41c.39.39.9.59 1.41.59.51 0 1.02-.2 1.41-.59l7.78-7.78 2.81-2.81c.8-.78.8-2.07 0-2.86zM5.41 20L4 18.59l7.72-7.72 1.47 1.35L5.41 20z\"/>\n",
              "  </svg>\n",
              "      </button>\n",
              "      \n",
              "  <style>\n",
              "    .colab-df-container {\n",
              "      display:flex;\n",
              "      flex-wrap:wrap;\n",
              "      gap: 12px;\n",
              "    }\n",
              "\n",
              "    .colab-df-convert {\n",
              "      background-color: #E8F0FE;\n",
              "      border: none;\n",
              "      border-radius: 50%;\n",
              "      cursor: pointer;\n",
              "      display: none;\n",
              "      fill: #1967D2;\n",
              "      height: 32px;\n",
              "      padding: 0 0 0 0;\n",
              "      width: 32px;\n",
              "    }\n",
              "\n",
              "    .colab-df-convert:hover {\n",
              "      background-color: #E2EBFA;\n",
              "      box-shadow: 0px 1px 2px rgba(60, 64, 67, 0.3), 0px 1px 3px 1px rgba(60, 64, 67, 0.15);\n",
              "      fill: #174EA6;\n",
              "    }\n",
              "\n",
              "    [theme=dark] .colab-df-convert {\n",
              "      background-color: #3B4455;\n",
              "      fill: #D2E3FC;\n",
              "    }\n",
              "\n",
              "    [theme=dark] .colab-df-convert:hover {\n",
              "      background-color: #434B5C;\n",
              "      box-shadow: 0px 1px 3px 1px rgba(0, 0, 0, 0.15);\n",
              "      filter: drop-shadow(0px 1px 2px rgba(0, 0, 0, 0.3));\n",
              "      fill: #FFFFFF;\n",
              "    }\n",
              "  </style>\n",
              "\n",
              "      <script>\n",
              "        const buttonEl =\n",
              "          document.querySelector('#df-41358346-ad59-4495-a82b-7df8e5e73416 button.colab-df-convert');\n",
              "        buttonEl.style.display =\n",
              "          google.colab.kernel.accessAllowed ? 'block' : 'none';\n",
              "\n",
              "        async function convertToInteractive(key) {\n",
              "          const element = document.querySelector('#df-41358346-ad59-4495-a82b-7df8e5e73416');\n",
              "          const dataTable =\n",
              "            await google.colab.kernel.invokeFunction('convertToInteractive',\n",
              "                                                     [key], {});\n",
              "          if (!dataTable) return;\n",
              "\n",
              "          const docLinkHtml = 'Like what you see? Visit the ' +\n",
              "            '<a target=\"_blank\" href=https://colab.research.google.com/notebooks/data_table.ipynb>data table notebook</a>'\n",
              "            + ' to learn more about interactive tables.';\n",
              "          element.innerHTML = '';\n",
              "          dataTable['output_type'] = 'display_data';\n",
              "          await google.colab.output.renderOutput(dataTable, element);\n",
              "          const docLink = document.createElement('div');\n",
              "          docLink.innerHTML = docLinkHtml;\n",
              "          element.appendChild(docLink);\n",
              "        }\n",
              "      </script>\n",
              "    </div>\n",
              "  </div>\n",
              "  "
            ]
          },
          "metadata": {},
          "execution_count": 8
        }
      ]
    },
    {
      "cell_type": "code",
      "execution_count": null,
      "metadata": {
        "id": "Iz9zefdWyAHf"
      },
      "outputs": [],
      "source": [
        "from sklearn.model_selection import train_test_split\n",
        "\n",
        "train_texts, test_texts= train_test_split(\n",
        "   df2[\"skills\"].tolist(), test_size=0.3, random_state=42\n",
        ")\n"
      ]
    },
    {
      "cell_type": "code",
      "execution_count": null,
      "metadata": {
        "colab": {
          "base_uri": "https://localhost:8080/"
        },
        "id": "ZyEwLxXeR3_V",
        "outputId": "0a2dd732-1257-4f8a-e1e3-f48e12769e8b"
      },
      "outputs": [
        {
          "output_type": "execute_result",
          "data": {
            "text/plain": [
              "['java,  c++,  user requirement,  excel,  ajax,  programming,  jdbc,  jquery,  j2ee,  java script',\n",
              " 'banking,  spoc,  network,  mis,  communication,  effectiveness,  leadership,  detailing,  interpersonal skills,  client requirements',\n",
              " ' web based application,  functional testing,  smoke testing,  apache poi,  testng,  testing,  integration testing,  analysis,  system testing,  reliability,  black box testing,  operational analysis,  jdbc,  jsp,  defect tracking,  exploratory testing,  traceability matrix,  training,  recruitment process,  test cases,  grid,  selenium,  ide,  communication,  white box testing,  development,  sdlc,  black,  stlc,  critical thinking,  usability,  compatibility testing,  automation,  new technologies',\n",
              " 'decommissioning,  datapump,  sccm,  databases,  data center migration,  scom,  database management,  rman,  itil,  cloning',\n",
              " 'python,  communication,  software development life cycle,  coding,  mysql,  sdlc,  debugging,  sow,  maintenance,  java',\n",
              " ' linux,  enthusiastic,  sonarqube,  embedded,  ide,  sql,  engineering,  java,  core java,  windows,  design',\n",
              " ' cloudformation,  administration support,  aix,  database,  linux servers,  puppet,  linux,  maintenance,  appdynamics,  spotfire,  oracle database,  template,  operations,  elastic,  unix,  shell scripts,  dynamo db,  azure cloud,  server,  development,  mysql,  testing,  production deployment,  html,  analysis,  insurance,  administration,  filenet,  queries,  shell scripting,  oracle,  deployment,  tsys,  vdi,  application support,  replication,  troubleshooting,  engineering,  production servers,  telecommunications,  planning,  automation,  aws,  database backup,  ec2',\n",
              " ' billing,  metadata,  purchase,  user requirements,  sales,  teradata db,  investigation,  webi,  performed unit testing,  design,  testing,  precise,  business objects,  sap,  teradata,  cmc,  visualization,  reporting,  audience,  sales reports,  analytics,  requirement gathering,  bar chart,  implementation,  patterns,  developing,  hpsm,  decommissioning,  documentation,  presentation,  development,  credit,  change request,  ticketing,  analyzing',\n",
              " 'automation,  outlook,  computer proficiency,  networking,  android application,  patterns,  testing,  linux,  java,  android',\n",
              " ' conveyor,  supervision,  leader,  mechanical,  hydraulic system,  autocad,  actuator,  printing']"
            ]
          },
          "metadata": {},
          "execution_count": 12
        }
      ],
      "source": [
        "train_texts[0:10]"
      ]
    },
    {
      "cell_type": "code",
      "source": [
        "#"
      ],
      "metadata": {
        "id": "zT5ndTOn19Fa"
      },
      "execution_count": null,
      "outputs": []
    },
    {
      "cell_type": "code",
      "execution_count": null,
      "metadata": {
        "colab": {
          "base_uri": "https://localhost:8080/",
          "height": 217,
          "referenced_widgets": [
            "b5fff10776094fd493f73dbfe355daf7",
            "0c8686c91e2d488a940296a707917e3e",
            "33408dfd72bb41a0a185d52a4c62386f",
            "7ccd639f692a4c0f89747310f2997b97",
            "b8c781b903be448bae6d715a3811c855",
            "208fe24eb3fb4706a5a50f3d80c3b9c5",
            "074d5aabc6634b0fbd4c33540b945c72",
            "0390245550cd46fd9ef3de55d2365610",
            "54fa783c1e914c4287a81cb169dc8a9d",
            "4ad57e7051d74bd19779463e7b495576",
            "1998f9d3e7b0449e8650a178d1cd43f0",
            "74b795b785ff40cca1609a2943b2e3cb",
            "f71589ff028e4021aafd2798540eee8b",
            "bc5282b31c07420dad5a5ec8280a0693",
            "0297020c59944909ba42d197694c3a0e",
            "14b487e8cf6748048f63f09f4317a395",
            "7848580796b946719df8c28d0243edf2",
            "74fd6dd9761d46b3af8bb0d38c5712d8",
            "caf548bc8346495db638397d5027a806",
            "31fda7474dbf4065ba5a79f0113076fb",
            "40a8ba82707f4909ba1a80fd00afedbd",
            "0657b0cdbed545f885f489a866ef192e",
            "91b1d43a82484dd9bbebdfec90fe1439",
            "261b9491d8a24d34b495111b772066e2",
            "8141d2aa1bea42649073327c1433434b",
            "d7f356962e93459ea2b6280206f71da5",
            "ddb6c4e81902483cb176332db40608d9",
            "cec7578698114524b040ed2c74c24852",
            "65ff692181024c0e82b51e0f5e06763f",
            "5b99baeef71143acb19168cc6b194d00",
            "bb0ab40b26734256ad607d1f6980b481",
            "1c44f61f1c254833a03d23b851521472",
            "857a0b6f7b544701945781ce7b9c3f45",
            "b7b4f53e5c2d429eb1203824a3a30806",
            "894225ee6062457ca91523acf7d399b3",
            "81136758de76470c8348e482bf98ff34",
            "686f546c4b384b22bae8090a44dd86d3",
            "dfa3cc9d9c5a492dabd130ee90d4b536",
            "ad748d60c06e45f2865a066aea6ae43b",
            "5b4fdf08bf8649878285efaf226bfe2b",
            "ad284da6634b4c0b9b5539bfaa98260f",
            "e401f1c096fa4dbb8f9c1ee639e57675",
            "a36ef39957ad45be85a5da72c8d78226",
            "b0ac673a44c247bca4c619273aff5a75"
          ]
        },
        "id": "3h9lKyTpVOdC",
        "outputId": "c4091ea7-20eb-4fce-ddf7-0969a485a025"
      },
      "outputs": [
        {
          "output_type": "display_data",
          "data": {
            "text/plain": [
              "Downloading (…)solve/main/vocab.txt:   0%|          | 0.00/232k [00:00<?, ?B/s]"
            ],
            "application/vnd.jupyter.widget-view+json": {
              "version_major": 2,
              "version_minor": 0,
              "model_id": "b5fff10776094fd493f73dbfe355daf7"
            }
          },
          "metadata": {}
        },
        {
          "output_type": "display_data",
          "data": {
            "text/plain": [
              "Downloading (…)okenizer_config.json:   0%|          | 0.00/28.0 [00:00<?, ?B/s]"
            ],
            "application/vnd.jupyter.widget-view+json": {
              "version_major": 2,
              "version_minor": 0,
              "model_id": "74b795b785ff40cca1609a2943b2e3cb"
            }
          },
          "metadata": {}
        },
        {
          "output_type": "display_data",
          "data": {
            "text/plain": [
              "Downloading (…)lve/main/config.json:   0%|          | 0.00/570 [00:00<?, ?B/s]"
            ],
            "application/vnd.jupyter.widget-view+json": {
              "version_major": 2,
              "version_minor": 0,
              "model_id": "91b1d43a82484dd9bbebdfec90fe1439"
            }
          },
          "metadata": {}
        },
        {
          "output_type": "display_data",
          "data": {
            "text/plain": [
              "Downloading pytorch_model.bin:   0%|          | 0.00/440M [00:00<?, ?B/s]"
            ],
            "application/vnd.jupyter.widget-view+json": {
              "version_major": 2,
              "version_minor": 0,
              "model_id": "b7b4f53e5c2d429eb1203824a3a30806"
            }
          },
          "metadata": {}
        },
        {
          "output_type": "stream",
          "name": "stderr",
          "text": [
            "Some weights of the model checkpoint at bert-base-uncased were not used when initializing BertForMaskedLM: ['cls.seq_relationship.bias', 'cls.seq_relationship.weight']\n",
            "- This IS expected if you are initializing BertForMaskedLM from the checkpoint of a model trained on another task or with another architecture (e.g. initializing a BertForSequenceClassification model from a BertForPreTraining model).\n",
            "- This IS NOT expected if you are initializing BertForMaskedLM from the checkpoint of a model that you expect to be exactly identical (initializing a BertForSequenceClassification model from a BertForSequenceClassification model).\n"
          ]
        }
      ],
      "source": [
        "from transformers import BertTokenizer, BertForMaskedLM,AutoTokenizer\n",
        "import torch\n",
        "tokenizer = BertTokenizer.from_pretrained('bert-base-uncased',do_basic_tokenize=True)\n",
        "\n",
        "model = BertForMaskedLM.from_pretrained('bert-base-uncased')"
      ]
    },
    {
      "cell_type": "code",
      "execution_count": null,
      "metadata": {
        "id": "iKdg5kuZWEm1"
      },
      "outputs": [],
      "source": [
        "inputs = tokenizer(train_texts, return_tensors='pt', max_length=512, truncation=True, padding = True)"
      ]
    },
    {
      "cell_type": "code",
      "execution_count": null,
      "metadata": {
        "id": "4i1QKcCFcp33"
      },
      "outputs": [],
      "source": [
        "inputs['labels'] = inputs.input_ids.detach().clone()"
      ]
    },
    {
      "cell_type": "code",
      "execution_count": null,
      "metadata": {
        "id": "848fWQjrcwhz"
      },
      "outputs": [],
      "source": [
        "# create random array of floats with equal dimensions to input_ids tensor\n",
        "rand = torch.rand(inputs.input_ids.shape)\n",
        "# create mask array\n",
        "mask_arr = (rand < 0.15) * (inputs.input_ids != 101) * \\\n",
        "           (inputs.input_ids != 102) * (inputs.input_ids != 0)"
      ]
    },
    {
      "cell_type": "code",
      "source": [
        "rand"
      ],
      "metadata": {
        "colab": {
          "base_uri": "https://localhost:8080/"
        },
        "id": "0gKXscv18yqI",
        "outputId": "7096581d-41f3-413c-a1e0-68796d7fee10"
      },
      "execution_count": null,
      "outputs": [
        {
          "output_type": "execute_result",
          "data": {
            "text/plain": [
              "tensor([[0.8611, 0.8151, 0.2576,  ..., 0.4613, 0.0752, 0.7833],\n",
              "        [0.8083, 0.4546, 0.7740,  ..., 0.3218, 0.3470, 0.5941],\n",
              "        [0.7509, 0.9393, 0.3028,  ..., 0.5377, 0.4246, 0.3083],\n",
              "        ...,\n",
              "        [0.7362, 0.2006, 0.3785,  ..., 0.4770, 0.6294, 0.5925],\n",
              "        [0.8771, 0.1036, 0.6766,  ..., 0.1232, 0.1733, 0.5198],\n",
              "        [0.3306, 0.7541, 0.7281,  ..., 0.5604, 0.9814, 0.0537]])"
            ]
          },
          "metadata": {},
          "execution_count": 19
        }
      ]
    },
    {
      "cell_type": "code",
      "execution_count": null,
      "metadata": {
        "colab": {
          "base_uri": "https://localhost:8080/"
        },
        "id": "wTrXtVk5c8rO",
        "outputId": "da80362d-4274-4d53-d2c7-bb34b1a7b017"
      },
      "outputs": [
        {
          "output_type": "execute_result",
          "data": {
            "text/plain": [
              "tensor([[False, False, False,  ..., False, False, False],\n",
              "        [False, False, False,  ..., False, False, False],\n",
              "        [False, False, False,  ..., False, False, False],\n",
              "        ...,\n",
              "        [False, False, False,  ..., False, False, False],\n",
              "        [False,  True, False,  ..., False, False, False],\n",
              "        [False, False, False,  ..., False, False, False]])"
            ]
          },
          "metadata": {},
          "execution_count": 20
        }
      ],
      "source": [
        "mask_arr"
      ]
    },
    {
      "cell_type": "code",
      "execution_count": null,
      "metadata": {
        "id": "KnEKbO6Bc_ap"
      },
      "outputs": [],
      "source": [
        "#And now we take take the indices of each True value, within each individual vector.\n",
        "selection = []\n",
        "\n",
        "for i in range(inputs.input_ids.shape[0]):\n",
        "    selection.append(\n",
        "        torch.flatten(mask_arr[i].nonzero()).tolist()\n",
        "    )"
      ]
    },
    {
      "cell_type": "code",
      "execution_count": null,
      "metadata": {
        "colab": {
          "base_uri": "https://localhost:8080/"
        },
        "id": "8UCZHu-GdLPh",
        "outputId": "10ceb1cb-4e9d-425f-8f24-9d5e4090f94f"
      },
      "outputs": [
        {
          "output_type": "execute_result",
          "data": {
            "text/plain": [
              "[[9, 16, 26, 28],\n",
              " [5, 7, 9, 10, 15],\n",
              " [4, 14, 26, 36, 45, 46, 55, 61, 71, 77, 81, 90, 95, 98, 100],\n",
              " [6, 15],\n",
              " [4, 26, 28, 29]]"
            ]
          },
          "metadata": {},
          "execution_count": 22
        }
      ],
      "source": [
        "selection[:5]"
      ]
    },
    {
      "cell_type": "code",
      "execution_count": null,
      "metadata": {
        "id": "kzXcOMgLdkb7"
      },
      "outputs": [],
      "source": [
        "for i in range(inputs.input_ids.shape[0]):\n",
        "    inputs.input_ids[i, selection[i]] = 103"
      ]
    },
    {
      "cell_type": "code",
      "execution_count": null,
      "metadata": {
        "colab": {
          "base_uri": "https://localhost:8080/"
        },
        "id": "TsWdhecHdmac",
        "outputId": "17617c96-00bc-4420-88d9-032f69b4e734"
      },
      "outputs": [
        {
          "output_type": "execute_result",
          "data": {
            "text/plain": [
              "tensor([[  101,  9262,  1010,  ...,     0,     0,     0],\n",
              "        [  101,  8169,  1010,  ...,     0,     0,     0],\n",
              "        [  101,  4773,  2241,  ...,     0,     0,     0],\n",
              "        ...,\n",
              "        [  101, 25640,  1010,  ...,     0,     0,     0],\n",
              "        [  101, 19309,  1010,  ...,     0,     0,     0],\n",
              "        [  101, 16636,  2953,  ...,     0,     0,     0]])"
            ]
          },
          "metadata": {},
          "execution_count": 24
        }
      ],
      "source": [
        "inputs.input_ids[0:10]"
      ]
    },
    {
      "cell_type": "code",
      "source": [
        "input_id_list = inputs.input_ids[0:10].tolist()\n",
        "labels_list =inputs.labels[0:10].tolist()"
      ],
      "metadata": {
        "id": "XeIGqc-phE5I"
      },
      "execution_count": null,
      "outputs": []
    },
    {
      "cell_type": "code",
      "source": [
        "decoded_texts_input_id = []\n",
        "for input_ids in input_id_list:\n",
        "    decoded_text = tokenizer.decode(input_ids, skip_special_tokens=False)\n",
        "    decoded_texts_input_id.append(decoded_text)\n",
        "\n",
        "# Print the decoded texts\n",
        "decoded_texts_input_id"
      ],
      "metadata": {
        "colab": {
          "base_uri": "https://localhost:8080/"
        },
        "id": "c2VR6HxQhTNi",
        "outputId": "b2153095-1d70-4e15-d4c5-24876a080697"
      },
      "execution_count": null,
      "outputs": [
        {
          "output_type": "execute_result",
          "data": {
            "text/plain": [
              "['[CLS] java, c + +, user requirement [MASK] excel, ajax, programming, [MASK]bc, jquery, j2ee [MASK] java [MASK] [SEP] [PAD] [PAD] [PAD] [PAD] [PAD] [PAD] [PAD] [PAD] [PAD] [PAD] [PAD] [PAD] [PAD] [PAD] [PAD] [PAD] [PAD] [PAD] [PAD] [PAD] [PAD] [PAD] [PAD] [PAD] [PAD] [PAD] [PAD] [PAD] [PAD] [PAD] [PAD] [PAD] [PAD] [PAD] [PAD] [PAD] [PAD] [PAD] [PAD] [PAD] [PAD] [PAD] [PAD] [PAD] [PAD] [PAD] [PAD] [PAD] [PAD] [PAD] [PAD] [PAD] [PAD] [PAD] [PAD] [PAD] [PAD] [PAD] [PAD] [PAD] [PAD] [PAD] [PAD] [PAD] [PAD] [PAD] [PAD] [PAD] [PAD] [PAD] [PAD] [PAD] [PAD] [PAD] [PAD] [PAD] [PAD] [PAD] [PAD] [PAD] [PAD] [PAD] [PAD] [PAD] [PAD] [PAD] [PAD] [PAD] [PAD] [PAD] [PAD] [PAD] [PAD] [PAD] [PAD] [PAD] [PAD] [PAD] [PAD] [PAD] [PAD] [PAD] [PAD] [PAD] [PAD] [PAD] [PAD] [PAD] [PAD] [PAD] [PAD] [PAD] [PAD] [PAD] [PAD] [PAD] [PAD] [PAD] [PAD] [PAD] [PAD] [PAD] [PAD] [PAD] [PAD] [PAD] [PAD] [PAD] [PAD] [PAD] [PAD] [PAD] [PAD] [PAD] [PAD] [PAD] [PAD] [PAD] [PAD] [PAD] [PAD] [PAD] [PAD] [PAD] [PAD] [PAD] [PAD] [PAD] [PAD] [PAD] [PAD] [PAD] [PAD] [PAD] [PAD] [PAD] [PAD] [PAD] [PAD] [PAD] [PAD] [PAD] [PAD] [PAD] [PAD] [PAD] [PAD] [PAD] [PAD] [PAD] [PAD] [PAD] [PAD] [PAD] [PAD] [PAD] [PAD] [PAD] [PAD] [PAD] [PAD] [PAD] [PAD] [PAD] [PAD] [PAD] [PAD] [PAD] [PAD] [PAD] [PAD] [PAD] [PAD] [PAD] [PAD] [PAD] [PAD] [PAD] [PAD] [PAD] [PAD] [PAD] [PAD] [PAD] [PAD] [PAD] [PAD] [PAD] [PAD] [PAD] [PAD] [PAD] [PAD] [PAD] [PAD] [PAD] [PAD] [PAD] [PAD] [PAD] [PAD] [PAD] [PAD] [PAD] [PAD] [PAD] [PAD] [PAD] [PAD] [PAD] [PAD] [PAD] [PAD] [PAD] [PAD] [PAD] [PAD] [PAD] [PAD] [PAD] [PAD] [PAD] [PAD] [PAD] [PAD] [PAD] [PAD] [PAD] [PAD] [PAD] [PAD] [PAD] [PAD] [PAD] [PAD] [PAD] [PAD] [PAD] [PAD] [PAD] [PAD] [PAD] [PAD] [PAD] [PAD] [PAD] [PAD] [PAD] [PAD] [PAD] [PAD] [PAD] [PAD] [PAD] [PAD] [PAD] [PAD] [PAD] [PAD] [PAD] [PAD] [PAD] [PAD] [PAD] [PAD] [PAD] [PAD] [PAD] [PAD] [PAD] [PAD] [PAD] [PAD] [PAD] [PAD] [PAD] [PAD] [PAD] [PAD] [PAD] [PAD] [PAD]',\n",
              " '[CLS] banking, spoc [MASK] network [MASK] mis [MASK] [MASK], effectiveness, leadership [MASK] detailing, interpersonal skills, client requirements [SEP] [PAD] [PAD] [PAD] [PAD] [PAD] [PAD] [PAD] [PAD] [PAD] [PAD] [PAD] [PAD] [PAD] [PAD] [PAD] [PAD] [PAD] [PAD] [PAD] [PAD] [PAD] [PAD] [PAD] [PAD] [PAD] [PAD] [PAD] [PAD] [PAD] [PAD] [PAD] [PAD] [PAD] [PAD] [PAD] [PAD] [PAD] [PAD] [PAD] [PAD] [PAD] [PAD] [PAD] [PAD] [PAD] [PAD] [PAD] [PAD] [PAD] [PAD] [PAD] [PAD] [PAD] [PAD] [PAD] [PAD] [PAD] [PAD] [PAD] [PAD] [PAD] [PAD] [PAD] [PAD] [PAD] [PAD] [PAD] [PAD] [PAD] [PAD] [PAD] [PAD] [PAD] [PAD] [PAD] [PAD] [PAD] [PAD] [PAD] [PAD] [PAD] [PAD] [PAD] [PAD] [PAD] [PAD] [PAD] [PAD] [PAD] [PAD] [PAD] [PAD] [PAD] [PAD] [PAD] [PAD] [PAD] [PAD] [PAD] [PAD] [PAD] [PAD] [PAD] [PAD] [PAD] [PAD] [PAD] [PAD] [PAD] [PAD] [PAD] [PAD] [PAD] [PAD] [PAD] [PAD] [PAD] [PAD] [PAD] [PAD] [PAD] [PAD] [PAD] [PAD] [PAD] [PAD] [PAD] [PAD] [PAD] [PAD] [PAD] [PAD] [PAD] [PAD] [PAD] [PAD] [PAD] [PAD] [PAD] [PAD] [PAD] [PAD] [PAD] [PAD] [PAD] [PAD] [PAD] [PAD] [PAD] [PAD] [PAD] [PAD] [PAD] [PAD] [PAD] [PAD] [PAD] [PAD] [PAD] [PAD] [PAD] [PAD] [PAD] [PAD] [PAD] [PAD] [PAD] [PAD] [PAD] [PAD] [PAD] [PAD] [PAD] [PAD] [PAD] [PAD] [PAD] [PAD] [PAD] [PAD] [PAD] [PAD] [PAD] [PAD] [PAD] [PAD] [PAD] [PAD] [PAD] [PAD] [PAD] [PAD] [PAD] [PAD] [PAD] [PAD] [PAD] [PAD] [PAD] [PAD] [PAD] [PAD] [PAD] [PAD] [PAD] [PAD] [PAD] [PAD] [PAD] [PAD] [PAD] [PAD] [PAD] [PAD] [PAD] [PAD] [PAD] [PAD] [PAD] [PAD] [PAD] [PAD] [PAD] [PAD] [PAD] [PAD] [PAD] [PAD] [PAD] [PAD] [PAD] [PAD] [PAD] [PAD] [PAD] [PAD] [PAD] [PAD] [PAD] [PAD] [PAD] [PAD] [PAD] [PAD] [PAD] [PAD] [PAD] [PAD] [PAD] [PAD] [PAD] [PAD] [PAD] [PAD] [PAD] [PAD] [PAD] [PAD] [PAD] [PAD] [PAD] [PAD] [PAD] [PAD] [PAD] [PAD] [PAD] [PAD] [PAD] [PAD] [PAD] [PAD] [PAD] [PAD] [PAD] [PAD] [PAD] [PAD] [PAD] [PAD] [PAD] [PAD] [PAD] [PAD] [PAD] [PAD] [PAD] [PAD] [PAD] [PAD] [PAD] [PAD] [PAD] [PAD] [PAD] [PAD] [PAD] [PAD] [PAD] [PAD] [PAD] [PAD] [PAD] [PAD] [PAD] [PAD] [PAD]',\n",
              " '[CLS] web based application [MASK] functional testing, smoke testing, apache poi [MASK] testng, testing, integration testing, analysis, system [MASK], reliability, black box testing, operational analysis [MASK] jdbc, jsp, defect tracking [MASK] [MASK]ploratory testing, traceability matrix [MASK] training, recruitment process, [MASK] cases, grid, selenium, id [MASK], communication, white box [MASK], development, [MASK]lc, black, stlc, critical [MASK], usability, [MASK] testing, [MASK], [MASK] technologies [SEP] [PAD] [PAD] [PAD] [PAD] [PAD] [PAD] [PAD] [PAD] [PAD] [PAD] [PAD] [PAD] [PAD] [PAD] [PAD] [PAD] [PAD] [PAD] [PAD] [PAD] [PAD] [PAD] [PAD] [PAD] [PAD] [PAD] [PAD] [PAD] [PAD] [PAD] [PAD] [PAD] [PAD] [PAD] [PAD] [PAD] [PAD] [PAD] [PAD] [PAD] [PAD] [PAD] [PAD] [PAD] [PAD] [PAD] [PAD] [PAD] [PAD] [PAD] [PAD] [PAD] [PAD] [PAD] [PAD] [PAD] [PAD] [PAD] [PAD] [PAD] [PAD] [PAD] [PAD] [PAD] [PAD] [PAD] [PAD] [PAD] [PAD] [PAD] [PAD] [PAD] [PAD] [PAD] [PAD] [PAD] [PAD] [PAD] [PAD] [PAD] [PAD] [PAD] [PAD] [PAD] [PAD] [PAD] [PAD] [PAD] [PAD] [PAD] [PAD] [PAD] [PAD] [PAD] [PAD] [PAD] [PAD] [PAD] [PAD] [PAD] [PAD] [PAD] [PAD] [PAD] [PAD] [PAD] [PAD] [PAD] [PAD] [PAD] [PAD] [PAD] [PAD] [PAD] [PAD] [PAD] [PAD] [PAD] [PAD] [PAD] [PAD] [PAD] [PAD] [PAD] [PAD] [PAD] [PAD] [PAD] [PAD] [PAD] [PAD] [PAD] [PAD] [PAD] [PAD] [PAD] [PAD] [PAD] [PAD] [PAD] [PAD] [PAD] [PAD] [PAD] [PAD] [PAD] [PAD] [PAD] [PAD] [PAD] [PAD] [PAD] [PAD] [PAD] [PAD] [PAD] [PAD] [PAD] [PAD] [PAD] [PAD] [PAD] [PAD] [PAD] [PAD] [PAD] [PAD] [PAD] [PAD] [PAD] [PAD] [PAD] [PAD] [PAD] [PAD] [PAD] [PAD] [PAD] [PAD] [PAD] [PAD] [PAD] [PAD] [PAD] [PAD] [PAD] [PAD] [PAD] [PAD] [PAD] [PAD] [PAD] [PAD] [PAD] [PAD] [PAD] [PAD] [PAD] [PAD] [PAD] [PAD] [PAD] [PAD] [PAD] [PAD] [PAD] [PAD] [PAD] [PAD] [PAD] [PAD] [PAD] [PAD] [PAD] [PAD] [PAD] [PAD] [PAD] [PAD] [PAD] [PAD] [PAD] [PAD] [PAD] [PAD] [PAD] [PAD] [PAD] [PAD]',\n",
              " '[CLS] decommissioning [MASK] datapump, sccm, databases [MASK] data center migration, scom, database management, rman, itil, cloning [SEP] [PAD] [PAD] [PAD] [PAD] [PAD] [PAD] [PAD] [PAD] [PAD] [PAD] [PAD] [PAD] [PAD] [PAD] [PAD] [PAD] [PAD] [PAD] [PAD] [PAD] [PAD] [PAD] [PAD] [PAD] [PAD] [PAD] [PAD] [PAD] [PAD] [PAD] [PAD] [PAD] [PAD] [PAD] [PAD] [PAD] [PAD] [PAD] [PAD] [PAD] [PAD] [PAD] [PAD] [PAD] [PAD] [PAD] [PAD] [PAD] [PAD] [PAD] [PAD] [PAD] [PAD] [PAD] [PAD] [PAD] [PAD] [PAD] [PAD] [PAD] [PAD] [PAD] [PAD] [PAD] [PAD] [PAD] [PAD] [PAD] [PAD] [PAD] [PAD] [PAD] [PAD] [PAD] [PAD] [PAD] [PAD] [PAD] [PAD] [PAD] [PAD] [PAD] [PAD] [PAD] [PAD] [PAD] [PAD] [PAD] [PAD] [PAD] [PAD] [PAD] [PAD] [PAD] [PAD] [PAD] [PAD] [PAD] [PAD] [PAD] [PAD] [PAD] [PAD] [PAD] [PAD] [PAD] [PAD] [PAD] [PAD] [PAD] [PAD] [PAD] [PAD] [PAD] [PAD] [PAD] [PAD] [PAD] [PAD] [PAD] [PAD] [PAD] [PAD] [PAD] [PAD] [PAD] [PAD] [PAD] [PAD] [PAD] [PAD] [PAD] [PAD] [PAD] [PAD] [PAD] [PAD] [PAD] [PAD] [PAD] [PAD] [PAD] [PAD] [PAD] [PAD] [PAD] [PAD] [PAD] [PAD] [PAD] [PAD] [PAD] [PAD] [PAD] [PAD] [PAD] [PAD] [PAD] [PAD] [PAD] [PAD] [PAD] [PAD] [PAD] [PAD] [PAD] [PAD] [PAD] [PAD] [PAD] [PAD] [PAD] [PAD] [PAD] [PAD] [PAD] [PAD] [PAD] [PAD] [PAD] [PAD] [PAD] [PAD] [PAD] [PAD] [PAD] [PAD] [PAD] [PAD] [PAD] [PAD] [PAD] [PAD] [PAD] [PAD] [PAD] [PAD] [PAD] [PAD] [PAD] [PAD] [PAD] [PAD] [PAD] [PAD] [PAD] [PAD] [PAD] [PAD] [PAD] [PAD] [PAD] [PAD] [PAD] [PAD] [PAD] [PAD] [PAD] [PAD] [PAD] [PAD] [PAD] [PAD] [PAD] [PAD] [PAD] [PAD] [PAD] [PAD] [PAD] [PAD] [PAD] [PAD] [PAD] [PAD] [PAD] [PAD] [PAD] [PAD] [PAD] [PAD] [PAD] [PAD] [PAD] [PAD] [PAD] [PAD] [PAD] [PAD] [PAD] [PAD] [PAD] [PAD] [PAD] [PAD] [PAD] [PAD] [PAD] [PAD] [PAD] [PAD] [PAD] [PAD] [PAD] [PAD] [PAD] [PAD] [PAD] [PAD] [PAD] [PAD] [PAD] [PAD] [PAD] [PAD] [PAD] [PAD] [PAD] [PAD] [PAD] [PAD] [PAD] [PAD] [PAD] [PAD] [PAD] [PAD] [PAD] [PAD] [PAD] [PAD] [PAD] [PAD] [PAD] [PAD] [PAD] [PAD]',\n",
              " '[CLS] python, communication [MASK] software development life cycle, coding, mysql, sdlc, debugging, sow [MASK] maintenance [MASK] [MASK] [SEP] [PAD] [PAD] [PAD] [PAD] [PAD] [PAD] [PAD] [PAD] [PAD] [PAD] [PAD] [PAD] [PAD] [PAD] [PAD] [PAD] [PAD] [PAD] [PAD] [PAD] [PAD] [PAD] [PAD] [PAD] [PAD] [PAD] [PAD] [PAD] [PAD] [PAD] [PAD] [PAD] [PAD] [PAD] [PAD] [PAD] [PAD] [PAD] [PAD] [PAD] [PAD] [PAD] [PAD] [PAD] [PAD] [PAD] [PAD] [PAD] [PAD] [PAD] [PAD] [PAD] [PAD] [PAD] [PAD] [PAD] [PAD] [PAD] [PAD] [PAD] [PAD] [PAD] [PAD] [PAD] [PAD] [PAD] [PAD] [PAD] [PAD] [PAD] [PAD] [PAD] [PAD] [PAD] [PAD] [PAD] [PAD] [PAD] [PAD] [PAD] [PAD] [PAD] [PAD] [PAD] [PAD] [PAD] [PAD] [PAD] [PAD] [PAD] [PAD] [PAD] [PAD] [PAD] [PAD] [PAD] [PAD] [PAD] [PAD] [PAD] [PAD] [PAD] [PAD] [PAD] [PAD] [PAD] [PAD] [PAD] [PAD] [PAD] [PAD] [PAD] [PAD] [PAD] [PAD] [PAD] [PAD] [PAD] [PAD] [PAD] [PAD] [PAD] [PAD] [PAD] [PAD] [PAD] [PAD] [PAD] [PAD] [PAD] [PAD] [PAD] [PAD] [PAD] [PAD] [PAD] [PAD] [PAD] [PAD] [PAD] [PAD] [PAD] [PAD] [PAD] [PAD] [PAD] [PAD] [PAD] [PAD] [PAD] [PAD] [PAD] [PAD] [PAD] [PAD] [PAD] [PAD] [PAD] [PAD] [PAD] [PAD] [PAD] [PAD] [PAD] [PAD] [PAD] [PAD] [PAD] [PAD] [PAD] [PAD] [PAD] [PAD] [PAD] [PAD] [PAD] [PAD] [PAD] [PAD] [PAD] [PAD] [PAD] [PAD] [PAD] [PAD] [PAD] [PAD] [PAD] [PAD] [PAD] [PAD] [PAD] [PAD] [PAD] [PAD] [PAD] [PAD] [PAD] [PAD] [PAD] [PAD] [PAD] [PAD] [PAD] [PAD] [PAD] [PAD] [PAD] [PAD] [PAD] [PAD] [PAD] [PAD] [PAD] [PAD] [PAD] [PAD] [PAD] [PAD] [PAD] [PAD] [PAD] [PAD] [PAD] [PAD] [PAD] [PAD] [PAD] [PAD] [PAD] [PAD] [PAD] [PAD] [PAD] [PAD] [PAD] [PAD] [PAD] [PAD] [PAD] [PAD] [PAD] [PAD] [PAD] [PAD] [PAD] [PAD] [PAD] [PAD] [PAD] [PAD] [PAD] [PAD] [PAD] [PAD] [PAD] [PAD] [PAD] [PAD] [PAD] [PAD] [PAD] [PAD] [PAD] [PAD] [PAD] [PAD] [PAD] [PAD] [PAD] [PAD] [PAD] [PAD] [PAD] [PAD] [PAD] [PAD] [PAD] [PAD] [PAD] [PAD] [PAD] [PAD] [PAD] [PAD] [PAD] [PAD] [PAD] [PAD] [PAD] [PAD] [PAD] [PAD] [PAD] [PAD] [PAD] [PAD] [PAD] [PAD] [PAD] [PAD]',\n",
              " '[CLS] linux, enthusiastic, sonarqube, [MASK], ide [MASK] sql [MASK] engineering, java, [MASK] java, [MASK], design [SEP] [PAD] [PAD] [PAD] [PAD] [PAD] [PAD] [PAD] [PAD] [PAD] [PAD] [PAD] [PAD] [PAD] [PAD] [PAD] [PAD] [PAD] [PAD] [PAD] [PAD] [PAD] [PAD] [PAD] [PAD] [PAD] [PAD] [PAD] [PAD] [PAD] [PAD] [PAD] [PAD] [PAD] [PAD] [PAD] [PAD] [PAD] [PAD] [PAD] [PAD] [PAD] [PAD] [PAD] [PAD] [PAD] [PAD] [PAD] [PAD] [PAD] [PAD] [PAD] [PAD] [PAD] [PAD] [PAD] [PAD] [PAD] [PAD] [PAD] [PAD] [PAD] [PAD] [PAD] [PAD] [PAD] [PAD] [PAD] [PAD] [PAD] [PAD] [PAD] [PAD] [PAD] [PAD] [PAD] [PAD] [PAD] [PAD] [PAD] [PAD] [PAD] [PAD] [PAD] [PAD] [PAD] [PAD] [PAD] [PAD] [PAD] [PAD] [PAD] [PAD] [PAD] [PAD] [PAD] [PAD] [PAD] [PAD] [PAD] [PAD] [PAD] [PAD] [PAD] [PAD] [PAD] [PAD] [PAD] [PAD] [PAD] [PAD] [PAD] [PAD] [PAD] [PAD] [PAD] [PAD] [PAD] [PAD] [PAD] [PAD] [PAD] [PAD] [PAD] [PAD] [PAD] [PAD] [PAD] [PAD] [PAD] [PAD] [PAD] [PAD] [PAD] [PAD] [PAD] [PAD] [PAD] [PAD] [PAD] [PAD] [PAD] [PAD] [PAD] [PAD] [PAD] [PAD] [PAD] [PAD] [PAD] [PAD] [PAD] [PAD] [PAD] [PAD] [PAD] [PAD] [PAD] [PAD] [PAD] [PAD] [PAD] [PAD] [PAD] [PAD] [PAD] [PAD] [PAD] [PAD] [PAD] [PAD] [PAD] [PAD] [PAD] [PAD] [PAD] [PAD] [PAD] [PAD] [PAD] [PAD] [PAD] [PAD] [PAD] [PAD] [PAD] [PAD] [PAD] [PAD] [PAD] [PAD] [PAD] [PAD] [PAD] [PAD] [PAD] [PAD] [PAD] [PAD] [PAD] [PAD] [PAD] [PAD] [PAD] [PAD] [PAD] [PAD] [PAD] [PAD] [PAD] [PAD] [PAD] [PAD] [PAD] [PAD] [PAD] [PAD] [PAD] [PAD] [PAD] [PAD] [PAD] [PAD] [PAD] [PAD] [PAD] [PAD] [PAD] [PAD] [PAD] [PAD] [PAD] [PAD] [PAD] [PAD] [PAD] [PAD] [PAD] [PAD] [PAD] [PAD] [PAD] [PAD] [PAD] [PAD] [PAD] [PAD] [PAD] [PAD] [PAD] [PAD] [PAD] [PAD] [PAD] [PAD] [PAD] [PAD] [PAD] [PAD] [PAD] [PAD] [PAD] [PAD] [PAD] [PAD] [PAD] [PAD] [PAD] [PAD] [PAD] [PAD] [PAD] [PAD] [PAD] [PAD] [PAD] [PAD] [PAD] [PAD] [PAD] [PAD] [PAD] [PAD] [PAD] [PAD] [PAD] [PAD] [PAD] [PAD] [PAD] [PAD] [PAD] [PAD] [PAD] [PAD] [PAD] [PAD] [PAD] [PAD] [PAD] [PAD] [PAD] [PAD] [PAD] [PAD] [PAD]',\n",
              " '[CLS] cloudform [MASK], administration support, aix, database, linux servers, puppet, linux, maintenance, appdynamics [MASK] spot [MASK], oracle database, [MASK], operations, elastic [MASK] unix, shell scripts, dynamo db, azure cloud, server [MASK] development, mys [MASK] [MASK], testing, production deployment [MASK] html, analysis, insurance, administration, filenet, queries, shell script [MASK], oracle, deployment [MASK] tsys, vdi, application support, replication, troubleshooting, [MASK], production [MASK] [MASK] [MASK], [MASK], automation, aws, [MASK] backup, [MASK] [MASK] [SEP] [PAD] [PAD] [PAD] [PAD] [PAD] [PAD] [PAD] [PAD] [PAD] [PAD] [PAD] [PAD] [PAD] [PAD] [PAD] [PAD] [PAD] [PAD] [PAD] [PAD] [PAD] [PAD] [PAD] [PAD] [PAD] [PAD] [PAD] [PAD] [PAD] [PAD] [PAD] [PAD] [PAD] [PAD] [PAD] [PAD] [PAD] [PAD] [PAD] [PAD] [PAD] [PAD] [PAD] [PAD] [PAD] [PAD] [PAD] [PAD] [PAD] [PAD] [PAD] [PAD] [PAD] [PAD] [PAD] [PAD] [PAD] [PAD] [PAD] [PAD] [PAD] [PAD] [PAD] [PAD] [PAD] [PAD] [PAD] [PAD] [PAD] [PAD] [PAD] [PAD] [PAD] [PAD] [PAD] [PAD] [PAD] [PAD] [PAD] [PAD] [PAD] [PAD] [PAD] [PAD] [PAD] [PAD] [PAD] [PAD] [PAD] [PAD] [PAD] [PAD] [PAD] [PAD] [PAD] [PAD] [PAD] [PAD] [PAD] [PAD] [PAD] [PAD] [PAD] [PAD] [PAD] [PAD] [PAD] [PAD] [PAD] [PAD] [PAD] [PAD] [PAD] [PAD] [PAD] [PAD] [PAD] [PAD] [PAD] [PAD] [PAD] [PAD] [PAD] [PAD] [PAD] [PAD] [PAD] [PAD] [PAD] [PAD] [PAD] [PAD] [PAD] [PAD] [PAD] [PAD] [PAD] [PAD] [PAD] [PAD] [PAD] [PAD] [PAD] [PAD] [PAD] [PAD] [PAD] [PAD] [PAD] [PAD] [PAD] [PAD] [PAD] [PAD] [PAD] [PAD] [PAD] [PAD] [PAD] [PAD] [PAD] [PAD] [PAD] [PAD] [PAD] [PAD] [PAD] [PAD] [PAD] [PAD] [PAD] [PAD] [PAD] [PAD] [PAD] [PAD] [PAD] [PAD] [PAD] [PAD] [PAD] [PAD] [PAD] [PAD] [PAD] [PAD] [PAD] [PAD] [PAD] [PAD] [PAD] [PAD] [PAD] [PAD] [PAD] [PAD] [PAD] [PAD] [PAD] [PAD] [PAD] [PAD] [PAD] [PAD] [PAD] [PAD] [PAD] [PAD] [PAD] [PAD] [PAD] [PAD]',\n",
              " '[CLS] billing, metadata, purchase, user requirements, [MASK], teradata db, [MASK], [MASK]i, performed unit [MASK], design, testing, precise, business objects, sap [MASK] terada [MASK], cmc, visualization, reporting, [MASK], sales reports, analytics, requirement [MASK], bar chart, [MASK], patterns [MASK] [MASK] [MASK] hp [MASK], decommissioning [MASK] documentation, [MASK], development, [MASK], change request, ticketing, analyzing [SEP] [PAD] [PAD] [PAD] [PAD] [PAD] [PAD] [PAD] [PAD] [PAD] [PAD] [PAD] [PAD] [PAD] [PAD] [PAD] [PAD] [PAD] [PAD] [PAD] [PAD] [PAD] [PAD] [PAD] [PAD] [PAD] [PAD] [PAD] [PAD] [PAD] [PAD] [PAD] [PAD] [PAD] [PAD] [PAD] [PAD] [PAD] [PAD] [PAD] [PAD] [PAD] [PAD] [PAD] [PAD] [PAD] [PAD] [PAD] [PAD] [PAD] [PAD] [PAD] [PAD] [PAD] [PAD] [PAD] [PAD] [PAD] [PAD] [PAD] [PAD] [PAD] [PAD] [PAD] [PAD] [PAD] [PAD] [PAD] [PAD] [PAD] [PAD] [PAD] [PAD] [PAD] [PAD] [PAD] [PAD] [PAD] [PAD] [PAD] [PAD] [PAD] [PAD] [PAD] [PAD] [PAD] [PAD] [PAD] [PAD] [PAD] [PAD] [PAD] [PAD] [PAD] [PAD] [PAD] [PAD] [PAD] [PAD] [PAD] [PAD] [PAD] [PAD] [PAD] [PAD] [PAD] [PAD] [PAD] [PAD] [PAD] [PAD] [PAD] [PAD] [PAD] [PAD] [PAD] [PAD] [PAD] [PAD] [PAD] [PAD] [PAD] [PAD] [PAD] [PAD] [PAD] [PAD] [PAD] [PAD] [PAD] [PAD] [PAD] [PAD] [PAD] [PAD] [PAD] [PAD] [PAD] [PAD] [PAD] [PAD] [PAD] [PAD] [PAD] [PAD] [PAD] [PAD] [PAD] [PAD] [PAD] [PAD] [PAD] [PAD] [PAD] [PAD] [PAD] [PAD] [PAD] [PAD] [PAD] [PAD] [PAD] [PAD] [PAD] [PAD] [PAD] [PAD] [PAD] [PAD] [PAD] [PAD] [PAD] [PAD] [PAD] [PAD] [PAD] [PAD] [PAD] [PAD] [PAD] [PAD] [PAD] [PAD] [PAD] [PAD] [PAD] [PAD] [PAD] [PAD] [PAD] [PAD] [PAD] [PAD] [PAD] [PAD] [PAD] [PAD] [PAD] [PAD] [PAD] [PAD] [PAD] [PAD] [PAD] [PAD] [PAD] [PAD] [PAD] [PAD] [PAD] [PAD] [PAD] [PAD] [PAD] [PAD] [PAD] [PAD] [PAD] [PAD] [PAD] [PAD] [PAD] [PAD] [PAD] [PAD] [PAD] [PAD] [PAD] [PAD] [PAD] [PAD] [PAD] [PAD] [PAD] [PAD] [PAD] [PAD] [PAD] [PAD] [PAD]',\n",
              " '[CLS] automation, outlook, computer [MASK], [MASK] [MASK] android application, patterns [MASK] testing, [MASK] [MASK] java [MASK] android [SEP] [PAD] [PAD] [PAD] [PAD] [PAD] [PAD] [PAD] [PAD] [PAD] [PAD] [PAD] [PAD] [PAD] [PAD] [PAD] [PAD] [PAD] [PAD] [PAD] [PAD] [PAD] [PAD] [PAD] [PAD] [PAD] [PAD] [PAD] [PAD] [PAD] [PAD] [PAD] [PAD] [PAD] [PAD] [PAD] [PAD] [PAD] [PAD] [PAD] [PAD] [PAD] [PAD] [PAD] [PAD] [PAD] [PAD] [PAD] [PAD] [PAD] [PAD] [PAD] [PAD] [PAD] [PAD] [PAD] [PAD] [PAD] [PAD] [PAD] [PAD] [PAD] [PAD] [PAD] [PAD] [PAD] [PAD] [PAD] [PAD] [PAD] [PAD] [PAD] [PAD] [PAD] [PAD] [PAD] [PAD] [PAD] [PAD] [PAD] [PAD] [PAD] [PAD] [PAD] [PAD] [PAD] [PAD] [PAD] [PAD] [PAD] [PAD] [PAD] [PAD] [PAD] [PAD] [PAD] [PAD] [PAD] [PAD] [PAD] [PAD] [PAD] [PAD] [PAD] [PAD] [PAD] [PAD] [PAD] [PAD] [PAD] [PAD] [PAD] [PAD] [PAD] [PAD] [PAD] [PAD] [PAD] [PAD] [PAD] [PAD] [PAD] [PAD] [PAD] [PAD] [PAD] [PAD] [PAD] [PAD] [PAD] [PAD] [PAD] [PAD] [PAD] [PAD] [PAD] [PAD] [PAD] [PAD] [PAD] [PAD] [PAD] [PAD] [PAD] [PAD] [PAD] [PAD] [PAD] [PAD] [PAD] [PAD] [PAD] [PAD] [PAD] [PAD] [PAD] [PAD] [PAD] [PAD] [PAD] [PAD] [PAD] [PAD] [PAD] [PAD] [PAD] [PAD] [PAD] [PAD] [PAD] [PAD] [PAD] [PAD] [PAD] [PAD] [PAD] [PAD] [PAD] [PAD] [PAD] [PAD] [PAD] [PAD] [PAD] [PAD] [PAD] [PAD] [PAD] [PAD] [PAD] [PAD] [PAD] [PAD] [PAD] [PAD] [PAD] [PAD] [PAD] [PAD] [PAD] [PAD] [PAD] [PAD] [PAD] [PAD] [PAD] [PAD] [PAD] [PAD] [PAD] [PAD] [PAD] [PAD] [PAD] [PAD] [PAD] [PAD] [PAD] [PAD] [PAD] [PAD] [PAD] [PAD] [PAD] [PAD] [PAD] [PAD] [PAD] [PAD] [PAD] [PAD] [PAD] [PAD] [PAD] [PAD] [PAD] [PAD] [PAD] [PAD] [PAD] [PAD] [PAD] [PAD] [PAD] [PAD] [PAD] [PAD] [PAD] [PAD] [PAD] [PAD] [PAD] [PAD] [PAD] [PAD] [PAD] [PAD] [PAD] [PAD] [PAD] [PAD] [PAD] [PAD] [PAD] [PAD] [PAD] [PAD] [PAD] [PAD] [PAD] [PAD] [PAD] [PAD] [PAD] [PAD] [PAD] [PAD] [PAD] [PAD] [PAD] [PAD] [PAD] [PAD] [PAD] [PAD] [PAD] [PAD] [PAD] [PAD] [PAD] [PAD] [PAD] [PAD] [PAD] [PAD] [PAD] [PAD] [PAD] [PAD] [PAD] [PAD] [PAD] [PAD] [PAD] [PAD] [PAD] [PAD] [PAD] [PAD] [PAD]',\n",
              " '[CLS] conveyor, supervision, leader, mechanical, hydraulic system, autocad, [MASK] [MASK]tor, printing [SEP] [PAD] [PAD] [PAD] [PAD] [PAD] [PAD] [PAD] [PAD] [PAD] [PAD] [PAD] [PAD] [PAD] [PAD] [PAD] [PAD] [PAD] [PAD] [PAD] [PAD] [PAD] [PAD] [PAD] [PAD] [PAD] [PAD] [PAD] [PAD] [PAD] [PAD] [PAD] [PAD] [PAD] [PAD] [PAD] [PAD] [PAD] [PAD] [PAD] [PAD] [PAD] [PAD] [PAD] [PAD] [PAD] [PAD] [PAD] [PAD] [PAD] [PAD] [PAD] [PAD] [PAD] [PAD] [PAD] [PAD] [PAD] [PAD] [PAD] [PAD] [PAD] [PAD] [PAD] [PAD] [PAD] [PAD] [PAD] [PAD] [PAD] [PAD] [PAD] [PAD] [PAD] [PAD] [PAD] [PAD] [PAD] [PAD] [PAD] [PAD] [PAD] [PAD] [PAD] [PAD] [PAD] [PAD] [PAD] [PAD] [PAD] [PAD] [PAD] [PAD] [PAD] [PAD] [PAD] [PAD] [PAD] [PAD] [PAD] [PAD] [PAD] [PAD] [PAD] [PAD] [PAD] [PAD] [PAD] [PAD] [PAD] [PAD] [PAD] [PAD] [PAD] [PAD] [PAD] [PAD] [PAD] [PAD] [PAD] [PAD] [PAD] [PAD] [PAD] [PAD] [PAD] [PAD] [PAD] [PAD] [PAD] [PAD] [PAD] [PAD] [PAD] [PAD] [PAD] [PAD] [PAD] [PAD] [PAD] [PAD] [PAD] [PAD] [PAD] [PAD] [PAD] [PAD] [PAD] [PAD] [PAD] [PAD] [PAD] [PAD] [PAD] [PAD] [PAD] [PAD] [PAD] [PAD] [PAD] [PAD] [PAD] [PAD] [PAD] [PAD] [PAD] [PAD] [PAD] [PAD] [PAD] [PAD] [PAD] [PAD] [PAD] [PAD] [PAD] [PAD] [PAD] [PAD] [PAD] [PAD] [PAD] [PAD] [PAD] [PAD] [PAD] [PAD] [PAD] [PAD] [PAD] [PAD] [PAD] [PAD] [PAD] [PAD] [PAD] [PAD] [PAD] [PAD] [PAD] [PAD] [PAD] [PAD] [PAD] [PAD] [PAD] [PAD] [PAD] [PAD] [PAD] [PAD] [PAD] [PAD] [PAD] [PAD] [PAD] [PAD] [PAD] [PAD] [PAD] [PAD] [PAD] [PAD] [PAD] [PAD] [PAD] [PAD] [PAD] [PAD] [PAD] [PAD] [PAD] [PAD] [PAD] [PAD] [PAD] [PAD] [PAD] [PAD] [PAD] [PAD] [PAD] [PAD] [PAD] [PAD] [PAD] [PAD] [PAD] [PAD] [PAD] [PAD] [PAD] [PAD] [PAD] [PAD] [PAD] [PAD] [PAD] [PAD] [PAD] [PAD] [PAD] [PAD] [PAD] [PAD] [PAD] [PAD] [PAD] [PAD] [PAD] [PAD] [PAD] [PAD] [PAD] [PAD] [PAD] [PAD] [PAD] [PAD] [PAD] [PAD] [PAD] [PAD] [PAD] [PAD] [PAD] [PAD] [PAD] [PAD] [PAD] [PAD] [PAD] [PAD] [PAD] [PAD] [PAD] [PAD] [PAD] [PAD] [PAD] [PAD] [PAD] [PAD] [PAD] [PAD] [PAD] [PAD] [PAD] [PAD] [PAD]']"
            ]
          },
          "metadata": {},
          "execution_count": 26
        }
      ]
    },
    {
      "cell_type": "code",
      "source": [
        "decoded_texts_labels = []\n",
        "for labels in labels_list:\n",
        "    decoded_text = tokenizer.decode(labels, skip_special_tokens=False)\n",
        "    decoded_texts_labels.append(decoded_text)\n",
        "\n",
        "# Print the decoded texts\n",
        "decoded_texts_labels"
      ],
      "metadata": {
        "colab": {
          "base_uri": "https://localhost:8080/"
        },
        "id": "zKbGGOUQh4Wo",
        "outputId": "a8ae139a-8ba6-4f6b-8c76-ca6d965ba2e6"
      },
      "execution_count": null,
      "outputs": [
        {
          "output_type": "execute_result",
          "data": {
            "text/plain": [
              "['[CLS] java, c + +, user requirement, excel, ajax, programming, jdbc, jquery, j2ee, java script [SEP] [PAD] [PAD] [PAD] [PAD] [PAD] [PAD] [PAD] [PAD] [PAD] [PAD] [PAD] [PAD] [PAD] [PAD] [PAD] [PAD] [PAD] [PAD] [PAD] [PAD] [PAD] [PAD] [PAD] [PAD] [PAD] [PAD] [PAD] [PAD] [PAD] [PAD] [PAD] [PAD] [PAD] [PAD] [PAD] [PAD] [PAD] [PAD] [PAD] [PAD] [PAD] [PAD] [PAD] [PAD] [PAD] [PAD] [PAD] [PAD] [PAD] [PAD] [PAD] [PAD] [PAD] [PAD] [PAD] [PAD] [PAD] [PAD] [PAD] [PAD] [PAD] [PAD] [PAD] [PAD] [PAD] [PAD] [PAD] [PAD] [PAD] [PAD] [PAD] [PAD] [PAD] [PAD] [PAD] [PAD] [PAD] [PAD] [PAD] [PAD] [PAD] [PAD] [PAD] [PAD] [PAD] [PAD] [PAD] [PAD] [PAD] [PAD] [PAD] [PAD] [PAD] [PAD] [PAD] [PAD] [PAD] [PAD] [PAD] [PAD] [PAD] [PAD] [PAD] [PAD] [PAD] [PAD] [PAD] [PAD] [PAD] [PAD] [PAD] [PAD] [PAD] [PAD] [PAD] [PAD] [PAD] [PAD] [PAD] [PAD] [PAD] [PAD] [PAD] [PAD] [PAD] [PAD] [PAD] [PAD] [PAD] [PAD] [PAD] [PAD] [PAD] [PAD] [PAD] [PAD] [PAD] [PAD] [PAD] [PAD] [PAD] [PAD] [PAD] [PAD] [PAD] [PAD] [PAD] [PAD] [PAD] [PAD] [PAD] [PAD] [PAD] [PAD] [PAD] [PAD] [PAD] [PAD] [PAD] [PAD] [PAD] [PAD] [PAD] [PAD] [PAD] [PAD] [PAD] [PAD] [PAD] [PAD] [PAD] [PAD] [PAD] [PAD] [PAD] [PAD] [PAD] [PAD] [PAD] [PAD] [PAD] [PAD] [PAD] [PAD] [PAD] [PAD] [PAD] [PAD] [PAD] [PAD] [PAD] [PAD] [PAD] [PAD] [PAD] [PAD] [PAD] [PAD] [PAD] [PAD] [PAD] [PAD] [PAD] [PAD] [PAD] [PAD] [PAD] [PAD] [PAD] [PAD] [PAD] [PAD] [PAD] [PAD] [PAD] [PAD] [PAD] [PAD] [PAD] [PAD] [PAD] [PAD] [PAD] [PAD] [PAD] [PAD] [PAD] [PAD] [PAD] [PAD] [PAD] [PAD] [PAD] [PAD] [PAD] [PAD] [PAD] [PAD] [PAD] [PAD] [PAD] [PAD] [PAD] [PAD] [PAD] [PAD] [PAD] [PAD] [PAD] [PAD] [PAD] [PAD] [PAD] [PAD] [PAD] [PAD] [PAD] [PAD] [PAD] [PAD] [PAD] [PAD] [PAD] [PAD] [PAD] [PAD] [PAD] [PAD] [PAD] [PAD] [PAD] [PAD] [PAD] [PAD] [PAD] [PAD] [PAD] [PAD] [PAD] [PAD] [PAD] [PAD] [PAD] [PAD] [PAD] [PAD] [PAD] [PAD] [PAD] [PAD] [PAD] [PAD] [PAD] [PAD] [PAD] [PAD] [PAD] [PAD] [PAD] [PAD] [PAD] [PAD]',\n",
              " '[CLS] banking, spoc, network, mis, communication, effectiveness, leadership, detailing, interpersonal skills, client requirements [SEP] [PAD] [PAD] [PAD] [PAD] [PAD] [PAD] [PAD] [PAD] [PAD] [PAD] [PAD] [PAD] [PAD] [PAD] [PAD] [PAD] [PAD] [PAD] [PAD] [PAD] [PAD] [PAD] [PAD] [PAD] [PAD] [PAD] [PAD] [PAD] [PAD] [PAD] [PAD] [PAD] [PAD] [PAD] [PAD] [PAD] [PAD] [PAD] [PAD] [PAD] [PAD] [PAD] [PAD] [PAD] [PAD] [PAD] [PAD] [PAD] [PAD] [PAD] [PAD] [PAD] [PAD] [PAD] [PAD] [PAD] [PAD] [PAD] [PAD] [PAD] [PAD] [PAD] [PAD] [PAD] [PAD] [PAD] [PAD] [PAD] [PAD] [PAD] [PAD] [PAD] [PAD] [PAD] [PAD] [PAD] [PAD] [PAD] [PAD] [PAD] [PAD] [PAD] [PAD] [PAD] [PAD] [PAD] [PAD] [PAD] [PAD] [PAD] [PAD] [PAD] [PAD] [PAD] [PAD] [PAD] [PAD] [PAD] [PAD] [PAD] [PAD] [PAD] [PAD] [PAD] [PAD] [PAD] [PAD] [PAD] [PAD] [PAD] [PAD] [PAD] [PAD] [PAD] [PAD] [PAD] [PAD] [PAD] [PAD] [PAD] [PAD] [PAD] [PAD] [PAD] [PAD] [PAD] [PAD] [PAD] [PAD] [PAD] [PAD] [PAD] [PAD] [PAD] [PAD] [PAD] [PAD] [PAD] [PAD] [PAD] [PAD] [PAD] [PAD] [PAD] [PAD] [PAD] [PAD] [PAD] [PAD] [PAD] [PAD] [PAD] [PAD] [PAD] [PAD] [PAD] [PAD] [PAD] [PAD] [PAD] [PAD] [PAD] [PAD] [PAD] [PAD] [PAD] [PAD] [PAD] [PAD] [PAD] [PAD] [PAD] [PAD] [PAD] [PAD] [PAD] [PAD] [PAD] [PAD] [PAD] [PAD] [PAD] [PAD] [PAD] [PAD] [PAD] [PAD] [PAD] [PAD] [PAD] [PAD] [PAD] [PAD] [PAD] [PAD] [PAD] [PAD] [PAD] [PAD] [PAD] [PAD] [PAD] [PAD] [PAD] [PAD] [PAD] [PAD] [PAD] [PAD] [PAD] [PAD] [PAD] [PAD] [PAD] [PAD] [PAD] [PAD] [PAD] [PAD] [PAD] [PAD] [PAD] [PAD] [PAD] [PAD] [PAD] [PAD] [PAD] [PAD] [PAD] [PAD] [PAD] [PAD] [PAD] [PAD] [PAD] [PAD] [PAD] [PAD] [PAD] [PAD] [PAD] [PAD] [PAD] [PAD] [PAD] [PAD] [PAD] [PAD] [PAD] [PAD] [PAD] [PAD] [PAD] [PAD] [PAD] [PAD] [PAD] [PAD] [PAD] [PAD] [PAD] [PAD] [PAD] [PAD] [PAD] [PAD] [PAD] [PAD] [PAD] [PAD] [PAD] [PAD] [PAD] [PAD] [PAD] [PAD] [PAD] [PAD] [PAD] [PAD] [PAD] [PAD] [PAD] [PAD] [PAD] [PAD] [PAD] [PAD] [PAD] [PAD] [PAD] [PAD] [PAD] [PAD] [PAD] [PAD] [PAD] [PAD] [PAD] [PAD] [PAD] [PAD] [PAD] [PAD] [PAD] [PAD]',\n",
              " '[CLS] web based application, functional testing, smoke testing, apache poi, testng, testing, integration testing, analysis, system testing, reliability, black box testing, operational analysis, jdbc, jsp, defect tracking, exploratory testing, traceability matrix, training, recruitment process, test cases, grid, selenium, ide, communication, white box testing, development, sdlc, black, stlc, critical thinking, usability, compatibility testing, automation, new technologies [SEP] [PAD] [PAD] [PAD] [PAD] [PAD] [PAD] [PAD] [PAD] [PAD] [PAD] [PAD] [PAD] [PAD] [PAD] [PAD] [PAD] [PAD] [PAD] [PAD] [PAD] [PAD] [PAD] [PAD] [PAD] [PAD] [PAD] [PAD] [PAD] [PAD] [PAD] [PAD] [PAD] [PAD] [PAD] [PAD] [PAD] [PAD] [PAD] [PAD] [PAD] [PAD] [PAD] [PAD] [PAD] [PAD] [PAD] [PAD] [PAD] [PAD] [PAD] [PAD] [PAD] [PAD] [PAD] [PAD] [PAD] [PAD] [PAD] [PAD] [PAD] [PAD] [PAD] [PAD] [PAD] [PAD] [PAD] [PAD] [PAD] [PAD] [PAD] [PAD] [PAD] [PAD] [PAD] [PAD] [PAD] [PAD] [PAD] [PAD] [PAD] [PAD] [PAD] [PAD] [PAD] [PAD] [PAD] [PAD] [PAD] [PAD] [PAD] [PAD] [PAD] [PAD] [PAD] [PAD] [PAD] [PAD] [PAD] [PAD] [PAD] [PAD] [PAD] [PAD] [PAD] [PAD] [PAD] [PAD] [PAD] [PAD] [PAD] [PAD] [PAD] [PAD] [PAD] [PAD] [PAD] [PAD] [PAD] [PAD] [PAD] [PAD] [PAD] [PAD] [PAD] [PAD] [PAD] [PAD] [PAD] [PAD] [PAD] [PAD] [PAD] [PAD] [PAD] [PAD] [PAD] [PAD] [PAD] [PAD] [PAD] [PAD] [PAD] [PAD] [PAD] [PAD] [PAD] [PAD] [PAD] [PAD] [PAD] [PAD] [PAD] [PAD] [PAD] [PAD] [PAD] [PAD] [PAD] [PAD] [PAD] [PAD] [PAD] [PAD] [PAD] [PAD] [PAD] [PAD] [PAD] [PAD] [PAD] [PAD] [PAD] [PAD] [PAD] [PAD] [PAD] [PAD] [PAD] [PAD] [PAD] [PAD] [PAD] [PAD] [PAD] [PAD] [PAD] [PAD] [PAD] [PAD] [PAD] [PAD] [PAD] [PAD] [PAD] [PAD] [PAD] [PAD] [PAD] [PAD] [PAD] [PAD] [PAD] [PAD] [PAD] [PAD] [PAD] [PAD] [PAD] [PAD] [PAD] [PAD] [PAD] [PAD] [PAD] [PAD] [PAD] [PAD] [PAD] [PAD] [PAD] [PAD] [PAD] [PAD] [PAD] [PAD] [PAD] [PAD] [PAD] [PAD]',\n",
              " '[CLS] decommissioning, datapump, sccm, databases, data center migration, scom, database management, rman, itil, cloning [SEP] [PAD] [PAD] [PAD] [PAD] [PAD] [PAD] [PAD] [PAD] [PAD] [PAD] [PAD] [PAD] [PAD] [PAD] [PAD] [PAD] [PAD] [PAD] [PAD] [PAD] [PAD] [PAD] [PAD] [PAD] [PAD] [PAD] [PAD] [PAD] [PAD] [PAD] [PAD] [PAD] [PAD] [PAD] [PAD] [PAD] [PAD] [PAD] [PAD] [PAD] [PAD] [PAD] [PAD] [PAD] [PAD] [PAD] [PAD] [PAD] [PAD] [PAD] [PAD] [PAD] [PAD] [PAD] [PAD] [PAD] [PAD] [PAD] [PAD] [PAD] [PAD] [PAD] [PAD] [PAD] [PAD] [PAD] [PAD] [PAD] [PAD] [PAD] [PAD] [PAD] [PAD] [PAD] [PAD] [PAD] [PAD] [PAD] [PAD] [PAD] [PAD] [PAD] [PAD] [PAD] [PAD] [PAD] [PAD] [PAD] [PAD] [PAD] [PAD] [PAD] [PAD] [PAD] [PAD] [PAD] [PAD] [PAD] [PAD] [PAD] [PAD] [PAD] [PAD] [PAD] [PAD] [PAD] [PAD] [PAD] [PAD] [PAD] [PAD] [PAD] [PAD] [PAD] [PAD] [PAD] [PAD] [PAD] [PAD] [PAD] [PAD] [PAD] [PAD] [PAD] [PAD] [PAD] [PAD] [PAD] [PAD] [PAD] [PAD] [PAD] [PAD] [PAD] [PAD] [PAD] [PAD] [PAD] [PAD] [PAD] [PAD] [PAD] [PAD] [PAD] [PAD] [PAD] [PAD] [PAD] [PAD] [PAD] [PAD] [PAD] [PAD] [PAD] [PAD] [PAD] [PAD] [PAD] [PAD] [PAD] [PAD] [PAD] [PAD] [PAD] [PAD] [PAD] [PAD] [PAD] [PAD] [PAD] [PAD] [PAD] [PAD] [PAD] [PAD] [PAD] [PAD] [PAD] [PAD] [PAD] [PAD] [PAD] [PAD] [PAD] [PAD] [PAD] [PAD] [PAD] [PAD] [PAD] [PAD] [PAD] [PAD] [PAD] [PAD] [PAD] [PAD] [PAD] [PAD] [PAD] [PAD] [PAD] [PAD] [PAD] [PAD] [PAD] [PAD] [PAD] [PAD] [PAD] [PAD] [PAD] [PAD] [PAD] [PAD] [PAD] [PAD] [PAD] [PAD] [PAD] [PAD] [PAD] [PAD] [PAD] [PAD] [PAD] [PAD] [PAD] [PAD] [PAD] [PAD] [PAD] [PAD] [PAD] [PAD] [PAD] [PAD] [PAD] [PAD] [PAD] [PAD] [PAD] [PAD] [PAD] [PAD] [PAD] [PAD] [PAD] [PAD] [PAD] [PAD] [PAD] [PAD] [PAD] [PAD] [PAD] [PAD] [PAD] [PAD] [PAD] [PAD] [PAD] [PAD] [PAD] [PAD] [PAD] [PAD] [PAD] [PAD] [PAD] [PAD] [PAD] [PAD] [PAD] [PAD] [PAD] [PAD] [PAD] [PAD] [PAD] [PAD] [PAD] [PAD] [PAD] [PAD] [PAD] [PAD] [PAD] [PAD] [PAD] [PAD] [PAD] [PAD] [PAD] [PAD] [PAD] [PAD]',\n",
              " '[CLS] python, communication, software development life cycle, coding, mysql, sdlc, debugging, sow, maintenance, java [SEP] [PAD] [PAD] [PAD] [PAD] [PAD] [PAD] [PAD] [PAD] [PAD] [PAD] [PAD] [PAD] [PAD] [PAD] [PAD] [PAD] [PAD] [PAD] [PAD] [PAD] [PAD] [PAD] [PAD] [PAD] [PAD] [PAD] [PAD] [PAD] [PAD] [PAD] [PAD] [PAD] [PAD] [PAD] [PAD] [PAD] [PAD] [PAD] [PAD] [PAD] [PAD] [PAD] [PAD] [PAD] [PAD] [PAD] [PAD] [PAD] [PAD] [PAD] [PAD] [PAD] [PAD] [PAD] [PAD] [PAD] [PAD] [PAD] [PAD] [PAD] [PAD] [PAD] [PAD] [PAD] [PAD] [PAD] [PAD] [PAD] [PAD] [PAD] [PAD] [PAD] [PAD] [PAD] [PAD] [PAD] [PAD] [PAD] [PAD] [PAD] [PAD] [PAD] [PAD] [PAD] [PAD] [PAD] [PAD] [PAD] [PAD] [PAD] [PAD] [PAD] [PAD] [PAD] [PAD] [PAD] [PAD] [PAD] [PAD] [PAD] [PAD] [PAD] [PAD] [PAD] [PAD] [PAD] [PAD] [PAD] [PAD] [PAD] [PAD] [PAD] [PAD] [PAD] [PAD] [PAD] [PAD] [PAD] [PAD] [PAD] [PAD] [PAD] [PAD] [PAD] [PAD] [PAD] [PAD] [PAD] [PAD] [PAD] [PAD] [PAD] [PAD] [PAD] [PAD] [PAD] [PAD] [PAD] [PAD] [PAD] [PAD] [PAD] [PAD] [PAD] [PAD] [PAD] [PAD] [PAD] [PAD] [PAD] [PAD] [PAD] [PAD] [PAD] [PAD] [PAD] [PAD] [PAD] [PAD] [PAD] [PAD] [PAD] [PAD] [PAD] [PAD] [PAD] [PAD] [PAD] [PAD] [PAD] [PAD] [PAD] [PAD] [PAD] [PAD] [PAD] [PAD] [PAD] [PAD] [PAD] [PAD] [PAD] [PAD] [PAD] [PAD] [PAD] [PAD] [PAD] [PAD] [PAD] [PAD] [PAD] [PAD] [PAD] [PAD] [PAD] [PAD] [PAD] [PAD] [PAD] [PAD] [PAD] [PAD] [PAD] [PAD] [PAD] [PAD] [PAD] [PAD] [PAD] [PAD] [PAD] [PAD] [PAD] [PAD] [PAD] [PAD] [PAD] [PAD] [PAD] [PAD] [PAD] [PAD] [PAD] [PAD] [PAD] [PAD] [PAD] [PAD] [PAD] [PAD] [PAD] [PAD] [PAD] [PAD] [PAD] [PAD] [PAD] [PAD] [PAD] [PAD] [PAD] [PAD] [PAD] [PAD] [PAD] [PAD] [PAD] [PAD] [PAD] [PAD] [PAD] [PAD] [PAD] [PAD] [PAD] [PAD] [PAD] [PAD] [PAD] [PAD] [PAD] [PAD] [PAD] [PAD] [PAD] [PAD] [PAD] [PAD] [PAD] [PAD] [PAD] [PAD] [PAD] [PAD] [PAD] [PAD] [PAD] [PAD] [PAD] [PAD] [PAD] [PAD] [PAD] [PAD] [PAD] [PAD] [PAD] [PAD] [PAD] [PAD] [PAD] [PAD] [PAD] [PAD] [PAD] [PAD] [PAD] [PAD] [PAD] [PAD]',\n",
              " '[CLS] linux, enthusiastic, sonarqube, embedded, ide, sql, engineering, java, core java, windows, design [SEP] [PAD] [PAD] [PAD] [PAD] [PAD] [PAD] [PAD] [PAD] [PAD] [PAD] [PAD] [PAD] [PAD] [PAD] [PAD] [PAD] [PAD] [PAD] [PAD] [PAD] [PAD] [PAD] [PAD] [PAD] [PAD] [PAD] [PAD] [PAD] [PAD] [PAD] [PAD] [PAD] [PAD] [PAD] [PAD] [PAD] [PAD] [PAD] [PAD] [PAD] [PAD] [PAD] [PAD] [PAD] [PAD] [PAD] [PAD] [PAD] [PAD] [PAD] [PAD] [PAD] [PAD] [PAD] [PAD] [PAD] [PAD] [PAD] [PAD] [PAD] [PAD] [PAD] [PAD] [PAD] [PAD] [PAD] [PAD] [PAD] [PAD] [PAD] [PAD] [PAD] [PAD] [PAD] [PAD] [PAD] [PAD] [PAD] [PAD] [PAD] [PAD] [PAD] [PAD] [PAD] [PAD] [PAD] [PAD] [PAD] [PAD] [PAD] [PAD] [PAD] [PAD] [PAD] [PAD] [PAD] [PAD] [PAD] [PAD] [PAD] [PAD] [PAD] [PAD] [PAD] [PAD] [PAD] [PAD] [PAD] [PAD] [PAD] [PAD] [PAD] [PAD] [PAD] [PAD] [PAD] [PAD] [PAD] [PAD] [PAD] [PAD] [PAD] [PAD] [PAD] [PAD] [PAD] [PAD] [PAD] [PAD] [PAD] [PAD] [PAD] [PAD] [PAD] [PAD] [PAD] [PAD] [PAD] [PAD] [PAD] [PAD] [PAD] [PAD] [PAD] [PAD] [PAD] [PAD] [PAD] [PAD] [PAD] [PAD] [PAD] [PAD] [PAD] [PAD] [PAD] [PAD] [PAD] [PAD] [PAD] [PAD] [PAD] [PAD] [PAD] [PAD] [PAD] [PAD] [PAD] [PAD] [PAD] [PAD] [PAD] [PAD] [PAD] [PAD] [PAD] [PAD] [PAD] [PAD] [PAD] [PAD] [PAD] [PAD] [PAD] [PAD] [PAD] [PAD] [PAD] [PAD] [PAD] [PAD] [PAD] [PAD] [PAD] [PAD] [PAD] [PAD] [PAD] [PAD] [PAD] [PAD] [PAD] [PAD] [PAD] [PAD] [PAD] [PAD] [PAD] [PAD] [PAD] [PAD] [PAD] [PAD] [PAD] [PAD] [PAD] [PAD] [PAD] [PAD] [PAD] [PAD] [PAD] [PAD] [PAD] [PAD] [PAD] [PAD] [PAD] [PAD] [PAD] [PAD] [PAD] [PAD] [PAD] [PAD] [PAD] [PAD] [PAD] [PAD] [PAD] [PAD] [PAD] [PAD] [PAD] [PAD] [PAD] [PAD] [PAD] [PAD] [PAD] [PAD] [PAD] [PAD] [PAD] [PAD] [PAD] [PAD] [PAD] [PAD] [PAD] [PAD] [PAD] [PAD] [PAD] [PAD] [PAD] [PAD] [PAD] [PAD] [PAD] [PAD] [PAD] [PAD] [PAD] [PAD] [PAD] [PAD] [PAD] [PAD] [PAD] [PAD] [PAD] [PAD] [PAD] [PAD] [PAD] [PAD] [PAD] [PAD] [PAD] [PAD] [PAD] [PAD] [PAD] [PAD] [PAD] [PAD] [PAD] [PAD] [PAD] [PAD] [PAD] [PAD] [PAD] [PAD]',\n",
              " '[CLS] cloudformation, administration support, aix, database, linux servers, puppet, linux, maintenance, appdynamics, spotfire, oracle database, template, operations, elastic, unix, shell scripts, dynamo db, azure cloud, server, development, mysql, testing, production deployment, html, analysis, insurance, administration, filenet, queries, shell scripting, oracle, deployment, tsys, vdi, application support, replication, troubleshooting, engineering, production servers, telecommunications, planning, automation, aws, database backup, ec2 [SEP] [PAD] [PAD] [PAD] [PAD] [PAD] [PAD] [PAD] [PAD] [PAD] [PAD] [PAD] [PAD] [PAD] [PAD] [PAD] [PAD] [PAD] [PAD] [PAD] [PAD] [PAD] [PAD] [PAD] [PAD] [PAD] [PAD] [PAD] [PAD] [PAD] [PAD] [PAD] [PAD] [PAD] [PAD] [PAD] [PAD] [PAD] [PAD] [PAD] [PAD] [PAD] [PAD] [PAD] [PAD] [PAD] [PAD] [PAD] [PAD] [PAD] [PAD] [PAD] [PAD] [PAD] [PAD] [PAD] [PAD] [PAD] [PAD] [PAD] [PAD] [PAD] [PAD] [PAD] [PAD] [PAD] [PAD] [PAD] [PAD] [PAD] [PAD] [PAD] [PAD] [PAD] [PAD] [PAD] [PAD] [PAD] [PAD] [PAD] [PAD] [PAD] [PAD] [PAD] [PAD] [PAD] [PAD] [PAD] [PAD] [PAD] [PAD] [PAD] [PAD] [PAD] [PAD] [PAD] [PAD] [PAD] [PAD] [PAD] [PAD] [PAD] [PAD] [PAD] [PAD] [PAD] [PAD] [PAD] [PAD] [PAD] [PAD] [PAD] [PAD] [PAD] [PAD] [PAD] [PAD] [PAD] [PAD] [PAD] [PAD] [PAD] [PAD] [PAD] [PAD] [PAD] [PAD] [PAD] [PAD] [PAD] [PAD] [PAD] [PAD] [PAD] [PAD] [PAD] [PAD] [PAD] [PAD] [PAD] [PAD] [PAD] [PAD] [PAD] [PAD] [PAD] [PAD] [PAD] [PAD] [PAD] [PAD] [PAD] [PAD] [PAD] [PAD] [PAD] [PAD] [PAD] [PAD] [PAD] [PAD] [PAD] [PAD] [PAD] [PAD] [PAD] [PAD] [PAD] [PAD] [PAD] [PAD] [PAD] [PAD] [PAD] [PAD] [PAD] [PAD] [PAD] [PAD] [PAD] [PAD] [PAD] [PAD] [PAD] [PAD] [PAD] [PAD] [PAD] [PAD] [PAD] [PAD] [PAD] [PAD] [PAD] [PAD] [PAD] [PAD] [PAD] [PAD] [PAD] [PAD] [PAD] [PAD] [PAD] [PAD] [PAD] [PAD] [PAD] [PAD] [PAD] [PAD] [PAD] [PAD]',\n",
              " '[CLS] billing, metadata, purchase, user requirements, sales, teradata db, investigation, webi, performed unit testing, design, testing, precise, business objects, sap, teradata, cmc, visualization, reporting, audience, sales reports, analytics, requirement gathering, bar chart, implementation, patterns, developing, hpsm, decommissioning, documentation, presentation, development, credit, change request, ticketing, analyzing [SEP] [PAD] [PAD] [PAD] [PAD] [PAD] [PAD] [PAD] [PAD] [PAD] [PAD] [PAD] [PAD] [PAD] [PAD] [PAD] [PAD] [PAD] [PAD] [PAD] [PAD] [PAD] [PAD] [PAD] [PAD] [PAD] [PAD] [PAD] [PAD] [PAD] [PAD] [PAD] [PAD] [PAD] [PAD] [PAD] [PAD] [PAD] [PAD] [PAD] [PAD] [PAD] [PAD] [PAD] [PAD] [PAD] [PAD] [PAD] [PAD] [PAD] [PAD] [PAD] [PAD] [PAD] [PAD] [PAD] [PAD] [PAD] [PAD] [PAD] [PAD] [PAD] [PAD] [PAD] [PAD] [PAD] [PAD] [PAD] [PAD] [PAD] [PAD] [PAD] [PAD] [PAD] [PAD] [PAD] [PAD] [PAD] [PAD] [PAD] [PAD] [PAD] [PAD] [PAD] [PAD] [PAD] [PAD] [PAD] [PAD] [PAD] [PAD] [PAD] [PAD] [PAD] [PAD] [PAD] [PAD] [PAD] [PAD] [PAD] [PAD] [PAD] [PAD] [PAD] [PAD] [PAD] [PAD] [PAD] [PAD] [PAD] [PAD] [PAD] [PAD] [PAD] [PAD] [PAD] [PAD] [PAD] [PAD] [PAD] [PAD] [PAD] [PAD] [PAD] [PAD] [PAD] [PAD] [PAD] [PAD] [PAD] [PAD] [PAD] [PAD] [PAD] [PAD] [PAD] [PAD] [PAD] [PAD] [PAD] [PAD] [PAD] [PAD] [PAD] [PAD] [PAD] [PAD] [PAD] [PAD] [PAD] [PAD] [PAD] [PAD] [PAD] [PAD] [PAD] [PAD] [PAD] [PAD] [PAD] [PAD] [PAD] [PAD] [PAD] [PAD] [PAD] [PAD] [PAD] [PAD] [PAD] [PAD] [PAD] [PAD] [PAD] [PAD] [PAD] [PAD] [PAD] [PAD] [PAD] [PAD] [PAD] [PAD] [PAD] [PAD] [PAD] [PAD] [PAD] [PAD] [PAD] [PAD] [PAD] [PAD] [PAD] [PAD] [PAD] [PAD] [PAD] [PAD] [PAD] [PAD] [PAD] [PAD] [PAD] [PAD] [PAD] [PAD] [PAD] [PAD] [PAD] [PAD] [PAD] [PAD] [PAD] [PAD] [PAD] [PAD] [PAD] [PAD] [PAD] [PAD] [PAD] [PAD] [PAD] [PAD] [PAD] [PAD] [PAD] [PAD] [PAD] [PAD] [PAD] [PAD] [PAD] [PAD] [PAD] [PAD] [PAD] [PAD] [PAD]',\n",
              " '[CLS] automation, outlook, computer proficiency, networking, android application, patterns, testing, linux, java, android [SEP] [PAD] [PAD] [PAD] [PAD] [PAD] [PAD] [PAD] [PAD] [PAD] [PAD] [PAD] [PAD] [PAD] [PAD] [PAD] [PAD] [PAD] [PAD] [PAD] [PAD] [PAD] [PAD] [PAD] [PAD] [PAD] [PAD] [PAD] [PAD] [PAD] [PAD] [PAD] [PAD] [PAD] [PAD] [PAD] [PAD] [PAD] [PAD] [PAD] [PAD] [PAD] [PAD] [PAD] [PAD] [PAD] [PAD] [PAD] [PAD] [PAD] [PAD] [PAD] [PAD] [PAD] [PAD] [PAD] [PAD] [PAD] [PAD] [PAD] [PAD] [PAD] [PAD] [PAD] [PAD] [PAD] [PAD] [PAD] [PAD] [PAD] [PAD] [PAD] [PAD] [PAD] [PAD] [PAD] [PAD] [PAD] [PAD] [PAD] [PAD] [PAD] [PAD] [PAD] [PAD] [PAD] [PAD] [PAD] [PAD] [PAD] [PAD] [PAD] [PAD] [PAD] [PAD] [PAD] [PAD] [PAD] [PAD] [PAD] [PAD] [PAD] [PAD] [PAD] [PAD] [PAD] [PAD] [PAD] [PAD] [PAD] [PAD] [PAD] [PAD] [PAD] [PAD] [PAD] [PAD] [PAD] [PAD] [PAD] [PAD] [PAD] [PAD] [PAD] [PAD] [PAD] [PAD] [PAD] [PAD] [PAD] [PAD] [PAD] [PAD] [PAD] [PAD] [PAD] [PAD] [PAD] [PAD] [PAD] [PAD] [PAD] [PAD] [PAD] [PAD] [PAD] [PAD] [PAD] [PAD] [PAD] [PAD] [PAD] [PAD] [PAD] [PAD] [PAD] [PAD] [PAD] [PAD] [PAD] [PAD] [PAD] [PAD] [PAD] [PAD] [PAD] [PAD] [PAD] [PAD] [PAD] [PAD] [PAD] [PAD] [PAD] [PAD] [PAD] [PAD] [PAD] [PAD] [PAD] [PAD] [PAD] [PAD] [PAD] [PAD] [PAD] [PAD] [PAD] [PAD] [PAD] [PAD] [PAD] [PAD] [PAD] [PAD] [PAD] [PAD] [PAD] [PAD] [PAD] [PAD] [PAD] [PAD] [PAD] [PAD] [PAD] [PAD] [PAD] [PAD] [PAD] [PAD] [PAD] [PAD] [PAD] [PAD] [PAD] [PAD] [PAD] [PAD] [PAD] [PAD] [PAD] [PAD] [PAD] [PAD] [PAD] [PAD] [PAD] [PAD] [PAD] [PAD] [PAD] [PAD] [PAD] [PAD] [PAD] [PAD] [PAD] [PAD] [PAD] [PAD] [PAD] [PAD] [PAD] [PAD] [PAD] [PAD] [PAD] [PAD] [PAD] [PAD] [PAD] [PAD] [PAD] [PAD] [PAD] [PAD] [PAD] [PAD] [PAD] [PAD] [PAD] [PAD] [PAD] [PAD] [PAD] [PAD] [PAD] [PAD] [PAD] [PAD] [PAD] [PAD] [PAD] [PAD] [PAD] [PAD] [PAD] [PAD] [PAD] [PAD] [PAD] [PAD] [PAD] [PAD] [PAD] [PAD] [PAD] [PAD] [PAD] [PAD] [PAD] [PAD] [PAD] [PAD] [PAD] [PAD] [PAD] [PAD] [PAD] [PAD] [PAD] [PAD] [PAD] [PAD] [PAD] [PAD] [PAD] [PAD] [PAD]',\n",
              " '[CLS] conveyor, supervision, leader, mechanical, hydraulic system, autocad, actuator, printing [SEP] [PAD] [PAD] [PAD] [PAD] [PAD] [PAD] [PAD] [PAD] [PAD] [PAD] [PAD] [PAD] [PAD] [PAD] [PAD] [PAD] [PAD] [PAD] [PAD] [PAD] [PAD] [PAD] [PAD] [PAD] [PAD] [PAD] [PAD] [PAD] [PAD] [PAD] [PAD] [PAD] [PAD] [PAD] [PAD] [PAD] [PAD] [PAD] [PAD] [PAD] [PAD] [PAD] [PAD] [PAD] [PAD] [PAD] [PAD] [PAD] [PAD] [PAD] [PAD] [PAD] [PAD] [PAD] [PAD] [PAD] [PAD] [PAD] [PAD] [PAD] [PAD] [PAD] [PAD] [PAD] [PAD] [PAD] [PAD] [PAD] [PAD] [PAD] [PAD] [PAD] [PAD] [PAD] [PAD] [PAD] [PAD] [PAD] [PAD] [PAD] [PAD] [PAD] [PAD] [PAD] [PAD] [PAD] [PAD] [PAD] [PAD] [PAD] [PAD] [PAD] [PAD] [PAD] [PAD] [PAD] [PAD] [PAD] [PAD] [PAD] [PAD] [PAD] [PAD] [PAD] [PAD] [PAD] [PAD] [PAD] [PAD] [PAD] [PAD] [PAD] [PAD] [PAD] [PAD] [PAD] [PAD] [PAD] [PAD] [PAD] [PAD] [PAD] [PAD] [PAD] [PAD] [PAD] [PAD] [PAD] [PAD] [PAD] [PAD] [PAD] [PAD] [PAD] [PAD] [PAD] [PAD] [PAD] [PAD] [PAD] [PAD] [PAD] [PAD] [PAD] [PAD] [PAD] [PAD] [PAD] [PAD] [PAD] [PAD] [PAD] [PAD] [PAD] [PAD] [PAD] [PAD] [PAD] [PAD] [PAD] [PAD] [PAD] [PAD] [PAD] [PAD] [PAD] [PAD] [PAD] [PAD] [PAD] [PAD] [PAD] [PAD] [PAD] [PAD] [PAD] [PAD] [PAD] [PAD] [PAD] [PAD] [PAD] [PAD] [PAD] [PAD] [PAD] [PAD] [PAD] [PAD] [PAD] [PAD] [PAD] [PAD] [PAD] [PAD] [PAD] [PAD] [PAD] [PAD] [PAD] [PAD] [PAD] [PAD] [PAD] [PAD] [PAD] [PAD] [PAD] [PAD] [PAD] [PAD] [PAD] [PAD] [PAD] [PAD] [PAD] [PAD] [PAD] [PAD] [PAD] [PAD] [PAD] [PAD] [PAD] [PAD] [PAD] [PAD] [PAD] [PAD] [PAD] [PAD] [PAD] [PAD] [PAD] [PAD] [PAD] [PAD] [PAD] [PAD] [PAD] [PAD] [PAD] [PAD] [PAD] [PAD] [PAD] [PAD] [PAD] [PAD] [PAD] [PAD] [PAD] [PAD] [PAD] [PAD] [PAD] [PAD] [PAD] [PAD] [PAD] [PAD] [PAD] [PAD] [PAD] [PAD] [PAD] [PAD] [PAD] [PAD] [PAD] [PAD] [PAD] [PAD] [PAD] [PAD] [PAD] [PAD] [PAD] [PAD] [PAD] [PAD] [PAD] [PAD] [PAD] [PAD] [PAD] [PAD] [PAD] [PAD] [PAD] [PAD] [PAD] [PAD] [PAD] [PAD] [PAD] [PAD] [PAD] [PAD] [PAD] [PAD] [PAD] [PAD] [PAD] [PAD] [PAD] [PAD] [PAD] [PAD]']"
            ]
          },
          "metadata": {},
          "execution_count": 27
        }
      ]
    },
    {
      "cell_type": "code",
      "source": [
        " test_inputs.input_ids.eq(103).any()"
      ],
      "metadata": {
        "id": "X3pAxg9fguKG"
      },
      "execution_count": null,
      "outputs": []
    },
    {
      "cell_type": "code",
      "source": [
        "\n",
        "\n",
        "# Convert each list of IDs to a string using tokenizer's decode method\n",
        "decoded_texts = []\n",
        "for input_ids in input_id_list:\n",
        "    decoded_text = tokenizer.decode(input_ids, skip_special_tokens=False)\n",
        "    decoded_texts.append(decoded_text)\n",
        "\n",
        "# Print the decoded texts\n",
        "print(decoded_texts)"
      ],
      "metadata": {
        "id": "bdCmw4mzgure"
      },
      "execution_count": null,
      "outputs": []
    },
    {
      "cell_type": "code",
      "execution_count": null,
      "metadata": {
        "id": "1PyvhTzJdpUC"
      },
      "outputs": [],
      "source": [
        "class MeditationsDataset(torch.utils.data.Dataset):\n",
        "    def __init__(self, encodings):\n",
        "        self.encodings = encodings\n",
        "    def __getitem__(self, idx):\n",
        "        return {key: torch.tensor(val[idx]) for key, val in self.encodings.items()}\n",
        "    def __len__(self):\n",
        "        return len(self.encodings.input_ids)"
      ]
    },
    {
      "cell_type": "code",
      "execution_count": null,
      "metadata": {
        "id": "3rRg4y_OdvFj"
      },
      "outputs": [],
      "source": [
        "dataset = MeditationsDataset(inputs)"
      ]
    },
    {
      "cell_type": "code",
      "execution_count": null,
      "metadata": {
        "id": "ONtTgZnvdza5"
      },
      "outputs": [],
      "source": [
        "loader = torch.utils.data.DataLoader(dataset, batch_size=8, shuffle=True)"
      ]
    },
    {
      "cell_type": "code",
      "source": [
        "device = torch.device('cuda') if torch.cuda.is_available() else torch.device('cpu')"
      ],
      "metadata": {
        "id": "MwBYZzkj3TAN"
      },
      "execution_count": null,
      "outputs": []
    },
    {
      "cell_type": "code",
      "execution_count": null,
      "metadata": {
        "colab": {
          "base_uri": "https://localhost:8080/"
        },
        "id": "gxwcIP3vd29m",
        "outputId": "84c02cab-8bf7-46c0-a4fe-5525e229fa78"
      },
      "outputs": [
        {
          "output_type": "execute_result",
          "data": {
            "text/plain": [
              "BertForMaskedLM(\n",
              "  (bert): BertModel(\n",
              "    (embeddings): BertEmbeddings(\n",
              "      (word_embeddings): Embedding(30522, 768, padding_idx=0)\n",
              "      (position_embeddings): Embedding(512, 768)\n",
              "      (token_type_embeddings): Embedding(2, 768)\n",
              "      (LayerNorm): LayerNorm((768,), eps=1e-12, elementwise_affine=True)\n",
              "      (dropout): Dropout(p=0.1, inplace=False)\n",
              "    )\n",
              "    (encoder): BertEncoder(\n",
              "      (layer): ModuleList(\n",
              "        (0-11): 12 x BertLayer(\n",
              "          (attention): BertAttention(\n",
              "            (self): BertSelfAttention(\n",
              "              (query): Linear(in_features=768, out_features=768, bias=True)\n",
              "              (key): Linear(in_features=768, out_features=768, bias=True)\n",
              "              (value): Linear(in_features=768, out_features=768, bias=True)\n",
              "              (dropout): Dropout(p=0.1, inplace=False)\n",
              "            )\n",
              "            (output): BertSelfOutput(\n",
              "              (dense): Linear(in_features=768, out_features=768, bias=True)\n",
              "              (LayerNorm): LayerNorm((768,), eps=1e-12, elementwise_affine=True)\n",
              "              (dropout): Dropout(p=0.1, inplace=False)\n",
              "            )\n",
              "          )\n",
              "          (intermediate): BertIntermediate(\n",
              "            (dense): Linear(in_features=768, out_features=3072, bias=True)\n",
              "            (intermediate_act_fn): GELUActivation()\n",
              "          )\n",
              "          (output): BertOutput(\n",
              "            (dense): Linear(in_features=3072, out_features=768, bias=True)\n",
              "            (LayerNorm): LayerNorm((768,), eps=1e-12, elementwise_affine=True)\n",
              "            (dropout): Dropout(p=0.1, inplace=False)\n",
              "          )\n",
              "        )\n",
              "      )\n",
              "    )\n",
              "  )\n",
              "  (cls): BertOnlyMLMHead(\n",
              "    (predictions): BertLMPredictionHead(\n",
              "      (transform): BertPredictionHeadTransform(\n",
              "        (dense): Linear(in_features=768, out_features=768, bias=True)\n",
              "        (transform_act_fn): GELUActivation()\n",
              "        (LayerNorm): LayerNorm((768,), eps=1e-12, elementwise_affine=True)\n",
              "      )\n",
              "      (decoder): Linear(in_features=768, out_features=30522, bias=True)\n",
              "    )\n",
              "  )\n",
              ")"
            ]
          },
          "metadata": {},
          "execution_count": 86
        }
      ],
      "source": [
        "device = torch.device('cuda') if torch.cuda.is_available() else torch.device('cpu')\n",
        "# and move our model over to the selected device\n",
        "model.to(device)\n",
        "# activate training mode\n",
        "model.train()"
      ]
    },
    {
      "cell_type": "code",
      "execution_count": null,
      "metadata": {
        "colab": {
          "base_uri": "https://localhost:8080/"
        },
        "id": "Q9Z8cnjWd5tf",
        "outputId": "5edaafb6-0c6c-41d9-8bfe-6574c42bb229"
      },
      "outputs": [
        {
          "name": "stderr",
          "output_type": "stream",
          "text": [
            "/usr/local/lib/python3.9/dist-packages/transformers/optimization.py:391: FutureWarning: This implementation of AdamW is deprecated and will be removed in a future version. Use the PyTorch implementation torch.optim.AdamW instead, or set `no_deprecation_warning=True` to disable this warning\n",
            "  warnings.warn(\n"
          ]
        }
      ],
      "source": [
        "from transformers import AdamW\n",
        "# initialize optimizer\n",
        "optim = AdamW(model.parameters(), lr=5e-5)"
      ]
    },
    {
      "cell_type": "code",
      "execution_count": null,
      "metadata": {
        "colab": {
          "base_uri": "https://localhost:8080/"
        },
        "id": "vffaHCQ1d-In",
        "outputId": "0ee9a2f0-9090-4cce-b0d7-4985a8e9adcf"
      },
      "outputs": [
        {
          "name": "stderr",
          "output_type": "stream",
          "text": [
            "\r  0%|          | 0/85 [00:00<?, ?it/s]<ipython-input-22-6dccb434beb5>:5: UserWarning: To copy construct from a tensor, it is recommended to use sourceTensor.clone().detach() or sourceTensor.clone().detach().requires_grad_(True), rather than torch.tensor(sourceTensor).\n",
            "  return {key: torch.tensor(val[idx]) for key, val in self.encodings.items()}\n",
            "Epoch 0: 100%|██████████| 85/85 [38:39<00:00, 27.29s/it, loss=0.142]\n",
            "Epoch 1: 100%|██████████| 85/85 [39:59<00:00, 28.23s/it, loss=0.18]\n"
          ]
        }
      ],
      "source": [
        "from tqdm import tqdm  # for our progress bar\n",
        "\n",
        "epochs = 2\n",
        "\n",
        "for epoch in range(epochs):\n",
        "    # setup loop with TQDM and dataloader\n",
        "    loop = tqdm(loader, leave=True)\n",
        "    for batch in loop:\n",
        "        # initialize calculated gradients (from prev step)\n",
        "        optim.zero_grad()\n",
        "        # pull all tensor batches required for training\n",
        "        input_ids = batch['input_ids'].to(device)\n",
        "        attention_mask = batch['attention_mask'].to(device)\n",
        "        labels = batch['labels'].to(device)\n",
        "        # process\n",
        "        outputs = model(input_ids, attention_mask=attention_mask,\n",
        "                        labels=labels)\n",
        "        # extract loss\n",
        "        loss = outputs.loss\n",
        "        # calculate loss for every parameter that needs grad update\n",
        "        loss.backward()\n",
        "        # update parameters\n",
        "        optim.step()\n",
        "        # print relevant info to progress bar\n",
        "        loop.set_description(f'Epoch {epoch}')\n",
        "        loop.set_postfix(loss=loss.item())"
      ]
    },
    {
      "cell_type": "code",
      "execution_count": null,
      "metadata": {
        "colab": {
          "base_uri": "https://localhost:8080/"
        },
        "id": "lUaGV_l3kz6E",
        "outputId": "8b305288-5652-4236-e514-d2210a8f3df6"
      },
      "outputs": [
        {
          "data": {
            "text/plain": [
              "('finetuned_BertForMaskedLM_tokenizer1/tokenizer_config.json',\n",
              " 'finetuned_BertForMaskedLM_tokenizer1/special_tokens_map.json',\n",
              " 'finetuned_BertForMaskedLM_tokenizer1/vocab.txt',\n",
              " 'finetuned_BertForMaskedLM_tokenizer1/added_tokens.json')"
            ]
          },
          "execution_count": 34,
          "metadata": {},
          "output_type": "execute_result"
        }
      ],
      "source": [
        "model.save_pretrained(\"finetuned_BertForMaskedLM_model1\")\n",
        "tokenizer.save_pretrained(\"finetuned_BertForMaskedLM_tokenizer1\")"
      ]
    },
    {
      "cell_type": "code",
      "execution_count": null,
      "metadata": {
        "id": "0TvtKXFGqY6j",
        "colab": {
          "base_uri": "https://localhost:8080/"
        },
        "outputId": "3ecf538f-4d63-4326-9ada-c2d37a54ae96"
      },
      "outputs": [
        {
          "output_type": "execute_result",
          "data": {
            "text/plain": [
              "['advertisements, bootstrap, back end, html5, jquery, windows xp, java, mysql, operating system, database, iso, ide, angular, credit, mvc, hibernate, angularjs, sublime text, angular js, css3, programming, billing, eclipse, servlet, sales, selling, jsp, javascript, windows, architecture, spring, ajax, purchasing, web technology, sales order, mvc architecture',\n",
              " 'engineering, ionic, framework, java, jdbc, mysql, spring mvc, mssql, database, angular, mvc, php, hibernate, scripting, html, oracle, linux, servlet, jsp, javascript, json, frameworks, struts, spring, ajax, j2ee',\n",
              " 'engineering, mis, object oriented programming, java, c language, deduplication, database, sql, computing, jsf, hibernate, programming, oracle, c++, assurance, android, spring, development, ms access, information assurance',\n",
              " 'operating systems, sqoop, source control, java, datasets, mysql, hive, forecasting, database, optimization, map reduce, apache, ide, shell scripting, spark, queries, algorithm, programming, scripting, oracle, eclipse, linux, writing, backend, predict, windows, scala, hbase, centos, git, hdfs, distributed, hadoop',\n",
              " 'science',\n",
              " 'engineering, vpn, network, python, remote access, problem management, ticketing, networking, router, analysis, troubleshooting, configuration, connectivity, service providers, event management, troubleshoot, bmc, vb, deployment, ids, routers, resiliency, lan, administration, writing, developing, juniper, wan, cisco routers, interface, itil, cisco asa, firewall, patterns, cisco router, design documents, infrastructure, cisco, siem, firewalls, researching, customer requirements, load balancers, design, panorama, change management, technical expertise, ssl',\n",
              " 'engineering, negotiating, innovative, auto cad, technical specification, erp, finishing, construction, schematics, inventory, process flow, supply chain management, 3d modeling, coordinating, engineering analysis, improvement, potential, sales, cost estimation, engineering drawing, excel, supply chain, project execution, machining, detailing, corrective actions, internal audit, negotiations, vendor development, developing, actuators, product selection, manufacturing, negotiation, continuous improvement, new product development, fabrication, database, analyzing, purchase, instrumentation, invoices, petrochemical, procurement, documentation, inspection, pneumatics, awareness, rfq, customer requirements, design, purchasing, mechanical, marketing, drawings, internet, cad, analysis, maintenance, guide, prototype, automation, iso, electrical, contract, buying, actuator, sales service, assemblies, development, realistic, maintenance manuals, costing, training, mgmt, audit, standard operating procedures, audit plan, invoicing',\n",
              " 'apache poi, traceability matrix, communication, new technologies, jdbc, sdlc, integration testing, analysis, critical thinking, reliability, testng, jenkins, automation, ide, apache, selenium, operational analysis, stlc, science, grid, learning, selenium grid, exploratory testing, compatibility testing, test cases, writing, jsp, black, smoke testing, white box testing, recruitment process, usability, development, testing, integration, design, functional testing, system testing, training, test plan, servlets, web based application, defect tracking, black box testing',\n",
              " 'nan',\n",
              " 'marketing, customer relationship, administrative tasks, internet, powerpoint, operating system, maintenance, statistical, compliance, coaching, reporting, profitability, advertising, endurance, legislation, supervising, market research, administration, sales, writing, scheduling, windows, operations, excel, prioritizing, customer service, designing, word, ms-office, planning, recruiting, training',\n",
              " 'banking, websphere, cloudera, sqoop, flume, visualization, python, loading data, aws, avro, algorithms, java, mysql, application development, analysis, technical documentation, oozie, troubleshooting, data lake, system performance, hive, sql, database, optimization, telecommunications, apache, ide, shell scripting, spark, connectivity, queries, oltp, unit testing, scripting, oracle, documentation, eclipse, linux, hiveql, test cases, hadoop clusters, ecosystem, server, developing, writing, clusters, kpi, nosql, teradata, storm, windows, putty, scala, jdk, rdbms, hbase, databases, workflow, client side, svn, development, tpt, hdfs, distributed, analytics, processing, design, testing, mapreduce, tomcat, hadoop',\n",
              " 'nan',\n",
              " 'engineering, printing, autocad, positive attitude, hydraulic system, r&d, leader, design, ms office, mechanical, conveyor, training, catia v5, quick learner, microsoft office, supervision, actuator, catia',\n",
              " 'computer skills, excel, engineering, loyalty, transformer, hard working, crm, positive attitude, word, tapping, testing, electrical, initiative, ms office, creativity, motivated, windows',\n",
              " 'fedora, database, engineering, c++, programming, python, numpy, science, mysql, tensorflow, windows, ubuntu',\n",
              " 'engineering, autocad, communication, casting, computer skills, drafting, construction, honesty, facilitating, sincerity, procurement, inspection, scheduling, windows, architecture, development, shuttering, hardworking, construction materials, design, supervision',\n",
              " 'boosting, investigative, dimensionality reduction, bootstrap, d3.js, dashboard, friendly, python, matplotlib, cluster analysis, jquery, tableau, java, mysql, coding, natural language processing, analysis, flask, kafka, reporting, erp, database, sql, analyzing, sentiment analysis, python flask, cassandra, elasticsearch, pipeline, regular expression, angular, decision trees, numpy, science, programming languages, plotly, elastic search, node.js, topic modelling, programming, learning, kibana, html, scikit-learn, classification, precision, elastic, pandas, assurance, developing, assisted, javascript, computer vision, nltk, pca, user requirement, governance, docker, hbase, git, random forest, intelligence, development, accounting, word, ggplot, analytics, visualizations, processing, sqlserver, investigations, interactive, tableau dashboard, time series analysis, scipy, css',\n",
              " 'excel, coordinating, assurance, dashboard, mis, planning, sales, innovative, trading, excel macro, productivity, reporting',\n",
              " 'documenting, db2, network, stored procedures, communication, framework, aws, ftp server, ftp, strategy, mysql, xml, agile methodologies, talend, database, sql, data warehouse, time management skills, queries, unit testing, production environment, troubleshoot, programming, business logic, sql server, best practices, sql database, administration, server, writing, sql queries, performance tuning, scheduling, agile, redshift, operations, determine, insight, databases, flat files, development, testing, integration, design, processing, big data, etl, business needs, methodology',\n",
              " 'presentation, framework, technical skills, asp.net mvc, asp, primary skill, motivated, entity framework, sql, mvc, transport, hard worker, angularjs, visual studio, user requirements, adaptability, logistics, html, presentation layer, crm, server, javascript, architecture, development, asp.net, planning, training, asp .net mvc, css',\n",
              " 'synthesize, network, dashboard, ppt, qualitative, communication, strategic, mis, quantitative, project management, leadership, ms office, client communication, macros, brainstorming sessions, strategy, core competencies, sdlc, performance report, analysis, statistical, compliance, feedback analysis, reporting, organizational skills, multitasking, forecasting, analyzing, brainstorming, sla, budgeting, financial performance, automation, organizational, collaboration, strategic thinking, engagement, billing, activity diagrams, documentation, risk identification, team handling, software development lifecycle, administration, developing, auditing, productive, fast paced environment, supportive, governance, operations, patterns, excel, reliable, infrastructure, influence, development, insights, audit, training, onshore, sla compliance, proven ability, risk management',\n",
              " 'black, karate',\n",
              " 'engineering, unix, jira, debugger, fabrication, router, analysis, change requests, troubleshooting, etl tool, sql, analyzing, automation, unit testing, learning, oracle, writing, commitment, electronics, putty, development, testing, design, etl, workflows',\n",
              " 'engineering, eagerness, personal skills, leadership, calibration, analysis, maintenance, distribution, iso, dispatch, competitive, organizational, documentation, validation, inspection, implementation, process testing, capa, transformers, transformer, testing, functional testing, quick learner',\n",
              " 'computer skills, excel, engineering, loyalty, transformer, hard working, crm, positive attitude, word, tapping, testing, electrical, initiative, ms office, creativity, motivated, windows',\n",
              " 'retail, engineering, python, financial reports, reporting, sql, visual studio, normalization, data flow, t-sql, server, sales, kpi, sql profiler, infrastructure, analytics, finance, analysing, windows server, communication, knowledge transfer, linear programming, restructuring, retail analytics, algorithm, digital, sql server, uat, crm, developing, electronics, windows, media analytics, nlp, designing, insights, etl, data models, ownership, sap, cluster analysis, stored procedures, tableau, analytical models, database, analyzing, science, uml, invoices, customer segmentation, rfm analysis, documentation, forecast, pl-sql, business requirements, telecom, scm, planning, design, processing, testing, decomposition, data modelling, dashboard, algorithms, analysis, maintenance, forecasting, ms sql, healthcare, programming, sap hana, c#, object detection, interface, swift, development, initiative',\n",
              " 'marketing, communication, ms-office, dependability, team work, sales, flexibility, dedication, talent management, finance, convincing',\n",
              " 'collaborative, marketing, loyalty, communication, visualizing, sales, marketing management, optimistic, loyal',\n",
              " 'apache poi, traceability matrix, communication, new technologies, jdbc, sdlc, integration testing, analysis, critical thinking, reliability, testng, jenkins, automation, ide, apache, selenium, operational analysis, stlc, science, grid, learning, selenium grid, exploratory testing, compatibility testing, test cases, writing, jsp, black, smoke testing, white box testing, recruitment process, usability, development, testing, integration, design, functional testing, system testing, training, test plan, servlets, web based application, defect tracking, black box testing',\n",
              " 'psychology, counselling, training, organizational',\n",
              " 'mis, strategy, emerging technologies, spreadsheets, reporting, sql, lending, competitive, troubleshoot, mentoring, improvement, performance management, leader, server, consistent, sales, potential, investment services, backend, architecture, determine, determined, investment management, kyc, sungard, examination, replication, strategic, framework, effectiveness, talent management, coaching, drafting, motivation, credibility, proactive, financial services, negotiations, crm, aviation, incident reporting, help desk, human resources, consulting, fiserv, onshore, productivity, senior management, spoc, leasing, editing, compliance, hiring, database, facilitating, invoices, presentations, documentation, deployment, training programs, generating revenue, accountability, customer requirements, planning, design, testing, processing, analysis, distribution, troubleshooting, sla, commercial lending, credit, transport, contract, communicating, learning, billing, operations, development, encourage, siebel, audit, training, standard operating procedures, system deployment',\n",
              " 'marketing',\n",
              " 'ant, marketing, engineering, b2b, software development life cycle, subversion, bitbucket, java, core competencies, build automation, application configuration, maintenance, distribution, reporting, ci, analyzing, b2c, jenkins, configuration, apache, automation, ansible, science, programming languages, primary skills, collaboration, merging, communicating, maven, programming, scripting, documentation, deployment, uat, linux, potential, sales, developing, installing, application servers, electronics, architecture, build tools, git, usability, infrastructure, continuous integration, development, configuring, testing, integration, design, online sales, continuous deployment, configuration management, tomcat',\n",
              " 'banking, engineering, bootstrap, friendly, dashboard, sass, html5, jquery, asp, dedicated, ui, angular, mvc, purchase, cbs, photography, angular js, visual studio, css3, project completion, digital, implementation, sales, reconciliation, javascript, graphics, development, liability, photoshop, brackets, web based application',\n",
              " 'engineering, transmission, electrical, basic computer, electronics, maintenance, installation, distribution',\n",
              " 'computer skills, latex, matlab, multisim, gardening, design, pcb, electronics',\n",
              " 'dbms, banking, retail, marketing, python, sensitive, communication, technical skills, leadership, networking, strategy, machine learning, installation, statistical, troubleshooting, multitasking, database, sql, capacity planning, sla, configuration, science, client databases, facilitating, programming, learning, oracle, efficient, linux, insurance, statistics, r programming, databases, analytics, planning, design, training, numerous, quick learner, leadership qualities',\n",
              " 'psychology, counselling, training, organizational',\n",
              " 'listening, contract',\n",
              " 'ant, marketing, engineering, b2b, software development life cycle, subversion, bitbucket, java, core competencies, build automation, application configuration, maintenance, distribution, reporting, ci, analyzing, b2c, jenkins, configuration, apache, automation, ansible, science, programming languages, primary skills, collaboration, merging, communicating, maven, programming, scripting, documentation, deployment, uat, linux, potential, sales, developing, installing, application servers, electronics, architecture, build tools, git, usability, infrastructure, continuous integration, development, configuring, testing, integration, design, online sales, continuous deployment, configuration management, tomcat',\n",
              " 'engineering, network, epc, application engineering, project plan, reporting, schematics, coordinating, teleconference, compensation, preventive maintenance, leader, server, sales, microsoft visio, architecture, infrastructure, dcs, schematic, quality management system, project execution, communication, framework, application development, hmi, hvac, configuration, corrective actions, revision, queries, scada, validation, contingency plan, coordination, electronics, hardware engineering, graphics, closeout, manufacturing, methodology, sap, honeywell, teamwork, database, analyzing, timely delivery, change orders, purchase, modernization, instrumentation, procurement, documentation, software engineering, purchase orders, inspection, forecast, visa processing, plc, rfq, planning, design, processing, testing, analysis, sow, maintenance, distribution, automation, iso, contract, fdm, progress reports, ethics, communicating, grid, prioritization, gateway, visio, scheduling, operations, development, costing, client satisfaction, planned, invoicing',\n",
              " 'business intelligence, business analytics, visualization, communication, strategic, aws, quantitative, interpretation, leadership, algorithms, python, internet, bluemix, analysis, pgp, machine learning, api, distribution, selenium web driver, hive, database, forecasts, apache, fraud detection, selenium, spark, science, pyspark, queries, qliksense, learning, data science, kpi, electronics, face recognition, comparative analysis, ibm watson, lex, product lines, intelligence, messaging, nlp, analytics, quantitative analysis, planning, insights, ibm bluemix, distribution channels, hadoop',\n",
              " 'sorting, operating systems, python, multisim, jquery, aws, windows xp, java, mysql, encryption, robot, rfid, software tools, sql, gsm, hibernate, algorithm, html, matlab, implementation, javascript, interface, windows, ubuntu, cryptography, spring, consulting, css, aes',\n",
              " 'mis, communication, mis reporting, networking, sops, communications, prototype, reporting, functional requirements, efficient, documentation, uat, deployment, administration, potential, sales, selling, operations, flexibility, development, design, training, project charter, reengineering, senior management',\n",
              " 'listening, contract',\n",
              " 'windows xp, java, mysql, maintenance, reporting, database, sql, analyzing, automation, html, sql server, coordinating, test scenarios, test cases, server, test plans, android, manual testing, windows, tracking bugs, testing, css',\n",
              " 'engineering, sap, analysis, maintenance, compliance, vba, troubleshooting, automation, programming, grc, documentation, ids, positive attitude, adaptable, excel, confidence, design, design skills, authorization, vba programming, microsoft excel',\n",
              " 'marketing, midi, communication, qualitative, strategic, effectiveness, quantitative, sourcing, editing, communications, reporting, creative, transmission, proactive, advertising, social media, publishing, progress reports, media coverage, publication, programming, logistics, mentoring, audience, implementation, potential, administration, developing, ambitious, assisted, pitching, administration support, partnerships, insight, infrastructure, direct mail, development, designing, researching, interviewing, dance, partnership, planning, briefings, consultation',\n",
              " 'web application, engineering, bootstrap, multifunctional, communication, technical skills, knowledge base, java, xml, middleware, ms-sql, interfaces, sql, proactive, automation, webservices, science, collaboration, oracle, c++, eclipse, toad, ms-access, developing, jsp, json, backend, productive, windows, workflow, databases, development',\n",
              " 'engineering, mis, brainstorming sessions, srs, networking, requirement traceability matrix, reporting, sql, ui, inventory, waterfall, coordinating, test scenarios, improvement, insurance, potential, user acceptance test, agile, determine, excel, scrum, determined, clinical trial, word, investment management, powerpoint presentations, test coverage, risk monitoring, research process, defect tracking, banking, trading, process documentation, queries, flow diagrams, master data management, collaborating, uat, test cases, developing, writing, foreign exchange, prioritizing, designing, hpqc, brokerage, onshore, methodology, prototyping, presentation, powerpoint, database, process improvement, test scripts, dispatch, insurance policy, facilitating, invoices, bots, constructing, presentations, issue resolution, financing, documentation, status tracking, implementation, test plans, android, business requirements, ios, ms word, testing, integration, design, rtm, operations management, test plan, background checks, user acceptance testing, highlighting, facilitate, project initiation, dashboard, streamlining, diagnostic, ms office, analysis, maintenance, project delivery, diagnostic testing, prototype, brainstorming, commercial banking, automation, credit, ms power point, inventory management, initiation, ms excel, warehousing, poc, visio, business processes, operations, development, training, version control',\n",
              " 'excel, c++, ajax, jquery, java script, j2ee, java, jdbc, programming, user requirement',\n",
              " 'collaborative, marketing, loyalty, communication, visualizing, sales, marketing management, optimistic, loyal',\n",
              " 'negotiation, marketing, engineering, drawings, autocad, sap, network, communication, project management, welding, coding, maintenance, api, cadd, innovation, petroleum, erp, iso, bidding, electrical, business development, grid, team spirit, classification, international standards, rca, sales, daily operation, engineering services, flexibility, market survey, development, design, training, lighting, routine maintenance',\n",
              " 'engineering, autocad, communication, casting, computer skills, drafting, construction, honesty, facilitating, sincerity, procurement, inspection, scheduling, windows, architecture, development, shuttering, hardworking, construction materials, design, supervision',\n",
              " 'engineering, embedded, java, operating system, maintenance, core java, sql, enthusiastic, ide, oracle, linux, eclipse, gateway, putty, windows, databases, centos, development, hardworking, design, sonarqube',\n",
              " 'operating systems, sqoop, source control, java, datasets, mysql, hive, forecasting, database, optimization, map reduce, apache, ide, shell scripting, spark, queries, algorithm, programming, scripting, oracle, eclipse, linux, writing, backend, predict, windows, scala, hbase, centos, git, hdfs, distributed, hadoop',\n",
              " 'examination, honesty, confidence, science, learning, adaptability',\n",
              " 'spoc, timesheet, sap, filing, analysis, maintenance, compliance, communications, resource utilization, reporting, hiring, database, sla, optimization, training team, billing, documentation, deployment, sla management, service delivery management, confluence, managed services, implementation, forecast, visio, kpi, interface, scheduling, itil, microsoft office, sharepoint, operations, patterns, excel, word, ms project, planning, design, training, staffing, advanced ms excel, senior management, finance, highlighting, invoicing',\n",
              " 'drawings, autocad, plumbing, ms office, basic computer, mobilization, installation, guide, computer skills, electrical, contract, purchase, progressive, supervising, billing, procurement, inspection, aviation, coordination, infrastructure, planning',\n",
              " 'economics',\n",
              " 'marketing, communication, ms-office, dependability, team work, sales, flexibility, dedication, talent management, finance, convincing',\n",
              " 'sales',\n",
              " 'python, engineering, science',\n",
              " 'engineering, bootstrap, html5, jquery, presentation, windows xp, java, illustrator, sdlc, analysis, detailed design, database, database connectivity, ide, ui, connectivity, advertising, sublime text, css3, requirement gathering, documentation, diagnosis, c++, implementation, javascript, agile, windows, agile methodology, graphics, databases, notepad, designing, development, photoshop, use cases, design, requirement analysis, consultation, cnc, corel draw, methodology',\n",
              " 'sap, replication, honeywell, editing, technical specification, analysis, analyzing, sql, business requirement, science, finance domain, characterization, sap hana, implementation, developing, webi, scheduling, sharepoint, design document, technical design document, design documents, development, consulting, drilling, configuring, processing, design, finance',\n",
              " 'network, negotiating, mis, software packages, reporting, erp, pivotal, construction, customer satisfaction, inventory, receiving, supervising, coordinating, insurance, potential, leader, sales, reasonable, wms, accounting, stocking, banking, sop, strategic, sourcing, punctuality, queries, transportation, efficient, negotiations, developing, coordination, stock control, manufacturing, brokerage, productivity, logistic, tally, filing, mobilization, compliance, warehouse management, database, analyzing, dispatch, timely delivery, sophisticated, purchase, export documentation, dispatching, procurement, documentation, underwriting, purchase orders, inspection, partnerships, interviewing, planning, purchasing, freight forwarding, streamlining, mis reporting, internet, ticketing, analysis, maintenance, distribution, iso, credit, clearance, transport, procuring, contract, transshipment, communicating, warehousing, logistics, pricing strategies, billing, inventory control, commitment, strategic sourcing, operations, logistics management, shipping, development, invoicing',\n",
              " 'orientation, pivot, internet, ms office, pivot table, filing, analysis, compliance, restructuring, facilitation, payroll, esic, queries, engagement, deployment, power point, validation, compensation, insurance, performance management, administration, sales, coordination, record management, windows, excel, development, word, processing, interactive, training, salary processing, employee engagement',\n",
              " 'computer skills, sql, engineering, unix, playing cricket, etl, electronics, telecommunication',\n",
              " 'computer skills, sql, engineering, unix, playing cricket, etl, electronics, telecommunication',\n",
              " 'python, engineering, science',\n",
              " 'engineering, unix, jira, debugger, fabrication, router, analysis, change requests, troubleshooting, etl tool, sql, analyzing, automation, unit testing, learning, oracle, writing, commitment, electronics, putty, development, testing, design, etl, workflows',\n",
              " 'sorting, operating systems, python, multisim, jquery, aws, windows xp, java, mysql, encryption, robot, rfid, software tools, sql, gsm, hibernate, algorithm, html, matlab, implementation, javascript, interface, windows, ubuntu, cryptography, spring, consulting, css, aes',\n",
              " 'bootstrap, html5, jquery, framework, technical skills, asp.net mvc, api, entity framework, database, sql, ide, angular, mvc, science, css3, programming, sql server, server, scheduling, excel, word, asp.net, ajax',\n",
              " 'retail, sap, communication, ewm, sap bi, leadership, embedded, sap s/4hana, service desk, application development, maintenance, abap, analyzing, technical specifications, ecc6.0, qm, odata, gateway, implementation, potential, sales, itil, scm, development, customization, hpqc, edi, sap abap, design, training, solman',\n",
              " 'operating systems, ipv6, network, dhcp, mis, networking, server configuration, inventory, outlook, coordinating, administration, server, ems, installing, cabling, cisco router, infrastructure, accounting, configuring, active directory, fortinet, qms, acl, microsoft outlook, virtualbox, linux os, api, dns, print server, configuration, hsrp, dns server, linux, symantec, lan, routing, windows, helpdesk, windows servers, logging, backup management, tally, ftp, installation, eigrp, dhcp server, vlan, sccm, gns3, esxi, routers, implementation, virtualisation, ubuntu, firewall, cisco, server management, stp, router, maintenance, ospf, troubleshooting, tftp, sla, backups, file servers, inventory management, vtp, incident management, oracle, rhel, wan, application servers, sla monitoring, interface, system management, ris, wifi',\n",
              " 'engineering, sap, python, loading data, sso, sap r3, java, troubleshooting, data warehousing, database, sql, sdk, data warehouse, bods, apache, configuration, authentication, warehousing, sybase, publication, oracle, coordinating, validation, administration, server, oracle database, metadata, windows, flat files, intelligence, testing, audit, etl, tomcat',\n",
              " 'examination, researching, listening, competent, word, compensation, administration, processing, concisely, writing, briefings, networking, science, legal documents, focused, supervision, windows, bilingual',\n",
              " 'engineering, vpn, network, python, remote access, problem management, ticketing, networking, router, analysis, troubleshooting, configuration, connectivity, service providers, event management, troubleshoot, bmc, vb, deployment, ids, routers, resiliency, lan, administration, writing, developing, juniper, wan, cisco routers, interface, itil, cisco asa, firewall, patterns, cisco router, design documents, infrastructure, cisco, siem, firewalls, researching, customer requirements, load balancers, design, panorama, change management, technical expertise, ssl',\n",
              " 'rendering, engineering, autocad, solidworks, construction, confident, design, science, mechanical',\n",
              " 'science',\n",
              " 'operating systems, engineering, surgical, framework, technical skills, java, operating system, database, sql, profitability, angular, science, inventory management, hibernate, inventory, organization growth, hibernate framework, c++, linux, inventory control, implementation, developing, backend, manual testing, windows, stock control, databases, printing, spring, ms-office, testing, functional testing, j2ee, ordering, invoicing',\n",
              " 'network, stp, maintenance, distribution, reliability, troubleshooting, hvac, provision, clearance, electrical, interlocking, mono, scada, preventive maintenance, statistics, electrical safety, plc, actuators, hydraulic machine, transformer, testing, mechanical',\n",
              " 'engineering, transmission, electrical, basic computer, electronics, maintenance, installation, distribution',\n",
              " 'engineering, unix, replication, scaling, azure cloud, aws, mysql, filenet, debugging, analysis, maintenance, application support, database backup, appdynamics, troubleshooting, database, sql, telecommunications, vdi, production deployment, automation, shell scripting, production servers, queries, scripting, html, oracle, xen, coordinating, elastic, deployment, linux, aix, shell scripts, insurance, administration, server, writing, oracle database, sql queries, electronics, administration support, windows, dynamo db, operations, template, ec2, spotfire, linux servers, development, testing, planning, cloudformation, puppet, tsys',\n",
              " 'rest, network, friendly, unix, jira, python, communication, html5, framework, templates, agile scrum, mysql, sqlite, analysis, api, telecommunications, restful, unit testing, fault management, mongodb, inventory, css3, html, oracle, support systems, sqlalchemy, deployment, hub, restful api, implementation, server, json, interface, django, agile, operations, telecommunication, git, databases, scrum, code deployment, development, network inventory, processing, design, testing, web crawling, css',\n",
              " 'banking, marketing, engineering, nodejs, internet, networking, java, reactjs, machine learning, prototype, computing, science, publication, programming, learning, deployment, blockchain, server, developing, sales, interface, c programming, analytics',\n",
              " 'mis, communication, mis reporting, networking, sops, communications, prototype, reporting, functional requirements, efficient, documentation, uat, deployment, administration, potential, sales, selling, operations, flexibility, development, design, training, project charter, reengineering, senior management',\n",
              " 'ant, marketing, engineering, b2b, software development life cycle, subversion, bitbucket, java, core competencies, build automation, application configuration, maintenance, distribution, reporting, ci, analyzing, b2c, jenkins, configuration, apache, automation, ansible, science, programming languages, primary skills, collaboration, merging, communicating, maven, programming, scripting, documentation, deployment, uat, linux, potential, sales, developing, installing, application servers, electronics, architecture, build tools, git, usability, infrastructure, continuous integration, development, configuring, testing, integration, design, online sales, continuous deployment, configuration management, tomcat',\n",
              " 'nan',\n",
              " 'fda, retail, engineering, vpn, network, http, python, innovative, strategy, debugging, integration testing, gui, requirement traceability matrix, robot, uft, bugzilla, sql, construction, test strategy, tdd, scripting, automation tools, insurance, administration, server, backend, agile, qa automation, software quality, pacs, regression testing, scrum, bug report, test coverage, banking, image reconstruction, tcp, traceability matrix, jira, framework, https, embedded, xml, qtp, win cvs, api, kanban, selenium, rational robot, clear case, authentication, hl7, system integration, linux, test cases, windows, svn, database testing, sprint planning, environmental, productivity, methodology, reconstruction, ftp, mysql, installation, database, shell scripting, science, html, qc, vb, c++, test reports, javascript, collaborative, health care, planning, design, testing, integration, automation framework, test plan, microsoft sql, industrial automation, modular, rockwell, analysis, healthcare, automation, product requirement document, functional specification, programming, oracle, performance testing, ldap, descriptive programming, design documents, automation scripts, development, rational',\n",
              " 'rest, relational databases, website content, framework, jquery, leadership, wcf rest, coding, knockout js, api, knockout, database, sql, linq, hitech, ide, mvc, unit testing, visual studio, programming, html, visual studio code, sql server, front end, crm, cooperation, potential, server, javascript, json, typescript, agile, cms, git, databases, svn, development, content management system, asp.net, wcf, testing, design',\n",
              " 'engineering, unix, jira, debugger, fabrication, router, analysis, change requests, troubleshooting, etl tool, sql, analyzing, automation, unit testing, learning, oracle, writing, commitment, electronics, putty, development, testing, design, etl, workflows',\n",
              " 'apache poi, traceability matrix, communication, new technologies, jdbc, sdlc, integration testing, analysis, critical thinking, reliability, testng, jenkins, automation, ide, apache, selenium, operational analysis, stlc, science, grid, learning, selenium grid, exploratory testing, compatibility testing, test cases, writing, jsp, black, smoke testing, white box testing, recruitment process, usability, development, testing, integration, design, functional testing, system testing, training, test plan, servlets, web based application, defect tracking, black box testing',\n",
              " 'computer skills, latex, matlab, multisim, gardening, design, pcb, electronics',\n",
              " 'rest, network, friendly, unix, jira, python, communication, html5, framework, templates, agile scrum, mysql, sqlite, analysis, api, telecommunications, restful, unit testing, fault management, mongodb, inventory, css3, html, oracle, support systems, sqlalchemy, deployment, hub, restful api, implementation, server, json, interface, django, agile, operations, telecommunication, git, databases, scrum, code deployment, development, network inventory, processing, design, testing, web crawling, css',\n",
              " 'sorting, operating systems, python, ms office, dynamics, java, mysql, gui, configuration, numpy, functional requirements, programming, technical design, scripting, html, gui development, testability, pandas, python scripting, electronics, django, windows, business requirements, excel, development, design, software configuration management',\n",
              " 'engineering, drawings, company policies, hardware testing, debugging, compliance, system performance, technical manuals, process improvements, schematics, troubleshoot, customer satisfaction, quality management system, electronics, windows, telecommunication, testing, system testing, test plan, documentations, abacus',\n",
              " 'dbms, database, engineering, enthusiastic, honesty, communication, matlab, software skills, positive thinking, science, java, motivated, web programming, programming',\n",
              " 'network, negotiating, mis, software packages, reporting, erp, pivotal, construction, customer satisfaction, inventory, receiving, supervising, coordinating, insurance, potential, leader, sales, reasonable, wms, accounting, stocking, banking, sop, strategic, sourcing, punctuality, queries, transportation, efficient, negotiations, developing, coordination, stock control, manufacturing, brokerage, productivity, logistic, tally, filing, mobilization, compliance, warehouse management, database, analyzing, dispatch, timely delivery, sophisticated, purchase, export documentation, dispatching, procurement, documentation, underwriting, purchase orders, inspection, partnerships, interviewing, planning, purchasing, freight forwarding, streamlining, mis reporting, internet, ticketing, analysis, maintenance, distribution, iso, credit, clearance, transport, procuring, contract, transshipment, communicating, warehousing, logistics, pricing strategies, billing, inventory control, commitment, strategic sourcing, operations, logistics management, shipping, development, invoicing',\n",
              " 'economics',\n",
              " 'cloud front, network, unix, aws, rman, addm, analysis, installation, dbca, troubleshooting, database, sql, jenkins, configuration, best practice, backups, transport, space management, elb, server migration, scripting, oracle, linux, data pump, administration, oracle databases, server, sales, installing, oracle database, windows, ec2, databases, accounting, development, configuring, datapump, environmental, plsql',\n",
              " 'engineering, printing, autocad, positive attitude, hydraulic system, r&d, leader, design, ms office, mechanical, conveyor, training, catia v5, quick learner, microsoft office, supervision, actuator, catia',\n",
              " 'ant, marketing, engineering, b2b, software development life cycle, subversion, bitbucket, java, core competencies, build automation, application configuration, maintenance, distribution, reporting, ci, analyzing, b2c, jenkins, configuration, apache, automation, ansible, science, programming languages, primary skills, collaboration, merging, communicating, maven, programming, scripting, documentation, deployment, uat, linux, potential, sales, developing, installing, application servers, electronics, architecture, build tools, git, usability, infrastructure, continuous integration, development, configuring, testing, integration, design, online sales, continuous deployment, configuration management, tomcat',\n",
              " 'leadership skills, healthcare, designing, communication, presentation, confident, leader, science, writing, leadership, team work, communicating, volunteering, presentations',\n",
              " 'mis, strategy, emerging technologies, spreadsheets, reporting, sql, lending, competitive, troubleshoot, mentoring, improvement, performance management, leader, server, consistent, sales, potential, investment services, backend, architecture, determine, determined, investment management, kyc, sungard, examination, replication, strategic, framework, effectiveness, talent management, coaching, drafting, motivation, credibility, proactive, financial services, negotiations, crm, aviation, incident reporting, help desk, human resources, consulting, fiserv, onshore, productivity, senior management, spoc, leasing, editing, compliance, hiring, database, facilitating, invoices, presentations, documentation, deployment, training programs, generating revenue, accountability, customer requirements, planning, design, testing, processing, analysis, distribution, troubleshooting, sla, commercial lending, credit, transport, contract, communicating, learning, billing, operations, development, encourage, siebel, audit, training, standard operating procedures, system deployment',\n",
              " 'banking, marketing, engineering, nodejs, internet, networking, java, reactjs, machine learning, prototype, computing, science, publication, programming, learning, deployment, blockchain, server, developing, sales, interface, c programming, analytics',\n",
              " 'physiology, microbiology, counselling, training, organized',\n",
              " 'synthesize, network, dashboard, ppt, qualitative, communication, strategic, mis, quantitative, project management, leadership, ms office, client communication, macros, brainstorming sessions, strategy, core competencies, sdlc, performance report, analysis, statistical, compliance, feedback analysis, reporting, organizational skills, multitasking, forecasting, analyzing, brainstorming, sla, budgeting, financial performance, automation, organizational, collaboration, strategic thinking, engagement, billing, activity diagrams, documentation, risk identification, team handling, software development lifecycle, administration, developing, auditing, productive, fast paced environment, supportive, governance, operations, patterns, excel, reliable, infrastructure, influence, development, insights, audit, training, onshore, sla compliance, proven ability, risk management',\n",
              " 'physiology, microbiology, counselling, training, organized',\n",
              " 'marketing, customer relationship, administrative tasks, internet, powerpoint, operating system, maintenance, statistical, compliance, coaching, reporting, profitability, advertising, endurance, legislation, supervising, market research, administration, sales, writing, scheduling, windows, operations, excel, prioritizing, customer service, designing, word, ms-office, planning, recruiting, training',\n",
              " 'web application, engineering, bootstrap, multifunctional, communication, technical skills, knowledge base, java, xml, middleware, ms-sql, interfaces, sql, proactive, automation, webservices, science, collaboration, oracle, c++, eclipse, toad, ms-access, developing, jsp, json, backend, productive, windows, workflow, databases, development',\n",
              " 'banking, spoc, network, mis, communication, effectiveness, leadership, detailing, interpersonal skills, client requirements, organisational skills, communications, cascading, time management, analyzing, sla, phone banking, credit, organizational, bcp, queries, engagements, customer satisfaction, qc, steering, training programs, analytical skills, leader, developing, managing processes, field services, project objectives, operations, dexterity, determine, insight, pos, development, designing, planning, kyc, audit, training, customer feedback, operational efficiency, organizational abilities, decision making, transaction monitoring',\n",
              " 'engineering, unix, replication, scaling, azure cloud, aws, mysql, filenet, debugging, analysis, maintenance, application support, database backup, appdynamics, troubleshooting, database, sql, telecommunications, vdi, production deployment, automation, shell scripting, production servers, queries, scripting, html, oracle, xen, coordinating, elastic, deployment, linux, aix, shell scripts, insurance, administration, server, writing, oracle database, sql queries, electronics, administration support, windows, dynamo db, operations, template, ec2, spotfire, linux servers, development, testing, planning, cloudformation, puppet, tsys',\n",
              " 'fda, retail, engineering, vpn, network, http, python, innovative, strategy, debugging, integration testing, gui, requirement traceability matrix, robot, uft, bugzilla, sql, construction, test strategy, tdd, scripting, automation tools, insurance, administration, server, backend, agile, qa automation, software quality, pacs, regression testing, scrum, bug report, test coverage, banking, image reconstruction, tcp, traceability matrix, jira, framework, https, embedded, xml, qtp, win cvs, api, kanban, selenium, rational robot, clear case, authentication, hl7, system integration, linux, test cases, windows, svn, database testing, sprint planning, environmental, productivity, methodology, reconstruction, ftp, mysql, installation, database, shell scripting, science, html, qc, vb, c++, test reports, javascript, collaborative, health care, planning, design, testing, integration, automation framework, test plan, microsoft sql, industrial automation, modular, rockwell, analysis, healthcare, automation, product requirement document, functional specification, programming, oracle, performance testing, ldap, descriptive programming, design documents, automation scripts, development, rational',\n",
              " 'hpsm, sap, dashboard, visualization, presentation, ticketing, analysis, reporting, analyzing, bar chart, credit, transport, queries, purchase, user requirements, billing, change request, documentation, audience, requirement gathering, investigation, implementation, poc, sales, developing, metadata, backend, webi, teradata, patterns, business objects, intelligence, development, designing, cmc, analytics, testing, design, interactive, sales reports, teradata db, decommissioning, performed unit testing, precise, component selection',\n",
              " 'banking, spoc, network, mis, communication, effectiveness, leadership, detailing, interpersonal skills, client requirements, organisational skills, communications, cascading, time management, analyzing, sla, phone banking, credit, organizational, bcp, queries, engagements, customer satisfaction, qc, steering, training programs, analytical skills, leader, developing, managing processes, field services, project objectives, operations, dexterity, determine, insight, pos, development, designing, planning, kyc, audit, training, customer feedback, operational efficiency, organizational abilities, decision making, transaction monitoring',\n",
              " 'computer skills, latex, matlab, multisim, gardening, design, pcb, electronics',\n",
              " 'documenting, db2, network, stored procedures, communication, framework, aws, ftp server, ftp, strategy, mysql, xml, agile methodologies, talend, database, sql, data warehouse, time management skills, queries, unit testing, production environment, troubleshoot, programming, business logic, sql server, best practices, sql database, administration, server, writing, sql queries, performance tuning, scheduling, agile, redshift, operations, determine, insight, databases, flat files, development, testing, integration, design, processing, big data, etl, business needs, methodology',\n",
              " 'computer skills, latex, matlab, multisim, gardening, design, pcb, electronics',\n",
              " 'engineering, construction, science',\n",
              " 'engineering, fire fighting, electrical engineering, electrical, leadership',\n",
              " 'electronics, communication, java',\n",
              " 'engineering, computer knowledge, administration, ms office, dynamics, automobile, maintenance',\n",
              " 'angular.js, engineering, b2b, network, nodejs, aws, framework, jquery, customisation, mysql, api, microservices, database, enthusiastic, b2c, angular, webservices, science, php, focused, mongodb, node.js, digital, supply chain management, opencart, bug fixing, blockchain, postgresql, react, writing, ecommerce, interface, operations, cakephp, docker, analytics, integration, kyc, finance',\n",
              " 'engineering, construction, science',\n",
              " 'angular.js, engineering, b2b, network, nodejs, aws, framework, jquery, customisation, mysql, api, microservices, database, enthusiastic, b2c, angular, webservices, science, php, focused, mongodb, node.js, digital, supply chain management, opencart, bug fixing, blockchain, postgresql, react, writing, ecommerce, interface, operations, cakephp, docker, analytics, integration, kyc, finance',\n",
              " 'network, jira, replication, azure ad, call support, diagnostic, problem management, java, netezza, analysis, installation, guide, troubleshooting, erp, database, sql, configuration, automation, science, scom, daily reports, database administration, bots, oracle, procurement, uat, deployment, ssms, sql server, postgresql, improvement, clustering, administration, rca, server, implementation, ms sql server, performance tuning, sip, windows, architecture, shipping, databases, planning, log shipping, training, health check',\n",
              " 'economics',\n",
              " 'synthesize, network, dashboard, ppt, qualitative, communication, strategic, mis, quantitative, project management, leadership, ms office, client communication, macros, brainstorming sessions, strategy, core competencies, sdlc, performance report, analysis, statistical, compliance, feedback analysis, reporting, organizational skills, multitasking, forecasting, analyzing, brainstorming, sla, budgeting, financial performance, automation, organizational, collaboration, strategic thinking, engagement, billing, activity diagrams, documentation, risk identification, team handling, software development lifecycle, administration, developing, auditing, productive, fast paced environment, supportive, governance, operations, patterns, excel, reliable, infrastructure, influence, development, insights, audit, training, onshore, sla compliance, proven ability, risk management',\n",
              " 'engineering, unix, replication, scaling, azure cloud, aws, mysql, filenet, debugging, analysis, maintenance, application support, database backup, appdynamics, troubleshooting, database, sql, telecommunications, vdi, production deployment, automation, shell scripting, production servers, queries, scripting, html, oracle, xen, coordinating, elastic, deployment, linux, aix, shell scripts, insurance, administration, server, writing, oracle database, sql queries, electronics, administration support, windows, dynamo db, operations, template, ec2, spotfire, linux servers, development, testing, planning, cloudformation, puppet, tsys',\n",
              " 'sorting, operating systems, python, ms office, dynamics, java, mysql, gui, configuration, numpy, functional requirements, programming, technical design, scripting, html, gui development, testability, pandas, python scripting, electronics, django, windows, business requirements, excel, development, design, software configuration management',\n",
              " 'engineering, catering, dashboard, python, presentation, rally, resource management, action plan, thunderbird, qtp, analysis, agile methodologies, compliance, reporting, hiring, sql, automation, selenium, shadow, contract, engagements, learning, engagement, qc, oracle, billing, digital, uat, documentation, assurance, server, sales, esign, agile, comparative analysis, business continuity plan, hp qc, scrum, sqa, testing, initiative, audit, finance, invoicing',\n",
              " 'rest, network, jquery, framework, windows xp, networking, router, java, jdbc, mysql, soap, api, p2p, java spring, erp, database, sql, my sql, react js, configuration, software skills, angular, mvc, mysql db, web services, php, contract, hibernate, inventory system, inventory, angular js, node js, scripting, html, oracle, loyalty, c++, front end, crm, blockchain, postgresql, react, server, javascript, routing, backend, erp system, windows, struts, ubuntu, rdbms, telecommunication, telecom, infrastructure, spring, development, content management system, glassfish, employee management, audit, training, css, tomcat',\n",
              " 'excel, c++, ajax, jquery, java script, j2ee, java, jdbc, programming, user requirement',\n",
              " 'erp',\n",
              " 'mis, communication, mis reporting, networking, sops, communications, prototype, reporting, functional requirements, efficient, documentation, uat, deployment, administration, potential, sales, selling, operations, flexibility, development, design, training, project charter, reengineering, senior management',\n",
              " 'agriculture, negotiation, marketing, engineering, agricultural, pharmacy, development, automation, communication, presentation, science, rtm, ms office, windows operating system, quick learner, entrepreneurship, organized, windows',\n",
              " 'engineering, drawings, company policies, hardware testing, debugging, compliance, system performance, technical manuals, process improvements, schematics, troubleshoot, customer satisfaction, quality management system, electronics, windows, telecommunication, testing, system testing, test plan, documentations, abacus',\n",
              " 'retail, sap, communication, ewm, sap bi, leadership, embedded, sap s/4hana, service desk, application development, maintenance, abap, analyzing, technical specifications, ecc6.0, qm, odata, gateway, implementation, potential, sales, itil, scm, development, customization, hpqc, edi, sap abap, design, training, solman',\n",
              " 'engineering, drawings, arm, calibration, contracting, analysis, compliance, construction drawings, ppe, construction, pharmaceutical, contract, risk assessment, qc, coordinating, validation, management system, inspection, potential, storm, development, consulting, testing, manufacturing, environmental, supervision',\n",
              " 'python, communication, software development life cycle, coding, mysql, sdlc, debugging, sow, maintenance, java, stream, api, pivotal, erp, database, restful, angular, science, database structure, mongodb, html, uat, postgresql, as400, server, technical expertise, cache, django, agile, agile methodology, git, pivotal cloud foundry, development, customer interaction, hardworking, testing, training, as/400, css, methodology',\n",
              " 'legacy systems, http, java, mysql, xml, analysis, middleware, jenkins, xcode, invoices, html, oracle, billing, change request, documentation, eclipse, weblogic, server, android, interface, ejb, databases, shell script, swift, svn, development, testing, j2ee, requirement analysis, weblogic server, css',\n",
              " 'mechanical, engineering',\n",
              " 'network, jira, replication, azure ad, call support, diagnostic, problem management, java, netezza, analysis, installation, guide, troubleshooting, erp, database, sql, configuration, automation, science, scom, daily reports, database administration, bots, oracle, procurement, uat, deployment, ssms, sql server, postgresql, improvement, clustering, administration, rca, server, implementation, ms sql server, performance tuning, sip, windows, architecture, shipping, databases, planning, log shipping, training, health check',\n",
              " 'windows server, jira, replication, ticketing, maintenance, installation, iis, reporting, troubleshooting, database, sql, payroll, configuration, microsoft window server, backups, ssrs, science, connectivity, queries, troubleshoot, mongodb, sybase, scripting, oracle, database applications, sql server, uat, ssms, linux, administration, server, writing, sales, statistics, consistency, ssis, windows, operations, shipping, databases, designing, testing, log shipping, audit, dpa, deletion',\n",
              " 'engineering, unix, replication, scaling, azure cloud, aws, mysql, filenet, debugging, analysis, maintenance, application support, database backup, appdynamics, troubleshooting, database, sql, telecommunications, vdi, production deployment, automation, shell scripting, production servers, queries, scripting, html, oracle, xen, coordinating, elastic, deployment, linux, aix, shell scripts, insurance, administration, server, writing, oracle database, sql queries, electronics, administration support, windows, dynamo db, operations, template, ec2, spotfire, linux servers, development, testing, planning, cloudformation, puppet, tsys',\n",
              " 'jquery, java, computer skills, sql, apache, ide, java script, hibernate, html, eclipse, servlet, server, jsp, databases, spring, development, ajax, oops, css, tomcat',\n",
              " 'banking, spoc, network, mis, communication, effectiveness, leadership, detailing, interpersonal skills, client requirements, organisational skills, communications, cascading, time management, analyzing, sla, phone banking, credit, organizational, bcp, queries, engagements, customer satisfaction, qc, steering, training programs, analytical skills, leader, developing, managing processes, field services, project objectives, operations, dexterity, determine, insight, pos, development, designing, planning, kyc, audit, training, customer feedback, operational efficiency, organizational abilities, decision making, transaction monitoring',\n",
              " 'marketing',\n",
              " 'engineering, mis, object oriented programming, java, c language, deduplication, database, sql, computing, jsf, hibernate, programming, oracle, c++, assurance, android, spring, development, ms access, information assurance',\n",
              " 'cloudera, engineering, sqoop, flume, disciplines, network, oncology, tableau, serialization, leadership, algorithms, maintenance, distribution, hive, cardiology, sql, database, healthcare, backups, pharmaceutical, spark, articulate, learning, parquet, neurology, developing, yarn, immunology, windows, ubuntu, architecture, scala, cluster monitoring, infrastructure, svn, hdfs, distributed, analytics, mapreduce, hadoop',\n",
              " 'python, communication, software development life cycle, coding, mysql, sdlc, debugging, sow, maintenance, java, stream, api, pivotal, erp, database, restful, angular, science, database structure, mongodb, html, uat, postgresql, as400, server, technical expertise, cache, django, agile, agile methodology, git, pivotal cloud foundry, development, customer interaction, hardworking, testing, training, as/400, css, methodology',\n",
              " 'network, replication, ticketing, system security, rman, maintenance, installation, troubleshooting, database, analyzing, sql, rebuilding, backups, science, space management, rman backups, grid, oracle, sql server, uat, shell scripts, linux, server, consistency, scheduling, windows, databases, file system, configuring, planning, database management, maintenance activities, datapump, restoration',\n",
              " 'engineering, mis, brainstorming sessions, srs, networking, requirement traceability matrix, reporting, sql, ui, inventory, waterfall, coordinating, test scenarios, improvement, insurance, potential, user acceptance test, agile, determine, excel, scrum, determined, clinical trial, word, investment management, powerpoint presentations, test coverage, risk monitoring, research process, defect tracking, banking, trading, process documentation, queries, flow diagrams, master data management, collaborating, uat, test cases, developing, writing, foreign exchange, prioritizing, designing, hpqc, brokerage, onshore, methodology, prototyping, presentation, powerpoint, database, process improvement, test scripts, dispatch, insurance policy, facilitating, invoices, bots, constructing, presentations, issue resolution, financing, documentation, status tracking, implementation, test plans, android, business requirements, ios, ms word, testing, integration, design, rtm, operations management, test plan, background checks, user acceptance testing, highlighting, facilitate, project initiation, dashboard, streamlining, diagnostic, ms office, analysis, maintenance, project delivery, diagnostic testing, prototype, brainstorming, commercial banking, automation, credit, ms power point, inventory management, initiation, ms excel, warehousing, poc, visio, business processes, operations, development, training, version control',\n",
              " 'mis, strategy, emerging technologies, spreadsheets, reporting, sql, lending, competitive, troubleshoot, mentoring, improvement, performance management, leader, server, consistent, sales, potential, investment services, backend, architecture, determine, determined, investment management, kyc, sungard, examination, replication, strategic, framework, effectiveness, talent management, coaching, drafting, motivation, credibility, proactive, financial services, negotiations, crm, aviation, incident reporting, help desk, human resources, consulting, fiserv, onshore, productivity, senior management, spoc, leasing, editing, compliance, hiring, database, facilitating, invoices, presentations, documentation, deployment, training programs, generating revenue, accountability, customer requirements, planning, design, testing, processing, analysis, distribution, troubleshooting, sla, commercial lending, credit, transport, contract, communicating, learning, billing, operations, development, encourage, siebel, audit, training, standard operating procedures, system deployment',\n",
              " 'negotiation, marketing, engineering, drawings, autocad, sap, network, communication, project management, welding, coding, maintenance, api, cadd, innovation, petroleum, erp, iso, bidding, electrical, business development, grid, team spirit, classification, international standards, rca, sales, daily operation, engineering services, flexibility, market survey, development, design, training, lighting, routine maintenance',\n",
              " 'engineering, construction, science',\n",
              " 'jquery, java, computer skills, sql, apache, ide, java script, hibernate, html, eclipse, servlet, server, jsp, databases, spring, development, ajax, oops, css, tomcat',\n",
              " 'drawings, autocad, plumbing, ms office, basic computer, mobilization, installation, guide, computer skills, electrical, contract, purchase, progressive, supervising, billing, procurement, inspection, aviation, coordination, infrastructure, planning',\n",
              " 'nan',\n",
              " 'sql, dance, asp.net, science, server, css, html',\n",
              " 'sales',\n",
              " 'mis, strategy, emerging technologies, spreadsheets, reporting, sql, lending, competitive, troubleshoot, mentoring, improvement, performance management, leader, server, consistent, sales, potential, investment services, backend, architecture, determine, determined, investment management, kyc, sungard, examination, replication, strategic, framework, effectiveness, talent management, coaching, drafting, motivation, credibility, proactive, financial services, negotiations, crm, aviation, incident reporting, help desk, human resources, consulting, fiserv, onshore, productivity, senior management, spoc, leasing, editing, compliance, hiring, database, facilitating, invoices, presentations, documentation, deployment, training programs, generating revenue, accountability, customer requirements, planning, design, testing, processing, analysis, distribution, troubleshooting, sla, commercial lending, credit, transport, contract, communicating, learning, billing, operations, development, encourage, siebel, audit, training, standard operating procedures, system deployment',\n",
              " 'sap, replication, honeywell, editing, technical specification, analysis, analyzing, sql, business requirement, science, finance domain, characterization, sap hana, implementation, developing, webi, scheduling, sharepoint, design document, technical design document, design documents, development, consulting, drilling, configuring, processing, design, finance',\n",
              " 'ant, marketing, engineering, b2b, software development life cycle, subversion, bitbucket, java, core competencies, build automation, application configuration, maintenance, distribution, reporting, ci, analyzing, b2c, jenkins, configuration, apache, automation, ansible, science, programming languages, primary skills, collaboration, merging, communicating, maven, programming, scripting, documentation, deployment, uat, linux, potential, sales, developing, installing, application servers, electronics, architecture, build tools, git, usability, infrastructure, continuous integration, development, configuring, testing, integration, design, online sales, continuous deployment, configuration management, tomcat',\n",
              " 'computer skills, latex, matlab, multisim, gardening, design, pcb, electronics',\n",
              " 'engineering, mis, brainstorming sessions, srs, networking, requirement traceability matrix, reporting, sql, ui, inventory, waterfall, coordinating, test scenarios, improvement, insurance, potential, user acceptance test, agile, determine, excel, scrum, determined, clinical trial, word, investment management, powerpoint presentations, test coverage, risk monitoring, research process, defect tracking, banking, trading, process documentation, queries, flow diagrams, master data management, collaborating, uat, test cases, developing, writing, foreign exchange, prioritizing, designing, hpqc, brokerage, onshore, methodology, prototyping, presentation, powerpoint, database, process improvement, test scripts, dispatch, insurance policy, facilitating, invoices, bots, constructing, presentations, issue resolution, financing, documentation, status tracking, implementation, test plans, android, business requirements, ios, ms word, testing, integration, design, rtm, operations management, test plan, background checks, user acceptance testing, highlighting, facilitate, project initiation, dashboard, streamlining, diagnostic, ms office, analysis, maintenance, project delivery, diagnostic testing, prototype, brainstorming, commercial banking, automation, credit, ms power point, inventory management, initiation, ms excel, warehousing, poc, visio, business processes, operations, development, training, version control',\n",
              " 'economics',\n",
              " 'xampp, operating systems, bootstrap, friendly, html5, jquery, framework, innovative, java, mysql, codeigniter, database, sql, apache, php, apache tomcat, css3, html, server, javascript, interface, windows, development, designing, ajax, design, css, tomcat',\n",
              " 'rendering, engineering, autocad, solidworks, construction, confident, design, science, mechanical',\n",
              " 'operating systems, engineering, surgical, framework, technical skills, java, operating system, database, sql, profitability, angular, science, inventory management, hibernate, inventory, organization growth, hibernate framework, c++, linux, inventory control, implementation, developing, backend, manual testing, windows, stock control, databases, printing, spring, ms-office, testing, functional testing, j2ee, ordering, invoicing',\n",
              " 'marketing, communication, presentation, powerpoint, motivate, team performance, ms excel, handling enquiries, learning, sales targets, leader, sales, developing, dedication, microsoft office, operations, determine, sales performance, awareness, excel, computer knowledge, ms word, word, planning, initiative, training, client relationship, proven ability',\n",
              " 'ant, marketing, engineering, b2b, software development life cycle, subversion, bitbucket, java, core competencies, build automation, application configuration, maintenance, distribution, reporting, ci, analyzing, b2c, jenkins, configuration, apache, automation, ansible, science, programming languages, primary skills, collaboration, merging, communicating, maven, programming, scripting, documentation, deployment, uat, linux, potential, sales, developing, installing, application servers, electronics, architecture, build tools, git, usability, infrastructure, continuous integration, development, configuring, testing, integration, design, online sales, continuous deployment, configuration management, tomcat',\n",
              " 'collaborative, marketing, loyalty, communication, visualizing, sales, marketing management, optimistic, loyal',\n",
              " 'angular.js, engineering, b2b, network, nodejs, aws, framework, jquery, customisation, mysql, api, microservices, database, enthusiastic, b2c, angular, webservices, science, php, focused, mongodb, node.js, digital, supply chain management, opencart, bug fixing, blockchain, postgresql, react, writing, ecommerce, interface, operations, cakephp, docker, analytics, integration, kyc, finance',\n",
              " 'engineering, negotiating, innovative, auto cad, technical specification, erp, finishing, construction, schematics, inventory, process flow, supply chain management, 3d modeling, coordinating, engineering analysis, improvement, potential, sales, cost estimation, engineering drawing, excel, supply chain, project execution, machining, detailing, corrective actions, internal audit, negotiations, vendor development, developing, actuators, product selection, manufacturing, negotiation, continuous improvement, new product development, fabrication, database, analyzing, purchase, instrumentation, invoices, petrochemical, procurement, documentation, inspection, pneumatics, awareness, rfq, customer requirements, design, purchasing, mechanical, marketing, drawings, internet, cad, analysis, maintenance, guide, prototype, automation, iso, electrical, contract, buying, actuator, sales service, assemblies, development, realistic, maintenance manuals, costing, training, mgmt, audit, standard operating procedures, audit plan, invoicing',\n",
              " 'engineering, drawings, company policies, hardware testing, debugging, compliance, system performance, technical manuals, process improvements, schematics, troubleshoot, customer satisfaction, quality management system, electronics, windows, telecommunication, testing, system testing, test plan, documentations, abacus',\n",
              " 'computer skills, excel, engineering, loyalty, transformer, hard working, crm, positive attitude, word, tapping, testing, electrical, initiative, ms office, creativity, motivated, windows',\n",
              " 'engineering, computer knowledge, administration, ms office, dynamics, automobile, maintenance',\n",
              " 'engineering, web servers, ftp, rman, addm, installation, middleware, troubleshooting, database, performance monitoring, schedule tasks, ohs, apache, automation, configuration, backups, bcp, loadbalancer, contract, troubleshoot, oim, grid, scripting, oracle, uat, shell scripts, weblogic, administration, implementation, smtp, writing, scheduling, operations, architecture, soa, databases, infrastructure, development, cloning, testing, integration, planning, datapump, planned, tomcat',\n",
              " 'engineering, printing, autocad, positive attitude, hydraulic system, r&d, leader, design, ms office, mechanical, conveyor, training, catia v5, quick learner, microsoft office, supervision, actuator, catia',\n",
              " 'engineering, network, epc, application engineering, project plan, reporting, schematics, coordinating, teleconference, compensation, preventive maintenance, leader, server, sales, microsoft visio, architecture, infrastructure, dcs, schematic, quality management system, project execution, communication, framework, application development, hmi, hvac, configuration, corrective actions, revision, queries, scada, validation, contingency plan, coordination, electronics, hardware engineering, graphics, closeout, manufacturing, methodology, sap, honeywell, teamwork, database, analyzing, timely delivery, change orders, purchase, modernization, instrumentation, procurement, documentation, software engineering, purchase orders, inspection, forecast, visa processing, plc, rfq, planning, design, processing, testing, analysis, sow, maintenance, distribution, automation, iso, contract, fdm, progress reports, ethics, communicating, grid, prioritization, gateway, visio, scheduling, operations, development, costing, client satisfaction, planned, invoicing',\n",
              " 'engineering, autocad, construction, hardworking, passionate, personal skills, learning',\n",
              " 'angular.js, engineering, b2b, network, nodejs, aws, framework, jquery, customisation, mysql, api, microservices, database, enthusiastic, b2c, angular, webservices, science, php, focused, mongodb, node.js, digital, supply chain management, opencart, bug fixing, blockchain, postgresql, react, writing, ecommerce, interface, operations, cakephp, docker, analytics, integration, kyc, finance',\n",
              " 'engineering, network, epc, application engineering, project plan, reporting, schematics, coordinating, teleconference, compensation, preventive maintenance, leader, server, sales, microsoft visio, architecture, infrastructure, dcs, schematic, quality management system, project execution, communication, framework, application development, hmi, hvac, configuration, corrective actions, revision, queries, scada, validation, contingency plan, coordination, electronics, hardware engineering, graphics, closeout, manufacturing, methodology, sap, honeywell, teamwork, database, analyzing, timely delivery, change orders, purchase, modernization, instrumentation, procurement, documentation, software engineering, purchase orders, inspection, forecast, visa processing, plc, rfq, planning, design, processing, testing, analysis, sow, maintenance, distribution, automation, iso, contract, fdm, progress reports, ethics, communicating, grid, prioritization, gateway, visio, scheduling, operations, development, costing, client satisfaction, planned, invoicing',\n",
              " 'sorting, operating systems, python, multisim, jquery, aws, windows xp, java, mysql, encryption, robot, rfid, software tools, sql, gsm, hibernate, algorithm, html, matlab, implementation, javascript, interface, windows, ubuntu, cryptography, spring, consulting, css, aes',\n",
              " 'excel, database, linux, automation, word, selenium, leader, testing, android application, team work, networking, powerpoint, java, android, computer proficiency, outlook, patterns',\n",
              " 'engineering, eagerness, personal skills, leadership, calibration, analysis, maintenance, distribution, iso, dispatch, competitive, organizational, documentation, validation, inspection, implementation, process testing, capa, transformers, transformer, testing, functional testing, quick learner',\n",
              " 'python, communication, software development life cycle, coding, mysql, sdlc, debugging, sow, maintenance, java, stream, api, pivotal, erp, database, restful, angular, science, database structure, mongodb, html, uat, postgresql, as400, server, technical expertise, cache, django, agile, agile methodology, git, pivotal cloud foundry, development, customer interaction, hardworking, testing, training, as/400, css, methodology',\n",
              " 'retail, engineering, python, financial reports, reporting, sql, visual studio, normalization, data flow, t-sql, server, sales, kpi, sql profiler, infrastructure, analytics, finance, analysing, windows server, communication, knowledge transfer, linear programming, restructuring, retail analytics, algorithm, digital, sql server, uat, crm, developing, electronics, windows, media analytics, nlp, designing, insights, etl, data models, ownership, sap, cluster analysis, stored procedures, tableau, analytical models, database, analyzing, science, uml, invoices, customer segmentation, rfm analysis, documentation, forecast, pl-sql, business requirements, telecom, scm, planning, design, processing, testing, decomposition, data modelling, dashboard, algorithms, analysis, maintenance, forecasting, ms sql, healthcare, programming, sap hana, c#, object detection, interface, swift, development, initiative',\n",
              " 'forecasting, classification, encoding, feature selection, ml, scaling, learning',\n",
              " 'banking, retail, windows server, windows xp/7, replication, call support, high availability, maintenance, installation, gui, database backup, troubleshooting, database, sql, investment banking, configuration, production environment, troubleshoot, daily maintenance, ssms, clustering, implementation, server, fintech, maintenance plan, consistency, performance tuning, sql profiler, scheduling, windows, operations, rdbms, shipping, databases, corporate banking, planning, log shipping, analyzer',\n",
              " 'positive attitude, testing, leader, electrical, electronics',\n",
              " 'engineering, jira, framework, hard work, selenium webdriver, independent, trading, autoit, motivated, committed, telecommunications, enthusiastic, automation, selenium, alm, ethics, communicating, learning, logistics, hub, test cases, developing, webdriver, interface, plc, telecom, scrum, hpqc, testing, design, logging',\n",
              " 'documenting, engineering, blockchain, writing, developing',\n",
              " 'network, negotiating, mis, software packages, reporting, erp, pivotal, construction, customer satisfaction, inventory, receiving, supervising, coordinating, insurance, potential, leader, sales, reasonable, wms, accounting, stocking, banking, sop, strategic, sourcing, punctuality, queries, transportation, efficient, negotiations, developing, coordination, stock control, manufacturing, brokerage, productivity, logistic, tally, filing, mobilization, compliance, warehouse management, database, analyzing, dispatch, timely delivery, sophisticated, purchase, export documentation, dispatching, procurement, documentation, underwriting, purchase orders, inspection, partnerships, interviewing, planning, purchasing, freight forwarding, streamlining, mis reporting, internet, ticketing, analysis, maintenance, distribution, iso, credit, clearance, transport, procuring, contract, transshipment, communicating, warehousing, logistics, pricing strategies, billing, inventory control, commitment, strategic sourcing, operations, logistics management, shipping, development, invoicing',\n",
              " 'marketing, customer relationship, administrative tasks, internet, powerpoint, operating system, maintenance, statistical, compliance, coaching, reporting, profitability, advertising, endurance, legislation, supervising, market research, administration, sales, writing, scheduling, windows, operations, excel, prioritizing, customer service, designing, word, ms-office, planning, recruiting, training',\n",
              " 'examination, honesty, confidence, science, learning, adaptability',\n",
              " 'economics',\n",
              " 'banking, websphere, cloudera, sqoop, flume, visualization, python, loading data, aws, avro, algorithms, java, mysql, application development, analysis, technical documentation, oozie, troubleshooting, data lake, system performance, hive, sql, database, optimization, telecommunications, apache, ide, shell scripting, spark, connectivity, queries, oltp, unit testing, scripting, oracle, documentation, eclipse, linux, hiveql, test cases, hadoop clusters, ecosystem, server, developing, writing, clusters, kpi, nosql, teradata, storm, windows, putty, scala, jdk, rdbms, hbase, databases, workflow, client side, svn, development, tpt, hdfs, distributed, analytics, processing, design, testing, mapreduce, tomcat, hadoop',\n",
              " 'sales',\n",
              " 'engineering, computer knowledge, administration, ms office, dynamics, automobile, maintenance',\n",
              " 'negotiation, marketing, engineering, drawings, autocad, sap, network, communication, project management, welding, coding, maintenance, api, cadd, innovation, petroleum, erp, iso, bidding, electrical, business development, grid, team spirit, classification, international standards, rca, sales, daily operation, engineering services, flexibility, market survey, development, design, training, lighting, routine maintenance',\n",
              " 'windows xp, java, mysql, maintenance, reporting, database, sql, analyzing, automation, html, sql server, coordinating, test scenarios, test cases, server, test plans, android, manual testing, windows, tracking bugs, testing, css',\n",
              " 'network, negotiating, mis, software packages, reporting, erp, pivotal, construction, customer satisfaction, inventory, receiving, supervising, coordinating, insurance, potential, leader, sales, reasonable, wms, accounting, stocking, banking, sop, strategic, sourcing, punctuality, queries, transportation, efficient, negotiations, developing, coordination, stock control, manufacturing, brokerage, productivity, logistic, tally, filing, mobilization, compliance, warehouse management, database, analyzing, dispatch, timely delivery, sophisticated, purchase, export documentation, dispatching, procurement, documentation, underwriting, purchase orders, inspection, partnerships, interviewing, planning, purchasing, freight forwarding, streamlining, mis reporting, internet, ticketing, analysis, maintenance, distribution, iso, credit, clearance, transport, procuring, contract, transshipment, communicating, warehousing, logistics, pricing strategies, billing, inventory control, commitment, strategic sourcing, operations, logistics management, shipping, development, invoicing',\n",
              " 'web application, engineering, bootstrap, multifunctional, communication, technical skills, knowledge base, java, xml, middleware, ms-sql, interfaces, sql, proactive, automation, webservices, science, collaboration, oracle, c++, eclipse, toad, ms-access, developing, jsp, json, backend, productive, windows, workflow, databases, development',\n",
              " 'mis, communication, mis reporting, networking, sops, communications, prototype, reporting, functional requirements, efficient, documentation, uat, deployment, administration, potential, sales, selling, operations, flexibility, development, design, training, project charter, reengineering, senior management',\n",
              " 'open source, jquery, java, jdbc, mysql, analysis, database, mvc, connectivity, unit testing, hibernate, mongodb, maven, scripting, html, web applications, eclipse, servlet, server, developing, jsp, javascript, json, architecture, spring, development, ajax, testing, design, j2ee, servlets, mvc architecture, css, tomcat',\n",
              " 'xampp, marketing, engineering, python, pycharm, java, mysql, strategy, flask, ide, labview, electrical, science, programming, learning, eclipse, linux, ltspice, matlab, electronics, django, deep learning, windows, ubuntu, debian, development, analytics, design, gitbash, jupyter',\n",
              " 'banking, efficient, writing, litigation, filing',\n",
              " 'excel, c++, ajax, jquery, java script, j2ee, java, jdbc, programming, user requirement',\n",
              " 'sorting, operating systems, python, multisim, jquery, aws, windows xp, java, mysql, encryption, robot, rfid, software tools, sql, gsm, hibernate, algorithm, html, matlab, implementation, javascript, interface, windows, ubuntu, cryptography, spring, consulting, css, aes',\n",
              " 'sql, dance, asp.net, science, server, css, html',\n",
              " 'engineering, printing, autocad, positive attitude, hydraulic system, r&d, leader, design, ms office, mechanical, conveyor, training, catia v5, quick learner, microsoft office, supervision, actuator, catia',\n",
              " 'excel, python, matlab, word, data science, microsoft powerpoint, science, powerpoint, iot, microsoft word, machine learning, learning, microsoft excel, html',\n",
              " 'economics',\n",
              " 'marketing, diagnostic, reporting, motivate, healthcare, science, queries, regulation, supervising, professionalism, coordinating, clinical research, insurance, leader, sales, operations, sas, design, counselling, organized',\n",
              " 'bootstrap, html5, jquery, framework, technical skills, asp.net mvc, api, entity framework, database, sql, ide, angular, mvc, science, css3, programming, sql server, server, scheduling, excel, word, asp.net, ajax',\n",
              " 'engineering, mis, object oriented programming, java, c language, deduplication, database, sql, computing, jsf, hibernate, programming, oracle, c++, assurance, android, spring, development, ms access, information assurance',\n",
              " 'excel, coordinating, assurance, dashboard, mis, planning, sales, innovative, trading, excel macro, productivity, reporting',\n",
              " 'litigation, drafting, internet',\n",
              " 'sorting, operating systems, python, ms office, dynamics, java, mysql, gui, configuration, numpy, functional requirements, programming, technical design, scripting, html, gui development, testability, pandas, python scripting, electronics, django, windows, business requirements, excel, development, design, software configuration management',\n",
              " 'rendering, engineering, autocad, solidworks, construction, confident, design, science, mechanical',\n",
              " 'replication, mysql, security management, analysis, maintenance, installation, database backup, database, optimization, queries, user acceptance, linux, administration, server, writing, mysql database administration, windows, centos, infrastructure, release management',\n",
              " 'ant, marketing, engineering, b2b, software development life cycle, subversion, bitbucket, java, core competencies, build automation, application configuration, maintenance, distribution, reporting, ci, analyzing, b2c, jenkins, configuration, apache, automation, ansible, science, programming languages, primary skills, collaboration, merging, communicating, maven, programming, scripting, documentation, deployment, uat, linux, potential, sales, developing, installing, application servers, electronics, architecture, build tools, git, usability, infrastructure, continuous integration, development, configuring, testing, integration, design, online sales, continuous deployment, configuration management, tomcat',\n",
              " 'computer skills, excel, engineering, loyalty, transformer, hard working, crm, positive attitude, word, tapping, testing, electrical, initiative, ms office, creativity, motivated, windows',\n",
              " 'documenting, engineering, blockchain, writing, developing',\n",
              " 'computer skills, excel, engineering, loyalty, transformer, hard working, crm, positive attitude, word, tapping, testing, electrical, initiative, ms office, creativity, motivated, windows',\n",
              " 'erp',\n",
              " 'excel, python, matlab, word, data science, microsoft powerpoint, science, powerpoint, iot, microsoft word, machine learning, learning, microsoft excel, html',\n",
              " 'drafting, rapport, extrovert, disciplinary, hpc, team work, numerous, windows, adaptability',\n",
              " 'boosting, investigative, dimensionality reduction, bootstrap, d3.js, dashboard, friendly, python, matplotlib, cluster analysis, jquery, tableau, java, mysql, coding, natural language processing, analysis, flask, kafka, reporting, erp, database, sql, analyzing, sentiment analysis, python flask, cassandra, elasticsearch, pipeline, regular expression, angular, decision trees, numpy, science, programming languages, plotly, elastic search, node.js, topic modelling, programming, learning, kibana, html, scikit-learn, classification, precision, elastic, pandas, assurance, developing, assisted, javascript, computer vision, nltk, pca, user requirement, governance, docker, hbase, git, random forest, intelligence, development, accounting, word, ggplot, analytics, visualizations, processing, sqlserver, investigations, interactive, tableau dashboard, time series analysis, scipy, css',\n",
              " 'presentation, framework, technical skills, asp.net mvc, asp, primary skill, motivated, entity framework, sql, mvc, transport, hard worker, angularjs, visual studio, user requirements, adaptability, logistics, html, presentation layer, crm, server, javascript, architecture, development, asp.net, planning, training, asp .net mvc, css',\n",
              " 'leadership skills, healthcare, designing, communication, presentation, confident, leader, science, writing, leadership, team work, communicating, volunteering, presentations',\n",
              " 'engineering, embedded, java, operating system, maintenance, core java, sql, enthusiastic, ide, oracle, linux, eclipse, gateway, putty, windows, databases, centos, development, hardworking, design, sonarqube',\n",
              " 'bootstrap, jira, python, stp, jquery, framework, aws, bitbucket, java, mysql, xml, compliance, erp, key performance indicators, payroll, angular, php, angularjs, node.js, html, regulatory, qc, documentation, quality management, improvement, server, javascript, kpi, agile, agile methodology, operations, git, workflow, databases, scrum, development, jira tool, project plans, ajax, design, j2ee, laravel, training, amazon aws, methodology',\n",
              " 'sql, dance, asp.net, science, server, css, html',\n",
              " 'engineering, network, python, html5, apex, framework, java, mysql, database, contract, css3, c++, crm, force.com, blockchain, administration, django, development, salesforce, designing, salesforce.com, visualforce',\n",
              " 'marketing, midi, communication, qualitative, strategic, effectiveness, quantitative, sourcing, editing, communications, reporting, creative, transmission, proactive, advertising, social media, publishing, progress reports, media coverage, publication, programming, logistics, mentoring, audience, implementation, potential, administration, developing, ambitious, assisted, pitching, administration support, partnerships, insight, infrastructure, direct mail, development, designing, researching, interviewing, dance, partnership, planning, briefings, consultation',\n",
              " 'spring, discipline, servlet, mvc, jsp, hibernate, java, motivated, programming, struts, punctual',\n",
              " 'hadoop ecosystem, cloudera, engineering, analysing, sqoop, flume, unix, python, communication, regex, autosys, business improvement, analysis, oozie, data lake, hive, sql, database, optimization, analyzing, proactive, apache, pipeline, spark, queries, programming, learning, scripting, html, hub, eclipse, validation, improvement, ecosystem, implementation, developing, writing, auditing, electronics, reconciliations, putty, scala, governance, rdbms, business requirements, development, hdfs, analytics, processing, testing, unix shell scripting, mapreduce, impala, hadoop',\n",
              " 'drawings, maintenance, renovation, tendering, construction, sustainability, project completion, supervising, legal requirements, practical, developing, forecast, scheduling, computer software, compiling, excel, infrastructure, designing, development, investigations, design, training, environmental',\n",
              " 'business intelligence, business analytics, visualization, communication, strategic, aws, quantitative, interpretation, leadership, algorithms, python, internet, bluemix, analysis, pgp, machine learning, api, distribution, selenium web driver, hive, database, forecasts, apache, fraud detection, selenium, spark, science, pyspark, queries, qliksense, learning, data science, kpi, electronics, face recognition, comparative analysis, ibm watson, lex, product lines, intelligence, messaging, nlp, analytics, quantitative analysis, planning, insights, ibm bluemix, distribution channels, hadoop',\n",
              " 'economics',\n",
              " 'engineering, fire fighting, electrical engineering, electrical, leadership',\n",
              " 'engineering, embedded, java, operating system, maintenance, core java, sql, enthusiastic, ide, oracle, linux, eclipse, gateway, putty, windows, databases, centos, development, hardworking, design, sonarqube',\n",
              " 'sorting, operating systems, python, multisim, jquery, aws, windows xp, java, mysql, encryption, robot, rfid, software tools, sql, gsm, hibernate, algorithm, html, matlab, implementation, javascript, interface, windows, ubuntu, cryptography, spring, consulting, css, aes',\n",
              " 'sap, testing, science, writing, pharmaceuticals, debugging, invoices, abap',\n",
              " 'engineering, programming, mechanical engineering, cnc machine, hardworking, discipline, confidence, honest, design, cad, mechanical, training, fabrication, dedication, auto cad, milling, cnc, automotive',\n",
              " 'autocad, disciplines, unix, jira, communication, client communication, user manual, project plan, training material, powerpoint, java, effort estimation, sdlc, design concept, analysis, ooad, tortoise svn, analyzing, requirements gathering, test case execution, credit, queries, uml, ms excel, gap analysis, ms visio, html, logistics, supervising, documentation, uat, c++, linux, crm, test cases, hp quality center, improvement, implementation, consistent, writing, sales, javascript, visio, ms powerpoint, microsoft office, electronics, windows, ubuntu, business requirements, excel, workflow, vlsi, svn, determined, sales management, testing, kyc, design, defect analysis, uat test cases, training, methodology',\n",
              " 'psychology, counselling, training, organizational',\n",
              " 'ant, marketing, engineering, b2b, software development life cycle, subversion, bitbucket, java, core competencies, build automation, application configuration, maintenance, distribution, reporting, ci, analyzing, b2c, jenkins, configuration, apache, automation, ansible, science, programming languages, primary skills, collaboration, merging, communicating, maven, programming, scripting, documentation, deployment, uat, linux, potential, sales, developing, installing, application servers, electronics, architecture, build tools, git, usability, infrastructure, continuous integration, development, configuring, testing, integration, design, online sales, continuous deployment, configuration management, tomcat',\n",
              " 'hpsm, sap, dashboard, visualization, presentation, ticketing, analysis, reporting, analyzing, bar chart, credit, transport, queries, purchase, user requirements, billing, change request, documentation, audience, requirement gathering, investigation, implementation, poc, sales, developing, metadata, backend, webi, teradata, patterns, business objects, intelligence, development, designing, cmc, analytics, testing, design, interactive, sales reports, teradata db, decommissioning, performed unit testing, precise, component selection',\n",
              " 'python, engineering, science',\n",
              " 'drawings, autocad, plumbing, ms office, basic computer, mobilization, installation, guide, computer skills, electrical, contract, purchase, progressive, supervising, billing, procurement, inspection, aviation, coordination, infrastructure, planning',\n",
              " 'bootstrap, html5, jquery, framework, technical skills, asp.net mvc, api, entity framework, database, sql, ide, angular, mvc, science, css3, programming, sql server, server, scheduling, excel, word, asp.net, ajax',\n",
              " 'collaborative, marketing, loyalty, communication, visualizing, sales, marketing management, optimistic, loyal',\n",
              " 'operating systems, sqoop, source control, java, datasets, mysql, hive, forecasting, database, optimization, map reduce, apache, ide, shell scripting, spark, queries, algorithm, programming, scripting, oracle, eclipse, linux, writing, backend, predict, windows, scala, hbase, centos, git, hdfs, distributed, hadoop',\n",
              " 'engineering, programming, mechanical engineering, cnc machine, hardworking, discipline, confidence, honest, design, cad, mechanical, training, fabrication, dedication, auto cad, milling, cnc, automotive',\n",
              " 'spoc, timesheet, sap, filing, analysis, maintenance, compliance, communications, resource utilization, reporting, hiring, database, sla, optimization, training team, billing, documentation, deployment, sla management, service delivery management, confluence, managed services, implementation, forecast, visio, kpi, interface, scheduling, itil, microsoft office, sharepoint, operations, patterns, excel, word, ms project, planning, design, training, staffing, advanced ms excel, senior management, finance, highlighting, invoicing',\n",
              " 'engineering, ionic, framework, java, jdbc, mysql, spring mvc, mssql, database, angular, mvc, php, hibernate, scripting, html, oracle, linux, servlet, jsp, javascript, json, frameworks, struts, spring, ajax, j2ee',\n",
              " 'excel, coordinating, assurance, dashboard, mis, planning, sales, innovative, trading, excel macro, productivity, reporting',\n",
              " 'marketing, communication, presentation, powerpoint, motivate, team performance, ms excel, handling enquiries, learning, sales targets, leader, sales, developing, dedication, microsoft office, operations, determine, sales performance, awareness, excel, computer knowledge, ms word, word, planning, initiative, training, client relationship, proven ability',\n",
              " 'documenting, db2, network, stored procedures, communication, framework, aws, ftp server, ftp, strategy, mysql, xml, agile methodologies, talend, database, sql, data warehouse, time management skills, queries, unit testing, production environment, troubleshoot, programming, business logic, sql server, best practices, sql database, administration, server, writing, sql queries, performance tuning, scheduling, agile, redshift, operations, determine, insight, databases, flat files, development, testing, integration, design, processing, big data, etl, business needs, methodology',\n",
              " 'windows xp, java, mysql, maintenance, reporting, database, sql, analyzing, automation, html, sql server, coordinating, test scenarios, test cases, server, test plans, android, manual testing, windows, tracking bugs, testing, css',\n",
              " 'cloudera, engineering, sqoop, flume, disciplines, network, oncology, tableau, serialization, leadership, algorithms, maintenance, distribution, hive, cardiology, sql, database, healthcare, backups, pharmaceutical, spark, articulate, learning, parquet, neurology, developing, yarn, immunology, windows, ubuntu, architecture, scala, cluster monitoring, infrastructure, svn, hdfs, distributed, analytics, mapreduce, hadoop',\n",
              " 'inventory management system, testing framework, framework, jboss, selenium webdriver, java, debugging, integration testing, selenium web driver, api, restful web service, reporting, ci, erp, database, sql, time management, testng, jenkins, automation, jsf, restful, selenium, automation testing, inventory, maven, programming, learning, scripting, html, c++, eclipse, insurance, server, sales, webdriver, javascript, android, scheduling, windows, pom, ejb, excel, regression testing, svn, spring, development, testing, integration, planning, functional testing, system testing, ibatis, invoicing, api testing',\n",
              " 'banking, network, java, mysql, agriculture, sql, gsm, uml, hibernate, programming, oracle, software development, network security, c++, servlet, developing, jsp, backend, windows, databases, printing, spring, development',\n",
              " 'jquery, java, computer skills, sql, apache, ide, java script, hibernate, html, eclipse, servlet, server, jsp, databases, spring, development, ajax, oops, css, tomcat',\n",
              " 'timesheet, communication, powerpoint, java, guide, mms, fluency, php, functional requirement, html, efficient, validation, compensation, resolve issues, project objectives, windows, excel, word, hardworking, business process, audit',\n",
              " 'engineering, vpn, network, python, remote access, problem management, ticketing, networking, router, analysis, troubleshooting, configuration, connectivity, service providers, event management, troubleshoot, bmc, vb, deployment, ids, routers, resiliency, lan, administration, writing, developing, juniper, wan, cisco routers, interface, itil, cisco asa, firewall, patterns, cisco router, design documents, infrastructure, cisco, siem, firewalls, researching, customer requirements, load balancers, design, panorama, change management, technical expertise, ssl',\n",
              " 'electronics, communication, java',\n",
              " 'engineering, network, python, matplotlib, communication, logistic, framework, ticketing, algorithms, regex, linear regression, mysql, bluemix, machine learning, coursera, reinforcement, artificial intelligence, keras, sql, optimization, configuration, automation, neural networks, numpy, science, queries, programming, learning, logistic regression, engagement, oracle, decision tree, efficient, documentation, pandas, google, linux, netbeans, data science, clustering, implementation, predicting, developing, tensorflow, deep learning, frameworks, windows, ubuntu, biotechnology, flexibility, databases, intelligence, development, designing, nlp, analytics, planning, processing, computer science, training, google cloud, neural network',\n",
              " 'banking, engineering, bootstrap, friendly, dashboard, sass, html5, jquery, asp, dedicated, ui, angular, mvc, purchase, cbs, photography, angular js, visual studio, css3, project completion, digital, implementation, sales, reconciliation, javascript, graphics, development, liability, photoshop, brackets, web based application',\n",
              " 'engineering, eagerness, personal skills, leadership, calibration, analysis, maintenance, distribution, iso, dispatch, competitive, organizational, documentation, validation, inspection, implementation, process testing, capa, transformers, transformer, testing, functional testing, quick learner',\n",
              " 'jquery, java, computer skills, sql, apache, ide, java script, hibernate, html, eclipse, servlet, server, jsp, databases, spring, development, ajax, oops, css, tomcat',\n",
              " 'angular.js, engineering, b2b, network, nodejs, aws, framework, jquery, customisation, mysql, api, microservices, database, enthusiastic, b2c, angular, webservices, science, php, focused, mongodb, node.js, digital, supply chain management, opencart, bug fixing, blockchain, postgresql, react, writing, ecommerce, interface, operations, cakephp, docker, analytics, integration, kyc, finance',\n",
              " 'electronics, communication, java',\n",
              " 'windows xp, java, mysql, maintenance, reporting, database, sql, analyzing, automation, html, sql server, coordinating, test scenarios, test cases, server, test plans, android, manual testing, windows, tracking bugs, testing, css',\n",
              " 'engineering, network, epc, application engineering, project plan, reporting, schematics, coordinating, teleconference, compensation, preventive maintenance, leader, server, sales, microsoft visio, architecture, infrastructure, dcs, schematic, quality management system, project execution, communication, framework, application development, hmi, hvac, configuration, corrective actions, revision, queries, scada, validation, contingency plan, coordination, electronics, hardware engineering, graphics, closeout, manufacturing, methodology, sap, honeywell, teamwork, database, analyzing, timely delivery, change orders, purchase, modernization, instrumentation, procurement, documentation, software engineering, purchase orders, inspection, forecast, visa processing, plc, rfq, planning, design, processing, testing, analysis, sow, maintenance, distribution, automation, iso, contract, fdm, progress reports, ethics, communicating, grid, prioritization, gateway, visio, scheduling, operations, development, costing, client satisfaction, planned, invoicing',\n",
              " 'mis, strategy, emerging technologies, spreadsheets, reporting, sql, lending, competitive, troubleshoot, mentoring, improvement, performance management, leader, server, consistent, sales, potential, investment services, backend, architecture, determine, determined, investment management, kyc, sungard, examination, replication, strategic, framework, effectiveness, talent management, coaching, drafting, motivation, credibility, proactive, financial services, negotiations, crm, aviation, incident reporting, help desk, human resources, consulting, fiserv, onshore, productivity, senior management, spoc, leasing, editing, compliance, hiring, database, facilitating, invoices, presentations, documentation, deployment, training programs, generating revenue, accountability, customer requirements, planning, design, testing, processing, analysis, distribution, troubleshooting, sla, commercial lending, credit, transport, contract, communicating, learning, billing, operations, development, encourage, siebel, audit, training, standard operating procedures, system deployment',\n",
              " 'python, engineering, science',\n",
              " 'computer skills, latex, matlab, multisim, gardening, design, pcb, electronics',\n",
              " 'cloudera, sqoop, workspace, network, unix, python, rf, wireless, tableau, ftp, java, mysql, autosys, oms, ran, anti money laundering, distribution, oozie, hive, data warehouse, cassandra, fraud detection, spark, pyspark, hadoop distributed file system, queries, programming languages, programming, learning, scripting, oracle, mediation, domain knowledge, srm, deployment, eclipse, toad, developing, writing, reconciliation, jsp, yarn, nosql, scheduling, teradata, putty, windows, scala, idea, architecture, hbase, databases, scripting languages, designing, development, hdfs, distributed, transaction monitoring, sqlserver, testing, integration, etl, jupyter, mapreduce, workflows, hadoop',\n",
              " 'engineering, unix, jira, strategic, autosys, debugging, sql, analyzing, user interaction, incident management, scripting, sql server, requirement gathering, server, developing, writing, reconciliation, scheduling, agile, governance, flat files, designing, integration, audit, remediation, microsoft sql server, etl, job scheduling, plsql',\n",
              " 'python, communication, software development life cycle, coding, mysql, sdlc, debugging, sow, maintenance, java, stream, api, pivotal, erp, database, restful, angular, science, database structure, mongodb, html, uat, postgresql, as400, server, technical expertise, cache, django, agile, agile methodology, git, pivotal cloud foundry, development, customer interaction, hardworking, testing, training, as/400, css, methodology',\n",
              " 'engineering, drawings, autocad, communication, calibration, detailing, vfd, analysis, maintenance, installation, electrical drawing, distribution, troubleshooting, reporting, problem solving, field instruments, technical specifications, budgeting, automation, bidding, electrical, lighting, greenfield, loop testing, process automation, programming, learning, abb, digital, supervising, efficient, documentation, preventive maintenance, developing, coordination, electronics, scheduling, engineering services, cabling, plc, actuators, transformer, electrical maintenance, processing, testing, planning, mechanical, maintenance activities, flow meter, route',\n",
              " 'engineering, eagerness, personal skills, leadership, calibration, analysis, maintenance, distribution, iso, dispatch, competitive, organizational, documentation, validation, inspection, implementation, process testing, capa, transformers, transformer, testing, functional testing, quick learner',\n",
              " 'timesheet, communication, powerpoint, java, guide, mms, fluency, php, functional requirement, html, efficient, validation, compensation, resolve issues, project objectives, windows, excel, word, hardworking, business process, audit']"
            ]
          },
          "metadata": {},
          "execution_count": 47
        }
      ],
      "source": [
        "test_texts"
      ]
    },
    {
      "cell_type": "code",
      "source": [
        "from google.colab import drive\n",
        "drive.mount('/content/drive')"
      ],
      "metadata": {
        "colab": {
          "base_uri": "https://localhost:8080/"
        },
        "id": "rWvNZ2zMsy_U",
        "outputId": "fbd6a0cb-7fef-4c80-b7a1-3ad1607a5b7e"
      },
      "execution_count": null,
      "outputs": [
        {
          "output_type": "stream",
          "name": "stdout",
          "text": [
            "Mounted at /content/drive\n"
          ]
        }
      ]
    },
    {
      "cell_type": "code",
      "execution_count": null,
      "metadata": {
        "colab": {
          "base_uri": "https://localhost:8080/"
        },
        "id": "g-n4KeXOsDkq",
        "outputId": "dee7c6bf-2747-4cc4-bd79-62eb4f3f19fc"
      },
      "outputs": [
        {
          "output_type": "stream",
          "name": "stdout",
          "text": [
            "/content/drive/MyDrive/internship\n"
          ]
        }
      ],
      "source": [
        "%cd /content/drive/MyDrive/internship"
      ]
    },
    {
      "cell_type": "code",
      "execution_count": null,
      "metadata": {
        "id": "hw0__uw4qhSB"
      },
      "outputs": [],
      "source": [
        "from transformers import BertTokenizer, BertForMaskedLM\n",
        "import torch\n",
        "tokenizer1 = BertTokenizer.from_pretrained(\"finetuned_BertForMaskedLM_tokenizer1\")\n",
        "model1 = BertForMaskedLM.from_pretrained(\"finetuned_BertForMaskedLM_model1\")"
      ]
    },
    {
      "cell_type": "code",
      "execution_count": null,
      "metadata": {
        "id": "ed0infezribi"
      },
      "outputs": [],
      "source": [
        "test_inputs = tokenizer1(test_texts, return_tensors='pt', max_length=512, truncation=True, padding=True)\n",
        "\n"
      ]
    },
    {
      "cell_type": "code",
      "execution_count": null,
      "metadata": {
        "id": "ax6ueqSDxolH"
      },
      "outputs": [],
      "source": [
        "test_inputs['labels'] = test_inputs.input_ids.detach().clone()"
      ]
    },
    {
      "cell_type": "code",
      "execution_count": null,
      "metadata": {
        "id": "GO6fKXcQx4rd"
      },
      "outputs": [],
      "source": [
        "# create random array of floats with equal dimensions to input_ids tensor\n",
        "rand = torch.rand(test_inputs.input_ids.shape)\n",
        "# create mask array\n",
        "mask_arr = (rand < 0.15) * (test_inputs.input_ids != 101) * \\\n",
        "           (test_inputs.input_ids != 102) * (test_inputs.input_ids != 0)"
      ]
    },
    {
      "cell_type": "code",
      "source": [
        "test_inputs.input_ids.shape"
      ],
      "metadata": {
        "colab": {
          "base_uri": "https://localhost:8080/"
        },
        "id": "IplZiDbgDCjk",
        "outputId": "da1e2098-8e58-4a9b-c2cc-7dd3ff9e1aae"
      },
      "execution_count": null,
      "outputs": [
        {
          "output_type": "execute_result",
          "data": {
            "text/plain": [
              "torch.Size([289, 286])"
            ]
          },
          "metadata": {},
          "execution_count": 92
        }
      ]
    },
    {
      "cell_type": "code",
      "source": [
        "rand.shape"
      ],
      "metadata": {
        "colab": {
          "base_uri": "https://localhost:8080/"
        },
        "id": "8iyXL3oU8Nji",
        "outputId": "099240d7-2e0c-40d8-c22b-3b8fcf359938"
      },
      "execution_count": null,
      "outputs": [
        {
          "output_type": "execute_result",
          "data": {
            "text/plain": [
              "torch.Size([289, 286])"
            ]
          },
          "metadata": {},
          "execution_count": 93
        }
      ]
    },
    {
      "cell_type": "code",
      "execution_count": null,
      "metadata": {
        "colab": {
          "base_uri": "https://localhost:8080/"
        },
        "id": "G88tBrYWy6ZN",
        "outputId": "c7076a21-1a2d-4fcd-b06c-04048dcba9ba"
      },
      "outputs": [
        {
          "output_type": "execute_result",
          "data": {
            "text/plain": [
              "tensor([[False, False, False,  ..., False, False, False],\n",
              "        [False, False, False,  ..., False, False, False],\n",
              "        [False, False, False,  ..., False, False, False],\n",
              "        ...,\n",
              "        [False, False, False,  ..., False, False, False],\n",
              "        [False, False, False,  ..., False, False, False],\n",
              "        [False, False, False,  ..., False, False, False]])"
            ]
          },
          "metadata": {},
          "execution_count": 94
        }
      ],
      "source": [
        "mask_arr"
      ]
    },
    {
      "cell_type": "code",
      "execution_count": null,
      "metadata": {
        "id": "gwaJESRXyPva"
      },
      "outputs": [],
      "source": [
        "#And now we take take the indices of each True value, within each individual vector.\n",
        "selection = []\n",
        "\n",
        "for i in range(test_inputs.input_ids.shape[0]):\n",
        "    selection.append(\n",
        "        torch.flatten(mask_arr[i].nonzero()).tolist()\n",
        "    )"
      ]
    },
    {
      "cell_type": "code",
      "execution_count": null,
      "metadata": {
        "id": "G_8uaLYzys5a"
      },
      "outputs": [],
      "source": [
        "for i in range(test_inputs.input_ids.shape[0]):\n",
        "    test_inputs.input_ids[i, selection[i]] = 103"
      ]
    },
    {
      "cell_type": "code",
      "source": [
        " test_inputs.input_ids"
      ],
      "metadata": {
        "colab": {
          "base_uri": "https://localhost:8080/"
        },
        "id": "WlIf9QqMCo6A",
        "outputId": "2e7bba20-2af6-4e8b-c2a8-24f406321ede"
      },
      "execution_count": null,
      "outputs": [
        {
          "output_type": "execute_result",
          "data": {
            "text/plain": [
              "tensor([[  101, 14389,  1010,  ...,     0,     0,     0],\n",
              "        [  101,  3330,  1010,  ...,     0,     0,     0],\n",
              "        [  101,  3330,  1010,  ...,     0,     0,     0],\n",
              "        ...,\n",
              "        [  101,  3330,  1010,  ...,     0,     0,     0],\n",
              "        [  101,  3330,  1010,  ...,     0,     0,     0],\n",
              "        [  101,  2335, 21030,  ...,     0,     0,     0]])"
            ]
          },
          "metadata": {},
          "execution_count": 97
        }
      ]
    },
    {
      "cell_type": "code",
      "source": [
        " test_inputs.input_ids.eq(103).any()"
      ],
      "metadata": {
        "colab": {
          "base_uri": "https://localhost:8080/"
        },
        "id": "F1Zw6uzzDp8g",
        "outputId": "597c93cb-6217-403e-c8ef-b62790451c91"
      },
      "execution_count": null,
      "outputs": [
        {
          "output_type": "execute_result",
          "data": {
            "text/plain": [
              "tensor(True)"
            ]
          },
          "metadata": {},
          "execution_count": 98
        }
      ]
    },
    {
      "cell_type": "code",
      "execution_count": null,
      "metadata": {
        "id": "9CP4CP98snsX"
      },
      "outputs": [],
      "source": [
        "test_dataset = MeditationsDataset(test_inputs)\n",
        "test_loader = torch.utils.data.DataLoader(test_dataset, batch_size=8, shuffle=False)\n"
      ]
    },
    {
      "cell_type": "code",
      "source": [
        "test_dataset"
      ],
      "metadata": {
        "colab": {
          "base_uri": "https://localhost:8080/"
        },
        "id": "A8akVm08ZoHe",
        "outputId": "513206e3-8a3c-4555-8f46-f8aec8c79a98"
      },
      "execution_count": null,
      "outputs": [
        {
          "output_type": "execute_result",
          "data": {
            "text/plain": [
              "<__main__.MeditationsDataset at 0x7f4f7c845af0>"
            ]
          },
          "metadata": {},
          "execution_count": 104
        }
      ]
    },
    {
      "cell_type": "code",
      "execution_count": null,
      "metadata": {
        "colab": {
          "base_uri": "https://localhost:8080/"
        },
        "id": "fhDg0vC8srJH",
        "outputId": "fc9f4dde-c1c6-418d-b014-50b3df76083c"
      },
      "outputs": [
        {
          "output_type": "execute_result",
          "data": {
            "text/plain": [
              "BertForMaskedLM(\n",
              "  (bert): BertModel(\n",
              "    (embeddings): BertEmbeddings(\n",
              "      (word_embeddings): Embedding(30522, 768, padding_idx=0)\n",
              "      (position_embeddings): Embedding(512, 768)\n",
              "      (token_type_embeddings): Embedding(2, 768)\n",
              "      (LayerNorm): LayerNorm((768,), eps=1e-12, elementwise_affine=True)\n",
              "      (dropout): Dropout(p=0.1, inplace=False)\n",
              "    )\n",
              "    (encoder): BertEncoder(\n",
              "      (layer): ModuleList(\n",
              "        (0-11): 12 x BertLayer(\n",
              "          (attention): BertAttention(\n",
              "            (self): BertSelfAttention(\n",
              "              (query): Linear(in_features=768, out_features=768, bias=True)\n",
              "              (key): Linear(in_features=768, out_features=768, bias=True)\n",
              "              (value): Linear(in_features=768, out_features=768, bias=True)\n",
              "              (dropout): Dropout(p=0.1, inplace=False)\n",
              "            )\n",
              "            (output): BertSelfOutput(\n",
              "              (dense): Linear(in_features=768, out_features=768, bias=True)\n",
              "              (LayerNorm): LayerNorm((768,), eps=1e-12, elementwise_affine=True)\n",
              "              (dropout): Dropout(p=0.1, inplace=False)\n",
              "            )\n",
              "          )\n",
              "          (intermediate): BertIntermediate(\n",
              "            (dense): Linear(in_features=768, out_features=3072, bias=True)\n",
              "            (intermediate_act_fn): GELUActivation()\n",
              "          )\n",
              "          (output): BertOutput(\n",
              "            (dense): Linear(in_features=3072, out_features=768, bias=True)\n",
              "            (LayerNorm): LayerNorm((768,), eps=1e-12, elementwise_affine=True)\n",
              "            (dropout): Dropout(p=0.1, inplace=False)\n",
              "          )\n",
              "        )\n",
              "      )\n",
              "    )\n",
              "  )\n",
              "  (cls): BertOnlyMLMHead(\n",
              "    (predictions): BertLMPredictionHead(\n",
              "      (transform): BertPredictionHeadTransform(\n",
              "        (dense): Linear(in_features=768, out_features=768, bias=True)\n",
              "        (transform_act_fn): GELUActivation()\n",
              "        (LayerNorm): LayerNorm((768,), eps=1e-12, elementwise_affine=True)\n",
              "      )\n",
              "      (decoder): Linear(in_features=768, out_features=30522, bias=True)\n",
              "    )\n",
              "  )\n",
              ")"
            ]
          },
          "metadata": {},
          "execution_count": 100
        }
      ],
      "source": [
        "model1.eval()\n"
      ]
    },
    {
      "cell_type": "code",
      "execution_count": null,
      "metadata": {
        "colab": {
          "base_uri": "https://localhost:8080/",
          "height": 469
        },
        "id": "hzRD6Cc3swMp",
        "outputId": "e19858a4-08c9-489e-9537-1231812fd587"
      },
      "outputs": [
        {
          "output_type": "stream",
          "name": "stderr",
          "text": [
            "<ipython-input-85-6dccb434beb5>:5: UserWarning: To copy construct from a tensor, it is recommended to use sourceTensor.clone().detach() or sourceTensor.clone().detach().requires_grad_(True), rather than torch.tensor(sourceTensor).\n",
            "  return {key: torch.tensor(val[idx]) for key, val in self.encodings.items()}\n"
          ]
        },
        {
          "output_type": "error",
          "ename": "RuntimeError",
          "evalue": "ignored",
          "traceback": [
            "\u001b[0;31m---------------------------------------------------------------------------\u001b[0m",
            "\u001b[0;31mRuntimeError\u001b[0m                              Traceback (most recent call last)",
            "\u001b[0;32m<ipython-input-101-4af5dd6ae8f8>\u001b[0m in \u001b[0;36m<cell line: 2>\u001b[0;34m()\u001b[0m\n\u001b[1;32m      4\u001b[0m         \u001b[0minput_ids\u001b[0m \u001b[0;34m=\u001b[0m \u001b[0mbatch\u001b[0m\u001b[0;34m[\u001b[0m\u001b[0;34m'input_ids'\u001b[0m\u001b[0;34m]\u001b[0m\u001b[0;34m.\u001b[0m\u001b[0mto\u001b[0m\u001b[0;34m(\u001b[0m\u001b[0mdevice\u001b[0m\u001b[0;34m)\u001b[0m\u001b[0;34m\u001b[0m\u001b[0;34m\u001b[0m\u001b[0m\n\u001b[1;32m      5\u001b[0m         \u001b[0mattention_mask\u001b[0m \u001b[0;34m=\u001b[0m \u001b[0mbatch\u001b[0m\u001b[0;34m[\u001b[0m\u001b[0;34m'attention_mask'\u001b[0m\u001b[0;34m]\u001b[0m\u001b[0;34m.\u001b[0m\u001b[0mto\u001b[0m\u001b[0;34m(\u001b[0m\u001b[0mdevice\u001b[0m\u001b[0;34m)\u001b[0m\u001b[0;34m\u001b[0m\u001b[0;34m\u001b[0m\u001b[0m\n\u001b[0;32m----> 6\u001b[0;31m         \u001b[0moutputs\u001b[0m \u001b[0;34m=\u001b[0m \u001b[0mmodel1\u001b[0m\u001b[0;34m(\u001b[0m\u001b[0minput_ids\u001b[0m\u001b[0;34m,\u001b[0m \u001b[0mattention_mask\u001b[0m\u001b[0;34m=\u001b[0m\u001b[0mattention_mask\u001b[0m\u001b[0;34m)\u001b[0m\u001b[0;34m\u001b[0m\u001b[0;34m\u001b[0m\u001b[0m\n\u001b[0m\u001b[1;32m      7\u001b[0m         \u001b[0mlogits\u001b[0m \u001b[0;34m=\u001b[0m \u001b[0moutputs\u001b[0m\u001b[0;34m.\u001b[0m\u001b[0mlogits\u001b[0m\u001b[0;34m\u001b[0m\u001b[0;34m\u001b[0m\u001b[0m\n\u001b[1;32m      8\u001b[0m         \u001b[0mpred_ids\u001b[0m \u001b[0;34m=\u001b[0m \u001b[0mtorch\u001b[0m\u001b[0;34m.\u001b[0m\u001b[0margmax\u001b[0m\u001b[0;34m(\u001b[0m\u001b[0mlogits\u001b[0m\u001b[0;34m,\u001b[0m \u001b[0mdim\u001b[0m\u001b[0;34m=\u001b[0m\u001b[0;34m-\u001b[0m\u001b[0;36m1\u001b[0m\u001b[0;34m)\u001b[0m\u001b[0;34m\u001b[0m\u001b[0;34m\u001b[0m\u001b[0m\n",
            "\u001b[0;32m/usr/local/lib/python3.9/dist-packages/torch/nn/modules/module.py\u001b[0m in \u001b[0;36m_call_impl\u001b[0;34m(self, *args, **kwargs)\u001b[0m\n\u001b[1;32m   1499\u001b[0m                 \u001b[0;32mor\u001b[0m \u001b[0m_global_backward_pre_hooks\u001b[0m \u001b[0;32mor\u001b[0m \u001b[0m_global_backward_hooks\u001b[0m\u001b[0;34m\u001b[0m\u001b[0;34m\u001b[0m\u001b[0m\n\u001b[1;32m   1500\u001b[0m                 or _global_forward_hooks or _global_forward_pre_hooks):\n\u001b[0;32m-> 1501\u001b[0;31m             \u001b[0;32mreturn\u001b[0m \u001b[0mforward_call\u001b[0m\u001b[0;34m(\u001b[0m\u001b[0;34m*\u001b[0m\u001b[0margs\u001b[0m\u001b[0;34m,\u001b[0m \u001b[0;34m**\u001b[0m\u001b[0mkwargs\u001b[0m\u001b[0;34m)\u001b[0m\u001b[0;34m\u001b[0m\u001b[0;34m\u001b[0m\u001b[0m\n\u001b[0m\u001b[1;32m   1502\u001b[0m         \u001b[0;31m# Do not call functions when jit is used\u001b[0m\u001b[0;34m\u001b[0m\u001b[0;34m\u001b[0m\u001b[0m\n\u001b[1;32m   1503\u001b[0m         \u001b[0mfull_backward_hooks\u001b[0m\u001b[0;34m,\u001b[0m \u001b[0mnon_full_backward_hooks\u001b[0m \u001b[0;34m=\u001b[0m \u001b[0;34m[\u001b[0m\u001b[0;34m]\u001b[0m\u001b[0;34m,\u001b[0m \u001b[0;34m[\u001b[0m\u001b[0;34m]\u001b[0m\u001b[0;34m\u001b[0m\u001b[0;34m\u001b[0m\u001b[0m\n",
            "\u001b[0;32m/usr/local/lib/python3.9/dist-packages/transformers/models/bert/modeling_bert.py\u001b[0m in \u001b[0;36mforward\u001b[0;34m(self, input_ids, attention_mask, token_type_ids, position_ids, head_mask, inputs_embeds, encoder_hidden_states, encoder_attention_mask, labels, output_attentions, output_hidden_states, return_dict)\u001b[0m\n\u001b[1;32m   1356\u001b[0m         \u001b[0mreturn_dict\u001b[0m \u001b[0;34m=\u001b[0m \u001b[0mreturn_dict\u001b[0m \u001b[0;32mif\u001b[0m \u001b[0mreturn_dict\u001b[0m \u001b[0;32mis\u001b[0m \u001b[0;32mnot\u001b[0m \u001b[0;32mNone\u001b[0m \u001b[0;32melse\u001b[0m \u001b[0mself\u001b[0m\u001b[0;34m.\u001b[0m\u001b[0mconfig\u001b[0m\u001b[0;34m.\u001b[0m\u001b[0muse_return_dict\u001b[0m\u001b[0;34m\u001b[0m\u001b[0;34m\u001b[0m\u001b[0m\n\u001b[1;32m   1357\u001b[0m \u001b[0;34m\u001b[0m\u001b[0m\n\u001b[0;32m-> 1358\u001b[0;31m         outputs = self.bert(\n\u001b[0m\u001b[1;32m   1359\u001b[0m             \u001b[0minput_ids\u001b[0m\u001b[0;34m,\u001b[0m\u001b[0;34m\u001b[0m\u001b[0;34m\u001b[0m\u001b[0m\n\u001b[1;32m   1360\u001b[0m             \u001b[0mattention_mask\u001b[0m\u001b[0;34m=\u001b[0m\u001b[0mattention_mask\u001b[0m\u001b[0;34m,\u001b[0m\u001b[0;34m\u001b[0m\u001b[0;34m\u001b[0m\u001b[0m\n",
            "\u001b[0;32m/usr/local/lib/python3.9/dist-packages/torch/nn/modules/module.py\u001b[0m in \u001b[0;36m_call_impl\u001b[0;34m(self, *args, **kwargs)\u001b[0m\n\u001b[1;32m   1499\u001b[0m                 \u001b[0;32mor\u001b[0m \u001b[0m_global_backward_pre_hooks\u001b[0m \u001b[0;32mor\u001b[0m \u001b[0m_global_backward_hooks\u001b[0m\u001b[0;34m\u001b[0m\u001b[0;34m\u001b[0m\u001b[0m\n\u001b[1;32m   1500\u001b[0m                 or _global_forward_hooks or _global_forward_pre_hooks):\n\u001b[0;32m-> 1501\u001b[0;31m             \u001b[0;32mreturn\u001b[0m \u001b[0mforward_call\u001b[0m\u001b[0;34m(\u001b[0m\u001b[0;34m*\u001b[0m\u001b[0margs\u001b[0m\u001b[0;34m,\u001b[0m \u001b[0;34m**\u001b[0m\u001b[0mkwargs\u001b[0m\u001b[0;34m)\u001b[0m\u001b[0;34m\u001b[0m\u001b[0;34m\u001b[0m\u001b[0m\n\u001b[0m\u001b[1;32m   1502\u001b[0m         \u001b[0;31m# Do not call functions when jit is used\u001b[0m\u001b[0;34m\u001b[0m\u001b[0;34m\u001b[0m\u001b[0m\n\u001b[1;32m   1503\u001b[0m         \u001b[0mfull_backward_hooks\u001b[0m\u001b[0;34m,\u001b[0m \u001b[0mnon_full_backward_hooks\u001b[0m \u001b[0;34m=\u001b[0m \u001b[0;34m[\u001b[0m\u001b[0;34m]\u001b[0m\u001b[0;34m,\u001b[0m \u001b[0;34m[\u001b[0m\u001b[0;34m]\u001b[0m\u001b[0;34m\u001b[0m\u001b[0;34m\u001b[0m\u001b[0m\n",
            "\u001b[0;32m/usr/local/lib/python3.9/dist-packages/transformers/models/bert/modeling_bert.py\u001b[0m in \u001b[0;36mforward\u001b[0;34m(self, input_ids, attention_mask, token_type_ids, position_ids, head_mask, inputs_embeds, encoder_hidden_states, encoder_attention_mask, past_key_values, use_cache, output_attentions, output_hidden_states, return_dict)\u001b[0m\n\u001b[1;32m   1011\u001b[0m         \u001b[0mhead_mask\u001b[0m \u001b[0;34m=\u001b[0m \u001b[0mself\u001b[0m\u001b[0;34m.\u001b[0m\u001b[0mget_head_mask\u001b[0m\u001b[0;34m(\u001b[0m\u001b[0mhead_mask\u001b[0m\u001b[0;34m,\u001b[0m \u001b[0mself\u001b[0m\u001b[0;34m.\u001b[0m\u001b[0mconfig\u001b[0m\u001b[0;34m.\u001b[0m\u001b[0mnum_hidden_layers\u001b[0m\u001b[0;34m)\u001b[0m\u001b[0;34m\u001b[0m\u001b[0;34m\u001b[0m\u001b[0m\n\u001b[1;32m   1012\u001b[0m \u001b[0;34m\u001b[0m\u001b[0m\n\u001b[0;32m-> 1013\u001b[0;31m         embedding_output = self.embeddings(\n\u001b[0m\u001b[1;32m   1014\u001b[0m             \u001b[0minput_ids\u001b[0m\u001b[0;34m=\u001b[0m\u001b[0minput_ids\u001b[0m\u001b[0;34m,\u001b[0m\u001b[0;34m\u001b[0m\u001b[0;34m\u001b[0m\u001b[0m\n\u001b[1;32m   1015\u001b[0m             \u001b[0mposition_ids\u001b[0m\u001b[0;34m=\u001b[0m\u001b[0mposition_ids\u001b[0m\u001b[0;34m,\u001b[0m\u001b[0;34m\u001b[0m\u001b[0;34m\u001b[0m\u001b[0m\n",
            "\u001b[0;32m/usr/local/lib/python3.9/dist-packages/torch/nn/modules/module.py\u001b[0m in \u001b[0;36m_call_impl\u001b[0;34m(self, *args, **kwargs)\u001b[0m\n\u001b[1;32m   1499\u001b[0m                 \u001b[0;32mor\u001b[0m \u001b[0m_global_backward_pre_hooks\u001b[0m \u001b[0;32mor\u001b[0m \u001b[0m_global_backward_hooks\u001b[0m\u001b[0;34m\u001b[0m\u001b[0;34m\u001b[0m\u001b[0m\n\u001b[1;32m   1500\u001b[0m                 or _global_forward_hooks or _global_forward_pre_hooks):\n\u001b[0;32m-> 1501\u001b[0;31m             \u001b[0;32mreturn\u001b[0m \u001b[0mforward_call\u001b[0m\u001b[0;34m(\u001b[0m\u001b[0;34m*\u001b[0m\u001b[0margs\u001b[0m\u001b[0;34m,\u001b[0m \u001b[0;34m**\u001b[0m\u001b[0mkwargs\u001b[0m\u001b[0;34m)\u001b[0m\u001b[0;34m\u001b[0m\u001b[0;34m\u001b[0m\u001b[0m\n\u001b[0m\u001b[1;32m   1502\u001b[0m         \u001b[0;31m# Do not call functions when jit is used\u001b[0m\u001b[0;34m\u001b[0m\u001b[0;34m\u001b[0m\u001b[0m\n\u001b[1;32m   1503\u001b[0m         \u001b[0mfull_backward_hooks\u001b[0m\u001b[0;34m,\u001b[0m \u001b[0mnon_full_backward_hooks\u001b[0m \u001b[0;34m=\u001b[0m \u001b[0;34m[\u001b[0m\u001b[0;34m]\u001b[0m\u001b[0;34m,\u001b[0m \u001b[0;34m[\u001b[0m\u001b[0;34m]\u001b[0m\u001b[0;34m\u001b[0m\u001b[0;34m\u001b[0m\u001b[0m\n",
            "\u001b[0;32m/usr/local/lib/python3.9/dist-packages/transformers/models/bert/modeling_bert.py\u001b[0m in \u001b[0;36mforward\u001b[0;34m(self, input_ids, token_type_ids, position_ids, inputs_embeds, past_key_values_length)\u001b[0m\n\u001b[1;32m    228\u001b[0m \u001b[0;34m\u001b[0m\u001b[0m\n\u001b[1;32m    229\u001b[0m         \u001b[0;32mif\u001b[0m \u001b[0minputs_embeds\u001b[0m \u001b[0;32mis\u001b[0m \u001b[0;32mNone\u001b[0m\u001b[0;34m:\u001b[0m\u001b[0;34m\u001b[0m\u001b[0;34m\u001b[0m\u001b[0m\n\u001b[0;32m--> 230\u001b[0;31m             \u001b[0minputs_embeds\u001b[0m \u001b[0;34m=\u001b[0m \u001b[0mself\u001b[0m\u001b[0;34m.\u001b[0m\u001b[0mword_embeddings\u001b[0m\u001b[0;34m(\u001b[0m\u001b[0minput_ids\u001b[0m\u001b[0;34m)\u001b[0m\u001b[0;34m\u001b[0m\u001b[0;34m\u001b[0m\u001b[0m\n\u001b[0m\u001b[1;32m    231\u001b[0m         \u001b[0mtoken_type_embeddings\u001b[0m \u001b[0;34m=\u001b[0m \u001b[0mself\u001b[0m\u001b[0;34m.\u001b[0m\u001b[0mtoken_type_embeddings\u001b[0m\u001b[0;34m(\u001b[0m\u001b[0mtoken_type_ids\u001b[0m\u001b[0;34m)\u001b[0m\u001b[0;34m\u001b[0m\u001b[0;34m\u001b[0m\u001b[0m\n\u001b[1;32m    232\u001b[0m \u001b[0;34m\u001b[0m\u001b[0m\n",
            "\u001b[0;32m/usr/local/lib/python3.9/dist-packages/torch/nn/modules/module.py\u001b[0m in \u001b[0;36m_call_impl\u001b[0;34m(self, *args, **kwargs)\u001b[0m\n\u001b[1;32m   1499\u001b[0m                 \u001b[0;32mor\u001b[0m \u001b[0m_global_backward_pre_hooks\u001b[0m \u001b[0;32mor\u001b[0m \u001b[0m_global_backward_hooks\u001b[0m\u001b[0;34m\u001b[0m\u001b[0;34m\u001b[0m\u001b[0m\n\u001b[1;32m   1500\u001b[0m                 or _global_forward_hooks or _global_forward_pre_hooks):\n\u001b[0;32m-> 1501\u001b[0;31m             \u001b[0;32mreturn\u001b[0m \u001b[0mforward_call\u001b[0m\u001b[0;34m(\u001b[0m\u001b[0;34m*\u001b[0m\u001b[0margs\u001b[0m\u001b[0;34m,\u001b[0m \u001b[0;34m**\u001b[0m\u001b[0mkwargs\u001b[0m\u001b[0;34m)\u001b[0m\u001b[0;34m\u001b[0m\u001b[0;34m\u001b[0m\u001b[0m\n\u001b[0m\u001b[1;32m   1502\u001b[0m         \u001b[0;31m# Do not call functions when jit is used\u001b[0m\u001b[0;34m\u001b[0m\u001b[0;34m\u001b[0m\u001b[0m\n\u001b[1;32m   1503\u001b[0m         \u001b[0mfull_backward_hooks\u001b[0m\u001b[0;34m,\u001b[0m \u001b[0mnon_full_backward_hooks\u001b[0m \u001b[0;34m=\u001b[0m \u001b[0;34m[\u001b[0m\u001b[0;34m]\u001b[0m\u001b[0;34m,\u001b[0m \u001b[0;34m[\u001b[0m\u001b[0;34m]\u001b[0m\u001b[0;34m\u001b[0m\u001b[0;34m\u001b[0m\u001b[0m\n",
            "\u001b[0;32m/usr/local/lib/python3.9/dist-packages/torch/nn/modules/sparse.py\u001b[0m in \u001b[0;36mforward\u001b[0;34m(self, input)\u001b[0m\n\u001b[1;32m    160\u001b[0m \u001b[0;34m\u001b[0m\u001b[0m\n\u001b[1;32m    161\u001b[0m     \u001b[0;32mdef\u001b[0m \u001b[0mforward\u001b[0m\u001b[0;34m(\u001b[0m\u001b[0mself\u001b[0m\u001b[0;34m,\u001b[0m \u001b[0minput\u001b[0m\u001b[0;34m:\u001b[0m \u001b[0mTensor\u001b[0m\u001b[0;34m)\u001b[0m \u001b[0;34m->\u001b[0m \u001b[0mTensor\u001b[0m\u001b[0;34m:\u001b[0m\u001b[0;34m\u001b[0m\u001b[0;34m\u001b[0m\u001b[0m\n\u001b[0;32m--> 162\u001b[0;31m         return F.embedding(\n\u001b[0m\u001b[1;32m    163\u001b[0m             \u001b[0minput\u001b[0m\u001b[0;34m,\u001b[0m \u001b[0mself\u001b[0m\u001b[0;34m.\u001b[0m\u001b[0mweight\u001b[0m\u001b[0;34m,\u001b[0m \u001b[0mself\u001b[0m\u001b[0;34m.\u001b[0m\u001b[0mpadding_idx\u001b[0m\u001b[0;34m,\u001b[0m \u001b[0mself\u001b[0m\u001b[0;34m.\u001b[0m\u001b[0mmax_norm\u001b[0m\u001b[0;34m,\u001b[0m\u001b[0;34m\u001b[0m\u001b[0;34m\u001b[0m\u001b[0m\n\u001b[1;32m    164\u001b[0m             self.norm_type, self.scale_grad_by_freq, self.sparse)\n",
            "\u001b[0;32m/usr/local/lib/python3.9/dist-packages/torch/nn/functional.py\u001b[0m in \u001b[0;36membedding\u001b[0;34m(input, weight, padding_idx, max_norm, norm_type, scale_grad_by_freq, sparse)\u001b[0m\n\u001b[1;32m   2208\u001b[0m         \u001b[0;31m# remove once script supports set_grad_enabled\u001b[0m\u001b[0;34m\u001b[0m\u001b[0;34m\u001b[0m\u001b[0m\n\u001b[1;32m   2209\u001b[0m         \u001b[0m_no_grad_embedding_renorm_\u001b[0m\u001b[0;34m(\u001b[0m\u001b[0mweight\u001b[0m\u001b[0;34m,\u001b[0m \u001b[0minput\u001b[0m\u001b[0;34m,\u001b[0m \u001b[0mmax_norm\u001b[0m\u001b[0;34m,\u001b[0m \u001b[0mnorm_type\u001b[0m\u001b[0;34m)\u001b[0m\u001b[0;34m\u001b[0m\u001b[0;34m\u001b[0m\u001b[0m\n\u001b[0;32m-> 2210\u001b[0;31m     \u001b[0;32mreturn\u001b[0m \u001b[0mtorch\u001b[0m\u001b[0;34m.\u001b[0m\u001b[0membedding\u001b[0m\u001b[0;34m(\u001b[0m\u001b[0mweight\u001b[0m\u001b[0;34m,\u001b[0m \u001b[0minput\u001b[0m\u001b[0;34m,\u001b[0m \u001b[0mpadding_idx\u001b[0m\u001b[0;34m,\u001b[0m \u001b[0mscale_grad_by_freq\u001b[0m\u001b[0;34m,\u001b[0m \u001b[0msparse\u001b[0m\u001b[0;34m)\u001b[0m\u001b[0;34m\u001b[0m\u001b[0;34m\u001b[0m\u001b[0m\n\u001b[0m\u001b[1;32m   2211\u001b[0m \u001b[0;34m\u001b[0m\u001b[0m\n\u001b[1;32m   2212\u001b[0m \u001b[0;34m\u001b[0m\u001b[0m\n",
            "\u001b[0;31mRuntimeError\u001b[0m: Expected all tensors to be on the same device, but found at least two devices, cpu and cuda:0! (when checking argument for argument index in method wrapper_CUDA__index_select)"
          ]
        }
      ],
      "source": [
        "preds = []\n",
        "with torch.no_grad():\n",
        "    for batch in test_loader:\n",
        "        input_ids = batch['input_ids'].to(device)\n",
        "        attention_mask = batch['attention_mask'].to(device)\n",
        "        outputs = model1(input_ids, attention_mask=attention_mask)\n",
        "        logits = outputs.logits\n",
        "        pred_ids = torch.argmax(logits, dim=-1)\n",
        "        preds.append(pred_ids)\n"
      ]
    },
    {
      "cell_type": "code",
      "execution_count": null,
      "metadata": {
        "id": "Yi6GRsKfxVa8"
      },
      "outputs": [],
      "source": []
    },
    {
      "cell_type": "code",
      "execution_count": null,
      "metadata": {
        "colab": {
          "base_uri": "https://localhost:8080/"
        },
        "id": "t9zjQbfJs2iq",
        "outputId": "be7fd5ba-a4cf-4a4c-921c-2fd953f4c266"
      },
      "outputs": [
        {
          "name": "stdout",
          "output_type": "stream",
          "text": [
            "Test accuracy: 1.0000\n"
          ]
        }
      ],
      "source": [
        "preds = torch.cat(preds, dim=0)\n",
        "accuracy = (test_inputs['labels'] == preds).float().mean()\n",
        "print(f'Test accuracy: {accuracy:.4f}')\n"
      ]
    },
    {
      "cell_type": "code",
      "execution_count": null,
      "metadata": {
        "colab": {
          "base_uri": "https://localhost:8080/"
        },
        "id": "mOWbqzySv2-3",
        "outputId": "c60db6a9-748b-4db9-bbf9-751b34e83875"
      },
      "outputs": [
        {
          "output_type": "stream",
          "name": "stdout",
          "text": [
            "[{'score': 0.5042453408241272, 'token': 0, 'token_str': '[PAD]', 'sequence': 'machine learning,, deep learning, statistics,'}, {'score': 0.011653815396130085, 'token': 4106, 'token_str': 'analysis', 'sequence': 'machine learning, analysis, deep learning, statistics,'}, {'score': 0.011434079147875309, 'token': 17881, 'token_str': 'databases', 'sequence': 'machine learning, databases, deep learning, statistics,'}, {'score': 0.011163713410496712, 'token': 25095, 'token_str': 'analytics', 'sequence': 'machine learning, analytics, deep learning, statistics,'}, {'score': 0.010393119417130947, 'token': 7809, 'token_str': 'database', 'sequence': 'machine learning, database, deep learning, statistics,'}]\n"
          ]
        }
      ],
      "source": [
        "from transformers import pipeline, BertForMaskedLM, BertTokenizer\n",
        "\n",
        "model1 = BertForMaskedLM.from_pretrained('finetuned_BertForMaskedLM_model1')\n",
        "tokenize1 = BertTokenizer.from_pretrained('finetuned_BertForMaskedLM_tokenizer1')\n",
        "\n",
        "fill_mask = pipeline(\n",
        "    \"fill-mask\",\n",
        "    model=model1,\n",
        "    tokenizer=tokenizer1,\n",
        "    #mask_token=\"[mask]\"\n",
        ")\n",
        "\n",
        "result = fill_mask(\" machine learning, [MASK],deep learning, statistics,\")\n",
        "print(result)\n"
      ]
    },
    {
      "cell_type": "code",
      "execution_count": null,
      "metadata": {
        "id": "YwTu8Obl1ZWS"
      },
      "outputs": [],
      "source": []
    },
    {
      "cell_type": "code",
      "execution_count": null,
      "metadata": {
        "id": "cGMVaf_puD72",
        "colab": {
          "base_uri": "https://localhost:8080/"
        },
        "outputId": "e5b04c0b-26d6-47b0-faa8-549e7cf8a34f"
      },
      "outputs": [
        {
          "output_type": "stream",
          "name": "stdout",
          "text": [
            "Mask 1 predictions:\n",
            "- , and in center cross onera the time\n",
            "- java database engineering coordinating html programming automation unix testing\n"
          ]
        }
      ],
      "source": [
        "from transformers import BertForMaskedLM, BertTokenizer\n",
        "\n",
        "tokenizer1 = BertTokenizer.from_pretrained('finetuned_BertForMaskedLM_tokenizer1')\n",
        "model1 = BertForMaskedLM.from_pretrained('finetuned_BertForMaskedLM_model1')\n",
        "\n",
        "input_text = \"engineering, mis, object oriented programming, java, c language,[MASK]  \"\n",
        "inputs = tokenizer1(input_text, return_tensors='pt')\n",
        "mask_token_indices = (inputs['input_ids'] == tokenizer.mask_token_id).nonzero()\n",
        "with torch.no_grad():\n",
        "    outputs = model1(inputs['input_ids'], attention_mask=inputs['attention_mask'])\n",
        "    masked_token_logits = outputs.logits[0, mask_token_indices, :]\n",
        "    masked_token_probs = masked_token_logits.softmax(dim=-1)\n",
        "    _, top_k_tokens = torch.topk(masked_token_probs, k=10, dim=-1)\n",
        "\n",
        "for i, mask_index in enumerate(mask_token_indices):\n",
        "    print(f\"Mask {i+1} predictions:\")\n",
        "    for token in top_k_tokens[i]:\n",
        "        token_str = tokenizer.decode(token, skip_special_tokens=True)\n",
        "        print(f\"- {token_str}\")\n"
      ]
    },
    {
      "cell_type": "code",
      "execution_count": null,
      "metadata": {
        "colab": {
          "base_uri": "https://localhost:8080/"
        },
        "id": "kTOr3RrZvy7c",
        "outputId": "b31043ce-8f61-43ba-8930-e1b309b9bcbe"
      },
      "outputs": [
        {
          "data": {
            "text/plain": [
              "tensor([], size=(0, 2), dtype=torch.int64)"
            ]
          },
          "execution_count": 48,
          "metadata": {},
          "output_type": "execute_result"
        }
      ],
      "source": [
        "mask_token_indices"
      ]
    },
    {
      "cell_type": "code",
      "execution_count": null,
      "metadata": {
        "colab": {
          "base_uri": "https://localhost:8080/"
        },
        "id": "3cQAKu89mw-Q",
        "outputId": "ef7e1a3c-f74c-4f06-de7d-2154210b767d"
      },
      "outputs": [
        {
          "name": "stdout",
          "output_type": "stream",
          "text": [
            "Mounted at /content/drive\n"
          ]
        }
      ],
      "source": [
        "from google.colab import drive\n",
        "drive.mount('/content/drive')"
      ]
    },
    {
      "cell_type": "code",
      "execution_count": null,
      "metadata": {
        "id": "CtF6RMx8edZy"
      },
      "outputs": [],
      "source": [
        "from transformers import TrainingArguments\n",
        "\n",
        "args = TrainingArguments(\n",
        "    output_dir='out',\n",
        "    per_device_train_batch_size=8,\n",
        "    num_train_epochs=2\n",
        ")"
      ]
    },
    {
      "cell_type": "code",
      "execution_count": null,
      "metadata": {
        "id": "1BQfaW5ueeVC"
      },
      "outputs": [],
      "source": [
        "from transformers import Trainer\n",
        "\n",
        "trainer = Trainer(\n",
        "    model=model,\n",
        "    args=args,\n",
        "    train_dataset=dataset\n",
        ")"
      ]
    },
    {
      "cell_type": "code",
      "execution_count": null,
      "metadata": {
        "colab": {
          "base_uri": "https://localhost:8080/",
          "height": 423
        },
        "id": "pczzA2ylejA6",
        "outputId": "106974cf-eb2e-4220-bae3-44f596dee343"
      },
      "outputs": [
        {
          "name": "stderr",
          "output_type": "stream",
          "text": [
            "<ipython-input-22-6dccb434beb5>:5: UserWarning: To copy construct from a tensor, it is recommended to use sourceTensor.clone().detach() or sourceTensor.clone().detach().requires_grad_(True), rather than torch.tensor(sourceTensor).\n",
            "  return {key: torch.tensor(val[idx]) for key, val in self.encodings.items()}\n"
          ]
        },
        {
          "data": {
            "text/html": [
              "\n",
              "    <div>\n",
              "      \n",
              "      <progress value='29' max='170' style='width:300px; height:20px; vertical-align: middle;'></progress>\n",
              "      [ 29/170 13:05 < 1:08:24, 0.03 it/s, Epoch 0.33/2]\n",
              "    </div>\n",
              "    <table border=\"1\" class=\"dataframe\">\n",
              "  <thead>\n",
              " <tr style=\"text-align: left;\">\n",
              "      <th>Step</th>\n",
              "      <th>Training Loss</th>\n",
              "    </tr>\n",
              "  </thead>\n",
              "  <tbody>\n",
              "  </tbody>\n",
              "</table><p>"
            ],
            "text/plain": [
              "<IPython.core.display.HTML object>"
            ]
          },
          "metadata": {},
          "output_type": "display_data"
        },
        {
          "ename": "KeyboardInterrupt",
          "evalue": "ignored",
          "output_type": "error",
          "traceback": [
            "\u001b[0;31m---------------------------------------------------------------------------\u001b[0m",
            "\u001b[0;31mKeyboardInterrupt\u001b[0m                         Traceback (most recent call last)",
            "\u001b[0;32m<ipython-input-32-3435b262f1ae>\u001b[0m in \u001b[0;36m<cell line: 1>\u001b[0;34m()\u001b[0m\n\u001b[0;32m----> 1\u001b[0;31m \u001b[0mtrainer\u001b[0m\u001b[0;34m.\u001b[0m\u001b[0mtrain\u001b[0m\u001b[0;34m(\u001b[0m\u001b[0;34m)\u001b[0m\u001b[0;34m\u001b[0m\u001b[0;34m\u001b[0m\u001b[0m\n\u001b[0m",
            "\u001b[0;32m/usr/local/lib/python3.9/dist-packages/transformers/trainer.py\u001b[0m in \u001b[0;36mtrain\u001b[0;34m(self, resume_from_checkpoint, trial, ignore_keys_for_eval, **kwargs)\u001b[0m\n\u001b[1;32m   1660\u001b[0m             \u001b[0mself\u001b[0m\u001b[0;34m.\u001b[0m\u001b[0m_inner_training_loop\u001b[0m\u001b[0;34m,\u001b[0m \u001b[0mself\u001b[0m\u001b[0;34m.\u001b[0m\u001b[0m_train_batch_size\u001b[0m\u001b[0;34m,\u001b[0m \u001b[0margs\u001b[0m\u001b[0;34m.\u001b[0m\u001b[0mauto_find_batch_size\u001b[0m\u001b[0;34m\u001b[0m\u001b[0;34m\u001b[0m\u001b[0m\n\u001b[1;32m   1661\u001b[0m         )\n\u001b[0;32m-> 1662\u001b[0;31m         return inner_training_loop(\n\u001b[0m\u001b[1;32m   1663\u001b[0m             \u001b[0margs\u001b[0m\u001b[0;34m=\u001b[0m\u001b[0margs\u001b[0m\u001b[0;34m,\u001b[0m\u001b[0;34m\u001b[0m\u001b[0;34m\u001b[0m\u001b[0m\n\u001b[1;32m   1664\u001b[0m             \u001b[0mresume_from_checkpoint\u001b[0m\u001b[0;34m=\u001b[0m\u001b[0mresume_from_checkpoint\u001b[0m\u001b[0;34m,\u001b[0m\u001b[0;34m\u001b[0m\u001b[0;34m\u001b[0m\u001b[0m\n",
            "\u001b[0;32m/usr/local/lib/python3.9/dist-packages/transformers/trainer.py\u001b[0m in \u001b[0;36m_inner_training_loop\u001b[0;34m(self, batch_size, args, resume_from_checkpoint, trial, ignore_keys_for_eval)\u001b[0m\n\u001b[1;32m   1927\u001b[0m                         \u001b[0mtr_loss_step\u001b[0m \u001b[0;34m=\u001b[0m \u001b[0mself\u001b[0m\u001b[0;34m.\u001b[0m\u001b[0mtraining_step\u001b[0m\u001b[0;34m(\u001b[0m\u001b[0mmodel\u001b[0m\u001b[0;34m,\u001b[0m \u001b[0minputs\u001b[0m\u001b[0;34m)\u001b[0m\u001b[0;34m\u001b[0m\u001b[0;34m\u001b[0m\u001b[0m\n\u001b[1;32m   1928\u001b[0m                 \u001b[0;32melse\u001b[0m\u001b[0;34m:\u001b[0m\u001b[0;34m\u001b[0m\u001b[0;34m\u001b[0m\u001b[0m\n\u001b[0;32m-> 1929\u001b[0;31m                     \u001b[0mtr_loss_step\u001b[0m \u001b[0;34m=\u001b[0m \u001b[0mself\u001b[0m\u001b[0;34m.\u001b[0m\u001b[0mtraining_step\u001b[0m\u001b[0;34m(\u001b[0m\u001b[0mmodel\u001b[0m\u001b[0;34m,\u001b[0m \u001b[0minputs\u001b[0m\u001b[0;34m)\u001b[0m\u001b[0;34m\u001b[0m\u001b[0;34m\u001b[0m\u001b[0m\n\u001b[0m\u001b[1;32m   1930\u001b[0m \u001b[0;34m\u001b[0m\u001b[0m\n\u001b[1;32m   1931\u001b[0m                 if (\n",
            "\u001b[0;32m/usr/local/lib/python3.9/dist-packages/transformers/trainer.py\u001b[0m in \u001b[0;36mtraining_step\u001b[0;34m(self, model, inputs)\u001b[0m\n\u001b[1;32m   2697\u001b[0m \u001b[0;34m\u001b[0m\u001b[0m\n\u001b[1;32m   2698\u001b[0m         \u001b[0;32mwith\u001b[0m \u001b[0mself\u001b[0m\u001b[0;34m.\u001b[0m\u001b[0mcompute_loss_context_manager\u001b[0m\u001b[0;34m(\u001b[0m\u001b[0;34m)\u001b[0m\u001b[0;34m:\u001b[0m\u001b[0;34m\u001b[0m\u001b[0;34m\u001b[0m\u001b[0m\n\u001b[0;32m-> 2699\u001b[0;31m             \u001b[0mloss\u001b[0m \u001b[0;34m=\u001b[0m \u001b[0mself\u001b[0m\u001b[0;34m.\u001b[0m\u001b[0mcompute_loss\u001b[0m\u001b[0;34m(\u001b[0m\u001b[0mmodel\u001b[0m\u001b[0;34m,\u001b[0m \u001b[0minputs\u001b[0m\u001b[0;34m)\u001b[0m\u001b[0;34m\u001b[0m\u001b[0;34m\u001b[0m\u001b[0m\n\u001b[0m\u001b[1;32m   2700\u001b[0m \u001b[0;34m\u001b[0m\u001b[0m\n\u001b[1;32m   2701\u001b[0m         \u001b[0;32mif\u001b[0m \u001b[0mself\u001b[0m\u001b[0;34m.\u001b[0m\u001b[0margs\u001b[0m\u001b[0;34m.\u001b[0m\u001b[0mn_gpu\u001b[0m \u001b[0;34m>\u001b[0m \u001b[0;36m1\u001b[0m\u001b[0;34m:\u001b[0m\u001b[0;34m\u001b[0m\u001b[0;34m\u001b[0m\u001b[0m\n",
            "\u001b[0;32m/usr/local/lib/python3.9/dist-packages/transformers/trainer.py\u001b[0m in \u001b[0;36mcompute_loss\u001b[0;34m(self, model, inputs, return_outputs)\u001b[0m\n\u001b[1;32m   2729\u001b[0m         \u001b[0;32melse\u001b[0m\u001b[0;34m:\u001b[0m\u001b[0;34m\u001b[0m\u001b[0;34m\u001b[0m\u001b[0m\n\u001b[1;32m   2730\u001b[0m             \u001b[0mlabels\u001b[0m \u001b[0;34m=\u001b[0m \u001b[0;32mNone\u001b[0m\u001b[0;34m\u001b[0m\u001b[0;34m\u001b[0m\u001b[0m\n\u001b[0;32m-> 2731\u001b[0;31m         \u001b[0moutputs\u001b[0m \u001b[0;34m=\u001b[0m \u001b[0mmodel\u001b[0m\u001b[0;34m(\u001b[0m\u001b[0;34m**\u001b[0m\u001b[0minputs\u001b[0m\u001b[0;34m)\u001b[0m\u001b[0;34m\u001b[0m\u001b[0;34m\u001b[0m\u001b[0m\n\u001b[0m\u001b[1;32m   2732\u001b[0m         \u001b[0;31m# Save past state if it exists\u001b[0m\u001b[0;34m\u001b[0m\u001b[0;34m\u001b[0m\u001b[0m\n\u001b[1;32m   2733\u001b[0m         \u001b[0;31m# TODO: this needs to be fixed and made cleaner later.\u001b[0m\u001b[0;34m\u001b[0m\u001b[0;34m\u001b[0m\u001b[0m\n",
            "\u001b[0;32m/usr/local/lib/python3.9/dist-packages/torch/nn/modules/module.py\u001b[0m in \u001b[0;36m_call_impl\u001b[0;34m(self, *args, **kwargs)\u001b[0m\n\u001b[1;32m   1499\u001b[0m                 \u001b[0;32mor\u001b[0m \u001b[0m_global_backward_pre_hooks\u001b[0m \u001b[0;32mor\u001b[0m \u001b[0m_global_backward_hooks\u001b[0m\u001b[0;34m\u001b[0m\u001b[0;34m\u001b[0m\u001b[0m\n\u001b[1;32m   1500\u001b[0m                 or _global_forward_hooks or _global_forward_pre_hooks):\n\u001b[0;32m-> 1501\u001b[0;31m             \u001b[0;32mreturn\u001b[0m \u001b[0mforward_call\u001b[0m\u001b[0;34m(\u001b[0m\u001b[0;34m*\u001b[0m\u001b[0margs\u001b[0m\u001b[0;34m,\u001b[0m \u001b[0;34m**\u001b[0m\u001b[0mkwargs\u001b[0m\u001b[0;34m)\u001b[0m\u001b[0;34m\u001b[0m\u001b[0;34m\u001b[0m\u001b[0m\n\u001b[0m\u001b[1;32m   1502\u001b[0m         \u001b[0;31m# Do not call functions when jit is used\u001b[0m\u001b[0;34m\u001b[0m\u001b[0;34m\u001b[0m\u001b[0m\n\u001b[1;32m   1503\u001b[0m         \u001b[0mfull_backward_hooks\u001b[0m\u001b[0;34m,\u001b[0m \u001b[0mnon_full_backward_hooks\u001b[0m \u001b[0;34m=\u001b[0m \u001b[0;34m[\u001b[0m\u001b[0;34m]\u001b[0m\u001b[0;34m,\u001b[0m \u001b[0;34m[\u001b[0m\u001b[0;34m]\u001b[0m\u001b[0;34m\u001b[0m\u001b[0;34m\u001b[0m\u001b[0m\n",
            "\u001b[0;32m/usr/local/lib/python3.9/dist-packages/transformers/models/bert/modeling_bert.py\u001b[0m in \u001b[0;36mforward\u001b[0;34m(self, input_ids, attention_mask, token_type_ids, position_ids, head_mask, inputs_embeds, encoder_hidden_states, encoder_attention_mask, labels, output_attentions, output_hidden_states, return_dict)\u001b[0m\n\u001b[1;32m   1371\u001b[0m \u001b[0;34m\u001b[0m\u001b[0m\n\u001b[1;32m   1372\u001b[0m         \u001b[0msequence_output\u001b[0m \u001b[0;34m=\u001b[0m \u001b[0moutputs\u001b[0m\u001b[0;34m[\u001b[0m\u001b[0;36m0\u001b[0m\u001b[0;34m]\u001b[0m\u001b[0;34m\u001b[0m\u001b[0;34m\u001b[0m\u001b[0m\n\u001b[0;32m-> 1373\u001b[0;31m         \u001b[0mprediction_scores\u001b[0m \u001b[0;34m=\u001b[0m \u001b[0mself\u001b[0m\u001b[0;34m.\u001b[0m\u001b[0mcls\u001b[0m\u001b[0;34m(\u001b[0m\u001b[0msequence_output\u001b[0m\u001b[0;34m)\u001b[0m\u001b[0;34m\u001b[0m\u001b[0;34m\u001b[0m\u001b[0m\n\u001b[0m\u001b[1;32m   1374\u001b[0m \u001b[0;34m\u001b[0m\u001b[0m\n\u001b[1;32m   1375\u001b[0m         \u001b[0mmasked_lm_loss\u001b[0m \u001b[0;34m=\u001b[0m \u001b[0;32mNone\u001b[0m\u001b[0;34m\u001b[0m\u001b[0;34m\u001b[0m\u001b[0m\n",
            "\u001b[0;32m/usr/local/lib/python3.9/dist-packages/torch/nn/modules/module.py\u001b[0m in \u001b[0;36m_call_impl\u001b[0;34m(self, *args, **kwargs)\u001b[0m\n\u001b[1;32m   1499\u001b[0m                 \u001b[0;32mor\u001b[0m \u001b[0m_global_backward_pre_hooks\u001b[0m \u001b[0;32mor\u001b[0m \u001b[0m_global_backward_hooks\u001b[0m\u001b[0;34m\u001b[0m\u001b[0;34m\u001b[0m\u001b[0m\n\u001b[1;32m   1500\u001b[0m                 or _global_forward_hooks or _global_forward_pre_hooks):\n\u001b[0;32m-> 1501\u001b[0;31m             \u001b[0;32mreturn\u001b[0m \u001b[0mforward_call\u001b[0m\u001b[0;34m(\u001b[0m\u001b[0;34m*\u001b[0m\u001b[0margs\u001b[0m\u001b[0;34m,\u001b[0m \u001b[0;34m**\u001b[0m\u001b[0mkwargs\u001b[0m\u001b[0;34m)\u001b[0m\u001b[0;34m\u001b[0m\u001b[0;34m\u001b[0m\u001b[0m\n\u001b[0m\u001b[1;32m   1502\u001b[0m         \u001b[0;31m# Do not call functions when jit is used\u001b[0m\u001b[0;34m\u001b[0m\u001b[0;34m\u001b[0m\u001b[0m\n\u001b[1;32m   1503\u001b[0m         \u001b[0mfull_backward_hooks\u001b[0m\u001b[0;34m,\u001b[0m \u001b[0mnon_full_backward_hooks\u001b[0m \u001b[0;34m=\u001b[0m \u001b[0;34m[\u001b[0m\u001b[0;34m]\u001b[0m\u001b[0;34m,\u001b[0m \u001b[0;34m[\u001b[0m\u001b[0;34m]\u001b[0m\u001b[0;34m\u001b[0m\u001b[0;34m\u001b[0m\u001b[0m\n",
            "\u001b[0;32m/usr/local/lib/python3.9/dist-packages/transformers/models/bert/modeling_bert.py\u001b[0m in \u001b[0;36mforward\u001b[0;34m(self, sequence_output)\u001b[0m\n\u001b[1;32m    708\u001b[0m \u001b[0;34m\u001b[0m\u001b[0m\n\u001b[1;32m    709\u001b[0m     \u001b[0;32mdef\u001b[0m \u001b[0mforward\u001b[0m\u001b[0;34m(\u001b[0m\u001b[0mself\u001b[0m\u001b[0;34m,\u001b[0m \u001b[0msequence_output\u001b[0m\u001b[0;34m:\u001b[0m \u001b[0mtorch\u001b[0m\u001b[0;34m.\u001b[0m\u001b[0mTensor\u001b[0m\u001b[0;34m)\u001b[0m \u001b[0;34m->\u001b[0m \u001b[0mtorch\u001b[0m\u001b[0;34m.\u001b[0m\u001b[0mTensor\u001b[0m\u001b[0;34m:\u001b[0m\u001b[0;34m\u001b[0m\u001b[0;34m\u001b[0m\u001b[0m\n\u001b[0;32m--> 710\u001b[0;31m         \u001b[0mprediction_scores\u001b[0m \u001b[0;34m=\u001b[0m \u001b[0mself\u001b[0m\u001b[0;34m.\u001b[0m\u001b[0mpredictions\u001b[0m\u001b[0;34m(\u001b[0m\u001b[0msequence_output\u001b[0m\u001b[0;34m)\u001b[0m\u001b[0;34m\u001b[0m\u001b[0;34m\u001b[0m\u001b[0m\n\u001b[0m\u001b[1;32m    711\u001b[0m         \u001b[0;32mreturn\u001b[0m \u001b[0mprediction_scores\u001b[0m\u001b[0;34m\u001b[0m\u001b[0;34m\u001b[0m\u001b[0m\n\u001b[1;32m    712\u001b[0m \u001b[0;34m\u001b[0m\u001b[0m\n",
            "\u001b[0;32m/usr/local/lib/python3.9/dist-packages/torch/nn/modules/module.py\u001b[0m in \u001b[0;36m_call_impl\u001b[0;34m(self, *args, **kwargs)\u001b[0m\n\u001b[1;32m   1499\u001b[0m                 \u001b[0;32mor\u001b[0m \u001b[0m_global_backward_pre_hooks\u001b[0m \u001b[0;32mor\u001b[0m \u001b[0m_global_backward_hooks\u001b[0m\u001b[0;34m\u001b[0m\u001b[0;34m\u001b[0m\u001b[0m\n\u001b[1;32m   1500\u001b[0m                 or _global_forward_hooks or _global_forward_pre_hooks):\n\u001b[0;32m-> 1501\u001b[0;31m             \u001b[0;32mreturn\u001b[0m \u001b[0mforward_call\u001b[0m\u001b[0;34m(\u001b[0m\u001b[0;34m*\u001b[0m\u001b[0margs\u001b[0m\u001b[0;34m,\u001b[0m \u001b[0;34m**\u001b[0m\u001b[0mkwargs\u001b[0m\u001b[0;34m)\u001b[0m\u001b[0;34m\u001b[0m\u001b[0;34m\u001b[0m\u001b[0m\n\u001b[0m\u001b[1;32m   1502\u001b[0m         \u001b[0;31m# Do not call functions when jit is used\u001b[0m\u001b[0;34m\u001b[0m\u001b[0;34m\u001b[0m\u001b[0m\n\u001b[1;32m   1503\u001b[0m         \u001b[0mfull_backward_hooks\u001b[0m\u001b[0;34m,\u001b[0m \u001b[0mnon_full_backward_hooks\u001b[0m \u001b[0;34m=\u001b[0m \u001b[0;34m[\u001b[0m\u001b[0;34m]\u001b[0m\u001b[0;34m,\u001b[0m \u001b[0;34m[\u001b[0m\u001b[0;34m]\u001b[0m\u001b[0;34m\u001b[0m\u001b[0;34m\u001b[0m\u001b[0m\n",
            "\u001b[0;32m/usr/local/lib/python3.9/dist-packages/transformers/models/bert/modeling_bert.py\u001b[0m in \u001b[0;36mforward\u001b[0;34m(self, hidden_states)\u001b[0m\n\u001b[1;32m    698\u001b[0m     \u001b[0;32mdef\u001b[0m \u001b[0mforward\u001b[0m\u001b[0;34m(\u001b[0m\u001b[0mself\u001b[0m\u001b[0;34m,\u001b[0m \u001b[0mhidden_states\u001b[0m\u001b[0;34m)\u001b[0m\u001b[0;34m:\u001b[0m\u001b[0;34m\u001b[0m\u001b[0;34m\u001b[0m\u001b[0m\n\u001b[1;32m    699\u001b[0m         \u001b[0mhidden_states\u001b[0m \u001b[0;34m=\u001b[0m \u001b[0mself\u001b[0m\u001b[0;34m.\u001b[0m\u001b[0mtransform\u001b[0m\u001b[0;34m(\u001b[0m\u001b[0mhidden_states\u001b[0m\u001b[0;34m)\u001b[0m\u001b[0;34m\u001b[0m\u001b[0;34m\u001b[0m\u001b[0m\n\u001b[0;32m--> 700\u001b[0;31m         \u001b[0mhidden_states\u001b[0m \u001b[0;34m=\u001b[0m \u001b[0mself\u001b[0m\u001b[0;34m.\u001b[0m\u001b[0mdecoder\u001b[0m\u001b[0;34m(\u001b[0m\u001b[0mhidden_states\u001b[0m\u001b[0;34m)\u001b[0m\u001b[0;34m\u001b[0m\u001b[0;34m\u001b[0m\u001b[0m\n\u001b[0m\u001b[1;32m    701\u001b[0m         \u001b[0;32mreturn\u001b[0m \u001b[0mhidden_states\u001b[0m\u001b[0;34m\u001b[0m\u001b[0;34m\u001b[0m\u001b[0m\n\u001b[1;32m    702\u001b[0m \u001b[0;34m\u001b[0m\u001b[0m\n",
            "\u001b[0;32m/usr/local/lib/python3.9/dist-packages/torch/nn/modules/module.py\u001b[0m in \u001b[0;36m_call_impl\u001b[0;34m(self, *args, **kwargs)\u001b[0m\n\u001b[1;32m   1499\u001b[0m                 \u001b[0;32mor\u001b[0m \u001b[0m_global_backward_pre_hooks\u001b[0m \u001b[0;32mor\u001b[0m \u001b[0m_global_backward_hooks\u001b[0m\u001b[0;34m\u001b[0m\u001b[0;34m\u001b[0m\u001b[0m\n\u001b[1;32m   1500\u001b[0m                 or _global_forward_hooks or _global_forward_pre_hooks):\n\u001b[0;32m-> 1501\u001b[0;31m             \u001b[0;32mreturn\u001b[0m \u001b[0mforward_call\u001b[0m\u001b[0;34m(\u001b[0m\u001b[0;34m*\u001b[0m\u001b[0margs\u001b[0m\u001b[0;34m,\u001b[0m \u001b[0;34m**\u001b[0m\u001b[0mkwargs\u001b[0m\u001b[0;34m)\u001b[0m\u001b[0;34m\u001b[0m\u001b[0;34m\u001b[0m\u001b[0m\n\u001b[0m\u001b[1;32m   1502\u001b[0m         \u001b[0;31m# Do not call functions when jit is used\u001b[0m\u001b[0;34m\u001b[0m\u001b[0;34m\u001b[0m\u001b[0m\n\u001b[1;32m   1503\u001b[0m         \u001b[0mfull_backward_hooks\u001b[0m\u001b[0;34m,\u001b[0m \u001b[0mnon_full_backward_hooks\u001b[0m \u001b[0;34m=\u001b[0m \u001b[0;34m[\u001b[0m\u001b[0;34m]\u001b[0m\u001b[0;34m,\u001b[0m \u001b[0;34m[\u001b[0m\u001b[0;34m]\u001b[0m\u001b[0;34m\u001b[0m\u001b[0;34m\u001b[0m\u001b[0m\n",
            "\u001b[0;32m/usr/local/lib/python3.9/dist-packages/torch/nn/modules/linear.py\u001b[0m in \u001b[0;36mforward\u001b[0;34m(self, input)\u001b[0m\n\u001b[1;32m    112\u001b[0m \u001b[0;34m\u001b[0m\u001b[0m\n\u001b[1;32m    113\u001b[0m     \u001b[0;32mdef\u001b[0m \u001b[0mforward\u001b[0m\u001b[0;34m(\u001b[0m\u001b[0mself\u001b[0m\u001b[0;34m,\u001b[0m \u001b[0minput\u001b[0m\u001b[0;34m:\u001b[0m \u001b[0mTensor\u001b[0m\u001b[0;34m)\u001b[0m \u001b[0;34m->\u001b[0m \u001b[0mTensor\u001b[0m\u001b[0;34m:\u001b[0m\u001b[0;34m\u001b[0m\u001b[0;34m\u001b[0m\u001b[0m\n\u001b[0;32m--> 114\u001b[0;31m         \u001b[0;32mreturn\u001b[0m \u001b[0mF\u001b[0m\u001b[0;34m.\u001b[0m\u001b[0mlinear\u001b[0m\u001b[0;34m(\u001b[0m\u001b[0minput\u001b[0m\u001b[0;34m,\u001b[0m \u001b[0mself\u001b[0m\u001b[0;34m.\u001b[0m\u001b[0mweight\u001b[0m\u001b[0;34m,\u001b[0m \u001b[0mself\u001b[0m\u001b[0;34m.\u001b[0m\u001b[0mbias\u001b[0m\u001b[0;34m)\u001b[0m\u001b[0;34m\u001b[0m\u001b[0;34m\u001b[0m\u001b[0m\n\u001b[0m\u001b[1;32m    115\u001b[0m \u001b[0;34m\u001b[0m\u001b[0m\n\u001b[1;32m    116\u001b[0m     \u001b[0;32mdef\u001b[0m \u001b[0mextra_repr\u001b[0m\u001b[0;34m(\u001b[0m\u001b[0mself\u001b[0m\u001b[0;34m)\u001b[0m \u001b[0;34m->\u001b[0m \u001b[0mstr\u001b[0m\u001b[0;34m:\u001b[0m\u001b[0;34m\u001b[0m\u001b[0;34m\u001b[0m\u001b[0m\n",
            "\u001b[0;31mKeyboardInterrupt\u001b[0m: "
          ]
        }
      ],
      "source": [
        "trainer.train()"
      ]
    },
    {
      "cell_type": "code",
      "execution_count": null,
      "metadata": {
        "id": "01PBI3s6oGy3"
      },
      "outputs": [],
      "source": []
    },
    {
      "cell_type": "code",
      "execution_count": null,
      "metadata": {
        "id": "KOrIPExlkE3N"
      },
      "outputs": [],
      "source": [
        "# Save the finetuned model\n",
        "model.save_pretrained(\"finetuned_BertForMaskedLM_model2\")\n",
        "tokenizer.save_pretrained(\"finetuned_BertForMaskedLM_tokenizer2\")"
      ]
    },
    {
      "cell_type": "code",
      "execution_count": null,
      "metadata": {
        "id": "QVJU19krMgIP"
      },
      "outputs": [],
      "source": [
        "resume_text = '''\n",
        "SKILLS C Basics, IOT, Python, MATLAB, Data Science, Machine Learning, HTML, Microsoft Word, Microsoft Excel, Microsoft Powerpoint. RECOGNITION Academic Secured First place in B.Tech.Education Details \n",
        "August 2014 to May 2018 B.Tech.  Ghatkesar, Andhra Pradesh Aurora's Scientific and Technological Institute\n",
        "June 2012 to May 2014  Secondary Education Warangal, Telangana SR Junior College\n",
        "Data Science \n",
        "\n",
        "\n",
        "Skill Details \n",
        "MS OFFICE- Exprience - Less than 1 year months\n",
        "C- Exprience - Less than 1 year months\n",
        "machine learning- Exprience - Less than 1 year months\n",
        "data science- Exprience - Less than 1 year months\n",
        "Matlab- Exprience - Less than 1 year monthsCompany Details \n",
        "company - \n",
        "description - \n",
        "\n",
        "'''"
      ]
    },
    {
      "cell_type": "code",
      "execution_count": null,
      "metadata": {
        "id": "laB1hlm2MYP8"
      },
      "outputs": [],
      "source": [
        "extract_skills_new(resume_text)"
      ]
    },
    {
      "cell_type": "code",
      "execution_count": null,
      "metadata": {
        "id": "mTbe5dzkWWrl"
      },
      "outputs": [],
      "source": [
        "import random\n",
        "tokenizer = BertTokenizer.from_pretrained('bert-base-uncased')\n",
        "tokenizer.mask_token = '[MASK]'\n",
        "tokenizer.mask_token_id = tokenizer.convert_tokens_to_ids(tokenizer.mask_token)\n",
        "\n",
        "text = '[CLS] java, c + +, user requirement, excel, ajax, programming, jdbc, jquery, j2ee, java script'\n",
        "\n",
        "# tokenize the text\n",
        "tokens = tokenizer.tokenize(text)\n",
        "\n",
        "# apply whole-word masking\n",
        "for i, token in enumerate(tokens):\n",
        "    if token.startswith('##'):\n",
        "        continue\n",
        "    if i > 0 and tokens[i-1].endswith('##'):\n",
        "        continue\n",
        "    if i < len(tokens)-1 and tokens[i+1].startswith('##'):\n",
        "        continue\n",
        "    if token in ['[CLS]', '[SEP]']:\n",
        "        continue\n",
        "    if len(token) < 4:\n",
        "        continue\n",
        "    if random.random() < 0.15:\n",
        "        tokens[i] = '[MASK]'\n",
        "\n",
        "# convert tokens back to text\n",
        "masked_text = ' '.join(tokens)\n"
      ]
    },
    {
      "cell_type": "code",
      "source": [
        "masked_text\n"
      ],
      "metadata": {
        "colab": {
          "base_uri": "https://localhost:8080/",
          "height": 35
        },
        "id": "z_EdLaVW7qlz",
        "outputId": "b2ac00a0-8fe2-4358-da51-e8efbe380d27"
      },
      "execution_count": null,
      "outputs": [
        {
          "output_type": "execute_result",
          "data": {
            "text/plain": [
              "'[CLS] java , c + + , user requirement , excel , ajax , programming , jd ##bc , j ##que ##ry , j ##2 ##ee , java script'"
            ],
            "application/vnd.google.colaboratory.intrinsic+json": {
              "type": "string"
            }
          },
          "metadata": {},
          "execution_count": 47
        }
      ]
    },
    {
      "cell_type": "code",
      "source": [],
      "metadata": {
        "id": "BahU1rKC7s1l"
      },
      "execution_count": null,
      "outputs": []
    }
  ],
  "metadata": {
    "colab": {
      "provenance": []
    },
    "gpuClass": "standard",
    "kernelspec": {
      "display_name": "Python 3",
      "name": "python3"
    },
    "language_info": {
      "name": "python"
    },
    "widgets": {
      "application/vnd.jupyter.widget-state+json": {
        "b5fff10776094fd493f73dbfe355daf7": {
          "model_module": "@jupyter-widgets/controls",
          "model_name": "HBoxModel",
          "model_module_version": "1.5.0",
          "state": {
            "_dom_classes": [],
            "_model_module": "@jupyter-widgets/controls",
            "_model_module_version": "1.5.0",
            "_model_name": "HBoxModel",
            "_view_count": null,
            "_view_module": "@jupyter-widgets/controls",
            "_view_module_version": "1.5.0",
            "_view_name": "HBoxView",
            "box_style": "",
            "children": [
              "IPY_MODEL_0c8686c91e2d488a940296a707917e3e",
              "IPY_MODEL_33408dfd72bb41a0a185d52a4c62386f",
              "IPY_MODEL_7ccd639f692a4c0f89747310f2997b97"
            ],
            "layout": "IPY_MODEL_b8c781b903be448bae6d715a3811c855"
          }
        },
        "0c8686c91e2d488a940296a707917e3e": {
          "model_module": "@jupyter-widgets/controls",
          "model_name": "HTMLModel",
          "model_module_version": "1.5.0",
          "state": {
            "_dom_classes": [],
            "_model_module": "@jupyter-widgets/controls",
            "_model_module_version": "1.5.0",
            "_model_name": "HTMLModel",
            "_view_count": null,
            "_view_module": "@jupyter-widgets/controls",
            "_view_module_version": "1.5.0",
            "_view_name": "HTMLView",
            "description": "",
            "description_tooltip": null,
            "layout": "IPY_MODEL_208fe24eb3fb4706a5a50f3d80c3b9c5",
            "placeholder": "​",
            "style": "IPY_MODEL_074d5aabc6634b0fbd4c33540b945c72",
            "value": "Downloading (…)solve/main/vocab.txt: 100%"
          }
        },
        "33408dfd72bb41a0a185d52a4c62386f": {
          "model_module": "@jupyter-widgets/controls",
          "model_name": "FloatProgressModel",
          "model_module_version": "1.5.0",
          "state": {
            "_dom_classes": [],
            "_model_module": "@jupyter-widgets/controls",
            "_model_module_version": "1.5.0",
            "_model_name": "FloatProgressModel",
            "_view_count": null,
            "_view_module": "@jupyter-widgets/controls",
            "_view_module_version": "1.5.0",
            "_view_name": "ProgressView",
            "bar_style": "success",
            "description": "",
            "description_tooltip": null,
            "layout": "IPY_MODEL_0390245550cd46fd9ef3de55d2365610",
            "max": 231508,
            "min": 0,
            "orientation": "horizontal",
            "style": "IPY_MODEL_54fa783c1e914c4287a81cb169dc8a9d",
            "value": 231508
          }
        },
        "7ccd639f692a4c0f89747310f2997b97": {
          "model_module": "@jupyter-widgets/controls",
          "model_name": "HTMLModel",
          "model_module_version": "1.5.0",
          "state": {
            "_dom_classes": [],
            "_model_module": "@jupyter-widgets/controls",
            "_model_module_version": "1.5.0",
            "_model_name": "HTMLModel",
            "_view_count": null,
            "_view_module": "@jupyter-widgets/controls",
            "_view_module_version": "1.5.0",
            "_view_name": "HTMLView",
            "description": "",
            "description_tooltip": null,
            "layout": "IPY_MODEL_4ad57e7051d74bd19779463e7b495576",
            "placeholder": "​",
            "style": "IPY_MODEL_1998f9d3e7b0449e8650a178d1cd43f0",
            "value": " 232k/232k [00:00&lt;00:00, 1.78MB/s]"
          }
        },
        "b8c781b903be448bae6d715a3811c855": {
          "model_module": "@jupyter-widgets/base",
          "model_name": "LayoutModel",
          "model_module_version": "1.2.0",
          "state": {
            "_model_module": "@jupyter-widgets/base",
            "_model_module_version": "1.2.0",
            "_model_name": "LayoutModel",
            "_view_count": null,
            "_view_module": "@jupyter-widgets/base",
            "_view_module_version": "1.2.0",
            "_view_name": "LayoutView",
            "align_content": null,
            "align_items": null,
            "align_self": null,
            "border": null,
            "bottom": null,
            "display": null,
            "flex": null,
            "flex_flow": null,
            "grid_area": null,
            "grid_auto_columns": null,
            "grid_auto_flow": null,
            "grid_auto_rows": null,
            "grid_column": null,
            "grid_gap": null,
            "grid_row": null,
            "grid_template_areas": null,
            "grid_template_columns": null,
            "grid_template_rows": null,
            "height": null,
            "justify_content": null,
            "justify_items": null,
            "left": null,
            "margin": null,
            "max_height": null,
            "max_width": null,
            "min_height": null,
            "min_width": null,
            "object_fit": null,
            "object_position": null,
            "order": null,
            "overflow": null,
            "overflow_x": null,
            "overflow_y": null,
            "padding": null,
            "right": null,
            "top": null,
            "visibility": null,
            "width": null
          }
        },
        "208fe24eb3fb4706a5a50f3d80c3b9c5": {
          "model_module": "@jupyter-widgets/base",
          "model_name": "LayoutModel",
          "model_module_version": "1.2.0",
          "state": {
            "_model_module": "@jupyter-widgets/base",
            "_model_module_version": "1.2.0",
            "_model_name": "LayoutModel",
            "_view_count": null,
            "_view_module": "@jupyter-widgets/base",
            "_view_module_version": "1.2.0",
            "_view_name": "LayoutView",
            "align_content": null,
            "align_items": null,
            "align_self": null,
            "border": null,
            "bottom": null,
            "display": null,
            "flex": null,
            "flex_flow": null,
            "grid_area": null,
            "grid_auto_columns": null,
            "grid_auto_flow": null,
            "grid_auto_rows": null,
            "grid_column": null,
            "grid_gap": null,
            "grid_row": null,
            "grid_template_areas": null,
            "grid_template_columns": null,
            "grid_template_rows": null,
            "height": null,
            "justify_content": null,
            "justify_items": null,
            "left": null,
            "margin": null,
            "max_height": null,
            "max_width": null,
            "min_height": null,
            "min_width": null,
            "object_fit": null,
            "object_position": null,
            "order": null,
            "overflow": null,
            "overflow_x": null,
            "overflow_y": null,
            "padding": null,
            "right": null,
            "top": null,
            "visibility": null,
            "width": null
          }
        },
        "074d5aabc6634b0fbd4c33540b945c72": {
          "model_module": "@jupyter-widgets/controls",
          "model_name": "DescriptionStyleModel",
          "model_module_version": "1.5.0",
          "state": {
            "_model_module": "@jupyter-widgets/controls",
            "_model_module_version": "1.5.0",
            "_model_name": "DescriptionStyleModel",
            "_view_count": null,
            "_view_module": "@jupyter-widgets/base",
            "_view_module_version": "1.2.0",
            "_view_name": "StyleView",
            "description_width": ""
          }
        },
        "0390245550cd46fd9ef3de55d2365610": {
          "model_module": "@jupyter-widgets/base",
          "model_name": "LayoutModel",
          "model_module_version": "1.2.0",
          "state": {
            "_model_module": "@jupyter-widgets/base",
            "_model_module_version": "1.2.0",
            "_model_name": "LayoutModel",
            "_view_count": null,
            "_view_module": "@jupyter-widgets/base",
            "_view_module_version": "1.2.0",
            "_view_name": "LayoutView",
            "align_content": null,
            "align_items": null,
            "align_self": null,
            "border": null,
            "bottom": null,
            "display": null,
            "flex": null,
            "flex_flow": null,
            "grid_area": null,
            "grid_auto_columns": null,
            "grid_auto_flow": null,
            "grid_auto_rows": null,
            "grid_column": null,
            "grid_gap": null,
            "grid_row": null,
            "grid_template_areas": null,
            "grid_template_columns": null,
            "grid_template_rows": null,
            "height": null,
            "justify_content": null,
            "justify_items": null,
            "left": null,
            "margin": null,
            "max_height": null,
            "max_width": null,
            "min_height": null,
            "min_width": null,
            "object_fit": null,
            "object_position": null,
            "order": null,
            "overflow": null,
            "overflow_x": null,
            "overflow_y": null,
            "padding": null,
            "right": null,
            "top": null,
            "visibility": null,
            "width": null
          }
        },
        "54fa783c1e914c4287a81cb169dc8a9d": {
          "model_module": "@jupyter-widgets/controls",
          "model_name": "ProgressStyleModel",
          "model_module_version": "1.5.0",
          "state": {
            "_model_module": "@jupyter-widgets/controls",
            "_model_module_version": "1.5.0",
            "_model_name": "ProgressStyleModel",
            "_view_count": null,
            "_view_module": "@jupyter-widgets/base",
            "_view_module_version": "1.2.0",
            "_view_name": "StyleView",
            "bar_color": null,
            "description_width": ""
          }
        },
        "4ad57e7051d74bd19779463e7b495576": {
          "model_module": "@jupyter-widgets/base",
          "model_name": "LayoutModel",
          "model_module_version": "1.2.0",
          "state": {
            "_model_module": "@jupyter-widgets/base",
            "_model_module_version": "1.2.0",
            "_model_name": "LayoutModel",
            "_view_count": null,
            "_view_module": "@jupyter-widgets/base",
            "_view_module_version": "1.2.0",
            "_view_name": "LayoutView",
            "align_content": null,
            "align_items": null,
            "align_self": null,
            "border": null,
            "bottom": null,
            "display": null,
            "flex": null,
            "flex_flow": null,
            "grid_area": null,
            "grid_auto_columns": null,
            "grid_auto_flow": null,
            "grid_auto_rows": null,
            "grid_column": null,
            "grid_gap": null,
            "grid_row": null,
            "grid_template_areas": null,
            "grid_template_columns": null,
            "grid_template_rows": null,
            "height": null,
            "justify_content": null,
            "justify_items": null,
            "left": null,
            "margin": null,
            "max_height": null,
            "max_width": null,
            "min_height": null,
            "min_width": null,
            "object_fit": null,
            "object_position": null,
            "order": null,
            "overflow": null,
            "overflow_x": null,
            "overflow_y": null,
            "padding": null,
            "right": null,
            "top": null,
            "visibility": null,
            "width": null
          }
        },
        "1998f9d3e7b0449e8650a178d1cd43f0": {
          "model_module": "@jupyter-widgets/controls",
          "model_name": "DescriptionStyleModel",
          "model_module_version": "1.5.0",
          "state": {
            "_model_module": "@jupyter-widgets/controls",
            "_model_module_version": "1.5.0",
            "_model_name": "DescriptionStyleModel",
            "_view_count": null,
            "_view_module": "@jupyter-widgets/base",
            "_view_module_version": "1.2.0",
            "_view_name": "StyleView",
            "description_width": ""
          }
        },
        "74b795b785ff40cca1609a2943b2e3cb": {
          "model_module": "@jupyter-widgets/controls",
          "model_name": "HBoxModel",
          "model_module_version": "1.5.0",
          "state": {
            "_dom_classes": [],
            "_model_module": "@jupyter-widgets/controls",
            "_model_module_version": "1.5.0",
            "_model_name": "HBoxModel",
            "_view_count": null,
            "_view_module": "@jupyter-widgets/controls",
            "_view_module_version": "1.5.0",
            "_view_name": "HBoxView",
            "box_style": "",
            "children": [
              "IPY_MODEL_f71589ff028e4021aafd2798540eee8b",
              "IPY_MODEL_bc5282b31c07420dad5a5ec8280a0693",
              "IPY_MODEL_0297020c59944909ba42d197694c3a0e"
            ],
            "layout": "IPY_MODEL_14b487e8cf6748048f63f09f4317a395"
          }
        },
        "f71589ff028e4021aafd2798540eee8b": {
          "model_module": "@jupyter-widgets/controls",
          "model_name": "HTMLModel",
          "model_module_version": "1.5.0",
          "state": {
            "_dom_classes": [],
            "_model_module": "@jupyter-widgets/controls",
            "_model_module_version": "1.5.0",
            "_model_name": "HTMLModel",
            "_view_count": null,
            "_view_module": "@jupyter-widgets/controls",
            "_view_module_version": "1.5.0",
            "_view_name": "HTMLView",
            "description": "",
            "description_tooltip": null,
            "layout": "IPY_MODEL_7848580796b946719df8c28d0243edf2",
            "placeholder": "​",
            "style": "IPY_MODEL_74fd6dd9761d46b3af8bb0d38c5712d8",
            "value": "Downloading (…)okenizer_config.json: 100%"
          }
        },
        "bc5282b31c07420dad5a5ec8280a0693": {
          "model_module": "@jupyter-widgets/controls",
          "model_name": "FloatProgressModel",
          "model_module_version": "1.5.0",
          "state": {
            "_dom_classes": [],
            "_model_module": "@jupyter-widgets/controls",
            "_model_module_version": "1.5.0",
            "_model_name": "FloatProgressModel",
            "_view_count": null,
            "_view_module": "@jupyter-widgets/controls",
            "_view_module_version": "1.5.0",
            "_view_name": "ProgressView",
            "bar_style": "success",
            "description": "",
            "description_tooltip": null,
            "layout": "IPY_MODEL_caf548bc8346495db638397d5027a806",
            "max": 28,
            "min": 0,
            "orientation": "horizontal",
            "style": "IPY_MODEL_31fda7474dbf4065ba5a79f0113076fb",
            "value": 28
          }
        },
        "0297020c59944909ba42d197694c3a0e": {
          "model_module": "@jupyter-widgets/controls",
          "model_name": "HTMLModel",
          "model_module_version": "1.5.0",
          "state": {
            "_dom_classes": [],
            "_model_module": "@jupyter-widgets/controls",
            "_model_module_version": "1.5.0",
            "_model_name": "HTMLModel",
            "_view_count": null,
            "_view_module": "@jupyter-widgets/controls",
            "_view_module_version": "1.5.0",
            "_view_name": "HTMLView",
            "description": "",
            "description_tooltip": null,
            "layout": "IPY_MODEL_40a8ba82707f4909ba1a80fd00afedbd",
            "placeholder": "​",
            "style": "IPY_MODEL_0657b0cdbed545f885f489a866ef192e",
            "value": " 28.0/28.0 [00:00&lt;00:00, 949B/s]"
          }
        },
        "14b487e8cf6748048f63f09f4317a395": {
          "model_module": "@jupyter-widgets/base",
          "model_name": "LayoutModel",
          "model_module_version": "1.2.0",
          "state": {
            "_model_module": "@jupyter-widgets/base",
            "_model_module_version": "1.2.0",
            "_model_name": "LayoutModel",
            "_view_count": null,
            "_view_module": "@jupyter-widgets/base",
            "_view_module_version": "1.2.0",
            "_view_name": "LayoutView",
            "align_content": null,
            "align_items": null,
            "align_self": null,
            "border": null,
            "bottom": null,
            "display": null,
            "flex": null,
            "flex_flow": null,
            "grid_area": null,
            "grid_auto_columns": null,
            "grid_auto_flow": null,
            "grid_auto_rows": null,
            "grid_column": null,
            "grid_gap": null,
            "grid_row": null,
            "grid_template_areas": null,
            "grid_template_columns": null,
            "grid_template_rows": null,
            "height": null,
            "justify_content": null,
            "justify_items": null,
            "left": null,
            "margin": null,
            "max_height": null,
            "max_width": null,
            "min_height": null,
            "min_width": null,
            "object_fit": null,
            "object_position": null,
            "order": null,
            "overflow": null,
            "overflow_x": null,
            "overflow_y": null,
            "padding": null,
            "right": null,
            "top": null,
            "visibility": null,
            "width": null
          }
        },
        "7848580796b946719df8c28d0243edf2": {
          "model_module": "@jupyter-widgets/base",
          "model_name": "LayoutModel",
          "model_module_version": "1.2.0",
          "state": {
            "_model_module": "@jupyter-widgets/base",
            "_model_module_version": "1.2.0",
            "_model_name": "LayoutModel",
            "_view_count": null,
            "_view_module": "@jupyter-widgets/base",
            "_view_module_version": "1.2.0",
            "_view_name": "LayoutView",
            "align_content": null,
            "align_items": null,
            "align_self": null,
            "border": null,
            "bottom": null,
            "display": null,
            "flex": null,
            "flex_flow": null,
            "grid_area": null,
            "grid_auto_columns": null,
            "grid_auto_flow": null,
            "grid_auto_rows": null,
            "grid_column": null,
            "grid_gap": null,
            "grid_row": null,
            "grid_template_areas": null,
            "grid_template_columns": null,
            "grid_template_rows": null,
            "height": null,
            "justify_content": null,
            "justify_items": null,
            "left": null,
            "margin": null,
            "max_height": null,
            "max_width": null,
            "min_height": null,
            "min_width": null,
            "object_fit": null,
            "object_position": null,
            "order": null,
            "overflow": null,
            "overflow_x": null,
            "overflow_y": null,
            "padding": null,
            "right": null,
            "top": null,
            "visibility": null,
            "width": null
          }
        },
        "74fd6dd9761d46b3af8bb0d38c5712d8": {
          "model_module": "@jupyter-widgets/controls",
          "model_name": "DescriptionStyleModel",
          "model_module_version": "1.5.0",
          "state": {
            "_model_module": "@jupyter-widgets/controls",
            "_model_module_version": "1.5.0",
            "_model_name": "DescriptionStyleModel",
            "_view_count": null,
            "_view_module": "@jupyter-widgets/base",
            "_view_module_version": "1.2.0",
            "_view_name": "StyleView",
            "description_width": ""
          }
        },
        "caf548bc8346495db638397d5027a806": {
          "model_module": "@jupyter-widgets/base",
          "model_name": "LayoutModel",
          "model_module_version": "1.2.0",
          "state": {
            "_model_module": "@jupyter-widgets/base",
            "_model_module_version": "1.2.0",
            "_model_name": "LayoutModel",
            "_view_count": null,
            "_view_module": "@jupyter-widgets/base",
            "_view_module_version": "1.2.0",
            "_view_name": "LayoutView",
            "align_content": null,
            "align_items": null,
            "align_self": null,
            "border": null,
            "bottom": null,
            "display": null,
            "flex": null,
            "flex_flow": null,
            "grid_area": null,
            "grid_auto_columns": null,
            "grid_auto_flow": null,
            "grid_auto_rows": null,
            "grid_column": null,
            "grid_gap": null,
            "grid_row": null,
            "grid_template_areas": null,
            "grid_template_columns": null,
            "grid_template_rows": null,
            "height": null,
            "justify_content": null,
            "justify_items": null,
            "left": null,
            "margin": null,
            "max_height": null,
            "max_width": null,
            "min_height": null,
            "min_width": null,
            "object_fit": null,
            "object_position": null,
            "order": null,
            "overflow": null,
            "overflow_x": null,
            "overflow_y": null,
            "padding": null,
            "right": null,
            "top": null,
            "visibility": null,
            "width": null
          }
        },
        "31fda7474dbf4065ba5a79f0113076fb": {
          "model_module": "@jupyter-widgets/controls",
          "model_name": "ProgressStyleModel",
          "model_module_version": "1.5.0",
          "state": {
            "_model_module": "@jupyter-widgets/controls",
            "_model_module_version": "1.5.0",
            "_model_name": "ProgressStyleModel",
            "_view_count": null,
            "_view_module": "@jupyter-widgets/base",
            "_view_module_version": "1.2.0",
            "_view_name": "StyleView",
            "bar_color": null,
            "description_width": ""
          }
        },
        "40a8ba82707f4909ba1a80fd00afedbd": {
          "model_module": "@jupyter-widgets/base",
          "model_name": "LayoutModel",
          "model_module_version": "1.2.0",
          "state": {
            "_model_module": "@jupyter-widgets/base",
            "_model_module_version": "1.2.0",
            "_model_name": "LayoutModel",
            "_view_count": null,
            "_view_module": "@jupyter-widgets/base",
            "_view_module_version": "1.2.0",
            "_view_name": "LayoutView",
            "align_content": null,
            "align_items": null,
            "align_self": null,
            "border": null,
            "bottom": null,
            "display": null,
            "flex": null,
            "flex_flow": null,
            "grid_area": null,
            "grid_auto_columns": null,
            "grid_auto_flow": null,
            "grid_auto_rows": null,
            "grid_column": null,
            "grid_gap": null,
            "grid_row": null,
            "grid_template_areas": null,
            "grid_template_columns": null,
            "grid_template_rows": null,
            "height": null,
            "justify_content": null,
            "justify_items": null,
            "left": null,
            "margin": null,
            "max_height": null,
            "max_width": null,
            "min_height": null,
            "min_width": null,
            "object_fit": null,
            "object_position": null,
            "order": null,
            "overflow": null,
            "overflow_x": null,
            "overflow_y": null,
            "padding": null,
            "right": null,
            "top": null,
            "visibility": null,
            "width": null
          }
        },
        "0657b0cdbed545f885f489a866ef192e": {
          "model_module": "@jupyter-widgets/controls",
          "model_name": "DescriptionStyleModel",
          "model_module_version": "1.5.0",
          "state": {
            "_model_module": "@jupyter-widgets/controls",
            "_model_module_version": "1.5.0",
            "_model_name": "DescriptionStyleModel",
            "_view_count": null,
            "_view_module": "@jupyter-widgets/base",
            "_view_module_version": "1.2.0",
            "_view_name": "StyleView",
            "description_width": ""
          }
        },
        "91b1d43a82484dd9bbebdfec90fe1439": {
          "model_module": "@jupyter-widgets/controls",
          "model_name": "HBoxModel",
          "model_module_version": "1.5.0",
          "state": {
            "_dom_classes": [],
            "_model_module": "@jupyter-widgets/controls",
            "_model_module_version": "1.5.0",
            "_model_name": "HBoxModel",
            "_view_count": null,
            "_view_module": "@jupyter-widgets/controls",
            "_view_module_version": "1.5.0",
            "_view_name": "HBoxView",
            "box_style": "",
            "children": [
              "IPY_MODEL_261b9491d8a24d34b495111b772066e2",
              "IPY_MODEL_8141d2aa1bea42649073327c1433434b",
              "IPY_MODEL_d7f356962e93459ea2b6280206f71da5"
            ],
            "layout": "IPY_MODEL_ddb6c4e81902483cb176332db40608d9"
          }
        },
        "261b9491d8a24d34b495111b772066e2": {
          "model_module": "@jupyter-widgets/controls",
          "model_name": "HTMLModel",
          "model_module_version": "1.5.0",
          "state": {
            "_dom_classes": [],
            "_model_module": "@jupyter-widgets/controls",
            "_model_module_version": "1.5.0",
            "_model_name": "HTMLModel",
            "_view_count": null,
            "_view_module": "@jupyter-widgets/controls",
            "_view_module_version": "1.5.0",
            "_view_name": "HTMLView",
            "description": "",
            "description_tooltip": null,
            "layout": "IPY_MODEL_cec7578698114524b040ed2c74c24852",
            "placeholder": "​",
            "style": "IPY_MODEL_65ff692181024c0e82b51e0f5e06763f",
            "value": "Downloading (…)lve/main/config.json: 100%"
          }
        },
        "8141d2aa1bea42649073327c1433434b": {
          "model_module": "@jupyter-widgets/controls",
          "model_name": "FloatProgressModel",
          "model_module_version": "1.5.0",
          "state": {
            "_dom_classes": [],
            "_model_module": "@jupyter-widgets/controls",
            "_model_module_version": "1.5.0",
            "_model_name": "FloatProgressModel",
            "_view_count": null,
            "_view_module": "@jupyter-widgets/controls",
            "_view_module_version": "1.5.0",
            "_view_name": "ProgressView",
            "bar_style": "success",
            "description": "",
            "description_tooltip": null,
            "layout": "IPY_MODEL_5b99baeef71143acb19168cc6b194d00",
            "max": 570,
            "min": 0,
            "orientation": "horizontal",
            "style": "IPY_MODEL_bb0ab40b26734256ad607d1f6980b481",
            "value": 570
          }
        },
        "d7f356962e93459ea2b6280206f71da5": {
          "model_module": "@jupyter-widgets/controls",
          "model_name": "HTMLModel",
          "model_module_version": "1.5.0",
          "state": {
            "_dom_classes": [],
            "_model_module": "@jupyter-widgets/controls",
            "_model_module_version": "1.5.0",
            "_model_name": "HTMLModel",
            "_view_count": null,
            "_view_module": "@jupyter-widgets/controls",
            "_view_module_version": "1.5.0",
            "_view_name": "HTMLView",
            "description": "",
            "description_tooltip": null,
            "layout": "IPY_MODEL_1c44f61f1c254833a03d23b851521472",
            "placeholder": "​",
            "style": "IPY_MODEL_857a0b6f7b544701945781ce7b9c3f45",
            "value": " 570/570 [00:00&lt;00:00, 14.8kB/s]"
          }
        },
        "ddb6c4e81902483cb176332db40608d9": {
          "model_module": "@jupyter-widgets/base",
          "model_name": "LayoutModel",
          "model_module_version": "1.2.0",
          "state": {
            "_model_module": "@jupyter-widgets/base",
            "_model_module_version": "1.2.0",
            "_model_name": "LayoutModel",
            "_view_count": null,
            "_view_module": "@jupyter-widgets/base",
            "_view_module_version": "1.2.0",
            "_view_name": "LayoutView",
            "align_content": null,
            "align_items": null,
            "align_self": null,
            "border": null,
            "bottom": null,
            "display": null,
            "flex": null,
            "flex_flow": null,
            "grid_area": null,
            "grid_auto_columns": null,
            "grid_auto_flow": null,
            "grid_auto_rows": null,
            "grid_column": null,
            "grid_gap": null,
            "grid_row": null,
            "grid_template_areas": null,
            "grid_template_columns": null,
            "grid_template_rows": null,
            "height": null,
            "justify_content": null,
            "justify_items": null,
            "left": null,
            "margin": null,
            "max_height": null,
            "max_width": null,
            "min_height": null,
            "min_width": null,
            "object_fit": null,
            "object_position": null,
            "order": null,
            "overflow": null,
            "overflow_x": null,
            "overflow_y": null,
            "padding": null,
            "right": null,
            "top": null,
            "visibility": null,
            "width": null
          }
        },
        "cec7578698114524b040ed2c74c24852": {
          "model_module": "@jupyter-widgets/base",
          "model_name": "LayoutModel",
          "model_module_version": "1.2.0",
          "state": {
            "_model_module": "@jupyter-widgets/base",
            "_model_module_version": "1.2.0",
            "_model_name": "LayoutModel",
            "_view_count": null,
            "_view_module": "@jupyter-widgets/base",
            "_view_module_version": "1.2.0",
            "_view_name": "LayoutView",
            "align_content": null,
            "align_items": null,
            "align_self": null,
            "border": null,
            "bottom": null,
            "display": null,
            "flex": null,
            "flex_flow": null,
            "grid_area": null,
            "grid_auto_columns": null,
            "grid_auto_flow": null,
            "grid_auto_rows": null,
            "grid_column": null,
            "grid_gap": null,
            "grid_row": null,
            "grid_template_areas": null,
            "grid_template_columns": null,
            "grid_template_rows": null,
            "height": null,
            "justify_content": null,
            "justify_items": null,
            "left": null,
            "margin": null,
            "max_height": null,
            "max_width": null,
            "min_height": null,
            "min_width": null,
            "object_fit": null,
            "object_position": null,
            "order": null,
            "overflow": null,
            "overflow_x": null,
            "overflow_y": null,
            "padding": null,
            "right": null,
            "top": null,
            "visibility": null,
            "width": null
          }
        },
        "65ff692181024c0e82b51e0f5e06763f": {
          "model_module": "@jupyter-widgets/controls",
          "model_name": "DescriptionStyleModel",
          "model_module_version": "1.5.0",
          "state": {
            "_model_module": "@jupyter-widgets/controls",
            "_model_module_version": "1.5.0",
            "_model_name": "DescriptionStyleModel",
            "_view_count": null,
            "_view_module": "@jupyter-widgets/base",
            "_view_module_version": "1.2.0",
            "_view_name": "StyleView",
            "description_width": ""
          }
        },
        "5b99baeef71143acb19168cc6b194d00": {
          "model_module": "@jupyter-widgets/base",
          "model_name": "LayoutModel",
          "model_module_version": "1.2.0",
          "state": {
            "_model_module": "@jupyter-widgets/base",
            "_model_module_version": "1.2.0",
            "_model_name": "LayoutModel",
            "_view_count": null,
            "_view_module": "@jupyter-widgets/base",
            "_view_module_version": "1.2.0",
            "_view_name": "LayoutView",
            "align_content": null,
            "align_items": null,
            "align_self": null,
            "border": null,
            "bottom": null,
            "display": null,
            "flex": null,
            "flex_flow": null,
            "grid_area": null,
            "grid_auto_columns": null,
            "grid_auto_flow": null,
            "grid_auto_rows": null,
            "grid_column": null,
            "grid_gap": null,
            "grid_row": null,
            "grid_template_areas": null,
            "grid_template_columns": null,
            "grid_template_rows": null,
            "height": null,
            "justify_content": null,
            "justify_items": null,
            "left": null,
            "margin": null,
            "max_height": null,
            "max_width": null,
            "min_height": null,
            "min_width": null,
            "object_fit": null,
            "object_position": null,
            "order": null,
            "overflow": null,
            "overflow_x": null,
            "overflow_y": null,
            "padding": null,
            "right": null,
            "top": null,
            "visibility": null,
            "width": null
          }
        },
        "bb0ab40b26734256ad607d1f6980b481": {
          "model_module": "@jupyter-widgets/controls",
          "model_name": "ProgressStyleModel",
          "model_module_version": "1.5.0",
          "state": {
            "_model_module": "@jupyter-widgets/controls",
            "_model_module_version": "1.5.0",
            "_model_name": "ProgressStyleModel",
            "_view_count": null,
            "_view_module": "@jupyter-widgets/base",
            "_view_module_version": "1.2.0",
            "_view_name": "StyleView",
            "bar_color": null,
            "description_width": ""
          }
        },
        "1c44f61f1c254833a03d23b851521472": {
          "model_module": "@jupyter-widgets/base",
          "model_name": "LayoutModel",
          "model_module_version": "1.2.0",
          "state": {
            "_model_module": "@jupyter-widgets/base",
            "_model_module_version": "1.2.0",
            "_model_name": "LayoutModel",
            "_view_count": null,
            "_view_module": "@jupyter-widgets/base",
            "_view_module_version": "1.2.0",
            "_view_name": "LayoutView",
            "align_content": null,
            "align_items": null,
            "align_self": null,
            "border": null,
            "bottom": null,
            "display": null,
            "flex": null,
            "flex_flow": null,
            "grid_area": null,
            "grid_auto_columns": null,
            "grid_auto_flow": null,
            "grid_auto_rows": null,
            "grid_column": null,
            "grid_gap": null,
            "grid_row": null,
            "grid_template_areas": null,
            "grid_template_columns": null,
            "grid_template_rows": null,
            "height": null,
            "justify_content": null,
            "justify_items": null,
            "left": null,
            "margin": null,
            "max_height": null,
            "max_width": null,
            "min_height": null,
            "min_width": null,
            "object_fit": null,
            "object_position": null,
            "order": null,
            "overflow": null,
            "overflow_x": null,
            "overflow_y": null,
            "padding": null,
            "right": null,
            "top": null,
            "visibility": null,
            "width": null
          }
        },
        "857a0b6f7b544701945781ce7b9c3f45": {
          "model_module": "@jupyter-widgets/controls",
          "model_name": "DescriptionStyleModel",
          "model_module_version": "1.5.0",
          "state": {
            "_model_module": "@jupyter-widgets/controls",
            "_model_module_version": "1.5.0",
            "_model_name": "DescriptionStyleModel",
            "_view_count": null,
            "_view_module": "@jupyter-widgets/base",
            "_view_module_version": "1.2.0",
            "_view_name": "StyleView",
            "description_width": ""
          }
        },
        "b7b4f53e5c2d429eb1203824a3a30806": {
          "model_module": "@jupyter-widgets/controls",
          "model_name": "HBoxModel",
          "model_module_version": "1.5.0",
          "state": {
            "_dom_classes": [],
            "_model_module": "@jupyter-widgets/controls",
            "_model_module_version": "1.5.0",
            "_model_name": "HBoxModel",
            "_view_count": null,
            "_view_module": "@jupyter-widgets/controls",
            "_view_module_version": "1.5.0",
            "_view_name": "HBoxView",
            "box_style": "",
            "children": [
              "IPY_MODEL_894225ee6062457ca91523acf7d399b3",
              "IPY_MODEL_81136758de76470c8348e482bf98ff34",
              "IPY_MODEL_686f546c4b384b22bae8090a44dd86d3"
            ],
            "layout": "IPY_MODEL_dfa3cc9d9c5a492dabd130ee90d4b536"
          }
        },
        "894225ee6062457ca91523acf7d399b3": {
          "model_module": "@jupyter-widgets/controls",
          "model_name": "HTMLModel",
          "model_module_version": "1.5.0",
          "state": {
            "_dom_classes": [],
            "_model_module": "@jupyter-widgets/controls",
            "_model_module_version": "1.5.0",
            "_model_name": "HTMLModel",
            "_view_count": null,
            "_view_module": "@jupyter-widgets/controls",
            "_view_module_version": "1.5.0",
            "_view_name": "HTMLView",
            "description": "",
            "description_tooltip": null,
            "layout": "IPY_MODEL_ad748d60c06e45f2865a066aea6ae43b",
            "placeholder": "​",
            "style": "IPY_MODEL_5b4fdf08bf8649878285efaf226bfe2b",
            "value": "Downloading pytorch_model.bin: 100%"
          }
        },
        "81136758de76470c8348e482bf98ff34": {
          "model_module": "@jupyter-widgets/controls",
          "model_name": "FloatProgressModel",
          "model_module_version": "1.5.0",
          "state": {
            "_dom_classes": [],
            "_model_module": "@jupyter-widgets/controls",
            "_model_module_version": "1.5.0",
            "_model_name": "FloatProgressModel",
            "_view_count": null,
            "_view_module": "@jupyter-widgets/controls",
            "_view_module_version": "1.5.0",
            "_view_name": "ProgressView",
            "bar_style": "success",
            "description": "",
            "description_tooltip": null,
            "layout": "IPY_MODEL_ad284da6634b4c0b9b5539bfaa98260f",
            "max": 440473133,
            "min": 0,
            "orientation": "horizontal",
            "style": "IPY_MODEL_e401f1c096fa4dbb8f9c1ee639e57675",
            "value": 440473133
          }
        },
        "686f546c4b384b22bae8090a44dd86d3": {
          "model_module": "@jupyter-widgets/controls",
          "model_name": "HTMLModel",
          "model_module_version": "1.5.0",
          "state": {
            "_dom_classes": [],
            "_model_module": "@jupyter-widgets/controls",
            "_model_module_version": "1.5.0",
            "_model_name": "HTMLModel",
            "_view_count": null,
            "_view_module": "@jupyter-widgets/controls",
            "_view_module_version": "1.5.0",
            "_view_name": "HTMLView",
            "description": "",
            "description_tooltip": null,
            "layout": "IPY_MODEL_a36ef39957ad45be85a5da72c8d78226",
            "placeholder": "​",
            "style": "IPY_MODEL_b0ac673a44c247bca4c619273aff5a75",
            "value": " 440M/440M [00:04&lt;00:00, 103MB/s]"
          }
        },
        "dfa3cc9d9c5a492dabd130ee90d4b536": {
          "model_module": "@jupyter-widgets/base",
          "model_name": "LayoutModel",
          "model_module_version": "1.2.0",
          "state": {
            "_model_module": "@jupyter-widgets/base",
            "_model_module_version": "1.2.0",
            "_model_name": "LayoutModel",
            "_view_count": null,
            "_view_module": "@jupyter-widgets/base",
            "_view_module_version": "1.2.0",
            "_view_name": "LayoutView",
            "align_content": null,
            "align_items": null,
            "align_self": null,
            "border": null,
            "bottom": null,
            "display": null,
            "flex": null,
            "flex_flow": null,
            "grid_area": null,
            "grid_auto_columns": null,
            "grid_auto_flow": null,
            "grid_auto_rows": null,
            "grid_column": null,
            "grid_gap": null,
            "grid_row": null,
            "grid_template_areas": null,
            "grid_template_columns": null,
            "grid_template_rows": null,
            "height": null,
            "justify_content": null,
            "justify_items": null,
            "left": null,
            "margin": null,
            "max_height": null,
            "max_width": null,
            "min_height": null,
            "min_width": null,
            "object_fit": null,
            "object_position": null,
            "order": null,
            "overflow": null,
            "overflow_x": null,
            "overflow_y": null,
            "padding": null,
            "right": null,
            "top": null,
            "visibility": null,
            "width": null
          }
        },
        "ad748d60c06e45f2865a066aea6ae43b": {
          "model_module": "@jupyter-widgets/base",
          "model_name": "LayoutModel",
          "model_module_version": "1.2.0",
          "state": {
            "_model_module": "@jupyter-widgets/base",
            "_model_module_version": "1.2.0",
            "_model_name": "LayoutModel",
            "_view_count": null,
            "_view_module": "@jupyter-widgets/base",
            "_view_module_version": "1.2.0",
            "_view_name": "LayoutView",
            "align_content": null,
            "align_items": null,
            "align_self": null,
            "border": null,
            "bottom": null,
            "display": null,
            "flex": null,
            "flex_flow": null,
            "grid_area": null,
            "grid_auto_columns": null,
            "grid_auto_flow": null,
            "grid_auto_rows": null,
            "grid_column": null,
            "grid_gap": null,
            "grid_row": null,
            "grid_template_areas": null,
            "grid_template_columns": null,
            "grid_template_rows": null,
            "height": null,
            "justify_content": null,
            "justify_items": null,
            "left": null,
            "margin": null,
            "max_height": null,
            "max_width": null,
            "min_height": null,
            "min_width": null,
            "object_fit": null,
            "object_position": null,
            "order": null,
            "overflow": null,
            "overflow_x": null,
            "overflow_y": null,
            "padding": null,
            "right": null,
            "top": null,
            "visibility": null,
            "width": null
          }
        },
        "5b4fdf08bf8649878285efaf226bfe2b": {
          "model_module": "@jupyter-widgets/controls",
          "model_name": "DescriptionStyleModel",
          "model_module_version": "1.5.0",
          "state": {
            "_model_module": "@jupyter-widgets/controls",
            "_model_module_version": "1.5.0",
            "_model_name": "DescriptionStyleModel",
            "_view_count": null,
            "_view_module": "@jupyter-widgets/base",
            "_view_module_version": "1.2.0",
            "_view_name": "StyleView",
            "description_width": ""
          }
        },
        "ad284da6634b4c0b9b5539bfaa98260f": {
          "model_module": "@jupyter-widgets/base",
          "model_name": "LayoutModel",
          "model_module_version": "1.2.0",
          "state": {
            "_model_module": "@jupyter-widgets/base",
            "_model_module_version": "1.2.0",
            "_model_name": "LayoutModel",
            "_view_count": null,
            "_view_module": "@jupyter-widgets/base",
            "_view_module_version": "1.2.0",
            "_view_name": "LayoutView",
            "align_content": null,
            "align_items": null,
            "align_self": null,
            "border": null,
            "bottom": null,
            "display": null,
            "flex": null,
            "flex_flow": null,
            "grid_area": null,
            "grid_auto_columns": null,
            "grid_auto_flow": null,
            "grid_auto_rows": null,
            "grid_column": null,
            "grid_gap": null,
            "grid_row": null,
            "grid_template_areas": null,
            "grid_template_columns": null,
            "grid_template_rows": null,
            "height": null,
            "justify_content": null,
            "justify_items": null,
            "left": null,
            "margin": null,
            "max_height": null,
            "max_width": null,
            "min_height": null,
            "min_width": null,
            "object_fit": null,
            "object_position": null,
            "order": null,
            "overflow": null,
            "overflow_x": null,
            "overflow_y": null,
            "padding": null,
            "right": null,
            "top": null,
            "visibility": null,
            "width": null
          }
        },
        "e401f1c096fa4dbb8f9c1ee639e57675": {
          "model_module": "@jupyter-widgets/controls",
          "model_name": "ProgressStyleModel",
          "model_module_version": "1.5.0",
          "state": {
            "_model_module": "@jupyter-widgets/controls",
            "_model_module_version": "1.5.0",
            "_model_name": "ProgressStyleModel",
            "_view_count": null,
            "_view_module": "@jupyter-widgets/base",
            "_view_module_version": "1.2.0",
            "_view_name": "StyleView",
            "bar_color": null,
            "description_width": ""
          }
        },
        "a36ef39957ad45be85a5da72c8d78226": {
          "model_module": "@jupyter-widgets/base",
          "model_name": "LayoutModel",
          "model_module_version": "1.2.0",
          "state": {
            "_model_module": "@jupyter-widgets/base",
            "_model_module_version": "1.2.0",
            "_model_name": "LayoutModel",
            "_view_count": null,
            "_view_module": "@jupyter-widgets/base",
            "_view_module_version": "1.2.0",
            "_view_name": "LayoutView",
            "align_content": null,
            "align_items": null,
            "align_self": null,
            "border": null,
            "bottom": null,
            "display": null,
            "flex": null,
            "flex_flow": null,
            "grid_area": null,
            "grid_auto_columns": null,
            "grid_auto_flow": null,
            "grid_auto_rows": null,
            "grid_column": null,
            "grid_gap": null,
            "grid_row": null,
            "grid_template_areas": null,
            "grid_template_columns": null,
            "grid_template_rows": null,
            "height": null,
            "justify_content": null,
            "justify_items": null,
            "left": null,
            "margin": null,
            "max_height": null,
            "max_width": null,
            "min_height": null,
            "min_width": null,
            "object_fit": null,
            "object_position": null,
            "order": null,
            "overflow": null,
            "overflow_x": null,
            "overflow_y": null,
            "padding": null,
            "right": null,
            "top": null,
            "visibility": null,
            "width": null
          }
        },
        "b0ac673a44c247bca4c619273aff5a75": {
          "model_module": "@jupyter-widgets/controls",
          "model_name": "DescriptionStyleModel",
          "model_module_version": "1.5.0",
          "state": {
            "_model_module": "@jupyter-widgets/controls",
            "_model_module_version": "1.5.0",
            "_model_name": "DescriptionStyleModel",
            "_view_count": null,
            "_view_module": "@jupyter-widgets/base",
            "_view_module_version": "1.2.0",
            "_view_name": "StyleView",
            "description_width": ""
          }
        }
      }
    }
  },
  "nbformat": 4,
  "nbformat_minor": 0
}